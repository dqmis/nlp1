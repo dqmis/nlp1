{
  "cells": [
    {
      "cell_type": "markdown",
      "metadata": {
        "id": "ptMZZMQlfn7c"
      },
      "source": [
        "------\n",
        "**You cannot apply any changes to this file, so please make sure to save it on your Google Colab drive or download it as a .ipynb file.**\n",
        "\n",
        "------\n"
      ]
    },
    {
      "cell_type": "markdown",
      "metadata": {
        "id": "jILqpPLlE9r0"
      },
      "source": [
        "# Practical 2: Representing Sentences with Neural Models"
      ]
    },
    {
      "cell_type": "markdown",
      "metadata": {
        "id": "8JXOZ5uhQ8Qq"
      },
      "source": [
        "In this second practical, we will train neural network models to obtain sentence representations. We can then use these sentence representations for a downstream task such as sentiment classification.\n",
        "\n",
        "In this notebook, we will help you to develop models for your experiments. But this time, next to completing the notebook, **you are expected to write a four-page scientific report with your findings**. Please still submit the notebook together with your scientific report so that we can reproduce your experiments. (Note: if you find it useful, you can split this notebook into multiple notebooks. If you do so, keep it mind that it should be possible for your TAs to reproduce the entire content of the notebooks without having to ask for clarifications or to copy and paste functions from one sub-notebook to another.) Make sure your code corresponds to the description you give in the report; we will deduct points if this is not the case.\n",
        "\n",
        "**Important!** The main purpose of this lab is for you to learn how to answer research questions by experimenting and then writing a scientific report.\n",
        "So you will be *judged by the quality of your report* but will lose points if your experiments are not reproducible.\n",
        "You can find the requirements for the report at the end of this notebook.\n",
        "\n",
        "\n",
        "### Data set\n",
        "We will use the [Stanford Sentiment Treebank](https://nlp.stanford.edu/sentiment/) (SST), which provides sentences, their binary tree structure, and fine-grained sentiment scores.\n",
        "This dataset is different from the one we used in the first practical.\n",
        "In Practical 1, a review consisted of several sentences, and we had one sentiment score for the whole review. Now, a review consists of a single sentence, and we have a sentiment score for each node in the binary tree that makes up the sentence, including the root node (i.e., we still have an overall sentiment score for the entire review). We will look at an example below.\n",
        "\n",
        "In the first part of this practical we will only make use of the sentence tokens whereas in the second part we will also exploit the tree structure that is provided by the SST.\n",
        "\n",
        "We will cover the following approaches:\n",
        "\n",
        "- Bag-of-words (BOW)\n",
        "- Continuous bag-of-words (CBOW)\n",
        "- Deep continuous bag-of-words (Deep CBOW)\n",
        "- LSTM\n",
        "- Tree-LSTM\n"
      ]
    },
    {
      "cell_type": "markdown",
      "metadata": {
        "id": "YbNKef3lymaj"
      },
      "source": [
        "## Preparing the data"
      ]
    },
    {
      "cell_type": "markdown",
      "metadata": {
        "id": "9jxTkpg59FlU"
      },
      "source": [
        "Let's first download the data set and take a look."
      ]
    },
    {
      "cell_type": "code",
      "execution_count": 9,
      "metadata": {
        "id": "WZp53HmMP3F2"
      },
      "outputs": [],
      "source": [
        "import re\n",
        "import random\n",
        "import time\n",
        "import math\n",
        "import numpy as np\n",
        "import nltk\n",
        "import matplotlib.pyplot as plt\n",
        "plt.style.use('default')\n",
        "\n",
        "from typing import List, Tuple, Dict, Set, Union"
      ]
    },
    {
      "cell_type": "code",
      "execution_count": 10,
      "metadata": {},
      "outputs": [],
      "source": [
        "try:\n",
        "    from wandb import wandb\n",
        "except ImportError:\n",
        "    !pip install wandb"
      ]
    },
    {
      "cell_type": "code",
      "execution_count": 11,
      "metadata": {
        "id": "TovFkDTgE_d6"
      },
      "outputs": [
        {
          "name": "stdout",
          "output_type": "stream",
          "text": [
            "--2023-12-03 18:12:23--  http://nlp.stanford.edu/sentiment/trainDevTestTrees_PTB.zip\n",
            "Resolving nlp.stanford.edu (nlp.stanford.edu)... 171.64.67.140\n",
            "Connecting to nlp.stanford.edu (nlp.stanford.edu)|171.64.67.140|:80... connected.\n",
            "HTTP request sent, awaiting response... "
          ]
        },
        {
          "name": "stdout",
          "output_type": "stream",
          "text": [
            "302 Found\n",
            "Location: https://nlp.stanford.edu/sentiment/trainDevTestTrees_PTB.zip [following]\n",
            "--2023-12-03 18:12:24--  https://nlp.stanford.edu/sentiment/trainDevTestTrees_PTB.zip\n",
            "Connecting to nlp.stanford.edu (nlp.stanford.edu)|171.64.67.140|:443... connected.\n",
            "HTTP request sent, awaiting response... 200 OK\n",
            "Length: 789539 (771K) [application/zip]\n",
            "Saving to: ‘trainDevTestTrees_PTB.zip.1’\n",
            "\n",
            "trainDevTestTrees_P 100%[===================>] 771,03K   408KB/s    in 1,9s    \n",
            "\n",
            "2023-12-03 18:12:26 (408 KB/s) - ‘trainDevTestTrees_PTB.zip.1’ saved [789539/789539]\n",
            "\n",
            "Archive:  trainDevTestTrees_PTB.zip\n",
            "replace trees/dev.txt? [y]es, [n]o, [A]ll, [N]one, [r]ename: ^C\n"
          ]
        }
      ],
      "source": [
        "!wget http://nlp.stanford.edu/sentiment/trainDevTestTrees_PTB.zip\n",
        "!unzip trainDevTestTrees_PTB.zip"
      ]
    },
    {
      "cell_type": "code",
      "execution_count": null,
      "metadata": {
        "id": "0IpAphkBO5eW"
      },
      "outputs": [],
      "source": [
        "# this function reads in a textfile and fixes an issue with \"\\\\\"\n",
        "def filereader(path):\n",
        "  with open(path, mode=\"r\", encoding=\"utf-8\") as f:\n",
        "    for line in f:\n",
        "      yield line.strip().replace(\"\\\\\",\"\")"
      ]
    },
    {
      "cell_type": "markdown",
      "metadata": {
        "id": "yP_jpquiprH8"
      },
      "source": [
        "Let's look at a data point. It is a **flattened binary tree**, with sentiment scores at every node, and words as the leaves (or *terminal nodes*)."
      ]
    },
    {
      "cell_type": "code",
      "execution_count": 13,
      "metadata": {
        "colab": {
          "base_uri": "https://localhost:8080/"
        },
        "id": "ylkIopm0QJML",
        "outputId": "6dc60009-e7a4-4002-db37-d4f49bca1607"
      },
      "outputs": [
        {
          "ename": "NameError",
          "evalue": "name 'filereader' is not defined",
          "output_type": "error",
          "traceback": [
            "\u001b[0;31m---------------------------------------------------------------------------\u001b[0m",
            "\u001b[0;31mNameError\u001b[0m                                 Traceback (most recent call last)",
            "\u001b[1;32m/Users/dqmis/github/nlp1/NLP1_2023_Practical_2.ipynb Cell 11\u001b[0m line \u001b[0;36m1\n\u001b[0;32m----> <a href='vscode-notebook-cell:/Users/dqmis/github/nlp1/NLP1_2023_Practical_2.ipynb#X12sZmlsZQ%3D%3D?line=0'>1</a>\u001b[0m s \u001b[39m=\u001b[39m \u001b[39mnext\u001b[39m(filereader(\u001b[39m\"\u001b[39m\u001b[39mtrees/dev.txt\u001b[39m\u001b[39m\"\u001b[39m))\n\u001b[1;32m      <a href='vscode-notebook-cell:/Users/dqmis/github/nlp1/NLP1_2023_Practical_2.ipynb#X12sZmlsZQ%3D%3D?line=1'>2</a>\u001b[0m \u001b[39mprint\u001b[39m(s)\n",
            "\u001b[0;31mNameError\u001b[0m: name 'filereader' is not defined"
          ]
        }
      ],
      "source": [
        "s = next(filereader(\"trees/dev.txt\"))\n",
        "print(s)"
      ]
    },
    {
      "cell_type": "code",
      "execution_count": null,
      "metadata": {
        "colab": {
          "base_uri": "https://localhost:8080/"
        },
        "id": "7_U7HTFwdrWt",
        "outputId": "80055d7f-8755-423b-8804-3363222bc06b"
      },
      "outputs": [
        {
          "name": "stdout",
          "output_type": "stream",
          "text": [
            "              3                                                                     \n",
            "  ____________|____________________                                                  \n",
            " |                                 4                                                \n",
            " |        _________________________|______________________________________________   \n",
            " |       4                                                                        | \n",
            " |    ___|______________                                                          |  \n",
            " |   |                  4                                                         | \n",
            " |   |         _________|__________                                               |  \n",
            " |   |        |                    3                                              | \n",
            " |   |        |               _____|______________________                        |  \n",
            " |   |        |              |                            4                       | \n",
            " |   |        |              |            ________________|_______                |  \n",
            " |   |        |              |           |                        2               | \n",
            " |   |        |              |           |                 _______|___            |  \n",
            " |   |        3              |           |                |           2           | \n",
            " |   |    ____|_____         |           |                |        ___|_____      |  \n",
            " |   |   |          4        |           3                |       2         |     | \n",
            " |   |   |     _____|___     |      _____|_______         |    ___|___      |     |  \n",
            " 2   2   2    3         2    2     3             2        2   2       2     2     2 \n",
            " |   |   |    |         |    |     |             |        |   |       |     |     |  \n",
            " It  's  a  lovely     film with lovely     performances  by Buy     and Accorsi  . \n",
            "\n"
          ]
        },
        {
          "name": "stderr",
          "output_type": "stream",
          "text": [
            "/var/folders/8x/_99fkl5x4kvcd26sl3s8mhtw0000gn/T/ipykernel_17030/348436308.py:5: DeprecationWarning: \n",
            "    Class TreePrettyPrinter has been deprecated.  Import\n",
            "    `TreePrettyPrinter` using `from nltk.tree import\n",
            "    TreePrettyPrinter` instead.\n",
            "  print(TreePrettyPrinter(tree))\n"
          ]
        }
      ],
      "source": [
        "# We can use NLTK to better visualise the tree structure of the sentence\n",
        "from nltk import Tree\n",
        "from nltk.treeprettyprinter import TreePrettyPrinter\n",
        "tree = Tree.fromstring(s)\n",
        "print(TreePrettyPrinter(tree))"
      ]
    },
    {
      "cell_type": "markdown",
      "metadata": {
        "id": "ekAWKsji9t93"
      },
      "source": [
        "The sentiment scores range from 0 (very negative) to 5 (very positive). Again, as you can see, every node in the tree is labeled with a sentiment score. For now, we will only use the score at the **root node**, i.e., the sentiment score for the complete sentence."
      ]
    },
    {
      "cell_type": "code",
      "execution_count": null,
      "metadata": {
        "colab": {
          "base_uri": "https://localhost:8080/"
        },
        "id": "DKynLm0xPKr2",
        "outputId": "bc0a3ccf-2ed2-4f4d-e3f8-e3330dcb18de"
      },
      "outputs": [
        {
          "ename": "NameError",
          "evalue": "name 's' is not defined",
          "output_type": "error",
          "traceback": [
            "\u001b[0;31m---------------------------------------------------------------------------\u001b[0m",
            "\u001b[0;31mNameError\u001b[0m                                 Traceback (most recent call last)",
            "\u001b[1;32m/Users/dqmis/github/nlp1/NLP1_2023_Practical_2.ipynb Cell 14\u001b[0m line \u001b[0;36m8\n\u001b[1;32m      <a href='vscode-notebook-cell:/Users/dqmis/github/nlp1/NLP1_2023_Practical_2.ipynb#X15sZmlsZQ%3D%3D?line=4'>5</a>\u001b[0m   \u001b[39mreturn\u001b[39;00m re\u001b[39m.\u001b[39msub(\u001b[39mr\u001b[39m\u001b[39m\"\u001b[39m\u001b[39m\\\u001b[39m\u001b[39m([0-9] |\u001b[39m\u001b[39m\\\u001b[39m\u001b[39m)\u001b[39m\u001b[39m\"\u001b[39m, \u001b[39m\"\u001b[39m\u001b[39m\"\u001b[39m, s)\u001b[39m.\u001b[39msplit()\n\u001b[1;32m      <a href='vscode-notebook-cell:/Users/dqmis/github/nlp1/NLP1_2023_Practical_2.ipynb#X15sZmlsZQ%3D%3D?line=6'>7</a>\u001b[0m \u001b[39m# let's try it on our example tree\u001b[39;00m\n\u001b[0;32m----> <a href='vscode-notebook-cell:/Users/dqmis/github/nlp1/NLP1_2023_Practical_2.ipynb#X15sZmlsZQ%3D%3D?line=7'>8</a>\u001b[0m tokens \u001b[39m=\u001b[39m tokens_from_treestring(s)\n\u001b[1;32m      <a href='vscode-notebook-cell:/Users/dqmis/github/nlp1/NLP1_2023_Practical_2.ipynb#X15sZmlsZQ%3D%3D?line=8'>9</a>\u001b[0m \u001b[39mprint\u001b[39m(tokens)\n\u001b[1;32m     <a href='vscode-notebook-cell:/Users/dqmis/github/nlp1/NLP1_2023_Practical_2.ipynb#X15sZmlsZQ%3D%3D?line=9'>10</a>\u001b[0m \u001b[39mprint\u001b[39m(\u001b[39mlen\u001b[39m(tokens))\n",
            "\u001b[0;31mNameError\u001b[0m: name 's' is not defined"
          ]
        }
      ],
      "source": [
        "# Let's first make a function that extracts the tokens (the leaves).\n",
        "\n",
        "def tokens_from_treestring(s):\n",
        "  \"\"\"extract the tokens from a sentiment tree\"\"\"\n",
        "  return re.sub(r\"\\([0-9] |\\)\", \"\", s).split()\n",
        "\n",
        "# let's try it on our example tree\n",
        "tokens = tokens_from_treestring(s)\n",
        "print(tokens)\n",
        "print(len(tokens))"
      ]
    },
    {
      "cell_type": "markdown",
      "metadata": {
        "id": "B8vFkeqN-NLP"
      },
      "source": [
        "> *Warning: you could also parse a treestring using NLTK and ask it to return the leaves, but there seems to be an issue with NLTK not always correctly parsing the input, so do not rely on it.*"
      ]
    },
    {
      "cell_type": "code",
      "execution_count": null,
      "metadata": {
        "colab": {
          "base_uri": "https://localhost:8080/"
        },
        "id": "mNtPdlwPgRat",
        "outputId": "9c999c1a-80e0-4e56-cfe0-b543b20985f2"
      },
      "outputs": [
        {
          "ename": "NameError",
          "evalue": "name 'filereader' is not defined",
          "output_type": "error",
          "traceback": [
            "\u001b[0;31m---------------------------------------------------------------------------\u001b[0m",
            "\u001b[0;31mNameError\u001b[0m                                 Traceback (most recent call last)",
            "\u001b[1;32m/Users/dqmis/github/nlp1/NLP1_2023_Practical_2.ipynb Cell 16\u001b[0m line \u001b[0;36m3\n\u001b[1;32m      <a href='vscode-notebook-cell:/Users/dqmis/github/nlp1/NLP1_2023_Practical_2.ipynb#X21sZmlsZQ%3D%3D?line=0'>1</a>\u001b[0m \u001b[39m# Now let's first see how large our data sets are.\u001b[39;00m\n\u001b[1;32m      <a href='vscode-notebook-cell:/Users/dqmis/github/nlp1/NLP1_2023_Practical_2.ipynb#X21sZmlsZQ%3D%3D?line=1'>2</a>\u001b[0m \u001b[39mfor\u001b[39;00m path \u001b[39min\u001b[39;00m (\u001b[39m\"\u001b[39m\u001b[39mtrees/train.txt\u001b[39m\u001b[39m\"\u001b[39m, \u001b[39m\"\u001b[39m\u001b[39mtrees/dev.txt\u001b[39m\u001b[39m\"\u001b[39m, \u001b[39m\"\u001b[39m\u001b[39mtrees/test.txt\u001b[39m\u001b[39m\"\u001b[39m):\n\u001b[0;32m----> <a href='vscode-notebook-cell:/Users/dqmis/github/nlp1/NLP1_2023_Practical_2.ipynb#X21sZmlsZQ%3D%3D?line=2'>3</a>\u001b[0m   \u001b[39mprint\u001b[39m(\u001b[39m\"\u001b[39m\u001b[39m{:16s}\u001b[39;00m\u001b[39m \u001b[39m\u001b[39m{:4d}\u001b[39;00m\u001b[39m\"\u001b[39m\u001b[39m.\u001b[39mformat(path, \u001b[39msum\u001b[39m(\u001b[39m1\u001b[39m \u001b[39mfor\u001b[39;00m _ \u001b[39min\u001b[39;00m filereader(path))))\n",
            "\u001b[0;31mNameError\u001b[0m: name 'filereader' is not defined"
          ]
        }
      ],
      "source": [
        "# Now let's first see how large our data sets are.\n",
        "for path in (\"trees/train.txt\", \"trees/dev.txt\", \"trees/test.txt\"):\n",
        "  print(\"{:16s} {:4d}\".format(path, sum(1 for _ in filereader(path))))"
      ]
    },
    {
      "cell_type": "markdown",
      "metadata": {
        "id": "HexlSqTR_UrY"
      },
      "source": [
        "You can see that the number of sentences is not very large. That's probably because the data set required so much manual annotation. However, it is large enough to train a neural network on."
      ]
    },
    {
      "cell_type": "markdown",
      "metadata": {
        "id": "IfRjelOcsXuC"
      },
      "source": [
        "It will be useful to store each data example in an `Example` object,\n",
        "containing everything that we may need for each data point.\n",
        "It will contain the tokens, the tree, the top-level sentiment label, and\n",
        "the transitions (explained later)."
      ]
    },
    {
      "cell_type": "code",
      "execution_count": null,
      "metadata": {
        "colab": {
          "base_uri": "https://localhost:8080/"
        },
        "id": "4I07Hb_-q8wg",
        "outputId": "cc2a8f6b-3170-45be-a6d5-9b68d34b80ff"
      },
      "outputs": [
        {
          "ename": "NameError",
          "evalue": "name 'filereader' is not defined",
          "output_type": "error",
          "traceback": [
            "\u001b[0;31m---------------------------------------------------------------------------\u001b[0m",
            "\u001b[0;31mNameError\u001b[0m                                 Traceback (most recent call last)",
            "\u001b[1;32m/Users/dqmis/github/nlp1/NLP1_2023_Practical_2.ipynb Cell 19\u001b[0m line \u001b[0;36m2\n\u001b[1;32m     <a href='vscode-notebook-cell:/Users/dqmis/github/nlp1/NLP1_2023_Practical_2.ipynb#X24sZmlsZQ%3D%3D?line=18'>19</a>\u001b[0m \u001b[39m# Let's load the data into memory.\u001b[39;00m\n\u001b[1;32m     <a href='vscode-notebook-cell:/Users/dqmis/github/nlp1/NLP1_2023_Practical_2.ipynb#X24sZmlsZQ%3D%3D?line=19'>20</a>\u001b[0m LOWER \u001b[39m=\u001b[39m \u001b[39mFalse\u001b[39;00m  \u001b[39m# we will keep the original casing\u001b[39;00m\n\u001b[0;32m---> <a href='vscode-notebook-cell:/Users/dqmis/github/nlp1/NLP1_2023_Practical_2.ipynb#X24sZmlsZQ%3D%3D?line=20'>21</a>\u001b[0m train_data \u001b[39m=\u001b[39m \u001b[39mlist\u001b[39;49m(examplereader(\u001b[39m\"\u001b[39;49m\u001b[39mtrees/train.txt\u001b[39;49m\u001b[39m\"\u001b[39;49m, lower\u001b[39m=\u001b[39;49mLOWER))\n\u001b[1;32m     <a href='vscode-notebook-cell:/Users/dqmis/github/nlp1/NLP1_2023_Practical_2.ipynb#X24sZmlsZQ%3D%3D?line=21'>22</a>\u001b[0m dev_data \u001b[39m=\u001b[39m \u001b[39mlist\u001b[39m(examplereader(\u001b[39m\"\u001b[39m\u001b[39mtrees/dev.txt\u001b[39m\u001b[39m\"\u001b[39m, lower\u001b[39m=\u001b[39mLOWER))\n\u001b[1;32m     <a href='vscode-notebook-cell:/Users/dqmis/github/nlp1/NLP1_2023_Practical_2.ipynb#X24sZmlsZQ%3D%3D?line=22'>23</a>\u001b[0m test_data \u001b[39m=\u001b[39m \u001b[39mlist\u001b[39m(examplereader(\u001b[39m\"\u001b[39m\u001b[39mtrees/test.txt\u001b[39m\u001b[39m\"\u001b[39m, lower\u001b[39m=\u001b[39mLOWER))\n",
            "\u001b[1;32m/Users/dqmis/github/nlp1/NLP1_2023_Practical_2.ipynb Cell 19\u001b[0m line \u001b[0;36m1\n\u001b[1;32m      <a href='vscode-notebook-cell:/Users/dqmis/github/nlp1/NLP1_2023_Practical_2.ipynb#X24sZmlsZQ%3D%3D?line=7'>8</a>\u001b[0m \u001b[39mdef\u001b[39;00m \u001b[39mexamplereader\u001b[39m(path, lower\u001b[39m=\u001b[39m\u001b[39mFalse\u001b[39;00m):\n\u001b[1;32m      <a href='vscode-notebook-cell:/Users/dqmis/github/nlp1/NLP1_2023_Practical_2.ipynb#X24sZmlsZQ%3D%3D?line=8'>9</a>\u001b[0m \u001b[39m  \u001b[39m\u001b[39m\"\"\"Returns all examples in a file one by one.\"\"\"\u001b[39;00m\n\u001b[0;32m---> <a href='vscode-notebook-cell:/Users/dqmis/github/nlp1/NLP1_2023_Practical_2.ipynb#X24sZmlsZQ%3D%3D?line=9'>10</a>\u001b[0m   \u001b[39mfor\u001b[39;00m line \u001b[39min\u001b[39;00m filereader(path):\n\u001b[1;32m     <a href='vscode-notebook-cell:/Users/dqmis/github/nlp1/NLP1_2023_Practical_2.ipynb#X24sZmlsZQ%3D%3D?line=10'>11</a>\u001b[0m     line \u001b[39m=\u001b[39m line\u001b[39m.\u001b[39mlower() \u001b[39mif\u001b[39;00m lower \u001b[39melse\u001b[39;00m line\n\u001b[1;32m     <a href='vscode-notebook-cell:/Users/dqmis/github/nlp1/NLP1_2023_Practical_2.ipynb#X24sZmlsZQ%3D%3D?line=11'>12</a>\u001b[0m     tokens \u001b[39m=\u001b[39m tokens_from_treestring(line)\n",
            "\u001b[0;31mNameError\u001b[0m: name 'filereader' is not defined"
          ]
        }
      ],
      "source": [
        "from collections import namedtuple\n",
        "from nltk import Tree\n",
        "\n",
        "# A simple way to define a class is using namedtuple.\n",
        "Example = namedtuple(\"Example\", [\"tokens\", \"tree\", \"label\", \"transitions\"])\n",
        "\n",
        "\n",
        "def examplereader(path, lower=False):\n",
        "  \"\"\"Returns all examples in a file one by one.\"\"\"\n",
        "  for line in filereader(path):\n",
        "    line = line.lower() if lower else line\n",
        "    tokens = tokens_from_treestring(line)\n",
        "    tree = Tree.fromstring(line)  # use NLTK's Tree\n",
        "    label = int(line[1])\n",
        "    trans = transitions_from_treestring(line)\n",
        "    yield Example(tokens=tokens, tree=tree, label=label, transitions=trans)\n",
        "\n",
        "\n",
        "# Let's load the data into memory.\n",
        "LOWER = False  # we will keep the original casing\n",
        "train_data = list(examplereader(\"trees/train.txt\", lower=LOWER))\n",
        "dev_data = list(examplereader(\"trees/dev.txt\", lower=LOWER))\n",
        "test_data = list(examplereader(\"trees/test.txt\", lower=LOWER))\n",
        "\n",
        "print(\"train\", len(train_data))\n",
        "print(\"dev\", len(dev_data))\n",
        "print(\"test\", len(test_data))"
      ]
    },
    {
      "cell_type": "markdown",
      "metadata": {
        "id": "6KM0bDyeVZtP"
      },
      "source": [
        "Let's check out an `Example` object."
      ]
    },
    {
      "cell_type": "code",
      "execution_count": null,
      "metadata": {
        "colab": {
          "base_uri": "https://localhost:8080/"
        },
        "id": "J8mwcaZwxP1c",
        "outputId": "a3772e01-41db-4f93-8c78-c8dd70591cfc"
      },
      "outputs": [
        {
          "ename": "NameError",
          "evalue": "name 'dev_data' is not defined",
          "output_type": "error",
          "traceback": [
            "\u001b[0;31m---------------------------------------------------------------------------\u001b[0m",
            "\u001b[0;31mNameError\u001b[0m                                 Traceback (most recent call last)",
            "\u001b[1;32m/Users/dqmis/github/nlp1/NLP1_2023_Practical_2.ipynb Cell 21\u001b[0m line \u001b[0;36m1\n\u001b[0;32m----> <a href='vscode-notebook-cell:/Users/dqmis/github/nlp1/NLP1_2023_Practical_2.ipynb#X26sZmlsZQ%3D%3D?line=0'>1</a>\u001b[0m example \u001b[39m=\u001b[39m dev_data[\u001b[39m0\u001b[39m]\n\u001b[1;32m      <a href='vscode-notebook-cell:/Users/dqmis/github/nlp1/NLP1_2023_Practical_2.ipynb#X26sZmlsZQ%3D%3D?line=1'>2</a>\u001b[0m \u001b[39mprint\u001b[39m(\u001b[39m\"\u001b[39m\u001b[39mFirst example:\u001b[39m\u001b[39m\"\u001b[39m, example)\n\u001b[1;32m      <a href='vscode-notebook-cell:/Users/dqmis/github/nlp1/NLP1_2023_Practical_2.ipynb#X26sZmlsZQ%3D%3D?line=2'>3</a>\u001b[0m \u001b[39mprint\u001b[39m(\u001b[39m\"\u001b[39m\u001b[39mFirst example tokens:\u001b[39m\u001b[39m\"\u001b[39m, example\u001b[39m.\u001b[39mtokens)\n",
            "\u001b[0;31mNameError\u001b[0m: name 'dev_data' is not defined"
          ]
        }
      ],
      "source": [
        "example = dev_data[0]\n",
        "print(\"First example:\", example)\n",
        "print(\"First example tokens:\", example.tokens)\n",
        "print(\"First example label:\",  example.label)"
      ]
    },
    {
      "cell_type": "markdown",
      "metadata": {
        "id": "-WDSprDBVcr-"
      },
      "source": [
        "#### Vocabulary\n",
        "A first step in most NLP tasks is collecting all the word types that appear in the data into a vocabulary, and counting the frequency of their occurrences. On the one hand, this will give us an overview of the word distribution of the data set (what are the most frequent words, how many rare words are there, ...). On the other hand, we will also use the vocabulary to map each word to a unique numeric ID, which is a more handy index than a string."
      ]
    },
    {
      "cell_type": "code",
      "execution_count": null,
      "metadata": {
        "id": "VvNgKx7usRSt"
      },
      "outputs": [],
      "source": [
        "# Here we first define a class that can map a word to an ID (w2i)\n",
        "# and back (i2w).\n",
        "\n",
        "from collections import Counter, OrderedDict, defaultdict\n",
        "\n",
        "\n",
        "class OrderedCounter(Counter, OrderedDict):\n",
        "  \"\"\"Counter that remembers the order elements are first seen\"\"\"\n",
        "  def __repr__(self):\n",
        "    return '%s(%r)' % (self.__class__.__name__,\n",
        "                      OrderedDict(self))\n",
        "  def __reduce__(self):\n",
        "    return self.__class__, (OrderedDict(self),)\n",
        "\n",
        "\n",
        "class Vocabulary:\n",
        "  \"\"\"A vocabulary, assigns IDs to tokens\"\"\"\n",
        "\n",
        "  def __init__(self):\n",
        "    self.freqs = OrderedCounter()\n",
        "    self.w2i = {}\n",
        "    self.i2w = []\n",
        "\n",
        "  def count_token(self, t):\n",
        "    self.freqs[t] += 1\n",
        "\n",
        "  def add_token(self, t):\n",
        "    self.w2i[t] = len(self.w2i)\n",
        "    self.i2w.append(t)\n",
        "\n",
        "  def build(self, min_freq=0):\n",
        "    '''\n",
        "    min_freq: minimum number of occurrences for a word to be included\n",
        "              in the vocabulary\n",
        "    '''\n",
        "    self.add_token(\"<unk>\")  # reserve 0 for <unk> (unknown words)\n",
        "    self.add_token(\"<pad>\")  # reserve 1 for <pad> (discussed later)\n",
        "\n",
        "    tok_freq = list(self.freqs.items())\n",
        "    tok_freq.sort(key=lambda x: x[1], reverse=True)\n",
        "    for tok, freq in tok_freq:\n",
        "      if freq >= min_freq:\n",
        "        self.add_token(tok)"
      ]
    },
    {
      "cell_type": "markdown",
      "metadata": {
        "id": "kOvkH_llVsoW"
      },
      "source": [
        "The vocabulary has by default an `<unk>` token and a `<pad>` token. The `<unk>` token is reserved for all words which do not appear in the training data (and for which, therefore, we cannot learn word representations). The function of the `<pad>` token will be explained later.\n",
        "\n",
        "\n",
        "Let's build the vocabulary!\n"
      ]
    },
    {
      "cell_type": "code",
      "execution_count": null,
      "metadata": {
        "colab": {
          "base_uri": "https://localhost:8080/"
        },
        "id": "GwGQgQQBNUSq",
        "outputId": "6b0be0c8-f97b-4845-f070-bd51614b5a4c"
      },
      "outputs": [
        {
          "ename": "NameError",
          "evalue": "name 'train_data' is not defined",
          "output_type": "error",
          "traceback": [
            "\u001b[0;31m---------------------------------------------------------------------------\u001b[0m",
            "\u001b[0;31mNameError\u001b[0m                                 Traceback (most recent call last)",
            "\u001b[1;32m/Users/dqmis/github/nlp1/NLP1_2023_Practical_2.ipynb Cell 25\u001b[0m line \u001b[0;36m5\n\u001b[1;32m      <a href='vscode-notebook-cell:/Users/dqmis/github/nlp1/NLP1_2023_Practical_2.ipynb#X33sZmlsZQ%3D%3D?line=0'>1</a>\u001b[0m \u001b[39m# This process should be deterministic and should have the same result\u001b[39;00m\n\u001b[1;32m      <a href='vscode-notebook-cell:/Users/dqmis/github/nlp1/NLP1_2023_Practical_2.ipynb#X33sZmlsZQ%3D%3D?line=1'>2</a>\u001b[0m \u001b[39m# if run multiple times on the same data set.\u001b[39;00m\n\u001b[1;32m      <a href='vscode-notebook-cell:/Users/dqmis/github/nlp1/NLP1_2023_Practical_2.ipynb#X33sZmlsZQ%3D%3D?line=3'>4</a>\u001b[0m v \u001b[39m=\u001b[39m Vocabulary()\n\u001b[0;32m----> <a href='vscode-notebook-cell:/Users/dqmis/github/nlp1/NLP1_2023_Practical_2.ipynb#X33sZmlsZQ%3D%3D?line=4'>5</a>\u001b[0m \u001b[39mfor\u001b[39;00m data_set \u001b[39min\u001b[39;00m (train_data,):\n\u001b[1;32m      <a href='vscode-notebook-cell:/Users/dqmis/github/nlp1/NLP1_2023_Practical_2.ipynb#X33sZmlsZQ%3D%3D?line=5'>6</a>\u001b[0m   \u001b[39mfor\u001b[39;00m ex \u001b[39min\u001b[39;00m data_set:\n\u001b[1;32m      <a href='vscode-notebook-cell:/Users/dqmis/github/nlp1/NLP1_2023_Practical_2.ipynb#X33sZmlsZQ%3D%3D?line=6'>7</a>\u001b[0m     \u001b[39mfor\u001b[39;00m token \u001b[39min\u001b[39;00m ex\u001b[39m.\u001b[39mtokens:\n",
            "\u001b[0;31mNameError\u001b[0m: name 'train_data' is not defined"
          ]
        }
      ],
      "source": [
        "# This process should be deterministic and should have the same result\n",
        "# if run multiple times on the same data set.\n",
        "\n",
        "v = Vocabulary()\n",
        "for data_set in (train_data,):\n",
        "  for ex in data_set:\n",
        "    for token in ex.tokens:\n",
        "      v.count_token(token)\n",
        "\n",
        "v.build()\n",
        "print(\"Vocabulary size:\", len(v.w2i))"
      ]
    },
    {
      "cell_type": "markdown",
      "metadata": {
        "id": "-UNIedPrPdCw"
      },
      "source": [
        "Let's have a closer look at the properties of our vocabulary. Having a good idea of what it is like can facilitate data analysis and debugging later on."
      ]
    },
    {
      "cell_type": "code",
      "execution_count": null,
      "metadata": {
        "id": "oJyuogmh0CA7"
      },
      "outputs": [
        {
          "data": {
            "text/plain": [
              "1973"
            ]
          },
          "execution_count": 54,
          "metadata": {},
          "output_type": "execute_result"
        }
      ],
      "source": [
        "# What is the ID for \"century?\"\n",
        "v.w2i[\"century\"]"
      ]
    },
    {
      "cell_type": "code",
      "execution_count": null,
      "metadata": {
        "id": "O8OkPQ8Zv-rI"
      },
      "outputs": [
        {
          "data": {
            "text/plain": [
              "['<unk>', '<pad>', '.', ',', 'the', 'and', 'a', 'of', 'to', \"'s\"]"
            ]
          },
          "execution_count": 55,
          "metadata": {},
          "output_type": "execute_result"
        }
      ],
      "source": [
        "# What are the first 10 words in the vocabulary (based on their IDs)?\n",
        "v.i2w[:10]"
      ]
    },
    {
      "cell_type": "code",
      "execution_count": null,
      "metadata": {
        "id": "kmXwu02lOLWI"
      },
      "outputs": [
        {
          "data": {
            "text/plain": [
              "[('.', 8024),\n",
              " (',', 7131),\n",
              " ('the', 6037),\n",
              " ('and', 4431),\n",
              " ('a', 4403),\n",
              " ('of', 4386),\n",
              " ('to', 2995),\n",
              " (\"'s\", 2544),\n",
              " ('is', 2536),\n",
              " ('that', 1915)]"
            ]
          },
          "execution_count": 56,
          "metadata": {},
          "output_type": "execute_result"
        }
      ],
      "source": [
        "# What are the 10 most common words?\n",
        "v.freqs.most_common(10)"
      ]
    },
    {
      "cell_type": "code",
      "execution_count": null,
      "metadata": {
        "id": "__NDPaCeOT_m"
      },
      "outputs": [
        {
          "data": {
            "text/plain": [
              "[('near-miss', 1),\n",
              " ('Flat', 1),\n",
              " ('Rashomon-for-dipsticks', 1),\n",
              " ('Bearable', 1),\n",
              " ('Staggeringly', 1),\n",
              " ('Well-made', 1),\n",
              " ('mush-hearted', 1),\n",
              " ('hippie-turned-yuppie', 1),\n",
              " ('muttering', 1),\n",
              " ('dissing', 1)]"
            ]
          },
          "execution_count": 57,
          "metadata": {},
          "output_type": "execute_result"
        }
      ],
      "source": [
        "# And how many words are there with frequency 1?\n",
        "# (A fancy name for these is hapax legomena.)\n",
        "\n",
        "v.freqs.most_common()[-10:]"
      ]
    },
    {
      "cell_type": "code",
      "execution_count": null,
      "metadata": {
        "id": "xKHocugctZGM"
      },
      "outputs": [
        {
          "data": {
            "text/plain": [
              "['our',\n",
              " 'eludes',\n",
              " 'keep',\n",
              " 'using',\n",
              " 'wan',\n",
              " 'laugher',\n",
              " 'Exploits',\n",
              " 'Few',\n",
              " 'howlingly',\n",
              " 'yourselves',\n",
              " 'double-pistoled',\n",
              " 'spiffing',\n",
              " 'chitchat',\n",
              " 'drew',\n",
              " 'captives',\n",
              " 'Never',\n",
              " 'Simpson',\n",
              " 'deform',\n",
              " 'Nelson',\n",
              " 'begging']"
            ]
          },
          "execution_count": 58,
          "metadata": {},
          "output_type": "execute_result"
        }
      ],
      "source": [
        "# Finally 20 random words from the vocabulary.\n",
        "# This is a simple way to get a feeling for the data.\n",
        "# You could use the `choice` function from the already imported `random` package\n",
        "\n",
        "random.choices(v.i2w, k=20)"
      ]
    },
    {
      "cell_type": "markdown",
      "metadata": {
        "id": "nGWaZahKV_dH"
      },
      "source": [
        "#### Sentiment label vocabulary"
      ]
    },
    {
      "cell_type": "code",
      "execution_count": null,
      "metadata": {
        "colab": {
          "base_uri": "https://localhost:8080/"
        },
        "id": "AmTC-rvQelpl",
        "outputId": "9837d4ce-2323-43c8-bf19-e4ad60ae5564"
      },
      "outputs": [
        {
          "name": "stdout",
          "output_type": "stream",
          "text": [
            "['very negative', 'negative', 'neutral', 'positive', 'very positive']\n",
            "very positive\n"
          ]
        }
      ],
      "source": [
        "# Now let's map the sentiment labels 0-4 to a more readable form\n",
        "i2t = [\"very negative\", \"negative\", \"neutral\", \"positive\", \"very positive\"]\n",
        "print(i2t)\n",
        "print(i2t[4])"
      ]
    },
    {
      "cell_type": "code",
      "execution_count": null,
      "metadata": {
        "colab": {
          "base_uri": "https://localhost:8080/"
        },
        "id": "D7UI26DP2dr2",
        "outputId": "8e004ef7-8c95-4980-fa9b-c859927192fb"
      },
      "outputs": [
        {
          "name": "stdout",
          "output_type": "stream",
          "text": [
            "OrderedDict([('very negative', 0), ('negative', 1), ('neutral', 2), ('positive', 3), ('very positive', 4)])\n",
            "4\n"
          ]
        }
      ],
      "source": [
        "# And let's also create the opposite mapping.\n",
        "# We won't use a Vocabulary for this (although we could), since the labels\n",
        "# are already numeric.\n",
        "t2i = OrderedDict({p : i for p, i in zip(i2t, range(len(i2t)))})\n",
        "print(t2i)\n",
        "print(t2i['very positive'])"
      ]
    },
    {
      "cell_type": "markdown",
      "metadata": {
        "id": "y0067ax54-rd"
      },
      "source": [
        "## PyTorch\n",
        "\n",
        "In Colab notebooks, the last available version of PyTorch is already installed.The current stable version is 1.7.\n",
        "\n",
        "*For installing PyTorch in your own computer, follow the instructions on [pytorch.org](pytorch.org) instead. This is for Google Colab only.*"
      ]
    },
    {
      "cell_type": "code",
      "execution_count": null,
      "metadata": {
        "colab": {
          "base_uri": "https://localhost:8080/"
        },
        "id": "qKQMGtkR5KWr",
        "outputId": "ceb01077-6c2c-4e9b-b9e1-8b0ad13b88b7"
      },
      "outputs": [
        {
          "name": "stdout",
          "output_type": "stream",
          "text": [
            "Using torch 2.1.0\n"
          ]
        }
      ],
      "source": [
        "import torch\n",
        "print(\"Using torch\", torch.__version__) # should say 1.7.0+cu101"
      ]
    },
    {
      "cell_type": "code",
      "execution_count": null,
      "metadata": {
        "id": "mnvPcd_E1xH8"
      },
      "outputs": [],
      "source": [
        "# Let's also import torch.nn, a PyTorch package that\n",
        "# makes building neural networks more convenient.\n",
        "from torch import nn"
      ]
    },
    {
      "cell_type": "code",
      "execution_count": null,
      "metadata": {
        "id": "BYt8uTyGCKc7"
      },
      "outputs": [
        {
          "data": {
            "text/plain": [
              "device(type='cpu')"
            ]
          },
          "execution_count": 63,
          "metadata": {},
          "output_type": "execute_result"
        }
      ],
      "source": [
        "# PyTorch can run on CPU or on Nvidia GPU (video card) using CUDA\n",
        "# This cell selects the GPU if one is available.\n",
        "device = torch.device('cuda' if torch.cuda.is_available() else 'cpu')\n",
        "device"
      ]
    },
    {
      "cell_type": "code",
      "execution_count": null,
      "metadata": {
        "id": "2d1VMOOYx1Bw"
      },
      "outputs": [],
      "source": [
        "# Seed manually to make runs reproducible\n",
        "# You need to set this again if you do multiple runs of the same model\n",
        "torch.manual_seed(42)\n",
        "\n",
        "# When running on the CuDNN backend two further options must be set for reproducibility\n",
        "if torch.cuda.is_available():\n",
        "  torch.backends.cudnn.deterministic = True\n",
        "  torch.backends.cudnn.benchmark = False"
      ]
    },
    {
      "cell_type": "markdown",
      "metadata": {
        "id": "uWBTzkuE3CtZ"
      },
      "source": [
        "# BOW"
      ]
    },
    {
      "cell_type": "markdown",
      "metadata": {
        "id": "TBAjYYySOA5W"
      },
      "source": [
        "Our first model is a rather simple neural **bag-of-words (BOW) model**.\n",
        "Unlike the bag-of-words model that you used in the previous lab, where we would look at the presence / frequency of words in a text, here we associate each word with a multi-dimensional vector which expresses what sentiment is conveyed by the word. In particular, our BOW vectors will be of size 5, exactly our number of sentiment classes.\n",
        "\n",
        "To classify a sentence, we **sum** the vectors of the words in the sentence and a bias vector. Because we sum the vectors, we lose word order: that's why we call this a neural bag-of-words model.\n",
        "\n",
        "```\n",
        "this   [0.0, 0.1, 0.1, 0.1, 0.0]\n",
        "movie  [0.0, 0.1, 0.1, 0.2, 0.1]\n",
        "is     [0.0, 0.1, 0.0, 0.0, 0.0]\n",
        "stupid [0.9, 0.5, 0.1, 0.0, 0.0]\n",
        "\n",
        "bias   [0.0, 0.0, 0.0, 0.0, 0.0]\n",
        "--------------------------------\n",
        "sum    [0.9, 0.8, 0.3, 0.3, 0.1]\n",
        "\n",
        "argmax: 0 (very negative)\n",
        "```\n",
        "\n",
        "The **argmax** of this sum is our predicted label.\n",
        "\n",
        "We initialize all vectors *randomly* and train them using cross-entropy loss."
      ]
    },
    {
      "cell_type": "markdown",
      "metadata": {
        "id": "rLtBAIQGynkB"
      },
      "source": [
        "#### Model class"
      ]
    },
    {
      "cell_type": "code",
      "execution_count": null,
      "metadata": {
        "id": "QZfNklWf3tvs"
      },
      "outputs": [],
      "source": [
        "class BOW(nn.Module):\n",
        "  \"\"\"A simple bag-of-words model\"\"\"\n",
        "\n",
        "  def __init__(self, vocab_size, embedding_dim, vocab):\n",
        "    super(BOW, self).__init__()\n",
        "    self.vocab = vocab\n",
        "\n",
        "    # this is a trainable look-up table with word embeddings\n",
        "    self.embed = nn.Embedding(vocab_size, embedding_dim)\n",
        "\n",
        "    # this is a trainable bias term\n",
        "    self.bias = nn.Parameter(torch.zeros(embedding_dim), requires_grad=True)\n",
        "\n",
        "  def forward(self, inputs):\n",
        "    # this is the forward pass of the neural network\n",
        "    # it applies a function to the input and returns the output\n",
        "\n",
        "    # this looks up the embeddings for each word ID in inputs\n",
        "    # the result is a sequence of word embeddings\n",
        "    embeds = self.embed(inputs)\n",
        "\n",
        "    # the output is the sum across the time dimension (1)\n",
        "    # with the bias term added\n",
        "    logits = embeds.sum(1) + self.bias\n",
        "\n",
        "    return logits"
      ]
    },
    {
      "cell_type": "code",
      "execution_count": null,
      "metadata": {
        "colab": {
          "base_uri": "https://localhost:8080/"
        },
        "id": "eKHvBnoBAr6z",
        "outputId": "a22d497a-1fa7-4027-d42d-6d9e3f459295"
      },
      "outputs": [
        {
          "name": "stdout",
          "output_type": "stream",
          "text": [
            "BOW(\n",
            "  (embed): Embedding(18280, 5)\n",
            ")\n"
          ]
        }
      ],
      "source": [
        "# Let's create a model.\n",
        "vocab_size = len(v.w2i)\n",
        "n_classes = len(t2i)\n",
        "bow_model = BOW(vocab_size, n_classes, v)\n",
        "print(bow_model)"
      ]
    },
    {
      "cell_type": "markdown",
      "metadata": {
        "id": "vfCx-HvMH1qQ"
      },
      "source": [
        "> **Hey, wait, where is the bias vector?**\n",
        "> PyTorch does not print Parameters, only Modules!\n",
        "\n",
        "> We can print it ourselves though, to check that it is there."
      ]
    },
    {
      "cell_type": "code",
      "execution_count": null,
      "metadata": {
        "colab": {
          "base_uri": "https://localhost:8080/"
        },
        "id": "Fhvk5HenAroT",
        "outputId": "abf205db-9edc-41fb-b224-ea7ce321b07b"
      },
      "outputs": [
        {
          "name": "stdout",
          "output_type": "stream",
          "text": [
            "bias                     [5]          requires_grad=True\n",
            "embed.weight             [18280, 5]   requires_grad=True\n",
            "\n",
            "Total number of parameters: 91405\n",
            "\n"
          ]
        }
      ],
      "source": [
        "\n",
        "# Here we print each parameter name, shape, and if it is trainable.\n",
        "def print_parameters(model):\n",
        "  total = 0\n",
        "  for name, p in model.named_parameters():\n",
        "    total += np.prod(p.shape)\n",
        "    print(\"{:24s} {:12s} requires_grad={}\".format(name, str(list(p.shape)), p.requires_grad))\n",
        "  print(\"\\nTotal number of parameters: {}\\n\".format(total))\n",
        "\n",
        "\n",
        "print_parameters(bow_model)"
      ]
    },
    {
      "cell_type": "markdown",
      "metadata": {
        "id": "WSAw292WxuP4"
      },
      "source": [
        "#### Preparing an example for input\n",
        "\n",
        "To feed sentences to our PyTorch model, we need to convert a sequence of tokens to a sequence of IDs. The `prepare_example` function below takes care of this for us. We then use these IDs as indices for the word embedding table."
      ]
    },
    {
      "cell_type": "code",
      "execution_count": null,
      "metadata": {
        "id": "YWeGTC_OGReV"
      },
      "outputs": [],
      "source": [
        "def prepare_example(example, vocab):\n",
        "  \"\"\"\n",
        "  Map tokens to their IDs for a single example\n",
        "  \"\"\"\n",
        "\n",
        "  # vocab returns 0 if the word is not there (i2w[0] = <unk>)\n",
        "  x = [vocab.w2i.get(t, 0) for t in example.tokens]\n",
        "\n",
        "  x = torch.LongTensor([x])\n",
        "  x = x.to(device)\n",
        "\n",
        "  y = torch.LongTensor([example.label])\n",
        "  y = y.to(device)\n",
        "\n",
        "  return x, y"
      ]
    },
    {
      "cell_type": "code",
      "execution_count": null,
      "metadata": {
        "colab": {
          "base_uri": "https://localhost:8080/"
        },
        "id": "sfbdv9px3uFF",
        "outputId": "423ec782-a269-4a4a-fcd5-a54239e372dd"
      },
      "outputs": [
        {
          "name": "stdout",
          "output_type": "stream",
          "text": [
            "x: tensor([[  28,    9,    6,  998,   16,   18,  998,  135,   32, 7688,    5,    0,\n",
            "            2]])\n",
            "y: tensor([3])\n"
          ]
        }
      ],
      "source": [
        "x, y = prepare_example(dev_data[0], v)\n",
        "print('x:', x)\n",
        "print('y:', y)"
      ]
    },
    {
      "cell_type": "markdown",
      "metadata": {
        "id": "oKNQjEc0yXnJ"
      },
      "source": [
        "#### Evaluation\n",
        "We now need to define an evaluation metric.\n",
        "How many predictions do we get right? The accuracy will tell us.\n",
        "Make sure that you understand this code block.\n"
      ]
    },
    {
      "cell_type": "code",
      "execution_count": null,
      "metadata": {
        "id": "yGmQLcVYKZsh"
      },
      "outputs": [],
      "source": [
        "def simple_evaluate(model, data, prep_fn=prepare_example, **kwargs):\n",
        "  \"\"\"Accuracy of a model on given data set.\"\"\"\n",
        "  correct = 0\n",
        "  total = 0\n",
        "  model.eval()  # disable dropout (explained later)\n",
        "\n",
        "  for example in data:\n",
        "\n",
        "    # convert the example input and label to PyTorch tensors\n",
        "    x, target = prep_fn(example, model.vocab)\n",
        "\n",
        "    # forward pass without backpropagation (no_grad)\n",
        "    # get the output from the neural network for input x\n",
        "    with torch.no_grad():\n",
        "      logits = model(x)\n",
        "\n",
        "    # get the prediction\n",
        "    prediction = logits.argmax(dim=-1)\n",
        "\n",
        "    # add the number of correct predictions to the total correct\n",
        "    correct += (prediction == target).sum().item()\n",
        "    total += 1\n",
        "\n",
        "  return correct, total, correct / float(total)"
      ]
    },
    {
      "cell_type": "markdown",
      "metadata": {
        "id": "5KlIGFXllWWm"
      },
      "source": [
        "We are using accuracy as a handy evaluation metric. Please consider using [alternative metrics](https://scikit-learn.org/stable/modules/classes.html#classification-metrics) for your experiments if that makes more theoretical sense."
      ]
    },
    {
      "cell_type": "markdown",
      "metadata": {
        "id": "dIk6OtSdzGRP"
      },
      "source": [
        "#### Example feed\n",
        "For stochastic gradient descent (SGD) we will need a random training example for every update.\n",
        "We implement this by shuffling the training data and returning examples one by one using `yield`.\n",
        "\n",
        "Shuffling is optional so that we get to use this function to get validation and test examples, too."
      ]
    },
    {
      "cell_type": "code",
      "execution_count": null,
      "metadata": {
        "id": "dxDFOZLfCXvJ"
      },
      "outputs": [],
      "source": [
        "def get_examples(data, shuffle=True, **kwargs):\n",
        "  \"\"\"Shuffle data set and return 1 example at a time (until nothing left)\"\"\"\n",
        "  if shuffle:\n",
        "    print(\"Shuffling training data\")\n",
        "    random.shuffle(data)  # shuffle training data each epoch\n",
        "  for example in data:\n",
        "    yield example"
      ]
    },
    {
      "cell_type": "markdown",
      "metadata": {
        "id": "g09SM8yb2cjx"
      },
      "source": [
        "#### Exercise: Training function\n",
        "\n",
        "Your task is now to complete the training loop below.\n",
        "Before you do so, please read the section about optimisation."
      ]
    },
    {
      "cell_type": "markdown",
      "metadata": {
        "id": "TVfUukVdM_1c"
      },
      "source": [
        "**Optimisation**\n",
        "\n",
        "As mentioned in the \"Intro to PyTorch\" notebook, one of the perks of using PyTorch is automatic differentiation. We will use it to train our BOW model.\n",
        "\n",
        "We train our model by feeding it an input, performing a **forward** pass, obtaining an output prediction, and calculating a **loss** with our loss function.\n",
        "After the gradients are computed in the **backward** pass, we can take a step on the surface of the loss function towards more optimal parameter settings (gradient descent).\n",
        "\n",
        "The package we will use to do this optimisation is [torch.optim](https://pytorch.org/docs/stable/optim.html)."
      ]
    },
    {
      "cell_type": "code",
      "execution_count": null,
      "metadata": {
        "id": "KhQigDrQ--YU"
      },
      "outputs": [],
      "source": [
        "from torch import optim"
      ]
    },
    {
      "cell_type": "code",
      "execution_count": null,
      "metadata": {},
      "outputs": [
        {
          "name": "stdout",
          "output_type": "stream",
          "text": [
            "Example(tokens=['The', 'Rock', 'is', 'destined', 'to', 'be', 'the', '21st', 'Century', \"'s\", 'new', '``', 'Conan', \"''\", 'and', 'that', 'he', \"'s\", 'going', 'to', 'make', 'a', 'splash', 'even', 'greater', 'than', 'Arnold', 'Schwarzenegger', ',', 'Jean-Claud', 'Van', 'Damme', 'or', 'Steven', 'Segal', '.'], tree=Tree('3', [Tree('2', [Tree('2', ['The']), Tree('2', ['Rock'])]), Tree('4', [Tree('3', [Tree('2', ['is']), Tree('4', [Tree('2', ['destined']), Tree('2', [Tree('2', [Tree('2', [Tree('2', [Tree('2', ['to']), Tree('2', [Tree('2', ['be']), Tree('2', [Tree('2', ['the']), Tree('2', [Tree('2', ['21st']), Tree('2', [Tree('2', [Tree('2', ['Century']), Tree('2', [\"'s\"])]), Tree('2', [Tree('3', ['new']), Tree('2', [Tree('2', ['``']), Tree('2', ['Conan'])])])])])])])]), Tree('2', [\"''\"])]), Tree('2', ['and'])]), Tree('3', [Tree('2', ['that']), Tree('3', [Tree('2', ['he']), Tree('3', [Tree('2', [\"'s\"]), Tree('3', [Tree('2', ['going']), Tree('3', [Tree('2', ['to']), Tree('4', [Tree('3', [Tree('2', ['make']), Tree('3', [Tree('3', [Tree('2', ['a']), Tree('3', ['splash'])]), Tree('2', [Tree('2', ['even']), Tree('3', ['greater'])])])]), Tree('2', [Tree('2', ['than']), Tree('2', [Tree('2', [Tree('2', [Tree('2', [Tree('1', [Tree('2', ['Arnold']), Tree('2', ['Schwarzenegger'])]), Tree('2', [','])]), Tree('2', [Tree('2', ['Jean-Claud']), Tree('2', [Tree('2', ['Van']), Tree('2', ['Damme'])])])]), Tree('2', ['or'])]), Tree('2', [Tree('2', ['Steven']), Tree('2', ['Segal'])])])])])])])])])])])])]), Tree('2', ['.'])])]), label=3, transitions=[0, 0, 1, 0, 0, 0, 0, 0, 0, 0, 0, 1, 0, 0, 0, 1, 1, 1, 1, 1, 1, 1, 0, 1, 0, 1, 0, 0, 0, 0, 0, 0, 0, 0, 1, 0, 0, 1, 1, 1, 0, 0, 0, 1, 0, 1, 0, 0, 0, 1, 1, 1, 0, 1, 0, 0, 1, 1, 1, 1, 1, 1, 1, 1, 1, 1, 1, 1, 0, 1, 1])\n",
            "(tensor([[  14, 1098,   10, 3554,    8,   27,    4, 2912, 3555,    9,  151,   60,\n",
            "         5869,   61,    5,   11,   82,    9,  290,    8,   84,    6, 5870,   75,\n",
            "         3556,   38, 1887, 2913,    3, 8737, 2139, 5871,   48,  828, 8738,    2]]), tensor([3]))\n"
          ]
        }
      ],
      "source": [
        "for batch in get_examples(train_data, shuffle=False):\n",
        "  print(batch)\n",
        "  print(prepare_example(batch, v))\n",
        "  break"
      ]
    },
    {
      "cell_type": "markdown",
      "metadata": {
        "id": "wGIvcTZU_Cez"
      },
      "source": [
        "Besides implementations of stochastic gradient descent (SGD), this package also implements the optimisation algorithm Adam, which we'll be using in this practical.\n",
        "For the purposes of this assignment you do not need to know what Adam does besides that it uses gradient information to update our model parameters by calling:\n",
        "\n",
        "```\n",
        "optimizer.step()\n",
        "```\n",
        "Remember when we updated our parameters in the PyTorch tutorial in a loop?\n",
        "\n",
        "\n",
        "```python\n",
        "# update weights\n",
        "learning_rate = 0.5\n",
        "for f in net.parameters():\n",
        "    # for each parameter, take a small step in the opposite dir of the gradient\n",
        "    p.data = p.data - p.grad.data * learning_rate\n",
        "\n",
        "```\n",
        "The function call optimizer.step() does effectively the same thing.\n",
        "\n",
        "*(If you want to know more about optimisation algorithms using gradient information, [this blog](http://ruder.io/optimizing-gradient-descent/.) gives a nice intuitive overview.)*"
      ]
    },
    {
      "cell_type": "code",
      "execution_count": null,
      "metadata": {
        "id": "ktFnKBux25lD"
      },
      "outputs": [
        {
          "name": "stdout",
          "output_type": "stream",
          "text": [
            "Error in callback <bound method _WandbInit._resume_backend of <wandb.sdk.wandb_init._WandbInit object at 0x17e929d90>> (for pre_run_cell), with arguments args (<ExecutionInfo object at 28813a8d0, raw_cell=\"def train_model(model, optimizer, num_iterations=1..\" store_history=True silent=False shell_futures=True cell_id=vscode-notebook-cell:/Users/dqmis/github/nlp1/NLP1_2023_Practical_2.ipynb#Y112sZmlsZQ%3D%3D>,),kwargs {}:\n"
          ]
        },
        {
          "ename": "TypeError",
          "evalue": "_WandbInit._resume_backend() takes 1 positional argument but 2 were given",
          "output_type": "error",
          "traceback": [
            "\u001b[0;31m---------------------------------------------------------------------------\u001b[0m",
            "\u001b[0;31mTypeError\u001b[0m                                 Traceback (most recent call last)",
            "\u001b[0;31mTypeError\u001b[0m: _WandbInit._resume_backend() takes 1 positional argument but 2 were given"
          ]
        },
        {
          "name": "stdout",
          "output_type": "stream",
          "text": [
            "Error in callback <bound method _WandbInit._pause_backend of <wandb.sdk.wandb_init._WandbInit object at 0x17e929d90>> (for post_run_cell), with arguments args (<ExecutionResult object at 17f248910, execution_count=207 error_before_exec=None error_in_exec=None info=<ExecutionInfo object at 28813a8d0, raw_cell=\"def train_model(model, optimizer, num_iterations=1..\" store_history=True silent=False shell_futures=True cell_id=vscode-notebook-cell:/Users/dqmis/github/nlp1/NLP1_2023_Practical_2.ipynb#Y112sZmlsZQ%3D%3D> result=None>,),kwargs {}:\n"
          ]
        },
        {
          "ename": "TypeError",
          "evalue": "_WandbInit._pause_backend() takes 1 positional argument but 2 were given",
          "output_type": "error",
          "traceback": [
            "\u001b[0;31m---------------------------------------------------------------------------\u001b[0m",
            "\u001b[0;31mTypeError\u001b[0m                                 Traceback (most recent call last)",
            "\u001b[0;31mTypeError\u001b[0m: _WandbInit._pause_backend() takes 1 positional argument but 2 were given"
          ]
        }
      ],
      "source": [
        "def train_model(model, optimizer, num_iterations=10000,\n",
        "                print_every=1000, eval_every=1000,\n",
        "                batch_fn=get_examples,\n",
        "                prep_fn=prepare_example,\n",
        "                eval_fn=simple_evaluate,\n",
        "                batch_size=1, eval_batch_size=None, use_wandb=False, run_info=None):\n",
        "\n",
        "  if use_wandb:\n",
        "    config={\n",
        "        \"model\": model.__class__.__name__,\n",
        "        \"optimizer\": optimizer.__class__.__name__,\n",
        "        \"num_iterations\": num_iterations,\n",
        "        \"batch_size\": batch_size,\n",
        "        \"eval_batch_size\": eval_batch_size,\n",
        "    }\n",
        "\n",
        "    if run_info is not None:\n",
        "      config.update(run_info)\n",
        "\n",
        "    wandb.init(\n",
        "      project=\"nlp1-practical2\",\n",
        "      name=model.__class__.__name__ + \"-\" + str(int(time.time())),\n",
        "      config=config\n",
        "    )\n",
        "\n",
        "\n",
        "  \"\"\"Train a model.\"\"\"\n",
        "  iter_i = 0\n",
        "  train_loss = 0.\n",
        "  print_num = 0\n",
        "  start = time.time()\n",
        "  criterion = nn.CrossEntropyLoss() # loss function\n",
        "  best_eval = 0.\n",
        "  best_iter = 0\n",
        "\n",
        "  # store train loss and validation accuracy during training\n",
        "  # so we can plot them afterwards\n",
        "  losses = []\n",
        "  accuracies = []\n",
        "\n",
        "  if eval_batch_size is None:\n",
        "    eval_batch_size = batch_size\n",
        "\n",
        "  while True:  # when we run out of examples, shuffle and continue\n",
        "    for batch in batch_fn(train_data, batch_size=batch_size):\n",
        "\n",
        "      # forward pass\n",
        "      model.train()\n",
        "      x, targets = prep_fn(batch, model.vocab)\n",
        "      logits = model(x)\n",
        "\n",
        "      B = targets.size(0)  # later we will use B examples per update\n",
        "\n",
        "      # compute cross-entropy loss (our criterion)\n",
        "      # note that the cross entropy loss function computes the softmax for us\n",
        "      loss = criterion(logits.view([B, -1]), targets.view(-1))\n",
        "      train_loss += loss.item()\n",
        "\n",
        "      optimizer.zero_grad()\n",
        "      loss.backward()\n",
        "      optimizer.step()\n",
        "\n",
        "      print_num += 1\n",
        "      iter_i += 1\n",
        "\n",
        "      # print info\n",
        "      if iter_i % print_every == 0:\n",
        "        print(\"Iter %r: loss=%.4f, time=%.2fs\" %\n",
        "              (iter_i, train_loss, time.time()-start))\n",
        "        losses.append(train_loss)\n",
        "        if use_wandb:\n",
        "          wandb.log({\"train_loss\": train_loss})\n",
        "        print_num = 0\n",
        "        train_loss = 0.\n",
        "\n",
        "      # evaluate\n",
        "      if iter_i % eval_every == 0:\n",
        "        _, _, accuracy = eval_fn(model, dev_data, batch_size=eval_batch_size,\n",
        "                                batch_fn=batch_fn, prep_fn=prep_fn)\n",
        "        accuracies.append(accuracy)\n",
        "        if use_wandb:\n",
        "          wandb.log({\"dev_accuracy\": accuracy})\n",
        "        print(\"iter %r: dev acc=%.4f\" % (iter_i, accuracy))\n",
        "\n",
        "        # save best model parameters\n",
        "        if accuracy > best_eval:\n",
        "          print(\"new highscore\")\n",
        "          best_eval = accuracy\n",
        "          best_iter = iter_i\n",
        "          path = \"{}.pt\".format(model.__class__.__name__)\n",
        "          ckpt = {\n",
        "              \"state_dict\": model.state_dict(),\n",
        "              \"optimizer_state_dict\": optimizer.state_dict(),\n",
        "              \"best_eval\": best_eval,\n",
        "              \"best_iter\": best_iter\n",
        "          }\n",
        "          torch.save(ckpt, path)\n",
        "\n",
        "      # done training\n",
        "      if iter_i == num_iterations:\n",
        "        print(\"Done training\")\n",
        "\n",
        "        # evaluate on train, dev, and test with best model\n",
        "        print(\"Loading best model\")\n",
        "        path = \"{}.pt\".format(model.__class__.__name__)\n",
        "        ckpt = torch.load(path)\n",
        "        model.load_state_dict(ckpt[\"state_dict\"])\n",
        "\n",
        "        _, _, train_acc = eval_fn(\n",
        "            model, train_data, batch_size=eval_batch_size,\n",
        "            batch_fn=batch_fn, prep_fn=prep_fn)\n",
        "        _, _, dev_acc = eval_fn(\n",
        "            model, dev_data, batch_size=eval_batch_size,\n",
        "            batch_fn=batch_fn, prep_fn=prep_fn)\n",
        "        _, _, test_acc = eval_fn(\n",
        "            model, test_data, batch_size=eval_batch_size,\n",
        "            batch_fn=batch_fn, prep_fn=prep_fn)\n",
        "\n",
        "        if use_wandb:\n",
        "          wandb.log({\"final_train_accuracy\": train_acc})\n",
        "          wandb.log({\"final_dev_accuracy\": dev_acc})\n",
        "          wandb.log({\"test_accuracy\": test_acc})\n",
        "\n",
        "        print(\"best model iter {:d}: \"\n",
        "              \"train acc={:.4f}, dev acc={:.4f}, test acc={:.4f}\".format(\n",
        "                  best_iter, train_acc, dev_acc, test_acc))\n",
        "\n",
        "        return losses, accuracies"
      ]
    },
    {
      "cell_type": "markdown",
      "metadata": {
        "id": "XEPsLvI-3D5b"
      },
      "source": [
        "### Training the BOW model"
      ]
    },
    {
      "cell_type": "code",
      "execution_count": null,
      "metadata": {
        "id": "9luJnNuN_d3q"
      },
      "outputs": [
        {
          "name": "stdout",
          "output_type": "stream",
          "text": [
            "BOW(\n",
            "  (embed): Embedding(18280, 5)\n",
            ")\n",
            "Shuffling training data\n",
            "Iter 1000: loss=5177.4316, time=0.34s\n",
            "iter 1000: dev acc=0.2162\n",
            "new highscore\n",
            "Iter 2000: loss=4851.0610, time=0.68s\n",
            "iter 2000: dev acc=0.2153\n",
            "Iter 3000: loss=4809.1414, time=1.07s\n",
            "iter 3000: dev acc=0.2280\n",
            "new highscore\n",
            "Iter 4000: loss=4633.6966, time=1.40s\n",
            "iter 4000: dev acc=0.2380\n",
            "new highscore\n",
            "Iter 5000: loss=4322.0477, time=1.74s\n",
            "iter 5000: dev acc=0.2407\n",
            "new highscore\n",
            "Iter 6000: loss=4469.1043, time=2.22s\n",
            "iter 6000: dev acc=0.2434\n",
            "new highscore\n",
            "Iter 7000: loss=4200.5245, time=2.56s\n",
            "iter 7000: dev acc=0.2489\n",
            "new highscore\n",
            "Iter 8000: loss=4196.8791, time=2.90s\n",
            "iter 8000: dev acc=0.2498\n",
            "new highscore\n",
            "Shuffling training data\n",
            "Iter 9000: loss=4040.7789, time=3.23s\n",
            "iter 9000: dev acc=0.2507\n",
            "new highscore\n",
            "Iter 10000: loss=3963.5268, time=3.56s\n",
            "iter 10000: dev acc=0.2507\n",
            "Iter 11000: loss=3921.2566, time=3.89s\n",
            "iter 11000: dev acc=0.2516\n",
            "new highscore\n",
            "Iter 12000: loss=4008.1485, time=4.24s\n",
            "iter 12000: dev acc=0.2552\n",
            "new highscore\n",
            "Iter 13000: loss=3900.5253, time=4.63s\n",
            "iter 13000: dev acc=0.2598\n",
            "new highscore\n",
            "Iter 14000: loss=3862.0514, time=4.95s\n",
            "iter 14000: dev acc=0.2652\n",
            "new highscore\n",
            "Iter 15000: loss=3823.1517, time=5.31s\n",
            "iter 15000: dev acc=0.2634\n",
            "Iter 16000: loss=3699.2797, time=5.64s\n",
            "iter 16000: dev acc=0.2670\n",
            "new highscore\n",
            "Iter 17000: loss=3693.8115, time=5.96s\n",
            "iter 17000: dev acc=0.2679\n",
            "new highscore\n",
            "Shuffling training data\n",
            "Iter 18000: loss=3373.1658, time=6.29s\n",
            "iter 18000: dev acc=0.2679\n",
            "Iter 19000: loss=3525.5066, time=6.62s\n",
            "iter 19000: dev acc=0.2716\n",
            "new highscore\n",
            "Iter 20000: loss=3414.0511, time=6.94s\n",
            "iter 20000: dev acc=0.2743\n",
            "new highscore\n",
            "Iter 21000: loss=3357.2649, time=7.27s\n",
            "iter 21000: dev acc=0.2743\n",
            "Iter 22000: loss=3379.8690, time=7.60s\n",
            "iter 22000: dev acc=0.2707\n",
            "Iter 23000: loss=3440.8513, time=7.93s\n",
            "iter 23000: dev acc=0.2725\n",
            "Iter 24000: loss=3506.9767, time=8.28s\n",
            "iter 24000: dev acc=0.2725\n",
            "Iter 25000: loss=3256.1174, time=8.61s\n",
            "iter 25000: dev acc=0.2752\n",
            "new highscore\n",
            "Shuffling training data\n",
            "Iter 26000: loss=3381.8063, time=8.96s\n",
            "iter 26000: dev acc=0.2779\n",
            "new highscore\n",
            "Iter 27000: loss=3084.8617, time=9.30s\n",
            "iter 27000: dev acc=0.2797\n",
            "new highscore\n",
            "Iter 28000: loss=3075.9181, time=9.63s\n",
            "iter 28000: dev acc=0.2797\n",
            "Iter 29000: loss=3112.9450, time=9.97s\n",
            "iter 29000: dev acc=0.2825\n",
            "new highscore\n",
            "Iter 30000: loss=2903.3391, time=10.35s\n",
            "iter 30000: dev acc=0.2916\n",
            "new highscore\n",
            "Done training\n",
            "Loading best model\n",
            "best model iter 30000: train acc=0.3222, dev acc=0.2916, test acc=0.2742\n"
          ]
        }
      ],
      "source": [
        "# If everything is in place we can now train our first model!\n",
        "bow_model = BOW(len(v.w2i), len(t2i), vocab=v)\n",
        "print(bow_model)\n",
        "\n",
        "bow_model = bow_model.to(device)\n",
        "\n",
        "optimizer = optim.Adam(bow_model.parameters(), lr=0.0005)\n",
        "bow_losses, bow_accuracies = train_model(\n",
        "    bow_model, optimizer, num_iterations=30000,\n",
        "    print_every=1000, eval_every=1000)"
      ]
    },
    {
      "cell_type": "code",
      "execution_count": null,
      "metadata": {
        "id": "dvYLj8LIAzfS"
      },
      "outputs": [
        {
          "data": {
            "text/plain": [
              "[<matplotlib.lines.Line2D at 0x16dcc7350>]"
            ]
          },
          "execution_count": 41,
          "metadata": {},
          "output_type": "execute_result"
        },
        {
          "data": {
            "image/png": "[encoded data removed]",
            "text/plain": [
              "<Figure size 640x480 with 1 Axes>"
            ]
          },
          "metadata": {},
          "output_type": "display_data"
        }
      ],
      "source": [
        "# This will plot the validation accuracies across time.\n",
        "plt.plot(bow_accuracies)"
      ]
    },
    {
      "cell_type": "code",
      "execution_count": null,
      "metadata": {
        "id": "vUHm9JfSI4po"
      },
      "outputs": [
        {
          "data": {
            "text/plain": [
              "[<matplotlib.lines.Line2D at 0x16af05dd0>]"
            ]
          },
          "execution_count": 42,
          "metadata": {},
          "output_type": "execute_result"
        },
        {
          "data": {
            "image/png": "[encoded data removed]",
            "text/plain": [
              "<Figure size 640x480 with 1 Axes>"
            ]
          },
          "metadata": {},
          "output_type": "display_data"
        }
      ],
      "source": [
        "# This will plot the training loss over time.\n",
        "plt.plot(bow_losses)"
      ]
    },
    {
      "cell_type": "markdown",
      "metadata": {
        "id": "Psxh-Le1BMDQ"
      },
      "source": [
        "Please note that we set the number of iterations to 30K as an indicative value, after which we simply stop training without checking for convergence. You should choose an appropriate number of iterations and motivate your decision. **This holds for all pre-set numbers of iteration in the following code blocks.**"
      ]
    },
    {
      "cell_type": "markdown",
      "metadata": {
        "id": "E9mB1_XhMPNN"
      },
      "source": [
        "# CBOW"
      ]
    },
    {
      "cell_type": "markdown",
      "metadata": {
        "id": "pWk78FvNMw4o"
      },
      "source": [
        "We now continue with a **continuous bag-of-words (CBOW)** model. (*This is not the same as the word2vec CBOW model!*)\n",
        "\n",
        "It is similar to the BOW model above, but now embeddings can have a dimension of *arbitrary size*.\n",
        "This means that we can choose a higher dimensionality and learn more aspects of each word. We will still sum word vectors to get a sentence representation, but now the size of the resulting vector will no longer correspond to the number of sentiment classes.\n",
        "\n",
        "So to turn the size of our summed vector into the number of output classes, we can *learn* a parameter matrix $W$ and multiply it by the sum vector $x$: $$Wx$$\n",
        "If the size of $x$ is `d x 1`, we can set $W$ to be `5 x d`, so that the output of the matrix multiplication will be the of the desired size, `5 x 1`. Then, just like for the BOW model, we can obtain a prediction using the argmax function."
      ]
    },
    {
      "cell_type": "markdown",
      "metadata": {
        "id": "gIjrCPfCwsXI"
      },
      "source": [
        "## Exercise: implement and train the CBOW model\n",
        "\n",
        "Write a class `CBOW` that:\n",
        "\n",
        "- has word embeddings with size 300\n",
        "- sums the word vectors for the input words (just like in `BOW`)\n",
        "- projects the resulting vector down to 5 units using a linear layer and a bias term (check out `nn.Linear`)\n",
        "\n",
        "Train your CBOW model and plot the validation accuracy and training loss over time."
      ]
    },
    {
      "cell_type": "code",
      "execution_count": null,
      "metadata": {
        "id": "PEV22aR2MP0Q"
      },
      "outputs": [],
      "source": [
        "# YOUR CODE HERE"
      ]
    },
    {
      "cell_type": "markdown",
      "metadata": {
        "id": "zpFt_Fo2TdN0"
      },
      "source": [
        "# Deep CBOW"
      ]
    },
    {
      "cell_type": "markdown",
      "metadata": {
        "id": "iZanOMesTfEZ"
      },
      "source": [
        "To see if we can squeeze some more performance out of the CBOW model, we can make it deeper and non-linear by adding more layers and, e.g., tanh-activations.\n",
        "By using more parameters we can learn more aspects of the data, and by using more layers and non-linearities, we can try to learn a more complex function.\n",
        "This is not something that always works. If the input-output mapping of your data is simple, then a complicated function could easily overfit on your training set, thereby leading to poor generalization.\n",
        "\n",
        "#### Exercise: write Deep CBOW class and train it\n",
        "\n",
        "Write a class `DeepCBOW`.\n",
        "\n",
        "In your code, make sure that your `output_layer` consists of the following:\n",
        "- A linear transformation from E units to D units.\n",
        "- A Tanh activation\n",
        "- A linear transformation from D units to D units\n",
        "- A Tanh activation\n",
        "- A linear transformation from D units to 5 units (our output classes).\n",
        "\n",
        "E is the size of the word embeddings (please use E=300) and D for the size of a hidden layer (please use D=100).\n",
        "\n",
        "We recommend using [nn.Sequential](https://pytorch.org/docs/stable/nn.html?highlight=sequential#torch.nn.Sequential) to implement this exercise."
      ]
    },
    {
      "cell_type": "code",
      "execution_count": null,
      "metadata": {
        "id": "l8Z1igvpTrZq"
      },
      "outputs": [],
      "source": [
        "# YOUR CODE HERE"
      ]
    },
    {
      "cell_type": "markdown",
      "metadata": {
        "id": "MQZ5flHwiiHY"
      },
      "source": [
        "# Pre-trained word embeddings"
      ]
    },
    {
      "cell_type": "markdown",
      "metadata": {
        "id": "9NX35vecmHy6"
      },
      "source": [
        "The Stanford Sentiment Treebank is a rather small data set, since it required fine-grained manual annotatation. This makes it difficult for the Deep CBOW model to learn good word embeddings, i.e. to learn good word representations for the words in our vocabulary.\n",
        "In fact, the only error signal that the network receives is from predicting the sentiment of entire sentences!\n",
        "\n",
        "To start off with better word representations, we can download **pre-trained word embeddings**.\n",
        "You can choose which pre-trained word embeddings to use:\n",
        "\n",
        "- **GloVe**. The \"original\" Stanford Sentiment classification [paper](http://aclweb.org/anthology/P/P15/P15-1150.pdf) used Glove embeddings, which are just another method (like *word2vec*) to get word embeddings from unannotated text. Glove is described in the following paper which you should cite if you use them:\n",
        "> Jeffrey Pennington, Richard Socher, and Christopher Manning. [\"Glove: Global vectors for word representation.\"](https://nlp.stanford.edu/pubs/glove.pdf) EMNLP 2014.\n",
        "\n",
        "- **Word2Vec**. This is the method that you learned about in class, described in:\n",
        "> Mikolov, Tomas, et al. [\"Distributed representations of words and phrases and their compositionality.\"](https://papers.nips.cc/paper/5021-distributed-representations-of-words-and-phrases-and-their-compositionality.pdf) Advances in neural information processing systems. 2013.\n",
        "\n",
        "Using these pre-trained word embeddings, we can initialize our word embedding lookup table and start form a point where similar words are already close to one another in the distributional semantic space.\n",
        "\n",
        "You can choose to keep the word embeddings **fixed** or to train them further, specialising them to the task at hand.\n",
        "We will keep them fixed for now.\n",
        "\n",
        "For the purposes of this lab, it is enough if you understand how word2vec works (whichever vectors you use), but if you are interested, we encourage you to also check out the GloVe paper.\n",
        "\n",
        "You can either download the word2vec vectors, or the Glove vectors.\n",
        "If you want to compare your results to the Stanford paper later on, then you should use Glove.\n",
        "**At the end of this lab you have the option to compare which vectors give you the best performance. For now, simply choose one of them and continue with that.**\n",
        "\n",
        "[**OPTIONAL in case you don't want to mount Google Drive:** instead of running all the 5 boxes below, you can 1) download the GloVe and word2vec in your local machine, 2) upload them on your Drive folder (\"My Drive\"). Then, uncomment the first 2 lines in box 6 before writing your code!]\n"
      ]
    },
    {
      "cell_type": "code",
      "execution_count": null,
      "metadata": {
        "id": "lGYr02WWO993"
      },
      "outputs": [
        {
          "name": "stdout",
          "output_type": "stream",
          "text": [
            "--2023-12-03 14:11:27--  https://gist.githubusercontent.com/bastings/b094de2813da58056a05e8e7950d4ad1/raw/3fbd3976199c2b88de2ae62afc0ecc6f15e6f7ce/glove.840B.300d.sst.txt\n",
            "Resolving gist.githubusercontent.com (gist.githubusercontent.com)... 185.199.110.133, 185.199.111.133, 185.199.109.133, ...\n",
            "Connecting to gist.githubusercontent.com (gist.githubusercontent.com)|185.199.110.133|:443... connected.\n",
            "HTTP request sent, awaiting response... 200 OK\n",
            "Length: 53933315 (51M) [text/plain]\n",
            "Saving to: ‘glove.840B.300d.sst.txt’\n",
            "\n",
            "glove.840B.300d.sst 100%[===================>]  51,43M  9,73MB/s    in 5,3s    \n",
            "\n",
            "2023-12-03 14:11:33 (9,71 MB/s) - ‘glove.840B.300d.sst.txt’ saved [53933315/53933315]\n",
            "\n"
          ]
        }
      ],
      "source": [
        "# This downloads the Glove 840B 300d embeddings.\n",
        "# The original file is at http://nlp.stanford.edu/data/glove.840B.300d.zip\n",
        "# Since that file is 2GB, we provide you with a *filtered version*\n",
        "# which contains all the words you need for this data set.\n",
        "\n",
        "# You only need to do this once.\n",
        "# Please comment this cell out after downloading.\n",
        "\n",
        "!wget https://gist.githubusercontent.com/bastings/b094de2813da58056a05e8e7950d4ad1/raw/3fbd3976199c2b88de2ae62afc0ecc6f15e6f7ce/glove.840B.300d.sst.txt"
      ]
    },
    {
      "cell_type": "code",
      "execution_count": null,
      "metadata": {
        "id": "6NLsgFGiTjmI"
      },
      "outputs": [
        {
          "name": "stdout",
          "output_type": "stream",
          "text": [
            "--2023-12-03 14:11:33--  https://gist.githubusercontent.com/bastings/4d1c346c68969b95f2c34cfbc00ba0a0/raw/76b4fefc9ef635a79d0d8002522543bc53ca2683/googlenews.word2vec.300d.txt\n",
            "Resolving gist.githubusercontent.com (gist.githubusercontent.com)... 185.199.110.133, 185.199.111.133, 185.199.109.133, ...\n",
            "Connecting to gist.githubusercontent.com (gist.githubusercontent.com)|185.199.110.133|:443... connected.\n",
            "HTTP request sent, awaiting response... 200 OK\n",
            "Length: 66209703 (63M) [text/plain]\n",
            "Saving to: ‘googlenews.word2vec.300d.txt’\n",
            "\n",
            "googlenews.word2vec 100%[===================>]  63,14M  8,92MB/s    in 6,8s    \n",
            "\n",
            "2023-12-03 14:11:43 (9,28 MB/s) - ‘googlenews.word2vec.300d.txt’ saved [66209703/66209703]\n",
            "\n"
          ]
        }
      ],
      "source": [
        "# This downloads the word2vec 300D Google News vectors\n",
        "# The file has been truncated to only contain words that appear in our data set.\n",
        "# You can find the original file here: https://code.google.com/archive/p/word2vec/\n",
        "\n",
        "# You only need to do this once.\n",
        "# Please comment this out after downloading.\n",
        "!wget https://gist.githubusercontent.com/bastings/4d1c346c68969b95f2c34cfbc00ba0a0/raw/76b4fefc9ef635a79d0d8002522543bc53ca2683/googlenews.word2vec.300d.txt"
      ]
    },
    {
      "cell_type": "code",
      "execution_count": null,
      "metadata": {
        "cellView": "both",
        "id": "GXBITzPRQUQb"
      },
      "outputs": [],
      "source": [
        "# Mount Google Drive (to save the downloaded files)\n",
        "from google.colab import drive\n",
        "drive.mount('/gdrive')"
      ]
    },
    {
      "cell_type": "code",
      "execution_count": null,
      "metadata": {
        "id": "uFvzPuiKSCbl"
      },
      "outputs": [],
      "source": [
        "# Copy word vectors *to* Google Drive\n",
        "\n",
        "# You only need to do this once.\n",
        "# Please comment this out after running it.\n",
        "!cp \"glove.840B.300d.sst.txt\" \"/gdrive/My Drive/\"\n",
        "!cp \"googlenews.word2vec.300d.txt\" \"/gdrive/My Drive/\""
      ]
    },
    {
      "cell_type": "code",
      "execution_count": null,
      "metadata": {
        "id": "kUMH0bM6BuY9"
      },
      "outputs": [],
      "source": [
        "# If you copied the word vectors to your Drive before,\n",
        "# here is where you copy them back to the Colab notebook.\n",
        "\n",
        "# Copy Glove vectors *from* Google Drive\n",
        "!cp \"/gdrive/My Drive/glove.840B.300d.sst.txt\" .\n",
        "!cp \"/gdrive/My Drive/googlenews.word2vec.300d.txt\" ."
      ]
    },
    {
      "cell_type": "code",
      "execution_count": null,
      "metadata": {
        "id": "xcpkoh6PIjfe"
      },
      "outputs": [],
      "source": [
        "# Uncomment these 2 lines below if went for the OPTIONAL method described above\n",
        "# !cp \"glove.840B.300d.sst.txt\" \"./\"\n",
        "# !cp \"googlenews.word2vec.300d.txt\" \"./\""
      ]
    },
    {
      "cell_type": "markdown",
      "metadata": {
        "id": "MX2GJVHILM8n"
      },
      "source": [
        "At this point you have the pre-trained word embedding files, but what do they look like?"
      ]
    },
    {
      "cell_type": "code",
      "execution_count": null,
      "metadata": {
        "id": "ChsChH14Ruxn"
      },
      "outputs": [
        {
          "name": "stdout",
          "output_type": "stream",
          "text": [
            ", [-0.082752  0.67204  -0.14987  -0.064983  0.056491]\n",
            ". [ 0.012001  0.20751  -0.12578  -0.59325   0.12525 ]\n",
            "the [ 0.27204  -0.06203  -0.1884    0.023225 -0.018158]\n",
            "and [-0.18567   0.066008 -0.25209  -0.11725   0.26513 ]\n",
            "in [0.0703125  0.08691406 0.08789062 0.0625     0.06933594]\n",
            "for [-0.01177978 -0.04736328  0.04467773  0.06347656 -0.01818848]\n",
            "that [-0.01574707 -0.02832031  0.08349609  0.05029297 -0.11035156]\n",
            "is [ 0.00704956 -0.07324219  0.171875    0.02258301 -0.1328125 ]\n",
            "\n",
            "Glove embeddings:\n",
            "\n",
            "Number of words: 20725\n",
            "Embedding dimension: 300\n",
            "------------------------------\n",
            "Google embeddings:\n",
            "\n",
            "Number of words: 18920\n",
            "Embedding dimension: 300\n",
            "\n",
            "Matching words between Glove and Google: 18905\n"
          ]
        }
      ],
      "source": [
        "# Exercise: Print the first 4 lines of the files that you downloaded.\n",
        "# What do you see?\n",
        "\n",
        "glove_embeddings: dict[str, np.ndarray] = {}\n",
        "google_embeddings: dict[str, np.ndarray] = {}\n",
        "\n",
        "with open(\"glove.840B.300d.sst.txt\", mode=\"r\", encoding=\"utf-8\") as f:\n",
        "    glove_embeddings = {line.split()[0]: np.array(line.split()[1:], dtype=np.float64) for line in f}\n",
        "\n",
        "with open(\"googlenews.word2vec.300d.txt\", mode=\"r\", encoding=\"utf-8\") as f:\n",
        "    google_embeddings = {line.split()[0]: np.array(line.split()[1:], dtype=np.float64) for line in f}\n",
        "\n",
        "for i, (k, v) in enumerate(glove_embeddings.items()):\n",
        "    print(k, v[:5])\n",
        "    if i == 3:\n",
        "        break\n",
        "for i, (k, v) in enumerate(google_embeddings.items()):\n",
        "    print(k, v[:5])\n",
        "    if i == 3:\n",
        "        break\n",
        "\n",
        "print()\n",
        "\n",
        "print(\"Glove embeddings:\\n\")\n",
        "print(\"Number of words:\", len(glove_embeddings))\n",
        "print(\"Embedding dimension:\", len(next(iter(glove_embeddings.values()))))\n",
        "\n",
        "print(\"-\" * 30)\n",
        "\n",
        "print(\"Google embeddings:\\n\")\n",
        "print(\"Number of words:\", len(google_embeddings))\n",
        "print(\"Embedding dimension:\", len(next(iter(google_embeddings.values()))))\n",
        "\n",
        "print()\n",
        "print(\"Matching words between Glove and Google:\", len(glove_embeddings.keys() & google_embeddings.keys()))"
      ]
    },
    {
      "cell_type": "markdown",
      "metadata": {
        "id": "WIVCkUkE_IjR"
      },
      "source": [
        "#### Exercise: New Vocabulary\n",
        "\n",
        "Since we now use pre-trained word embeddings, we need to create a new vocabulary.\n",
        "This is because of two reasons:\n",
        "\n",
        "1. We do not have pre-trained word embeddings for all words in our SST training set, and we do not want words in our vocabulary for which we have no word embeddings.\n",
        "2. We should be able to look up the pre-trained word embedding for words in the validation and test set, even if these words are unseen in training.\n",
        "\n",
        "Now, create a new vocabulary object `v` based on the word set of pre-trained embeddings, and load the corresponding embeddings into a list `vectors`.\n",
        "\n",
        "The vocabulary `v` should consist of:\n",
        " - a  `<unk>` token at position 0,\n",
        " - a  `<pad>` token at position 1,\n",
        " - and then all words in the pre-trained embedding set.\n",
        "\n",
        "\n",
        "After storing each vector in a list `vectors`, turn the list into a numpy matrix like this:\n",
        "```python\n",
        " vectors = np.stack(vectors, axis=0)\n",
        "```\n",
        "\n",
        "Remember to add new embeddings for the `<unk>` and `<pad>` tokens, as they're not part of the word2vec/GloVe embeddings. These embeddings can be randomly initialized or 0-valued, think about what makes sense and see what the effects are.\n"
      ]
    },
    {
      "cell_type": "code",
      "execution_count": null,
      "metadata": {
        "id": "ITyyCvDnCL4U"
      },
      "outputs": [
        {
          "data": {
            "text/plain": [
              "(20727, 300)"
            ]
          },
          "execution_count": 146,
          "metadata": {},
          "output_type": "execute_result"
        }
      ],
      "source": [
        "def construct_vocab_embeddings(pretrained_embeddings: Dict[str, np.ndarray]) -> Tuple[Vocabulary, np.ndarray]:\n",
        "    vocab = Vocabulary()\n",
        "    vocab.build()\n",
        "    embedding_dim = len(next(iter(pretrained_embeddings.values())))\n",
        "    pretrained_embeddings_word_size = len(pretrained_embeddings)\n",
        "    embeddings = np.random.normal(0, 1, size=(len(vocab.w2i) + pretrained_embeddings_word_size , embedding_dim))\n",
        "    for _, (word, embedding) in enumerate(pretrained_embeddings.items()):\n",
        "        vocab.add_token(word)\n",
        "        embeddings[vocab.w2i[word]] = embedding\n",
        "    return vocab, embeddings\n",
        "\n",
        "v, vectors = construct_vocab_embeddings(glove_embeddings)\n",
        "\n",
        "vectors.shape"
      ]
    },
    {
      "cell_type": "markdown",
      "metadata": {
        "id": "xC-7mRyYNG9b"
      },
      "source": [
        "#### Exercise: words not in our pre-trained set\n",
        "\n",
        "How many words in the training, dev, and test set are also in your vector set?\n",
        "How many words are not there?\n",
        "\n",
        "Store the words that are not in the word vector set in the set below."
      ]
    },
    {
      "cell_type": "code",
      "execution_count": null,
      "metadata": {
        "id": "K6MA3-wF_X5M"
      },
      "outputs": [
        {
          "name": "stdout",
          "output_type": "stream",
          "text": [
            "Number of unique tokens in train set: 16579\n",
            "Number of tokens in train set that are in Glove: 13454\n",
            "Number of tokens in train set that are in Google: 12206\n",
            "Number of tokens in train set that are not in Glove: 3125\n",
            "Number of tokens in train set that are not in Google: 4373\n",
            "\n",
            "Number of unique tokens in dev set: 5038\n",
            "Number of tokens in dev set that are in Glove: 4328\n",
            "Number of tokens in dev set that are in Google: 4098\n",
            "Number of tokens in dev set that are not in Glove: 710\n",
            "Number of tokens in dev set that are not in Google: 940\n",
            "\n",
            "Number of unique tokens in test set: 7929\n",
            "Number of tokens in test set that are in Glove: 6705\n",
            "Number of tokens in test set that are in Google: 6250\n",
            "Number of tokens in test set that are not in Glove: 1224\n",
            "Number of tokens in test set that are not in Google: 1679\n",
            "\n"
          ]
        }
      ],
      "source": [
        "dataset_tokens: List[Set[str]] = []\n",
        "for data_set in (train_data, dev_data, test_data):\n",
        "    tokens = set()\n",
        "    for ex in data_set:\n",
        "        for token in ex.tokens:\n",
        "            tokens.add(token.lower())\n",
        "    dataset_tokens.append(tokens)\n",
        "\n",
        "for i, tokens in enumerate(dataset_tokens):\n",
        "    print(\"Number of unique tokens in {} set: {}\".format([\"train\", \"dev\", \"test\"][i], len(tokens)))\n",
        "    print(\"Number of tokens in {} set that are in Glove: {}\".format([\"train\", \"dev\", \"test\"][i], len(tokens & glove_embeddings.keys())))\n",
        "    print(\"Number of tokens in {} set that are in Google: {}\".format([\"train\", \"dev\", \"test\"][i], len(tokens & google_embeddings.keys())))\n",
        "    print(\"Number of tokens in {} set that are not in Glove: {}\".format([\"train\", \"dev\", \"test\"][i], len(tokens - glove_embeddings.keys())))\n",
        "    print(\"Number of tokens in {} set that are not in Google: {}\".format([\"train\", \"dev\", \"test\"][i], len(tokens - google_embeddings.keys())))\n",
        "    print()"
      ]
    },
    {
      "cell_type": "markdown",
      "metadata": {
        "id": "BfEd38W0NnAI"
      },
      "source": [
        "#### Exercise: train Deep CBOW with (fixed) pre-trained embeddings\n",
        "\n",
        "Now train Deep CBOW again using the pre-trained word vectors.\n"
      ]
    },
    {
      "cell_type": "code",
      "execution_count": null,
      "metadata": {
        "id": "z_6ooqgEsB20"
      },
      "outputs": [],
      "source": [
        "# We define a new class that inherits from DeepCBOW.\n",
        "class PTDeepCBOW(DeepCBOW):\n",
        "  def __init__(self, vocab_size, embedding_dim, hidden_dim, output_dim, vocab):\n",
        "    super(PTDeepCBOW, self).__init__(\n",
        "        vocab_size, embedding_dim, hidden_dim, output_dim, vocab)"
      ]
    },
    {
      "cell_type": "code",
      "execution_count": null,
      "metadata": {
        "id": "JfIh4Ni6yuAh"
      },
      "outputs": [],
      "source": [
        "# Create a Deep CBOW model with pre-trained embeddings\n",
        "# YOUR CODE HERE\n",
        "# pt_deep_cbow_model = ..\n",
        "\n",
        "# copy pre-trained word vectors into embeddings table\n",
        "pt_deep_cbow_model.embed.weight.data.copy_(torch.from_numpy(vectors))\n",
        "\n",
        "# disable training the pre-trained embeddings\n",
        "pt_deep_cbow_model.embed.weight.requires_grad = False\n",
        "\n",
        "# move model to specified device\n",
        "pt_deep_cbow_model = pt_deep_cbow_model.to(device)\n",
        "\n",
        "# train the model\n",
        "# YOUR CODE HERE"
      ]
    },
    {
      "cell_type": "code",
      "execution_count": null,
      "metadata": {
        "id": "Ufujv3x31ufD"
      },
      "outputs": [],
      "source": [
        "# plot dev accuracies"
      ]
    },
    {
      "cell_type": "code",
      "execution_count": null,
      "metadata": {
        "id": "YTJtKBzd7Qjr"
      },
      "outputs": [],
      "source": [
        "# plot train loss"
      ]
    },
    {
      "cell_type": "markdown",
      "metadata": {
        "id": "yFu8xzCy9XDW"
      },
      "source": [
        "**It looks like we've hit what is possible with just using words.**\n",
        "Let's move on by incorporating word order!"
      ]
    },
    {
      "cell_type": "markdown",
      "metadata": {
        "id": "g41yW4PL9jG0"
      },
      "source": [
        "# LSTM"
      ]
    },
    {
      "cell_type": "markdown",
      "metadata": {
        "id": "ODzXEH0MaGpa"
      },
      "source": [
        "It is time to get more serious. Even with pre-trained word embeddings and multiple layers, we still seem to do pretty badly at sentiment classification.\n",
        "The next step we can take is to introduce word order again, dropping our independence assumptions. In this way, we can get a representation of the sentence as an ordered set of tokens.\n",
        "\n",
        "We will get this representation using a **Long Short-Term Memory** (LSTM). As an exercise, we will code our own LSTM cell, so that we get comfortable with its inner workings.\n",
        "Once we have an LSTM cell, we can call it repeatedly, updating its hidden state one word at a time:\n",
        "\n",
        "```python\n",
        "rnn = MyLSTMCell(input_size, hidden_size)\n",
        "\n",
        "hx = torch.zeros(1, hidden_size)  # initial hidden state\n",
        "cx = torch.zeros(1, hidden_size)  # initial memory cell\n",
        "output = []                       # to save intermediate LSTM states\n",
        "\n",
        "# feed one word at a time\n",
        "for i in range(n_timesteps):\n",
        "  hx, cx = rnn(input[i], (hx, cx))\n",
        "  output.append(hx)\n",
        "```\n",
        "\n",
        "If you need some more help understanding LSTMs, you can check out these resources:\n",
        "- Blog post (highly recommended): http://colah.github.io/posts/2015-08-Understanding-LSTMs/\n",
        "- Paper covering LSTM formulas in detail: https://arxiv.org/abs/1503.04069\n"
      ]
    },
    {
      "cell_type": "markdown",
      "metadata": {
        "id": "v9f4b45BXKFC"
      },
      "source": [
        "#### Exercise: Finish the LSTM cell below.\n",
        "You will need to implement the LSTM formulas:\n",
        "\n",
        "$$\n",
        "\\begin{array}{ll}\n",
        "        i = \\sigma(W_{ii} x + b_{ii} + W_{hi} h + b_{hi}) \\\\\n",
        "        f = \\sigma(W_{if} x + b_{if} + W_{hf} h + b_{hf}) \\\\\n",
        "        g = \\tanh(W_{ig} x + b_{ig} + W_{hg} h + b_{hg}) \\\\\n",
        "        o = \\sigma(W_{io} x + b_{io} + W_{ho} h + b_{ho}) \\\\\n",
        "        c' = f * c + i * g \\\\\n",
        "        h' = o \\tanh(c') \\\\\n",
        "\\end{array}\n",
        " $$\n",
        "\n",
        "where $\\sigma$ is the sigmoid function.\n",
        "\n",
        "*Note that the LSTM formulas can differ slightly between different papers. We use the PyTorch LSTM formulation here.*"
      ]
    },
    {
      "cell_type": "code",
      "execution_count": null,
      "metadata": {
        "id": "zJ9m5kLMd7-v"
      },
      "outputs": [],
      "source": [
        "class MyLSTMCell(nn.Module):\n",
        "  \"\"\"Our own LSTM cell\"\"\"\n",
        "\n",
        "  def __init__(self, input_size, hidden_size, bias=True):\n",
        "    \"\"\"Creates the weights for this LSTM\"\"\"\n",
        "    super(MyLSTMCell, self).__init__()\n",
        "\n",
        "    self.input_size = input_size\n",
        "    self.hidden_size = hidden_size\n",
        "    self.bias = bias\n",
        "\n",
        "    self.xh = torch.nn.Linear(input_size, hidden_size * 4, bias=bias)\n",
        "    self.hh = torch.nn.Linear(hidden_size, hidden_size * 4, bias=bias)\n",
        "\n",
        "    self.reset_parameters()\n",
        "\n",
        "  def reset_parameters(self):\n",
        "    \"\"\"This is PyTorch's default initialization method\"\"\"\n",
        "    stdv = 1.0 / math.sqrt(self.hidden_size)\n",
        "    for weight in self.parameters():\n",
        "      weight.data.uniform_(-stdv, stdv)\n",
        "\n",
        "  def forward(self, input_, hx, mask=None):\n",
        "    \"\"\"\n",
        "    input is (batch, input_size)\n",
        "    hx is ((batch, hidden_size), (batch, hidden_size))\n",
        "    \"\"\"\n",
        "    prev_h, prev_c = hx\n",
        "\n",
        "    gates = self.xh(input_) + self.hh(prev_h)\n",
        "    input_gate, forget_gate, cell_gate, output_gate = gates.chunk(4, 1)\n",
        "\n",
        "    i = torch.sigmoid(input_gate)\n",
        "    f = torch.sigmoid(forget_gate)\n",
        "    g = torch.tanh(cell_gate)\n",
        "    o = torch.sigmoid(output_gate)\n",
        "\n",
        "    c = torch.mul(f, prev_c) + torch.mul(i, g)\n",
        "    h = torch.mul(o, torch.tanh(c))\n",
        "\n",
        "    return h, c\n",
        "\n",
        "  def __repr__(self):\n",
        "    return \"{}({:d}, {:d})\".format(\n",
        "        self.__class__.__name__, self.input_size, self.hidden_size)"
      ]
    },
    {
      "cell_type": "markdown",
      "metadata": {
        "id": "4JM7xPhkQeE5"
      },
      "source": [
        "#### Optional: Efficient Matrix Multiplication\n",
        "\n",
        "It is more efficient to do a few big matrix multiplications than to do many smaller ones. So we will implement the above cell using just **two** linear layers.\n",
        "\n",
        "This is possible because the eight linear transformations contained in one forward pass through an LSTM cell can be reduced to just two:\n",
        "$$W_h h + b_h$$\n",
        "$$W_i x + b_i $$\n",
        "\n",
        "with $h = $ `prev_h` and $x = $ `input_`.\n",
        "\n",
        "and where:\n",
        "\n",
        "$W_h =  \\begin{pmatrix}\n",
        "W_{hi}\\\\\n",
        "W_{hf}\\\\\n",
        "W_{hg}\\\\\n",
        "W_{ho}\n",
        "\\end{pmatrix}$, $b_h = \\begin{pmatrix}\n",
        "b_{hi}\\\\\n",
        "b_{hf}\\\\\n",
        "b_{hg}\\\\\n",
        "b_{ho}\n",
        "\\end{pmatrix}$,  $W_i = \\begin{pmatrix}\n",
        "W_{ii}\\\\\n",
        "W_{if}\\\\\n",
        "W_{ig}\\\\\n",
        "W_{io}\n",
        "\\end{pmatrix}$ and $b_i = \\begin{pmatrix}\n",
        "b_{ii}\\\\\n",
        "b_{if}\\\\\n",
        "b_{ig}\\\\\n",
        "b_{io}\n",
        "\\end{pmatrix}$.\n",
        "\n",
        "Convince yourself that, after chunking with [torch.chunk](https://pytorch.org/docs/stable/torch.html?highlight=chunk#torch.chunk), the output of those two linear transformations is equivalent to the output of the eight linear transformations in the LSTM cell calculations above."
      ]
    },
    {
      "cell_type": "markdown",
      "metadata": {
        "id": "X9gA-UcqSBe0"
      },
      "source": [
        "#### LSTM Classifier\n",
        "\n",
        "Having an LSTM cell is not enough: we still need some code that calls it repeatedly, and then makes a prediction from the final hidden state.\n",
        "You will find that code below. Make sure that you understand it."
      ]
    },
    {
      "cell_type": "code",
      "execution_count": null,
      "metadata": {
        "id": "3iuYZm5poEn5"
      },
      "outputs": [],
      "source": [
        "class LSTMClassifier(nn.Module):\n",
        "  \"\"\"Encodes sentence with an LSTM and projects final hidden state\"\"\"\n",
        "\n",
        "  def __init__(self, vocab_size, embedding_dim, hidden_dim, output_dim, vocab):\n",
        "    super(LSTMClassifier, self).__init__()\n",
        "    self.vocab = vocab\n",
        "    self.hidden_dim = hidden_dim\n",
        "    self.embed = nn.Embedding(vocab_size, embedding_dim, padding_idx=1)\n",
        "    self.rnn = MyLSTMCell(embedding_dim, hidden_dim)\n",
        "\n",
        "    self.output_layer = nn.Sequential(\n",
        "        nn.Dropout(p=0.5),  # explained later\n",
        "        nn.Linear(hidden_dim, output_dim)\n",
        "    )\n",
        "\n",
        "  def forward(self, x):\n",
        "\n",
        "    B = x.size(0)  # batch size (this is 1 for now, i.e. 1 single example)\n",
        "    T = x.size(1)  # timesteps (the number of words in the sentence)\n",
        "\n",
        "    input_ = self.embed(x)\n",
        "\n",
        "    # here we create initial hidden states containing zeros\n",
        "    # we use a trick here so that, if input is on the GPU, then so are hx and cx\n",
        "    hx = input_.new_zeros(B, self.rnn.hidden_size)\n",
        "    cx = input_.new_zeros(B, self.rnn.hidden_size)\n",
        "\n",
        "    # process input sentences one word/timestep at a time\n",
        "    # input is batch-major (i.e., batch size is the first dimension)\n",
        "    # so the first word(s) is (are) input_[:, 0]\n",
        "    outputs = []\n",
        "    for i in range(T):\n",
        "      hx, cx = self.rnn(input_[:, i], (hx, cx))\n",
        "      outputs.append(hx)\n",
        "\n",
        "    # if we have a single example, our final LSTM state is the last hx\n",
        "    if B == 1:\n",
        "      final = hx\n",
        "    else:\n",
        "      #\n",
        "      # This part is explained in next section, ignore this else-block for now.\n",
        "      #\n",
        "      # We processed sentences with different lengths, so some of the sentences\n",
        "      # had already finished and we have been adding padding inputs to hx.\n",
        "      # We select the final state based on the length of each sentence.\n",
        "\n",
        "      # two lines below not needed if using LSTM from pytorch\n",
        "      outputs = torch.stack(outputs, dim=0)           # [T, B, D]\n",
        "      outputs = outputs.transpose(0, 1).contiguous()  # [B, T, D]\n",
        "\n",
        "      # to be super-sure we're not accidentally indexing the wrong state\n",
        "      # we zero out positions that are invalid\n",
        "      pad_positions = (x == 1).unsqueeze(-1)\n",
        "\n",
        "      outputs = outputs.contiguous()\n",
        "      outputs = outputs.masked_fill_(pad_positions, 0.)\n",
        "\n",
        "      mask = (x != 1)  # true for valid positions [B, T]\n",
        "      lengths = mask.sum(dim=1)                 # [B, 1]\n",
        "\n",
        "      indexes = (lengths - 1) + torch.arange(B, device=x.device, dtype=x.dtype) * T\n",
        "      final = outputs.view(-1, self.hidden_dim)[indexes]  # [B, D]\n",
        "\n",
        "    # we use the last hidden state to classify the sentence\n",
        "    logits = self.output_layer(final)\n",
        "    return logits"
      ]
    },
    {
      "cell_type": "markdown",
      "metadata": {
        "id": "FxFoVpvMPB6g"
      },
      "source": [
        "#### Dropout\n",
        "\n",
        "Data sparsity and a small data set can cause *overfitting*. This is a phenomenom that is very likely to occur when training strong and expressive models, like LSTMs, on small data. In practice, if your model overfits, this means that it will be very good at predicting (or \"remembering\") the sentiment of the training set, but unable to generalise to new, unseen data in the test set. This is undesirable and one technique to mitigate this issue is *dropout*.\n",
        "\n",
        "A dropout layer is defined by the following formula, which can be applied, for example, to a linear layer:\n",
        "\n",
        "$$\\text{tanh}(W(\\mathbf{h}\\odot \\mathbf{d}) + \\mathbf{b})$$\n",
        "\n",
        "where $\\mathbf{d} \\in \\{0, 1\\}^n$, with $d_j \\sim \\text{Bernoulli}(p)$,\n",
        "\n",
        "These formula simply means that we *drop* certain parameters during training (by setting them to zero). Which parameters we drop is stochastically determined by a Bernoulli distribution and the probability of each parameter being dropped is set to $p = 0.5$ in our experiments (see the previous cell of code where we define our output layer). A dropout layer can be applied at many different places in our models. This technique helps against the undesirable effect that a model relies on single parameters for prediction (e.g. if $h^{\\prime}_j$ is large, always predict positive). If we use dropout, the model needs to learn to rely on different parameters, which is desirable to obtain better generalisation to unseen data."
      ]
    },
    {
      "cell_type": "markdown",
      "metadata": {
        "id": "XQjEjLt9z0XW"
      },
      "source": [
        "**Let's train our LSTM!** Note that is will be a lot slower than previous models because we need to do many more computations per sentence.\n",
        "\n",
        "#### Training"
      ]
    },
    {
      "cell_type": "code",
      "execution_count": null,
      "metadata": {
        "id": "LgZoSPD4fsf_"
      },
      "outputs": [
        {
          "name": "stdout",
          "output_type": "stream",
          "text": [
            "LSTMClassifier(\n",
            "  (embed): Embedding(20727, 300, padding_idx=1)\n",
            "  (rnn): MyLSTMCell(300, 168)\n",
            "  (output_layer): Sequential(\n",
            "    (0): Dropout(p=0.5, inplace=False)\n",
            "    (1): Linear(in_features=168, out_features=5, bias=True)\n",
            "  )\n",
            ")\n",
            "embed.weight             [20727, 300] requires_grad=False\n",
            "rnn.xh.weight            [672, 300]   requires_grad=True\n",
            "rnn.xh.bias              [672]        requires_grad=True\n",
            "rnn.hh.weight            [672, 168]   requires_grad=True\n",
            "rnn.hh.bias              [672]        requires_grad=True\n",
            "output_layer.1.weight    [5, 168]     requires_grad=True\n",
            "output_layer.1.bias      [5]          requires_grad=True\n",
            "\n",
            "Total number of parameters: 6534785\n",
            "\n",
            "Shuffling training data\n",
            "Iter 250: loss=397.8467, time=1.44s\n",
            "Iter 500: loss=397.0886, time=2.86s\n",
            "Iter 750: loss=384.1328, time=4.27s\n",
            "Iter 1000: loss=374.6146, time=5.65s\n",
            "iter 1000: dev acc=0.3669\n",
            "new highscore\n",
            "Iter 1250: loss=374.9285, time=8.47s\n",
            "Iter 1500: loss=351.7581, time=9.90s\n",
            "Iter 1750: loss=358.2772, time=11.20s\n",
            "Iter 2000: loss=364.2737, time=12.68s\n",
            "iter 2000: dev acc=0.3860\n",
            "new highscore\n",
            "Iter 2250: loss=350.2230, time=15.55s\n",
            "Iter 2500: loss=365.9717, time=17.04s\n",
            "Iter 2750: loss=343.8287, time=18.54s\n",
            "Iter 3000: loss=339.2372, time=19.83s\n",
            "iter 3000: dev acc=0.3833\n",
            "Iter 3250: loss=357.0379, time=22.62s\n",
            "Iter 3500: loss=356.9943, time=23.97s\n",
            "Iter 3750: loss=358.8053, time=25.30s\n",
            "Iter 4000: loss=352.2537, time=26.66s\n",
            "iter 4000: dev acc=0.3760\n",
            "Iter 4250: loss=347.4981, time=29.44s\n",
            "Iter 4500: loss=330.5766, time=30.83s\n",
            "Iter 4750: loss=333.0280, time=32.17s\n",
            "Iter 5000: loss=325.4435, time=33.51s\n",
            "iter 5000: dev acc=0.3942\n",
            "new highscore\n",
            "Iter 5250: loss=341.3635, time=36.18s\n",
            "Iter 5500: loss=334.3723, time=37.58s\n",
            "Iter 5750: loss=327.0162, time=38.94s\n",
            "Iter 6000: loss=333.9835, time=40.38s\n",
            "iter 6000: dev acc=0.4160\n",
            "new highscore\n",
            "Iter 6250: loss=321.4251, time=43.10s\n",
            "Iter 6500: loss=336.6828, time=44.85s\n",
            "Iter 6750: loss=322.5916, time=46.53s\n",
            "Iter 7000: loss=342.9784, time=47.89s\n",
            "iter 7000: dev acc=0.4323\n",
            "new highscore\n",
            "Iter 7250: loss=310.9615, time=50.68s\n",
            "Iter 7500: loss=335.7146, time=52.12s\n",
            "Iter 7750: loss=336.7596, time=53.66s\n",
            "Iter 8000: loss=329.1368, time=55.09s\n",
            "iter 8000: dev acc=0.4233\n",
            "Iter 8250: loss=322.2390, time=57.96s\n",
            "Iter 8500: loss=337.7632, time=59.34s\n",
            "Shuffling training data\n",
            "Iter 8750: loss=311.0890, time=60.78s\n",
            "Iter 9000: loss=312.3231, time=62.23s\n",
            "iter 9000: dev acc=0.4078\n",
            "Iter 9250: loss=317.5805, time=64.98s\n",
            "Iter 9500: loss=318.7433, time=66.36s\n",
            "Iter 9750: loss=303.1579, time=67.74s\n",
            "Iter 10000: loss=325.9821, time=69.15s\n",
            "iter 10000: dev acc=0.4342\n",
            "new highscore\n",
            "Iter 10250: loss=324.3203, time=72.05s\n",
            "Iter 10500: loss=313.6184, time=73.54s\n",
            "Iter 10750: loss=317.9193, time=75.00s\n",
            "Iter 11000: loss=318.2824, time=76.37s\n",
            "iter 11000: dev acc=0.3996\n",
            "Iter 11250: loss=311.9812, time=79.18s\n",
            "Iter 11500: loss=301.5156, time=80.69s\n",
            "Iter 11750: loss=344.4071, time=82.10s\n",
            "Iter 12000: loss=306.2241, time=83.48s\n",
            "iter 12000: dev acc=0.4242\n",
            "Iter 12250: loss=309.2814, time=86.25s\n",
            "Iter 12500: loss=332.4140, time=87.64s\n",
            "Iter 12750: loss=315.6309, time=89.05s\n",
            "Iter 13000: loss=336.6748, time=90.37s\n",
            "iter 13000: dev acc=0.4314\n",
            "Iter 13250: loss=312.1851, time=93.14s\n",
            "Iter 13500: loss=306.7177, time=94.55s\n",
            "Iter 13750: loss=309.7806, time=95.93s\n",
            "Iter 14000: loss=311.3685, time=97.27s\n",
            "iter 14000: dev acc=0.4242\n",
            "Iter 14250: loss=297.4491, time=99.94s\n",
            "Iter 14500: loss=320.8727, time=101.26s\n",
            "Iter 14750: loss=331.7090, time=102.70s\n",
            "Iter 15000: loss=313.5548, time=104.04s\n",
            "iter 15000: dev acc=0.4332\n",
            "Iter 15250: loss=307.7314, time=106.81s\n",
            "Iter 15500: loss=306.0057, time=108.28s\n",
            "Iter 15750: loss=294.7218, time=109.67s\n",
            "Iter 16000: loss=294.6078, time=111.08s\n",
            "iter 16000: dev acc=0.4205\n",
            "Iter 16250: loss=318.3625, time=113.87s\n",
            "Iter 16500: loss=304.3758, time=115.23s\n",
            "Iter 16750: loss=320.8176, time=116.64s\n",
            "Iter 17000: loss=322.7906, time=118.09s\n",
            "iter 17000: dev acc=0.4305\n",
            "Shuffling training data\n",
            "Iter 17250: loss=306.8447, time=120.88s\n",
            "Iter 17500: loss=296.8769, time=122.33s\n",
            "Iter 17750: loss=284.1045, time=123.73s\n",
            "Iter 18000: loss=289.0340, time=125.12s\n",
            "iter 18000: dev acc=0.4305\n",
            "Iter 18250: loss=304.9277, time=127.86s\n",
            "Iter 18500: loss=294.8456, time=129.30s\n",
            "Iter 18750: loss=290.0535, time=130.71s\n",
            "Iter 19000: loss=290.8032, time=132.07s\n",
            "iter 19000: dev acc=0.4423\n",
            "new highscore\n",
            "Iter 19250: loss=285.3509, time=134.75s\n",
            "Iter 19500: loss=306.0088, time=136.12s\n",
            "Iter 19750: loss=276.3323, time=137.44s\n",
            "Iter 20000: loss=295.4696, time=138.80s\n",
            "iter 20000: dev acc=0.4369\n",
            "Iter 20250: loss=285.3998, time=141.78s\n",
            "Iter 20500: loss=279.8510, time=143.22s\n",
            "Iter 20750: loss=308.8703, time=144.62s\n",
            "Iter 21000: loss=301.5960, time=146.08s\n",
            "iter 21000: dev acc=0.4269\n",
            "Iter 21250: loss=301.1788, time=148.86s\n",
            "Iter 21500: loss=292.2499, time=150.24s\n",
            "Iter 21750: loss=308.4556, time=151.60s\n",
            "Iter 22000: loss=277.4419, time=152.91s\n",
            "iter 22000: dev acc=0.4342\n",
            "Iter 22250: loss=303.2571, time=155.65s\n",
            "Iter 22500: loss=324.3745, time=157.11s\n",
            "Iter 22750: loss=294.9880, time=158.43s\n",
            "Iter 23000: loss=292.6292, time=159.83s\n",
            "iter 23000: dev acc=0.4432\n",
            "new highscore\n",
            "Iter 23250: loss=281.1489, time=162.52s\n",
            "Iter 23500: loss=287.3969, time=163.92s\n",
            "Iter 23750: loss=307.8903, time=165.34s\n",
            "Iter 24000: loss=305.4572, time=166.73s\n",
            "iter 24000: dev acc=0.4405\n",
            "Iter 24250: loss=301.1255, time=169.37s\n",
            "Iter 24500: loss=304.5449, time=170.70s\n",
            "Iter 24750: loss=297.6597, time=172.03s\n",
            "Iter 25000: loss=287.5536, time=173.38s\n",
            "iter 25000: dev acc=0.4514\n",
            "new highscore\n",
            "Done training\n",
            "Loading best model\n",
            "best model iter 25000: train acc=0.5302, dev acc=0.4514, test acc=0.4520\n"
          ]
        }
      ],
      "source": [
        "lstm_model = LSTMClassifier(len(v.w2i), 300, 168, len(t2i), v)\n",
        "\n",
        "# copy pre-trained word vectors into embeddings table\n",
        "with torch.no_grad():\n",
        "  lstm_model.embed.weight.data.copy_(torch.from_numpy(vectors))\n",
        "  lstm_model.embed.weight.requires_grad = False\n",
        "\n",
        "print(lstm_model)\n",
        "print_parameters(lstm_model)\n",
        "\n",
        "lstm_model = lstm_model.to(device)\n",
        "optimizer = optim.Adam(lstm_model.parameters(), lr=3e-4)\n",
        "\n",
        "lstm_losses, lstm_accuracies = train_model(\n",
        "    lstm_model, optimizer, num_iterations=25000,\n",
        "    print_every=250, eval_every=1000)"
      ]
    },
    {
      "cell_type": "code",
      "execution_count": null,
      "metadata": {
        "id": "2BKVnyg0Hq5E"
      },
      "outputs": [
        {
          "data": {
            "text/plain": [
              "Text(0.5, 1.0, 'Validation Accuracy of LSTM')"
            ]
          },
          "execution_count": 154,
          "metadata": {},
          "output_type": "execute_result"
        },
        {
          "data": {
            "image/png": "[encoded data removed]",
            "text/plain": [
              "<Figure size 640x480 with 1 Axes>"
            ]
          },
          "metadata": {},
          "output_type": "display_data"
        }
      ],
      "source": [
        "# plot validation accuracy\n",
        "\n",
        "plt.plot([i*100 for i in lstm_accuracies])\n",
        "plt.xlabel(\"Iteration\")\n",
        "plt.ylabel(\"Accuracy\")\n",
        "plt.title(\"Validation Accuracy of LSTM\")"
      ]
    },
    {
      "cell_type": "code",
      "execution_count": null,
      "metadata": {
        "id": "ZowTV0EBTb3z"
      },
      "outputs": [
        {
          "data": {
            "text/plain": [
              "Text(0.5, 1.0, 'Training Loss of LSTM')"
            ]
          },
          "execution_count": 155,
          "metadata": {},
          "output_type": "execute_result"
        },
        {
          "data": {
            "image/png": "[encoded data removed]",
            "text/plain": [
              "<Figure size 640x480 with 1 Axes>"
            ]
          },
          "metadata": {},
          "output_type": "display_data"
        }
      ],
      "source": [
        "# plot training loss\n",
        "plt.plot(lstm_losses)\n",
        "plt.xlabel(\"Step\")\n",
        "plt.ylabel(\"Loss\")\n",
        "plt.title(\"Training Loss of LSTM\")"
      ]
    },
    {
      "cell_type": "markdown",
      "metadata": {
        "id": "YEw6XHQY_AAQ"
      },
      "source": [
        "# Mini-batching\n",
        "\n"
      ]
    },
    {
      "cell_type": "markdown",
      "metadata": {
        "id": "FPf96wGzBTQJ"
      },
      "source": [
        "**Why is the LSTM so slow?** Despite our best efforts, we still need to make a lot of matrix multiplications per example (linear in the length of the example) just to get a single classification, and we can only process the 2nd word once we have computed the hidden state for the 1st word (sequential computation).\n",
        "\n",
        "GPUs are more efficient if we do a few big matrix multiplications, rather than lots of small ones. If we could process multiple examples at the same time, then we could exploit that. That is, we could still process the input sequentially, but doing so for multiple sentences at the same time.\n",
        "\n",
        "Up to now our \"mini-batches\" consisted of a single example. This was for a reason: the sentences in our data sets have **different lengths**, and this makes it difficult to process them at the same time.\n",
        "\n",
        "Consider a batch of 2 sentences:\n",
        "\n",
        "```\n",
        "this movie is bad\n",
        "this movie is super cool !\n",
        "```\n",
        "\n",
        "Let's say the IDs for these sentences are:\n",
        "\n",
        "```\n",
        "2 3 4 5\n",
        "2 3 4 6 7 8\n",
        "```\n",
        "\n",
        "We cannot feed PyTorch an object with rows of variable length! We need to turn this into a matrix.\n",
        "\n",
        "The solution is to add **padding values** to our mini-batch:\n",
        "\n",
        "```\n",
        "2 3 4 5 1 1\n",
        "2 3 4 6 7 8\n",
        "```\n",
        "\n",
        "Whenever a sentence is shorter than the longest sentence in a mini-batch, we just use a padding value (here: 1) to fill the matrix.\n",
        "\n",
        "In our computation, we should **ignore** the padding positions (e.g. mask them out) so that paddings do not contribute to the loss.\n",
        "\n",
        "#### Mini-batch feed\n",
        "We will now implement a `get_minibatch` function which will replace `get_example` and returns a mini-batch of the requested size."
      ]
    },
    {
      "cell_type": "code",
      "execution_count": null,
      "metadata": {
        "id": "IoAE2JBiXJ3P"
      },
      "outputs": [],
      "source": [
        "def get_minibatch(data, batch_size=25, shuffle=True):\n",
        "  \"\"\"Return minibatches, optional shuffling\"\"\"\n",
        "\n",
        "  if shuffle:\n",
        "    print(\"Shuffling training data\")\n",
        "    random.shuffle(data)  # shuffle training data each epoch\n",
        "\n",
        "  batch = []\n",
        "\n",
        "  # yield minibatches\n",
        "  for example in data:\n",
        "    batch.append(example)\n",
        "\n",
        "    if len(batch) == batch_size:\n",
        "      yield batch\n",
        "      batch = []\n",
        "\n",
        "  # in case there is something left\n",
        "  if len(batch) > 0:\n",
        "    yield batch"
      ]
    },
    {
      "cell_type": "markdown",
      "metadata": {
        "id": "DwZM-XYkT8Zx"
      },
      "source": [
        "#### Padding function\n",
        "We will need a function that adds padding 1s to a sequence of IDs so that\n",
        "it becomes as long as the longest sequence in the minibatch."
      ]
    },
    {
      "cell_type": "code",
      "execution_count": null,
      "metadata": {
        "id": "sp0sK1ghw4Ft"
      },
      "outputs": [
        {
          "data": {
            "text/plain": [
              "[2, 3, 4, 1, 1]"
            ]
          },
          "execution_count": 157,
          "metadata": {},
          "output_type": "execute_result"
        }
      ],
      "source": [
        "def pad(tokens, length, pad_value=1):\n",
        "  \"\"\"add padding 1s to a sequence to that it has the desired length\"\"\"\n",
        "  return tokens + [pad_value] * (length - len(tokens))\n",
        "\n",
        "# example\n",
        "tokens = [2, 3, 4]\n",
        "pad(tokens, 5)"
      ]
    },
    {
      "cell_type": "markdown",
      "metadata": {
        "id": "SL2iixMYUgfh"
      },
      "source": [
        "#### New `prepare` function\n",
        "\n",
        "We will also need a new function that turns a mini-batch into PyTorch tensors."
      ]
    },
    {
      "cell_type": "code",
      "execution_count": null,
      "metadata": {
        "id": "ZID0cqozWks8"
      },
      "outputs": [],
      "source": [
        "def prepare_minibatch(mb, vocab):\n",
        "  \"\"\"\n",
        "  Minibatch is a list of examples.\n",
        "  This function converts words to IDs and returns\n",
        "  torch tensors to be used as input/targets.\n",
        "  \"\"\"\n",
        "  batch_size = len(mb)\n",
        "  maxlen = max([len(ex.tokens) for ex in mb])\n",
        "\n",
        "  # vocab returns 0 if the word is not there\n",
        "  x = [pad([vocab.w2i.get(t, 0) for t in ex.tokens], maxlen) for ex in mb]\n",
        "\n",
        "  x = torch.LongTensor(x)\n",
        "  x = x.to(device)\n",
        "\n",
        "  y = [ex.label for ex in mb]\n",
        "  y = torch.LongTensor(y)\n",
        "  y = y.to(device)\n",
        "\n",
        "  return x, y"
      ]
    },
    {
      "cell_type": "code",
      "execution_count": null,
      "metadata": {
        "id": "OwDAtCv1x2hB"
      },
      "outputs": [
        {
          "name": "stdout",
          "output_type": "stream",
          "text": [
            "Example(tokens=['A', 'mean-spirited', 'film', 'made', 'by', 'someone', 'who', 'surely', 'read', 'The', 'Catcher', 'in', 'the', 'Rye', 'but', 'clearly', 'suffers', 'from', 'dyslexia'], tree=Tree('0', [Tree('1', [Tree('2', ['A']), Tree('0', [Tree('1', ['mean-spirited']), Tree('2', ['film'])])]), Tree('2', [Tree('2', ['made']), Tree('2', [Tree('2', ['by']), Tree('1', [Tree('2', ['someone']), Tree('1', [Tree('2', ['who']), Tree('1', [Tree('2', ['surely']), Tree('2', [Tree('2', [Tree('2', [Tree('2', [Tree('2', ['read']), Tree('2', [Tree('2', ['The']), Tree('2', ['Catcher'])])]), Tree('2', [Tree('2', ['in']), Tree('2', [Tree('2', ['the']), Tree('2', ['Rye'])])])]), Tree('2', ['but'])]), Tree('2', [Tree('2', ['clearly']), Tree('2', [Tree('2', ['suffers']), Tree('2', [Tree('2', ['from']), Tree('2', ['dyslexia'])])])])])])])])])])]), label=0, transitions=[0, 0, 0, 1, 1, 0, 0, 0, 0, 0, 0, 0, 0, 1, 1, 0, 0, 0, 1, 1, 1, 0, 1, 0, 0, 0, 0, 1, 1, 1, 1, 1, 1, 1, 1, 1, 1])\n",
            "Example(tokens=['Ca', \"n't\", 'get', 'enough', 'of', 'libidinous', 'young', 'city', 'dwellers', '?'], tree=Tree('2', [Tree('3', [Tree('2', [Tree('2', ['Ca']), Tree('2', [\"n't\"])]), Tree('2', [Tree('2', ['get']), Tree('1', [Tree('2', ['enough']), Tree('2', [Tree('2', ['of']), Tree('2', [Tree('2', ['libidinous']), Tree('2', [Tree('2', ['young']), Tree('2', [Tree('2', ['city']), Tree('2', ['dwellers'])])])])])])])]), Tree('2', ['?'])]), label=2, transitions=[0, 0, 1, 0, 0, 0, 0, 0, 0, 0, 1, 1, 1, 1, 1, 1, 1, 0, 1])\n",
            "Example(tokens=['Its', 'screenplay', 'serves', 'as', 'auto-critique', ',', 'and', 'its', 'clumsiness', 'as', 'its', 'own', 'most', 'damning', 'censure', '.'], tree=Tree('1', [Tree('2', [Tree('2', ['Its']), Tree('2', ['screenplay'])]), Tree('1', [Tree('1', [Tree('2', [Tree('2', [Tree('2', [Tree('2', ['serves']), Tree('2', [Tree('2', ['as']), Tree('1', ['auto-critique'])])]), Tree('2', [','])]), Tree('2', ['and'])]), Tree('0', [Tree('1', [Tree('2', ['its']), Tree('1', ['clumsiness'])]), Tree('1', [Tree('2', ['as']), Tree('1', [Tree('2', ['its']), Tree('0', [Tree('2', ['own']), Tree('1', [Tree('1', [Tree('2', ['most']), Tree('2', ['damning'])]), Tree('2', ['censure'])])])])])])]), Tree('2', ['.'])])]), label=1, transitions=[0, 0, 1, 0, 0, 0, 1, 1, 0, 1, 0, 1, 0, 0, 1, 0, 0, 0, 0, 0, 1, 0, 1, 1, 1, 1, 1, 1, 0, 1, 1])\n"
          ]
        }
      ],
      "source": [
        "# Let's test our new function.\n",
        "# This should give us 3 examples.\n",
        "mb = next(get_minibatch(train_data, batch_size=3, shuffle=False))\n",
        "for ex in mb:\n",
        "  print(ex)"
      ]
    },
    {
      "cell_type": "code",
      "execution_count": null,
      "metadata": {
        "id": "dg8zEK8zyUCH"
      },
      "outputs": [
        {
          "name": "stdout",
          "output_type": "stream",
          "text": [
            "x tensor([[   77, 15604,   606,   164,    25,   423,    72,  3627,   282,    23,\n",
            "         11275,     9,     4, 10123,    43,  1745,  7643,    30, 13568],\n",
            "        [ 2522,    41,    84,   346,     7, 18826,   544,   446, 12519,    38,\n",
            "             1,     1,     1,     1,     1,     1,     1,     1,     1],\n",
            "        [ 1268,  9732,  3064,    29,     0,     2,     5,   102, 17191,    29,\n",
            "           102,   200,   118, 13288, 14239,     3,     1,     1,     1]])\n",
            "y tensor([0, 2, 1])\n"
          ]
        }
      ],
      "source": [
        "# We should find padding 1s at the end\n",
        "x, y = prepare_minibatch(mb, v)\n",
        "print(\"x\", x)\n",
        "print(\"y\", y)"
      ]
    },
    {
      "cell_type": "markdown",
      "metadata": {
        "id": "xYBJEoSNUwI0"
      },
      "source": [
        "#### Evaluate (mini-batch version)\n",
        "\n",
        "We can now update our evaluation function to use mini-batches"
      ]
    },
    {
      "cell_type": "code",
      "execution_count": null,
      "metadata": {
        "id": "eiZZpEghzqou"
      },
      "outputs": [],
      "source": [
        "def evaluate(model, data,\n",
        "            batch_fn=get_minibatch, prep_fn=prepare_minibatch,\n",
        "            batch_size=16):\n",
        "  \"\"\"Accuracy of a model on given data set (using mini-batches)\"\"\"\n",
        "  correct = 0\n",
        "  total = 0\n",
        "  model.eval()  # disable dropout\n",
        "\n",
        "  for mb in batch_fn(data, batch_size=batch_size, shuffle=False):\n",
        "    x, targets = prep_fn(mb, model.vocab)\n",
        "    with torch.no_grad():\n",
        "      logits = model(x)\n",
        "\n",
        "    predictions = logits.argmax(dim=-1).view(-1)\n",
        "\n",
        "    # add the number of correct predictions to the total correct\n",
        "    correct += (predictions == targets.view(-1)).sum().item()\n",
        "    total += targets.size(0)\n",
        "\n",
        "  return correct, total, correct / float(total)"
      ]
    },
    {
      "cell_type": "markdown",
      "metadata": {
        "id": "23wAZomozh_2"
      },
      "source": [
        "# LSTM (Mini-batched)"
      ]
    },
    {
      "cell_type": "markdown",
      "metadata": {
        "id": "B-gkPU7jzBe2"
      },
      "source": [
        "With this, let's run the LSTM again but now using mini-batches!"
      ]
    },
    {
      "cell_type": "code",
      "execution_count": null,
      "metadata": {
        "id": "226Xg9OPzFbA"
      },
      "outputs": [
        {
          "name": "stdout",
          "output_type": "stream",
          "text": [
            "LSTMClassifier(\n",
            "  (embed): Embedding(20727, 300, padding_idx=1)\n",
            "  (rnn): MyLSTMCell(300, 168)\n",
            "  (output_layer): Sequential(\n",
            "    (0): Dropout(p=0.5, inplace=False)\n",
            "    (1): Linear(in_features=168, out_features=5, bias=True)\n",
            "  )\n",
            ")\n",
            "embed.weight             [20727, 300] requires_grad=False\n",
            "rnn.xh.weight            [672, 300]   requires_grad=True\n",
            "rnn.xh.bias              [672]        requires_grad=True\n",
            "rnn.hh.weight            [672, 168]   requires_grad=True\n",
            "rnn.hh.bias              [672]        requires_grad=True\n",
            "output_layer.1.weight    [5, 168]     requires_grad=True\n",
            "output_layer.1.bias      [5]          requires_grad=True\n",
            "\n",
            "Total number of parameters: 6534785\n",
            "\n",
            "Shuffling training data\n",
            "Iter 250: loss=382.5187, time=5.07s\n",
            "iter 250: dev acc=0.3815\n",
            "new highscore\n",
            "Shuffling training data\n",
            "Iter 500: loss=343.4316, time=10.87s\n",
            "iter 500: dev acc=0.3833\n",
            "new highscore\n",
            "Shuffling training data\n",
            "Iter 750: loss=324.9710, time=16.57s\n",
            "iter 750: dev acc=0.4278\n",
            "new highscore\n",
            "Iter 1000: loss=321.1085, time=21.57s\n",
            "iter 1000: dev acc=0.4196\n",
            "Shuffling training data\n",
            "Iter 1250: loss=313.7204, time=26.70s\n",
            "iter 1250: dev acc=0.4369\n",
            "new highscore\n",
            "Shuffling training data\n",
            "Iter 1500: loss=308.3195, time=31.53s\n",
            "iter 1500: dev acc=0.4414\n",
            "new highscore\n",
            "Shuffling training data\n",
            "Iter 1750: loss=305.6676, time=36.72s\n",
            "iter 1750: dev acc=0.4469\n",
            "new highscore\n",
            "Iter 2000: loss=298.9380, time=42.39s\n",
            "iter 2000: dev acc=0.4287\n",
            "Shuffling training data\n",
            "Iter 2250: loss=295.7879, time=47.57s\n",
            "iter 2250: dev acc=0.4523\n",
            "new highscore\n",
            "Shuffling training data\n",
            "Iter 2500: loss=293.5220, time=52.79s\n",
            "iter 2500: dev acc=0.4305\n",
            "Shuffling training data\n",
            "Iter 2750: loss=292.5809, time=57.62s\n",
            "iter 2750: dev acc=0.4505\n",
            "Iter 3000: loss=284.0828, time=62.48s\n",
            "iter 3000: dev acc=0.4496\n",
            "Shuffling training data\n",
            "Iter 3250: loss=284.6566, time=67.35s\n",
            "iter 3250: dev acc=0.4605\n",
            "new highscore\n",
            "Shuffling training data\n",
            "Iter 3500: loss=278.3217, time=72.21s\n",
            "iter 3500: dev acc=0.4623\n",
            "new highscore\n",
            "Iter 3750: loss=276.0214, time=77.68s\n",
            "iter 3750: dev acc=0.4550\n",
            "Shuffling training data\n",
            "Iter 4000: loss=268.8945, time=82.95s\n",
            "iter 4000: dev acc=0.4532\n",
            "Shuffling training data\n",
            "Iter 4250: loss=265.3591, time=88.17s\n",
            "iter 4250: dev acc=0.4596\n",
            "Shuffling training data\n",
            "Iter 4500: loss=261.8826, time=94.05s\n",
            "iter 4500: dev acc=0.4541\n",
            "Iter 4750: loss=256.0347, time=100.03s\n",
            "iter 4750: dev acc=0.4532\n",
            "Shuffling training data\n",
            "Iter 5000: loss=244.4300, time=105.46s\n",
            "iter 5000: dev acc=0.4587\n",
            "Shuffling training data\n",
            "Iter 5250: loss=244.9884, time=111.10s\n",
            "iter 5250: dev acc=0.4441\n",
            "Shuffling training data\n",
            "Iter 5500: loss=238.1715, time=116.29s\n",
            "iter 5500: dev acc=0.4378\n",
            "Iter 5750: loss=231.1298, time=121.42s\n",
            "iter 5750: dev acc=0.4351\n",
            "Shuffling training data\n",
            "Iter 6000: loss=222.3688, time=126.29s\n",
            "iter 6000: dev acc=0.4396\n",
            "Shuffling training data\n",
            "Iter 6250: loss=222.0626, time=131.15s\n",
            "iter 6250: dev acc=0.4360\n",
            "Shuffling training data\n",
            "Iter 6500: loss=211.2678, time=136.01s\n",
            "iter 6500: dev acc=0.4351\n",
            "Iter 6750: loss=201.8301, time=140.80s\n",
            "iter 6750: dev acc=0.4387\n",
            "Shuffling training data\n",
            "Iter 7000: loss=200.0578, time=145.68s\n",
            "iter 7000: dev acc=0.4342\n",
            "Shuffling training data\n",
            "Iter 7250: loss=189.3142, time=150.53s\n",
            "iter 7250: dev acc=0.4314\n",
            "Iter 7500: loss=184.2215, time=155.41s\n",
            "iter 7500: dev acc=0.4278\n",
            "Shuffling training data\n",
            "Iter 7750: loss=174.3091, time=160.26s\n",
            "iter 7750: dev acc=0.4087\n",
            "Shuffling training data\n",
            "Iter 8000: loss=169.7720, time=165.11s\n",
            "iter 8000: dev acc=0.4260\n",
            "Shuffling training data\n",
            "Iter 8250: loss=163.0296, time=169.98s\n",
            "iter 8250: dev acc=0.4242\n",
            "Iter 8500: loss=152.6933, time=174.80s\n",
            "iter 8500: dev acc=0.4305\n",
            "Shuffling training data\n",
            "Iter 8750: loss=149.5688, time=179.74s\n",
            "iter 8750: dev acc=0.4323\n",
            "Shuffling training data\n",
            "Iter 9000: loss=138.5282, time=185.14s\n",
            "iter 9000: dev acc=0.4323\n",
            "Shuffling training data\n",
            "Iter 9250: loss=136.9821, time=190.60s\n",
            "iter 9250: dev acc=0.4196\n",
            "Iter 9500: loss=124.8487, time=196.05s\n",
            "iter 9500: dev acc=0.4087\n",
            "Shuffling training data\n",
            "Iter 9750: loss=121.2137, time=201.30s\n",
            "iter 9750: dev acc=0.4342\n",
            "Shuffling training data\n",
            "Iter 10000: loss=116.0830, time=206.31s\n",
            "iter 10000: dev acc=0.4124\n",
            "Iter 10250: loss=110.9834, time=211.26s\n",
            "iter 10250: dev acc=0.4233\n",
            "Shuffling training data\n",
            "Iter 10500: loss=103.0380, time=216.12s\n",
            "iter 10500: dev acc=0.4233\n",
            "Shuffling training data\n",
            "Iter 10750: loss=100.1930, time=221.03s\n",
            "iter 10750: dev acc=0.3987\n",
            "Shuffling training data\n",
            "Iter 11000: loss=94.4520, time=225.95s\n",
            "iter 11000: dev acc=0.4196\n",
            "Iter 11250: loss=90.1480, time=230.90s\n",
            "iter 11250: dev acc=0.4060\n",
            "Shuffling training data\n",
            "Iter 11500: loss=81.8674, time=235.76s\n",
            "iter 11500: dev acc=0.4223\n",
            "Shuffling training data\n",
            "Iter 11750: loss=85.3730, time=240.77s\n",
            "iter 11750: dev acc=0.3915\n",
            "Shuffling training data\n",
            "Iter 12000: loss=85.5916, time=245.87s\n",
            "iter 12000: dev acc=0.4060\n",
            "Iter 12250: loss=67.9704, time=250.88s\n",
            "iter 12250: dev acc=0.4360\n",
            "Shuffling training data\n",
            "Iter 12500: loss=73.3908, time=255.74s\n",
            "iter 12500: dev acc=0.4142\n",
            "Shuffling training data\n",
            "Iter 12750: loss=74.1684, time=260.88s\n",
            "iter 12750: dev acc=0.4033\n",
            "Shuffling training data\n",
            "Iter 13000: loss=60.6734, time=266.10s\n",
            "iter 13000: dev acc=0.4351\n",
            "Iter 13250: loss=55.2557, time=271.28s\n",
            "iter 13250: dev acc=0.4051\n",
            "Shuffling training data\n",
            "Iter 13500: loss=53.9849, time=276.46s\n",
            "iter 13500: dev acc=0.4196\n",
            "Shuffling training data\n",
            "Iter 13750: loss=52.6150, time=281.75s\n",
            "iter 13750: dev acc=0.4196\n",
            "Iter 14000: loss=53.6825, time=287.14s\n",
            "iter 14000: dev acc=0.4187\n",
            "Shuffling training data\n",
            "Iter 14250: loss=55.4176, time=292.90s\n",
            "iter 14250: dev acc=0.4087\n",
            "Shuffling training data\n",
            "Iter 14500: loss=40.4966, time=298.28s\n",
            "iter 14500: dev acc=0.4033\n",
            "Shuffling training data\n",
            "Iter 14750: loss=52.8200, time=303.51s\n",
            "iter 14750: dev acc=0.4096\n",
            "Iter 15000: loss=44.3640, time=308.41s\n",
            "iter 15000: dev acc=0.4160\n",
            "Shuffling training data\n",
            "Iter 15250: loss=36.1459, time=313.85s\n",
            "iter 15250: dev acc=0.4242\n",
            "Shuffling training data\n",
            "Iter 15500: loss=45.9636, time=319.82s\n",
            "iter 15500: dev acc=0.4342\n",
            "Shuffling training data\n",
            "Iter 15750: loss=51.0456, time=325.19s\n",
            "iter 15750: dev acc=0.4178\n",
            "Iter 16000: loss=33.8315, time=330.39s\n",
            "iter 16000: dev acc=0.4233\n",
            "Shuffling training data\n",
            "Iter 16250: loss=31.6573, time=335.36s\n",
            "iter 16250: dev acc=0.4124\n",
            "Shuffling training data\n",
            "Iter 16500: loss=27.0586, time=340.26s\n",
            "iter 16500: dev acc=0.4133\n",
            "Iter 16750: loss=51.1450, time=345.14s\n",
            "iter 16750: dev acc=0.4269\n",
            "Shuffling training data\n",
            "Iter 17000: loss=36.4592, time=350.03s\n",
            "iter 17000: dev acc=0.4169\n",
            "Shuffling training data\n",
            "Iter 17250: loss=31.3203, time=355.12s\n",
            "iter 17250: dev acc=0.4205\n",
            "Shuffling training data\n",
            "Iter 17500: loss=23.1602, time=360.22s\n",
            "iter 17500: dev acc=0.4351\n",
            "Iter 17750: loss=21.6820, time=365.33s\n",
            "iter 17750: dev acc=0.4178\n",
            "Shuffling training data\n",
            "Iter 18000: loss=39.7665, time=370.47s\n",
            "iter 18000: dev acc=0.4015\n",
            "Shuffling training data\n",
            "Iter 18250: loss=21.9587, time=375.44s\n",
            "iter 18250: dev acc=0.4087\n",
            "Shuffling training data\n",
            "Iter 18500: loss=48.6704, time=380.39s\n",
            "iter 18500: dev acc=0.4169\n",
            "Iter 18750: loss=24.4322, time=385.28s\n",
            "iter 18750: dev acc=0.4205\n",
            "Shuffling training data\n",
            "Iter 19000: loss=19.7595, time=390.24s\n",
            "iter 19000: dev acc=0.4142\n",
            "Shuffling training data\n",
            "Iter 19250: loss=15.8918, time=395.19s\n",
            "iter 19250: dev acc=0.4114\n",
            "Shuffling training data\n",
            "Iter 19500: loss=18.3572, time=400.04s\n",
            "iter 19500: dev acc=0.4251\n",
            "Iter 19750: loss=25.2618, time=405.02s\n",
            "iter 19750: dev acc=0.4105\n",
            "Shuffling training data\n",
            "Iter 20000: loss=30.4938, time=409.87s\n",
            "iter 20000: dev acc=0.4051\n",
            "Shuffling training data\n",
            "Iter 20250: loss=23.3765, time=414.88s\n",
            "iter 20250: dev acc=0.4323\n",
            "Iter 20500: loss=24.1017, time=419.78s\n",
            "iter 20500: dev acc=0.4278\n",
            "Shuffling training data\n",
            "Iter 20750: loss=24.4822, time=424.86s\n",
            "iter 20750: dev acc=0.4214\n",
            "Shuffling training data\n",
            "Iter 21000: loss=14.6258, time=429.82s\n",
            "iter 21000: dev acc=0.4105\n",
            "Shuffling training data\n",
            "Iter 21250: loss=30.6252, time=434.78s\n",
            "iter 21250: dev acc=0.4278\n",
            "Iter 21500: loss=17.7596, time=439.70s\n",
            "iter 21500: dev acc=0.4205\n",
            "Shuffling training data\n",
            "Iter 21750: loss=14.1288, time=444.59s\n",
            "iter 21750: dev acc=0.4214\n",
            "Shuffling training data\n",
            "Iter 22000: loss=14.0338, time=449.56s\n",
            "iter 22000: dev acc=0.4187\n",
            "Shuffling training data\n",
            "Iter 22250: loss=19.2235, time=454.44s\n",
            "iter 22250: dev acc=0.4233\n",
            "Iter 22500: loss=17.0642, time=459.32s\n",
            "iter 22500: dev acc=0.4133\n",
            "Shuffling training data\n",
            "Iter 22750: loss=15.7892, time=464.21s\n",
            "iter 22750: dev acc=0.3996\n",
            "Shuffling training data\n",
            "Iter 23000: loss=17.7284, time=469.12s\n",
            "iter 23000: dev acc=0.4133\n",
            "Iter 23250: loss=19.4227, time=474.05s\n",
            "iter 23250: dev acc=0.4160\n",
            "Shuffling training data\n",
            "Iter 23500: loss=13.8758, time=478.96s\n",
            "iter 23500: dev acc=0.4296\n",
            "Shuffling training data\n",
            "Iter 23750: loss=23.6639, time=483.85s\n",
            "iter 23750: dev acc=0.4360\n",
            "Shuffling training data\n",
            "Iter 24000: loss=16.1837, time=488.74s\n",
            "iter 24000: dev acc=0.4269\n",
            "Iter 24250: loss=11.9021, time=493.69s\n",
            "iter 24250: dev acc=0.4369\n",
            "Shuffling training data\n",
            "Iter 24500: loss=8.4283, time=498.56s\n",
            "iter 24500: dev acc=0.4278\n",
            "Shuffling training data\n",
            "Iter 24750: loss=6.2848, time=503.41s\n",
            "iter 24750: dev acc=0.4314\n",
            "Shuffling training data\n",
            "Iter 25000: loss=18.6844, time=508.36s\n",
            "iter 25000: dev acc=0.4351\n",
            "Iter 25250: loss=18.4062, time=513.20s\n",
            "iter 25250: dev acc=0.4396\n",
            "Shuffling training data\n",
            "Iter 25500: loss=16.9197, time=518.17s\n",
            "iter 25500: dev acc=0.4196\n",
            "Shuffling training data\n",
            "Iter 25750: loss=15.9109, time=523.06s\n",
            "iter 25750: dev acc=0.4260\n",
            "Shuffling training data\n",
            "Iter 26000: loss=14.4069, time=528.02s\n",
            "iter 26000: dev acc=0.4305\n",
            "Iter 26250: loss=13.0086, time=532.95s\n",
            "iter 26250: dev acc=0.4178\n",
            "Shuffling training data\n",
            "Iter 26500: loss=19.2654, time=537.90s\n",
            "iter 26500: dev acc=0.4269\n",
            "Shuffling training data\n",
            "Iter 26750: loss=9.3048, time=542.88s\n",
            "iter 26750: dev acc=0.4178\n",
            "Iter 27000: loss=7.3050, time=547.76s\n",
            "iter 27000: dev acc=0.4160\n",
            "Shuffling training data\n",
            "Iter 27250: loss=26.7099, time=552.72s\n",
            "iter 27250: dev acc=0.4060\n",
            "Shuffling training data\n",
            "Iter 27500: loss=10.5933, time=557.66s\n",
            "iter 27500: dev acc=0.4305\n",
            "Shuffling training data\n",
            "Iter 27750: loss=7.8825, time=562.48s\n",
            "iter 27750: dev acc=0.4233\n",
            "Iter 28000: loss=5.4754, time=567.44s\n",
            "iter 28000: dev acc=0.4096\n",
            "Shuffling training data\n",
            "Iter 28250: loss=15.6861, time=572.32s\n",
            "iter 28250: dev acc=0.4124\n",
            "Shuffling training data\n",
            "Iter 28500: loss=6.7024, time=577.25s\n",
            "iter 28500: dev acc=0.4251\n",
            "Shuffling training data\n",
            "Iter 28750: loss=4.9965, time=582.21s\n",
            "iter 28750: dev acc=0.4124\n",
            "Iter 29000: loss=3.9345, time=587.62s\n",
            "iter 29000: dev acc=0.4160\n",
            "Shuffling training data\n",
            "Iter 29250: loss=7.4623, time=592.72s\n",
            "iter 29250: dev acc=0.4223\n",
            "Shuffling training data\n",
            "Iter 29500: loss=28.8776, time=597.75s\n",
            "iter 29500: dev acc=0.4178\n",
            "Iter 29750: loss=18.3453, time=602.95s\n",
            "iter 29750: dev acc=0.4269\n",
            "Shuffling training data\n",
            "Iter 30000: loss=14.9292, time=608.14s\n",
            "iter 30000: dev acc=0.4387\n",
            "Done training\n",
            "Loading best model\n",
            "best model iter 3500: train acc=0.5586, dev acc=0.4623, test acc=0.4665\n"
          ]
        }
      ],
      "source": [
        "lstm_model = LSTMClassifier(\n",
        "    len(v.w2i), 300, 168, len(t2i), v)\n",
        "\n",
        "# copy pre-trained vectors into embeddings table\n",
        "with torch.no_grad():\n",
        "  lstm_model.embed.weight.data.copy_(torch.from_numpy(vectors))\n",
        "  lstm_model.embed.weight.requires_grad = False\n",
        "\n",
        "print(lstm_model)\n",
        "print_parameters(lstm_model)\n",
        "\n",
        "lstm_model = lstm_model.to(device)\n",
        "\n",
        "batch_size = 25\n",
        "optimizer = optim.Adam(lstm_model.parameters(), lr=2e-4)\n",
        "\n",
        "lstm_losses, lstm_accuracies = train_model(\n",
        "    lstm_model, optimizer, num_iterations=30000,\n",
        "    print_every=250, eval_every=250,\n",
        "    batch_size=batch_size,\n",
        "    batch_fn=get_minibatch,\n",
        "    prep_fn=prepare_minibatch,\n",
        "    eval_fn=evaluate)"
      ]
    },
    {
      "cell_type": "code",
      "execution_count": null,
      "metadata": {
        "id": "ymj1rLDMvyhp"
      },
      "outputs": [
        {
          "data": {
            "text/plain": [
              "Text(0.5, 1.0, 'Validation Accuracy of LSTM')"
            ]
          },
          "execution_count": 164,
          "metadata": {},
          "output_type": "execute_result"
        },
        {
          "data": {
            "image/png": "[encoded data removed]",
            "text/plain": [
              "<Figure size 640x480 with 1 Axes>"
            ]
          },
          "metadata": {},
          "output_type": "display_data"
        }
      ],
      "source": [
        "# plot validation accuracy\n",
        "\n",
        "plt.plot([i*100 for i in lstm_accuracies])\n",
        "plt.xlabel(\"Iteration\")\n",
        "plt.ylabel(\"Accuracy\")\n",
        "plt.title(\"Validation Accuracy of LSTM\")"
      ]
    },
    {
      "cell_type": "code",
      "execution_count": null,
      "metadata": {
        "id": "1je5S1RHVC5R"
      },
      "outputs": [
        {
          "data": {
            "text/plain": [
              "Text(0.5, 1.0, 'Training Loss of LSTM')"
            ]
          },
          "execution_count": 165,
          "metadata": {},
          "output_type": "execute_result"
        },
        {
          "data": {
            "image/png": "[encoded data removed]",
            "text/plain": [
              "<Figure size 640x480 with 1 Axes>"
            ]
          },
          "metadata": {},
          "output_type": "display_data"
        }
      ],
      "source": [
        "# plot training loss\n",
        "plt.plot(lstm_losses)\n",
        "plt.xlabel(\"Step\")\n",
        "plt.ylabel(\"Loss\")\n",
        "plt.title(\"Training Loss of LSTM\")"
      ]
    },
    {
      "cell_type": "markdown",
      "metadata": {
        "id": "eep3X9go3rtj"
      },
      "source": [
        "Fine-tuning word embeddings"
      ]
    },
    {
      "cell_type": "code",
      "execution_count": null,
      "metadata": {
        "id": "HJ01PSst3yAr"
      },
      "outputs": [],
      "source": [
        "lstm_model = LSTMClassifier(\n",
        "    len(v.w2i), 300, 168, len(t2i), v)\n",
        "\n",
        "with torch.no_grad():\n",
        "    lstm_model.embed.weight.data.copy_(torch.from_numpy(vectors))\n",
        "    lstm_model.embed.weight.requires_grad = True\n",
        "\n",
        "print(lstm_model)\n",
        "print_parameters(lstm_model)\n",
        "\n",
        "lstm_model = lstm_model.to(device)\n",
        "\n",
        "batch_size = 25\n",
        "optimizer = optim.Adam(lstm_model.parameters(), lr=2e-4)\n",
        "\n",
        "lstm_losses, lstm_accuracies = train_model(\n",
        "    lstm_model, optimizer, num_iterations=30000,\n",
        "    print_every=500, eval_every=1000,\n",
        "    batch_size=batch_size,\n",
        "    batch_fn=get_minibatch,\n",
        "    prep_fn=prepare_minibatch,\n",
        "    eval_fn=evaluate)"
      ]
    },
    {
      "cell_type": "code",
      "execution_count": null,
      "metadata": {
        "id": "lU6RiipU4Olf"
      },
      "outputs": [],
      "source": [
        "# plot validation accuracy\n",
        "\n",
        "plt.plot([i*100 for i in lstm_accuracies])\n",
        "plt.xlabel(\"Iteration\")\n",
        "plt.ylabel(\"Accuracy\")\n",
        "plt.title(\"Validation Accuracy of LSTM\")"
      ]
    },
    {
      "cell_type": "code",
      "execution_count": null,
      "metadata": {
        "id": "CwjnCN1x4O7j"
      },
      "outputs": [],
      "source": [
        "# plot training loss\n",
        "\n",
        "plt.plot(lstm_losses)\n",
        "plt.xlabel(\"Step\")\n",
        "plt.ylabel(\"Loss\")\n",
        "plt.title(\"Training Loss of LSTM\")"
      ]
    },
    {
      "cell_type": "markdown",
      "metadata": {
        "id": "q7WjcxXntMi5"
      },
      "source": [
        "# Tree-LSTM"
      ]
    },
    {
      "cell_type": "markdown",
      "metadata": {
        "id": "jyj_UD6GtO5M"
      },
      "source": [
        "In the final part of this lab we will exploit the tree structure of the SST data.\n",
        "Until now we only used the surface tokens, but remember that our data examples include binary trees with a sentiment score at every node.\n",
        "\n",
        "In particular, we will implement **N-ary Tree-LSTMs** which are described in:\n",
        "\n",
        "> Kai Sheng Tai, Richard Socher, and Christopher D. Manning. [Improved Semantic Representations From Tree-Structured Long Short-Term Memory Networks](http://aclweb.org/anthology/P/P15/P15-1150.pdf) ACL 2015.\n",
        "\n",
        "Since our trees are binary (i.e., N=2), we can refer to these as *Binary Tree-LSTMs*. If you study equations (9) to (14) in the paper, you will find that they are not all too different from the original LSTM that you already have.\n",
        "\n",
        "You should read this paper carefully and make sure that you understand the approach. You will also find our LSTM baseline there.\n",
        "Note however that Tree-LSTMs were proposed around the same time by two other groups:\n",
        "\n",
        "> Phong Le and Willem Zuidema. [Compositional distributional semantics with long short term memory](http://anthology.aclweb.org/S/S15/S15-1002.pdf). *SEM 2015.\n",
        "\n",
        "> Xiaodan Zhu, Parinaz Sobihani,  and Hongyu Guo. [Long short-term memory over recursive structures](http://proceedings.mlr.press/v37/zhub15.pdf). ICML 2015.\n",
        "\n",
        "It is good scientific practice to cite all three papers in your report.\n",
        "\n",
        "\n"
      ]
    },
    {
      "cell_type": "markdown",
      "metadata": {
        "id": "1rDzvSos3JFp"
      },
      "source": [
        "## Computation\n",
        "\n",
        "Do you remember the `transitions_from_treestring` function all the way in the beginning of this lab? Every example contains a **transition sequence** produced by this function. Let's look at it again:\n",
        "\n"
      ]
    },
    {
      "cell_type": "code",
      "execution_count": null,
      "metadata": {
        "id": "5pg0Xumc3ZUS"
      },
      "outputs": [
        {
          "name": "stdout",
          "output_type": "stream",
          "text": [
            "              3                                                                     \n",
            "  ____________|____________________                                                  \n",
            " |                                 4                                                \n",
            " |        _________________________|______________________________________________   \n",
            " |       4                                                                        | \n",
            " |    ___|______________                                                          |  \n",
            " |   |                  4                                                         | \n",
            " |   |         _________|__________                                               |  \n",
            " |   |        |                    3                                              | \n",
            " |   |        |               _____|______________________                        |  \n",
            " |   |        |              |                            4                       | \n",
            " |   |        |              |            ________________|_______                |  \n",
            " |   |        |              |           |                        2               | \n",
            " |   |        |              |           |                 _______|___            |  \n",
            " |   |        3              |           |                |           2           | \n",
            " |   |    ____|_____         |           |                |        ___|_____      |  \n",
            " |   |   |          4        |           3                |       2         |     | \n",
            " |   |   |     _____|___     |      _____|_______         |    ___|___      |     |  \n",
            " 2   2   2    3         2    2     3             2        2   2       2     2     2 \n",
            " |   |   |    |         |    |     |             |        |   |       |     |     |  \n",
            " It  's  a  lovely     film with lovely     performances  by Buy     and Accorsi  . \n",
            "\n",
            "Transitions:\n",
            "[0, 0, 0, 0, 0, 1, 1, 0, 0, 0, 1, 0, 0, 0, 1, 0, 1, 1, 1, 1, 1, 1, 0, 1, 1]\n"
          ]
        },
        {
          "name": "stderr",
          "output_type": "stream",
          "text": [
            "/var/folders/8x/_99fkl5x4kvcd26sl3s8mhtw0000gn/T/ipykernel_17030/3888340663.py:2: DeprecationWarning: \n",
            "    Class TreePrettyPrinter has been deprecated.  Import\n",
            "    `TreePrettyPrinter` using `from nltk.tree import\n",
            "    TreePrettyPrinter` instead.\n",
            "  print(TreePrettyPrinter(ex.tree))\n"
          ]
        }
      ],
      "source": [
        "ex = next(examplereader(\"trees/dev.txt\"))\n",
        "print(TreePrettyPrinter(ex.tree))\n",
        "print(\"Transitions:\")\n",
        "print(ex.transitions)"
      ]
    },
    {
      "cell_type": "markdown",
      "metadata": {
        "id": "ceBFe9fU4BI_"
      },
      "source": [
        "Note that the tree is **binary**. Every node has two children, except for pre-terminal nodes.\n",
        "\n",
        "A tree like this can be described by a sequence of **SHIFT (0)** and **REDUCE (1)** actions.\n",
        "\n",
        "To construct a tree, we can use the transitions as follows:\n",
        "- **reverse** the sentence (a list of tokens) and call this the **buffer**\n",
        "   - the first word is now on top (last in the list), and we would get it when calling pop() on the buffer\n",
        "- create an empty list and call it the **stack**\n",
        "- iterate through the transition sequence:\n",
        "  - if it says SHIFT(0), we pop a word from the buffer, and push it to the stack\n",
        "  - if it says REDUCE(1), we pop the **top two items** from the stack, and combine them (e.g. with a Tree-LSTM!), creating a new node that we push back on the stack\n",
        "  \n",
        "Convince yourself that going through the transition sequence above will result in the tree that you see.\n",
        "For example, we would start by putting the following words on the stack (by shifting 5 times, starting with `It`):\n",
        "\n",
        "```\n",
        "Top of the stack:\n",
        "-----------------\n",
        "film\n",
        "lovely\n",
        "a\n",
        "'s  \n",
        "It\n",
        "```\n",
        "Now we find a REDUCE in the transition sequence, so we get the top two words (film and lovely), and combine them, so our new stack becomes:\n",
        "```\n",
        "Top of the stack:\n",
        "-----------------\n",
        "lovely film\n",
        "a\n",
        "'s  \n",
        "It\n",
        "```\n",
        "\n",
        "We will use this approach when encoding sentences with our Tree-LSTM.\n",
        "Now, our sentence is a reversed list of word embeddings.\n",
        "When we shift, we move a word embedding to the stack.\n",
        "When we reduce, we apply the Tree-LSTM to the top two vectors, and the result is a single vector that we put back on the stack.\n",
        "After going through the whole transition sequence, we will have the root node on our stack! We can use that to classify the sentence.\n",
        "\n"
      ]
    },
    {
      "cell_type": "markdown",
      "metadata": {
        "id": "pDWKShm1AfmR"
      },
      "source": [
        "## Obtaining the transition sequence\n"
      ]
    },
    {
      "cell_type": "markdown",
      "metadata": {
        "id": "fO7VKWVpAbWj"
      },
      "source": [
        "\n",
        "So what goes on in the `transitions_from_treestring` function?\n",
        "\n",
        "The idea ([explained in this blog post](https://devblogs.nvidia.com/recursive-neural-networks-pytorch/)) is that, if we had a tree, we could traverse through the tree, and every time that we find a node containing only a word, we output a SHIFT.\n",
        "Every time **after** we have finished visiting the children of a node, we output a REDUCE.\n",
        "(What is this tree traversal called?)\n",
        "\n",
        "However, our `transitions_from_treestring` function operates directly on the string representation. It works as follows.\n",
        "\n",
        "We start with the representation:\n",
        "\n",
        "```\n",
        "(3 (2 It) (4 (4 (2 's) (4 (3 (2 a) (4 (3 lovely) (2 film))) (3 (2 with) (4 (3 (3 lovely) (2 performances)) (2 (2 by) (2 (2 (2 Buy) (2 and)) (2 Accorsi))))))) (2 .)))\n",
        "```\n",
        "\n",
        "First we remove pre-terminal nodes (and add spaces before closing brackets):\n",
        "\n",
        "```\n",
        "(3 It (4 (4 's (4 (3 a (4 lovely film ) ) (3 with (4 (3 lovely performances ) (2 by (2 (2 Buy and )  Accorsi ) ) ) ) ) ) . ) )\n",
        "```\n",
        "\n",
        "Then we remove node labels:\n",
        "\n",
        "```\n",
        "( It ( ( 's ( ( a ( lovely film ) ) ( with ( ( lovely performances) ( by ( ( Buy and )  Accorsi ) ) ) ) ) ) . ) )\n",
        "```\n",
        "\n",
        "Then we remove opening brackets:\n",
        "\n",
        "```\n",
        "It 's a lovely film ) ) with lovely performances ) by Buy and ) Accorsi ) ) ) ) ) ) . ) )\n",
        "```\n",
        "\n",
        "Now we replace words by S (for SHIFT), and closing brackets by R (for REDUCE):\n",
        "\n",
        "```\n",
        "S S S S S R R S S S R S S S R S R R R R R R S R R\n",
        "0 0 0 0 0 1 1 0 0 0 1 0 0 0 1 0 1 1 1 1 1 1 0 1 1\n",
        "```\n",
        "\n",
        "Et voilà. We just obtained the transition sequence!"
      ]
    },
    {
      "cell_type": "code",
      "execution_count": null,
      "metadata": {
        "id": "1y069gM4_v64"
      },
      "outputs": [
        {
          "name": "stdout",
          "output_type": "stream",
          "text": [
            "S S S S S R R S S S R S S S R S R R R R R R S R R\n",
            "0 0 0 0 0 1 1 0 0 0 1 0 0 0 1 0 1 1 1 1 1 1 0 1 1\n"
          ]
        }
      ],
      "source": [
        "# for comparison\n",
        "seq = ex.transitions\n",
        "s = \" \".join([\"S\" if t == 0 else \"R\" for t in seq])\n",
        "print(s)\n",
        "print(\" \".join(map(str, seq)))"
      ]
    },
    {
      "cell_type": "markdown",
      "metadata": {
        "id": "d-qOuKbDAiBn"
      },
      "source": [
        "## Coding the Tree-LSTM\n",
        "\n",
        "The code below contains a Binary Tree-LSTM cell.\n",
        "It is used in the TreeLSTM class below it, which in turn is used in the TreeLSTMClassifier.\n",
        "The job of the TreeLSTM class is to encode a complete sentence and return the root node.\n",
        "The job of the TreeLSTMCell is to return a new state when provided with two children (a reduce action). By repeatedly calling the TreeLSTMCell, the TreeLSTM will encode a sentence. This can be done for multiple sentences at the same time.\n",
        "\n",
        "\n",
        "#### Exercise\n",
        "Check the `forward` function and complete the Tree-LSTM formulas.\n",
        "You can see that we defined a large linear layer for you, that projects the *concatenation* of the left and right child into the input gate, left forget gate, right forget gate, candidate, and output gate."
      ]
    },
    {
      "cell_type": "code",
      "execution_count": null,
      "metadata": {
        "id": "J9b9mjMlN7Pb"
      },
      "outputs": [],
      "source": [
        "class TreeLSTMCell(nn.Module):\n",
        "  \"\"\"A Binary Tree LSTM cell\"\"\"\n",
        "\n",
        "  def __init__(self, input_size, hidden_size, bias=True):\n",
        "    \"\"\"Creates the weights for this LSTM\"\"\"\n",
        "    super(TreeLSTMCell, self).__init__()\n",
        "\n",
        "    self.input_size = input_size\n",
        "    self.hidden_size = hidden_size\n",
        "    self.bias = bias\n",
        "\n",
        "    self.reduce_layer = nn.Linear(2 * hidden_size, 5 * hidden_size)\n",
        "    self.dropout_layer = nn.Dropout(p=0.25)\n",
        "\n",
        "    self.reset_parameters()\n",
        "\n",
        "  def reset_parameters(self):\n",
        "    \"\"\"This is PyTorch's default initialization method\"\"\"\n",
        "    stdv = 1.0 / math.sqrt(self.hidden_size)\n",
        "    for weight in self.parameters():\n",
        "      weight.data.uniform_(-stdv, stdv)\n",
        "\n",
        "  def forward(self, hx_l, hx_r, mask=None):\n",
        "    \"\"\"\n",
        "    hx_l is ((batch, hidden_size), (batch, hidden_size))\n",
        "    hx_r is ((batch, hidden_size), (batch, hidden_size))\n",
        "    \"\"\"\n",
        "    prev_h_l, prev_c_l = hx_l  # left child\n",
        "    prev_h_r, prev_c_r = hx_r  # right child\n",
        "\n",
        "    B = prev_h_l.size(0)\n",
        "\n",
        "    # we concatenate the left and right children\n",
        "    # you can also project from them separately and then sum\n",
        "    children = torch.cat([prev_h_l, prev_h_r], dim=1)\n",
        "\n",
        "    # project the combined children into a 5D tensor for i,fl,fr,g,o\n",
        "    # this is done for speed, and you could also do it separately\n",
        "    proj = self.reduce_layer(children)  # shape: B x 5D\n",
        "\n",
        "    # each shape: B x D\n",
        "    i, f_l, f_r, g, o = torch.chunk(proj, 5, dim=-1)\n",
        "\n",
        "    i = torch.sigmoid(i)\n",
        "    f_l = torch.sigmoid(f_l)\n",
        "    f_r = torch.sigmoid(f_r)\n",
        "    g = torch.tanh(g)\n",
        "    o = torch.sigmoid(o)\n",
        "\n",
        "    c = torch.mul(i, g) + torch.mul(f_l, prev_c_l) + torch.mul(f_r, prev_c_r)\n",
        "    h = torch.mul(o, torch.tanh(c))\n",
        "\n",
        "    return h, c\n",
        "\n",
        "  def __repr__(self):\n",
        "    return \"{}({:d}, {:d})\".format(\n",
        "        self.__class__.__name__, self.input_size, self.hidden_size)"
      ]
    },
    {
      "cell_type": "markdown",
      "metadata": {
        "id": "Dj5dYSGh_643"
      },
      "source": [
        "## Explanation of the TreeLSTM class\n",
        "\n",
        "\n",
        "The code below contains the TreeLSTM class, which implements everything we need in order to encode a sentence from word embeddings. The calculations are the same as in the paper, implemented such that the class `TreeLSTMCell` above is as general as possible and only takes two children to reduce them into a parent.\n",
        "\n",
        "\n",
        "**Initialize $\\mathbf{h}$ and $\\mathbf{c}$ outside of the cell for the leaves**\n",
        "\n",
        "At the leaves of each tree the children nodes are **empty**, whereas in higher levels the nodes are binary tree nodes that *do* have a left and right child (but no input $x$). By initializing the leaf nodes outside of the cell class (`TreeLSTMCell`), we avoid if-else statements in the forward pass.\n",
        "\n",
        "The `TreeLSTM` class (among other things) pre-calculates an initial $h$ and $c$ for every word in the sentence. Since the initial left and right child are 0, the only calculations we need to do are based on $x$, and we can drop the forget gate calculation (`prev_c_l` and `prev_c_r` are zero). The calculations we do in order to initalize $h$ and $c$ are then:\n",
        "\n",
        "$$\n",
        "c_1 =  W^{(u)}x_1 \\\\\n",
        "o_1 = \\sigma (W^{(i)}x_1) \\\\\n",
        "h_1 = o_1 \\odot \\text{tanh}(c_1)$$\n",
        "*NB: note that these equations are chosen as initializations of $c$ and $h$, other initializations are possible and might work equally well.*\n",
        "\n",
        "**Sentence Representations**\n",
        "\n",
        "All our leaf nodes are now initialized, so we can start processing the sentence in its tree form. Each sentence is represented by a buffer (initially a list with a concatenation of $[h_1, c_1]$ for every word in the reversed sentence), a stack (initially an empty list) and a transition sequence. To encode our sentence, we construct the tree from its transition sequence as explained earlier.\n",
        "\n",
        "*A short example that constructs a tree:*\n",
        "\n",
        "We loop over the time dimension of the batched transition sequences (i.e. row by row), which contain values of 0's, 1's and 2's (representing SHIFT, REDUCE and padding respectively). If we have a batch of size 2 where the first example has a transition sequence given by [0, 0, 1, 0, 0, 0, 1] and the second by [0, 0, 1, 0, 0, 1], our transition batch will be given by the following two-dimensional numpy array:\n",
        "\n",
        "$$\n",
        "\\text{transitions} =\n",
        "\\begin{pmatrix}\n",
        "0 & 0\\\\\n",
        "0 & 0\\\\\n",
        "1 & 1\\\\\n",
        "0 & 0\\\\\n",
        "0 & 0\\\\\n",
        "0 & 1\\\\\n",
        "1 & 2\n",
        "\\end{pmatrix}\n",
        "$$\n",
        "The inner loop (`for transition, buffer, stack in zip(t_batch, buffers, stacks)`) goes over each example in the batch and updates its buffer and stack. The nested loop for this example will then do roughy the following:\n",
        "\n",
        "```\n",
        "Time = 0:  t_batch = [0, 0], the inner loop performs 2 SHIFTs.\n",
        "\n",
        "Time = 1:  t_batch = [0, 0], \"..\"\n",
        "\n",
        "Time = 2:  t_batch = [1, 1], causing the inner loop to fill the list child_l and child_r for both examples in the batch. Now the statement if child_l will return True, triggering a REDUCE action to be performed by our Tree LSTM cell with a batch size of 2.\n",
        "\n",
        "Time = 3:  t_batch = [0, 0], \"..\".\n",
        "\n",
        "Time = 4:  t_batch = [0, 0], \"..\"\n",
        "\n",
        "Time = 5:  t_batch = [0, 1], one SHIFT will be done and another REDUCE action will be performed by our Tree LSTM, this time of batch size 1.  \n",
        "\n",
        "Time = 6:  t_batch = [1, 2], triggering another REDUCE action with batch size 1.\n",
        "```\n",
        "*NB: note that this was an artificial example for the purpose of demonstrating parts of the code, the transition sequences do not necessarily represent actual trees.*\n",
        "\n",
        "**Batching and Unbatching**\n",
        "\n",
        "Within the body of the outer loop over time, we use the functions for batching and unbatching.\n",
        "\n",
        "*Batching*\n",
        "\n",
        "Before passing two lists of children to the reduce layer (an instance of `TreeLSTMCell`), we batch the children as they are at this point a list of tensors of variable length based on how many REDUCE actions there are to perform at a certain time step across the batch (let's call the length `L`). To do an efficient forward pass we want to transform the list to a pair of tensors of shape `([L, D], [L, D])`, which the function `batch` achieves.\n",
        "\n",
        "*Unbatching*\n",
        "\n",
        "In the same line where we batched the children, we unbatch the output of the forward pass to become a list of states of length `L` again. We do this because we need to loop over each example's transition at the current time step and push the children that are reduced into a parent to the stack.\n",
        "\n",
        "*The batch and unbatch functions let us switch between the \"PyTorch world\" (Tensors) and the Python world (easy to manipulate lists).*\n"
      ]
    },
    {
      "cell_type": "code",
      "execution_count": null,
      "metadata": {
        "id": "5PixvTd4AqsQ"
      },
      "outputs": [],
      "source": [
        "# Helper functions for batching and unbatching states\n",
        "# For speed we want to combine computations by batching, but\n",
        "# for processing logic we want to turn the output into lists again\n",
        "# to easily manipulate.\n",
        "\n",
        "def batch(states):\n",
        "  \"\"\"\n",
        "  Turns a list of states into a single tensor for fast processing.\n",
        "  This function also chunks (splits) each state into a (h, c) pair\"\"\"\n",
        "  return torch.cat(states, 0).chunk(2, 1)\n",
        "\n",
        "def unbatch(state):\n",
        "  \"\"\"\n",
        "  Turns a tensor back into a list of states.\n",
        "  First, (h, c) are merged into a single state.\n",
        "  Then the result is split into a list of sentences.\n",
        "  \"\"\"\n",
        "  return torch.split(torch.cat(state, 1), 1, 0)"
      ]
    },
    {
      "cell_type": "markdown",
      "metadata": {
        "id": "CynltDasaLPt"
      },
      "source": [
        "Take some time to understand the class below, having read the explanation above."
      ]
    },
    {
      "cell_type": "code",
      "execution_count": null,
      "metadata": {
        "id": "rQOqMXG4gX5G"
      },
      "outputs": [],
      "source": [
        "class TreeLSTM(nn.Module):\n",
        "  \"\"\"Encodes a sentence using a TreeLSTMCell\"\"\"\n",
        "\n",
        "  def __init__(self, input_size, hidden_size, bias=True):\n",
        "    \"\"\"Creates the weights for this LSTM\"\"\"\n",
        "    super(TreeLSTM, self).__init__()\n",
        "\n",
        "    self.input_size = input_size\n",
        "    self.hidden_size = hidden_size\n",
        "    self.bias = bias\n",
        "    self.reduce = TreeLSTMCell(input_size, hidden_size)\n",
        "\n",
        "    # project word to initial c\n",
        "    self.proj_x = nn.Linear(input_size, hidden_size)\n",
        "    self.proj_x_gate = nn.Linear(input_size, hidden_size)\n",
        "\n",
        "    self.buffers_dropout = nn.Dropout(p=0.5)\n",
        "\n",
        "  def forward(self, x, transitions):\n",
        "    \"\"\"\n",
        "    WARNING: assuming x is reversed!\n",
        "    :param x: word embeddings [B, T, E]\n",
        "    :param transitions: [2T-1, B]\n",
        "    :return: root states\n",
        "    \"\"\"\n",
        "\n",
        "    B = x.size(0)  # batch size\n",
        "    T = x.size(1)  # time\n",
        "\n",
        "    # compute an initial c and h for each word\n",
        "    # Note: this corresponds to input x in the Tai et al. Tree LSTM paper.\n",
        "    # We do not handle input x in the TreeLSTMCell itself.\n",
        "    buffers_c = self.proj_x(x)\n",
        "    buffers_h = buffers_c.tanh()\n",
        "    buffers_h_gate = self.proj_x_gate(x).sigmoid()\n",
        "    buffers_h = buffers_h_gate * buffers_h\n",
        "\n",
        "    # concatenate h and c for each word\n",
        "    buffers = torch.cat([buffers_h, buffers_c], dim=-1)\n",
        "\n",
        "    D = buffers.size(-1) // 2\n",
        "\n",
        "    # we turn buffers into a list of stacks (1 stack for each sentence)\n",
        "    # first we split buffers so that it is a list of sentences (length B)\n",
        "    # then we split each sentence to be a list of word vectors\n",
        "    buffers = buffers.split(1, dim=0)  # Bx[T, 2D]\n",
        "    buffers = [list(b.squeeze(0).split(1, dim=0)) for b in buffers]  # BxTx[2D]\n",
        "\n",
        "    # create B empty stacks\n",
        "    stacks = [[] for _ in buffers]\n",
        "\n",
        "    # t_batch holds 1 transition for each sentence\n",
        "    for t_batch in transitions:\n",
        "\n",
        "      child_l = []  # contains the left child for each sentence with reduce action\n",
        "      child_r = []  # contains the corresponding right child\n",
        "\n",
        "      # iterate over sentences in the batch\n",
        "      # each has a transition t, a buffer and a stack\n",
        "      for transition, buffer, stack in zip(t_batch, buffers, stacks):\n",
        "        if transition == SHIFT:\n",
        "          stack.append(buffer.pop())\n",
        "        elif transition == REDUCE:\n",
        "          assert len(stack) >= 2, \\\n",
        "            \"Stack too small! Should not happen with valid transition sequences\"\n",
        "          child_r.append(stack.pop())  # right child is on top\n",
        "          child_l.append(stack.pop())\n",
        "\n",
        "      # if there are sentences with reduce transition, perform them batched\n",
        "      if child_l:\n",
        "        reduced = iter(unbatch(self.reduce(batch(child_l), batch(child_r))))\n",
        "        for transition, stack in zip(t_batch, stacks):\n",
        "          if transition == REDUCE:\n",
        "            stack.append(next(reduced))\n",
        "\n",
        "    final = [stack.pop().chunk(2, -1)[0] for stack in stacks]\n",
        "    final = torch.cat(final, dim=0)  # tensor [B, D]\n",
        "\n",
        "    return final"
      ]
    },
    {
      "cell_type": "markdown",
      "metadata": {
        "id": "s4EzbVzqaXkw"
      },
      "source": [
        "Just like the LSTM before, we will need an extra class that does the classifications."
      ]
    },
    {
      "cell_type": "code",
      "execution_count": null,
      "metadata": {
        "id": "nLxpYRvtQKge"
      },
      "outputs": [],
      "source": [
        "class TreeLSTMClassifier(nn.Module):\n",
        "  \"\"\"Encodes sentence with a TreeLSTM and projects final hidden state\"\"\"\n",
        "\n",
        "  def __init__(self, vocab_size, embedding_dim, hidden_dim, output_dim, vocab):\n",
        "    super(TreeLSTMClassifier, self).__init__()\n",
        "    self.vocab = vocab\n",
        "    self.hidden_dim = hidden_dim\n",
        "    self.embed = nn.Embedding(vocab_size, embedding_dim, padding_idx=1)\n",
        "    self.treelstm = TreeLSTM(embedding_dim, hidden_dim)\n",
        "    self.output_layer = nn.Sequential(\n",
        "        nn.Dropout(p=0.5),\n",
        "        nn.Linear(hidden_dim, output_dim, bias=True)\n",
        "    )\n",
        "\n",
        "  def forward(self, x):\n",
        "\n",
        "    # x is a pair here of words and transitions; we unpack it here.\n",
        "    # x is batch-major: [B, T], transitions is time major [2T-1, B]\n",
        "    x, transitions = x\n",
        "    emb = self.embed(x)\n",
        "\n",
        "    # we use the root/top state of the Tree LSTM to classify the sentence\n",
        "    root_states = self.treelstm(emb, transitions)\n",
        "\n",
        "    # we use the last hidden state to classify the sentence\n",
        "    logits = self.output_layer(root_states)\n",
        "    return logits"
      ]
    },
    {
      "cell_type": "markdown",
      "metadata": {
        "id": "gh9RbhGwaiLg"
      },
      "source": [
        "## Special `prepare` function for Tree-LSTM\n",
        "\n",
        "We need yet another `prepare` function. For our implementation, sentences need to be *reversed*. We will do that here."
      ]
    },
    {
      "cell_type": "code",
      "execution_count": null,
      "metadata": {
        "id": "DiqH-_2xdm9H"
      },
      "outputs": [],
      "source": [
        "def prepare_treelstm_minibatch(mb, vocab):\n",
        "  \"\"\"\n",
        "  Returns sentences reversed (last word first)\n",
        "  Returns transitions together with the sentences.\n",
        "  \"\"\"\n",
        "  batch_size = len(mb)\n",
        "  maxlen = max([len(ex.tokens) for ex in mb])\n",
        "\n",
        "  # vocab returns 0 if the word is not there\n",
        "  # NOTE: reversed sequence!\n",
        "  x = [pad([vocab.w2i.get(t, 0) for t in ex.tokens], maxlen)[::-1] for ex in mb]\n",
        "\n",
        "  x = torch.LongTensor(x)\n",
        "  x = x.to(device)\n",
        "\n",
        "  y = [ex.label for ex in mb]\n",
        "  y = torch.LongTensor(y)\n",
        "  y = y.to(device)\n",
        "\n",
        "  maxlen_t = max([len(ex.transitions) for ex in mb])\n",
        "  transitions = [pad(ex.transitions, maxlen_t, pad_value=2) for ex in mb]\n",
        "  transitions = np.array(transitions)\n",
        "  transitions = transitions.T  # time-major\n",
        "\n",
        "  return (x, transitions), y"
      ]
    },
    {
      "cell_type": "markdown",
      "metadata": {
        "id": "IMUsrlL9ayVe"
      },
      "source": [
        "## Training"
      ]
    },
    {
      "cell_type": "code",
      "execution_count": null,
      "metadata": {
        "id": "IpOYUdg2D3v0"
      },
      "outputs": [
        {
          "name": "stdout",
          "output_type": "stream",
          "text": [
            "TreeLSTMClassifier(\n",
            "  (embed): Embedding(20727, 300, padding_idx=1)\n",
            "  (treelstm): TreeLSTM(\n",
            "    (reduce): TreeLSTMCell(300, 150)\n",
            "    (proj_x): Linear(in_features=300, out_features=150, bias=True)\n",
            "    (proj_x_gate): Linear(in_features=300, out_features=150, bias=True)\n",
            "    (buffers_dropout): Dropout(p=0.5, inplace=False)\n",
            "  )\n",
            "  (output_layer): Sequential(\n",
            "    (0): Dropout(p=0.5, inplace=False)\n",
            "    (1): Linear(in_features=150, out_features=5, bias=True)\n",
            "  )\n",
            ")\n",
            "embed.weight             [20727, 300] requires_grad=False\n",
            "treelstm.reduce.reduce_layer.weight [750, 300]   requires_grad=True\n",
            "treelstm.reduce.reduce_layer.bias [750]        requires_grad=True\n",
            "treelstm.proj_x.weight   [150, 300]   requires_grad=True\n",
            "treelstm.proj_x.bias     [150]        requires_grad=True\n",
            "treelstm.proj_x_gate.weight [150, 300]   requires_grad=True\n",
            "treelstm.proj_x_gate.bias [150]        requires_grad=True\n",
            "output_layer.1.weight    [5, 150]     requires_grad=True\n",
            "output_layer.1.bias      [5]          requires_grad=True\n",
            "\n",
            "Total number of parameters: 6534905\n",
            "\n",
            "Shuffling training data\n",
            "Iter 250: loss=383.8298, time=7.38s\n",
            "iter 250: dev acc=0.3769\n",
            "new highscore\n",
            "Shuffling training data\n",
            "Iter 500: loss=334.6419, time=15.16s\n",
            "iter 500: dev acc=0.4024\n",
            "new highscore\n",
            "Done training\n",
            "Loading best model\n",
            "best model iter 500: train acc=0.4285, dev acc=0.4024, test acc=0.4493\n"
          ]
        }
      ],
      "source": [
        "# Now let's train the Tree LSTM!\n",
        "\n",
        "tree_model = TreeLSTMClassifier(\n",
        "    len(v.w2i), 300, 150, len(t2i), v)\n",
        "\n",
        "with torch.no_grad():\n",
        "  tree_model.embed.weight.data.copy_(torch.from_numpy(vectors))\n",
        "  tree_model.embed.weight.requires_grad = False\n",
        "\n",
        "def do_train(model):\n",
        "\n",
        "  print(model)\n",
        "  print_parameters(model)\n",
        "\n",
        "  model = model.to(device)\n",
        "\n",
        "  optimizer = optim.Adam(model.parameters(), lr=2e-4)\n",
        "\n",
        "  return train_model(\n",
        "      model, optimizer, num_iterations=30000,\n",
        "      print_every=250, eval_every=250,\n",
        "      prep_fn=prepare_treelstm_minibatch,\n",
        "      eval_fn=evaluate,\n",
        "      batch_fn=get_minibatch,\n",
        "      batch_size=25, eval_batch_size=25)\n",
        "\n",
        "results = do_train(tree_model)"
      ]
    },
    {
      "cell_type": "code",
      "execution_count": null,
      "metadata": {
        "id": "DHcHHaLtguUg"
      },
      "outputs": [
        {
          "data": {
            "image/png": "[encoded data removed]",
            "text/plain": [
              "<Figure size 640x480 with 1 Axes>"
            ]
          },
          "metadata": {},
          "output_type": "display_data"
        },
        {
          "data": {
            "image/png": "[encoded data removed]",
            "text/plain": [
              "<Figure size 640x480 with 1 Axes>"
            ]
          },
          "metadata": {},
          "output_type": "display_data"
        }
      ],
      "source": [
        "lstm_losses, lstm_accuracies = results\n",
        "\n",
        "# plot validation accuracy\n",
        "\n",
        "plt.plot([i*100 for i in lstm_accuracies])\n",
        "plt.xlabel(\"Iteration\")\n",
        "plt.ylabel(\"Accuracy\")\n",
        "plt.title(\"Validation Accuracy of LSTM\")\n",
        "plt.show()\n",
        "\n",
        "# plot training loss\n",
        "\n",
        "plt.plot(lstm_losses)\n",
        "plt.xlabel(\"Step\")\n",
        "plt.ylabel(\"Loss\")\n",
        "plt.title(\"Training Loss of LSTM\")\n",
        "plt.show()"
      ]
    },
    {
      "cell_type": "code",
      "execution_count": null,
      "metadata": {},
      "outputs": [],
      "source": [
        "[1, 2, 3].reverse()"
      ]
    },
    {
      "cell_type": "markdown",
      "metadata": {},
      "source": [
        "# Experiments"
      ]
    },
    {
      "cell_type": "code",
      "execution_count": null,
      "metadata": {},
      "outputs": [],
      "source": [
        "def get_lstm_model(v, t2i, vectors, embedding_dim=300, hidden_dim=168, fine_tune=False):\n",
        "    lstm_model = LSTMClassifier(\n",
        "        vocab_size=len(v.w2i),\n",
        "        embedding_dim=embedding_dim,\n",
        "        hidden_dim=hidden_dim,\n",
        "        output_dim=len(t2i),\n",
        "        vocab=v\n",
        "    )\n",
        "\n",
        "    with torch.no_grad():\n",
        "        lstm_model.embed.weight.data.copy_(torch.from_numpy(vectors))\n",
        "        lstm_model.embed.weight.requires_grad = fine_tune\n",
        "\n",
        "    print_parameters(lstm_model)\n",
        "\n",
        "    lstm_model = lstm_model.to(device)\n",
        "\n",
        "    return lstm_model"
      ]
    },
    {
      "cell_type": "code",
      "execution_count": null,
      "metadata": {},
      "outputs": [
        {
          "name": "stdout",
          "output_type": "stream",
          "text": [
            "Normal: tensor([[   34,     8,  6659,   201,   550,    26,   102,  2074,    54,    40,\n",
            "          5440,     7,     4, 11829,    16, 16133,     4,  9592, 17235,     7,\n",
            "             4,  5932,    21,    34,    23,   606,    21,  2961,    46,     8,\n",
            "          5233,   182,    31,    22,    44,    12,    38, 15010]])\n",
            "Reversed: tensor([[15010,    38,    12,    44,    22,    31,   182,  5233,     8,    46,\n",
            "          2961,    21,   606,    23,    34,    21,  5932,     4,     7, 17235,\n",
            "          9592,     4, 16133,    16, 11829,     4,     7,  5440,    40,    54,\n",
            "          2074,   102,    26,   550,   201,  6659,     8,    34]])\n",
            "Shuffled: tensor([[   34,     8,  6659,   201,   550,    26,   102,  2074,    54,    40,\n",
            "          5440,     7,     4, 11829,    16, 16133,     4,  9592, 17235,     7,\n",
            "             4,  5932,    21,    34,    23,   606,    21,  2961,    46,     8,\n",
            "          5233,   182,    31,    22,    44,    12,    38, 15010]])\n",
            "embed.weight             [20727, 300] requires_grad=False\n",
            "rnn.xh.weight            [672, 300]   requires_grad=True\n",
            "rnn.xh.bias              [672]        requires_grad=True\n",
            "rnn.hh.weight            [672, 168]   requires_grad=True\n",
            "rnn.hh.bias              [672]        requires_grad=True\n",
            "output_layer.1.weight    [5, 168]     requires_grad=True\n",
            "output_layer.1.bias      [5]          requires_grad=True\n",
            "\n",
            "Total number of parameters: 6534785\n",
            "\n"
          ]
        },
        {
          "data": {
            "text/html": [
              "Finishing last run (ID:e89w1n5t) before initializing another..."
            ],
            "text/plain": [
              "<IPython.core.display.HTML object>"
            ]
          },
          "metadata": {},
          "output_type": "display_data"
        },
        {
          "data": {
            "text/html": [
              "Waiting for W&B process to finish... <strong style=\"color:green\">(success).</strong>"
            ],
            "text/plain": [
              "<IPython.core.display.HTML object>"
            ]
          },
          "metadata": {},
          "output_type": "display_data"
        },
        {
          "name": "stderr",
          "output_type": "stream",
          "text": [
            "wandb: WARNING Source type is set to 'repo' but some required information is missing from the environment. A job will not be created from this run. See https://docs.wandb.ai/guides/launch/create-job\n"
          ]
        },
        {
          "data": {
            "text/html": [
              "<style>\n",
              "    table.wandb td:nth-child(1) { padding: 0 10px; text-align: left ; width: auto;} td:nth-child(2) {text-align: left ; width: 100%}\n",
              "    .wandb-row { display: flex; flex-direction: row; flex-wrap: wrap; justify-content: flex-start; width: 100% }\n",
              "    .wandb-col { display: flex; flex-direction: column; flex-basis: 100%; flex: 1; padding: 10px; }\n",
              "    </style>\n",
              "<div class=\"wandb-row\"><div class=\"wandb-col\"><h3>Run history:</h3><br/><table class=\"wandb\"><tr><td>dev_accuracy</td><td>▁▅▅▆▆▇▇██▇</td></tr><tr><td>train_loss</td><td>█▄▄▃▃▂▂▂▁▁</td></tr></table><br/></div><div class=\"wandb-col\"><h3>Run summary:</h3><br/><table class=\"wandb\"><tr><td>dev_accuracy</td><td>0.44687</td></tr><tr><td>train_loss</td><td>292.17051</td></tr></table><br/></div></div>"
            ],
            "text/plain": [
              "<IPython.core.display.HTML object>"
            ]
          },
          "metadata": {},
          "output_type": "display_data"
        },
        {
          "data": {
            "text/html": [
              " View run <strong style=\"color:#cdcd00\">LSTMClassifier-1701623359</strong> at: <a href='https://wandb.ai/cv1_uva/nlp1-practical2/runs/e89w1n5t' target=\"_blank\">https://wandb.ai/cv1_uva/nlp1-practical2/runs/e89w1n5t</a><br/>Synced 6 W&B file(s), 0 media file(s), 0 artifact file(s) and 0 other file(s)"
            ],
            "text/plain": [
              "<IPython.core.display.HTML object>"
            ]
          },
          "metadata": {},
          "output_type": "display_data"
        },
        {
          "data": {
            "text/html": [
              "Find logs at: <code>./wandb/run-20231203_180919-e89w1n5t/logs</code>"
            ],
            "text/plain": [
              "<IPython.core.display.HTML object>"
            ]
          },
          "metadata": {},
          "output_type": "display_data"
        },
        {
          "data": {
            "text/html": [
              "Successfully finished last run (ID:e89w1n5t). Initializing new run:<br/>"
            ],
            "text/plain": [
              "<IPython.core.display.HTML object>"
            ]
          },
          "metadata": {},
          "output_type": "display_data"
        },
        {
          "name": "stderr",
          "output_type": "stream",
          "text": [
            "wandb: ERROR Error while calling W&B API: project not found (<Response [404]>)\n"
          ]
        },
        {
          "name": "stdout",
          "output_type": "stream",
          "text": [
            "Problem at: /Users/dqmis/miniconda3/envs/ml/lib/python3.11/site-packages/wandb/sdk/wandb_init.py 852 getcaller\n"
          ]
        },
        {
          "ename": "CommError",
          "evalue": "It appears that you do not have permission to access the requested resource. Please reach out to the project owner to grant you access. If you have the correct permissions, verify that there are no issues with your networking setup.(Error 404: Not Found)",
          "output_type": "error",
          "traceback": [
            "\u001b[0;31m---------------------------------------------------------------------------\u001b[0m",
            "\u001b[0;31mCommError\u001b[0m                                 Traceback (most recent call last)",
            "\u001b[1;32m/Users/dqmis/github/nlp1/NLP1_2023_Practical_2.ipynb Cell 149\u001b[0m line \u001b[0;36m4\n\u001b[1;32m     <a href='vscode-notebook-cell:/Users/dqmis/github/nlp1/NLP1_2023_Practical_2.ipynb#Y316sZmlsZQ%3D%3D?line=45'>46</a>\u001b[0m lstm_model \u001b[39m=\u001b[39m get_lstm_model(v, t2i, vectors, fine_tune\u001b[39m=\u001b[39m\u001b[39mFalse\u001b[39;00m)\n\u001b[1;32m     <a href='vscode-notebook-cell:/Users/dqmis/github/nlp1/NLP1_2023_Practical_2.ipynb#Y316sZmlsZQ%3D%3D?line=46'>47</a>\u001b[0m optimizer \u001b[39m=\u001b[39m optim\u001b[39m.\u001b[39mAdam(lstm_model\u001b[39m.\u001b[39mparameters(), lr\u001b[39m=\u001b[39m\u001b[39m2e-4\u001b[39m)\n\u001b[0;32m---> <a href='vscode-notebook-cell:/Users/dqmis/github/nlp1/NLP1_2023_Practical_2.ipynb#Y316sZmlsZQ%3D%3D?line=48'>49</a>\u001b[0m lstm_losses, lstm_accuracies \u001b[39m=\u001b[39m train_model(\n\u001b[1;32m     <a href='vscode-notebook-cell:/Users/dqmis/github/nlp1/NLP1_2023_Practical_2.ipynb#Y316sZmlsZQ%3D%3D?line=49'>50</a>\u001b[0m     lstm_model, optimizer, num_iterations\u001b[39m=\u001b[39;49m\u001b[39m30000\u001b[39;49m,\n\u001b[1;32m     <a href='vscode-notebook-cell:/Users/dqmis/github/nlp1/NLP1_2023_Practical_2.ipynb#Y316sZmlsZQ%3D%3D?line=50'>51</a>\u001b[0m     print_every\u001b[39m=\u001b[39;49m\u001b[39m250\u001b[39;49m, eval_every\u001b[39m=\u001b[39;49m\u001b[39m250\u001b[39;49m,\n\u001b[1;32m     <a href='vscode-notebook-cell:/Users/dqmis/github/nlp1/NLP1_2023_Practical_2.ipynb#Y316sZmlsZQ%3D%3D?line=51'>52</a>\u001b[0m     batch_size\u001b[39m=\u001b[39;49mbatch_size,\n\u001b[1;32m     <a href='vscode-notebook-cell:/Users/dqmis/github/nlp1/NLP1_2023_Practical_2.ipynb#Y316sZmlsZQ%3D%3D?line=52'>53</a>\u001b[0m     batch_fn\u001b[39m=\u001b[39;49mget_minibatch,\n\u001b[1;32m     <a href='vscode-notebook-cell:/Users/dqmis/github/nlp1/NLP1_2023_Practical_2.ipynb#Y316sZmlsZQ%3D%3D?line=53'>54</a>\u001b[0m     prep_fn\u001b[39m=\u001b[39;49mprepare_minibatch,\n\u001b[1;32m     <a href='vscode-notebook-cell:/Users/dqmis/github/nlp1/NLP1_2023_Practical_2.ipynb#Y316sZmlsZQ%3D%3D?line=54'>55</a>\u001b[0m     eval_fn\u001b[39m=\u001b[39;49mevaluate,\n\u001b[1;32m     <a href='vscode-notebook-cell:/Users/dqmis/github/nlp1/NLP1_2023_Practical_2.ipynb#Y316sZmlsZQ%3D%3D?line=55'>56</a>\u001b[0m     use_wandb\u001b[39m=\u001b[39;49m\u001b[39mTrue\u001b[39;49;00m,\n\u001b[1;32m     <a href='vscode-notebook-cell:/Users/dqmis/github/nlp1/NLP1_2023_Practical_2.ipynb#Y316sZmlsZQ%3D%3D?line=56'>57</a>\u001b[0m     run_info\u001b[39m=\u001b[39;49m{\u001b[39m\"\u001b[39;49m\u001b[39mhypothesis\u001b[39;49m\u001b[39m\"\u001b[39;49m: \u001b[39m\"\u001b[39;49m\u001b[39mDoes order matter?\u001b[39;49m\u001b[39m\"\u001b[39;49m, \u001b[39m\"\u001b[39;49m\u001b[39morder\u001b[39;49m\u001b[39m\"\u001b[39;49m: \u001b[39m\"\u001b[39;49m\u001b[39mnormal\u001b[39;49m\u001b[39m\"\u001b[39;49m}\n\u001b[1;32m     <a href='vscode-notebook-cell:/Users/dqmis/github/nlp1/NLP1_2023_Practical_2.ipynb#Y316sZmlsZQ%3D%3D?line=57'>58</a>\u001b[0m )\n\u001b[1;32m     <a href='vscode-notebook-cell:/Users/dqmis/github/nlp1/NLP1_2023_Practical_2.ipynb#Y316sZmlsZQ%3D%3D?line=60'>61</a>\u001b[0m lstm_model \u001b[39m=\u001b[39m get_lstm_model(v, t2i, vectors, fine_tune\u001b[39m=\u001b[39m\u001b[39mFalse\u001b[39;00m)\n\u001b[1;32m     <a href='vscode-notebook-cell:/Users/dqmis/github/nlp1/NLP1_2023_Practical_2.ipynb#Y316sZmlsZQ%3D%3D?line=61'>62</a>\u001b[0m optimizer \u001b[39m=\u001b[39m optim\u001b[39m.\u001b[39mAdam(lstm_model\u001b[39m.\u001b[39mparameters(), lr\u001b[39m=\u001b[39m\u001b[39m2e-4\u001b[39m)\n",
            "\u001b[1;32m/Users/dqmis/github/nlp1/NLP1_2023_Practical_2.ipynb Cell 149\u001b[0m line \u001b[0;36m2\n\u001b[1;32m     <a href='vscode-notebook-cell:/Users/dqmis/github/nlp1/NLP1_2023_Practical_2.ipynb#Y316sZmlsZQ%3D%3D?line=16'>17</a>\u001b[0m   \u001b[39mif\u001b[39;00m run_info \u001b[39mis\u001b[39;00m \u001b[39mnot\u001b[39;00m \u001b[39mNone\u001b[39;00m:\n\u001b[1;32m     <a href='vscode-notebook-cell:/Users/dqmis/github/nlp1/NLP1_2023_Practical_2.ipynb#Y316sZmlsZQ%3D%3D?line=17'>18</a>\u001b[0m     config\u001b[39m.\u001b[39mupdate(run_info)\n\u001b[0;32m---> <a href='vscode-notebook-cell:/Users/dqmis/github/nlp1/NLP1_2023_Practical_2.ipynb#Y316sZmlsZQ%3D%3D?line=19'>20</a>\u001b[0m   wandb\u001b[39m.\u001b[39;49minit(\n\u001b[1;32m     <a href='vscode-notebook-cell:/Users/dqmis/github/nlp1/NLP1_2023_Practical_2.ipynb#Y316sZmlsZQ%3D%3D?line=20'>21</a>\u001b[0m     project\u001b[39m=\u001b[39;49m\u001b[39m\"\u001b[39;49m\u001b[39mnlp1-practical2\u001b[39;49m\u001b[39m\"\u001b[39;49m,\n\u001b[1;32m     <a href='vscode-notebook-cell:/Users/dqmis/github/nlp1/NLP1_2023_Practical_2.ipynb#Y316sZmlsZQ%3D%3D?line=21'>22</a>\u001b[0m     name\u001b[39m=\u001b[39;49mmodel\u001b[39m.\u001b[39;49m\u001b[39m__class__\u001b[39;49m\u001b[39m.\u001b[39;49m\u001b[39m__name__\u001b[39;49m \u001b[39m+\u001b[39;49m \u001b[39m\"\u001b[39;49m\u001b[39m-\u001b[39;49m\u001b[39m\"\u001b[39;49m \u001b[39m+\u001b[39;49m \u001b[39mstr\u001b[39;49m(\u001b[39mint\u001b[39;49m(time\u001b[39m.\u001b[39;49mtime())),\n\u001b[1;32m     <a href='vscode-notebook-cell:/Users/dqmis/github/nlp1/NLP1_2023_Practical_2.ipynb#Y316sZmlsZQ%3D%3D?line=22'>23</a>\u001b[0m     config\u001b[39m=\u001b[39;49mconfig\n\u001b[1;32m     <a href='vscode-notebook-cell:/Users/dqmis/github/nlp1/NLP1_2023_Practical_2.ipynb#Y316sZmlsZQ%3D%3D?line=23'>24</a>\u001b[0m   )\n\u001b[1;32m     <a href='vscode-notebook-cell:/Users/dqmis/github/nlp1/NLP1_2023_Practical_2.ipynb#Y316sZmlsZQ%3D%3D?line=26'>27</a>\u001b[0m \u001b[39m\u001b[39m\u001b[39m\"\"\"Train a model.\"\"\"\u001b[39;00m\n\u001b[1;32m     <a href='vscode-notebook-cell:/Users/dqmis/github/nlp1/NLP1_2023_Practical_2.ipynb#Y316sZmlsZQ%3D%3D?line=27'>28</a>\u001b[0m iter_i \u001b[39m=\u001b[39m \u001b[39m0\u001b[39m\n",
            "File \u001b[0;32m~/miniconda3/envs/ml/lib/python3.11/site-packages/wandb/sdk/wandb_init.py:1189\u001b[0m, in \u001b[0;36minit\u001b[0;34m(job_type, dir, config, project, entity, reinit, tags, group, name, notes, magic, config_exclude_keys, config_include_keys, anonymous, mode, allow_val_change, resume, force, tensorboard, sync_tensorboard, monitor_gym, save_code, id, settings)\u001b[0m\n\u001b[1;32m   1187\u001b[0m     \u001b[39mif\u001b[39;00m logger \u001b[39mis\u001b[39;00m \u001b[39mnot\u001b[39;00m \u001b[39mNone\u001b[39;00m:\n\u001b[1;32m   1188\u001b[0m         logger\u001b[39m.\u001b[39mexception(\u001b[39mstr\u001b[39m(e))\n\u001b[0;32m-> 1189\u001b[0m     \u001b[39mraise\u001b[39;00m e\n\u001b[1;32m   1190\u001b[0m \u001b[39mexcept\u001b[39;00m \u001b[39mKeyboardInterrupt\u001b[39;00m \u001b[39mas\u001b[39;00m e:\n\u001b[1;32m   1191\u001b[0m     \u001b[39massert\u001b[39;00m logger\n",
            "File \u001b[0;32m~/miniconda3/envs/ml/lib/python3.11/site-packages/wandb/sdk/wandb_init.py:1170\u001b[0m, in \u001b[0;36minit\u001b[0;34m(job_type, dir, config, project, entity, reinit, tags, group, name, notes, magic, config_exclude_keys, config_include_keys, anonymous, mode, allow_val_change, resume, force, tensorboard, sync_tensorboard, monitor_gym, save_code, id, settings)\u001b[0m\n\u001b[1;32m   1168\u001b[0m except_exit \u001b[39m=\u001b[39m wi\u001b[39m.\u001b[39msettings\u001b[39m.\u001b[39m_except_exit\n\u001b[1;32m   1169\u001b[0m \u001b[39mtry\u001b[39;00m:\n\u001b[0;32m-> 1170\u001b[0m     run \u001b[39m=\u001b[39m wi\u001b[39m.\u001b[39;49minit()\n\u001b[1;32m   1171\u001b[0m     except_exit \u001b[39m=\u001b[39m wi\u001b[39m.\u001b[39msettings\u001b[39m.\u001b[39m_except_exit\n\u001b[1;32m   1172\u001b[0m \u001b[39mexcept\u001b[39;00m (\u001b[39mKeyboardInterrupt\u001b[39;00m, \u001b[39mException\u001b[39;00m) \u001b[39mas\u001b[39;00m e:\n",
            "File \u001b[0;32m~/miniconda3/envs/ml/lib/python3.11/site-packages/wandb/sdk/wandb_init.py:785\u001b[0m, in \u001b[0;36m_WandbInit.init\u001b[0;34m(self)\u001b[0m\n\u001b[1;32m    783\u001b[0m         backend\u001b[39m.\u001b[39mcleanup()\n\u001b[1;32m    784\u001b[0m         \u001b[39mself\u001b[39m\u001b[39m.\u001b[39mteardown()\n\u001b[0;32m--> 785\u001b[0m     \u001b[39mraise\u001b[39;00m error\n\u001b[1;32m    787\u001b[0m \u001b[39massert\u001b[39;00m run_result \u001b[39mis\u001b[39;00m \u001b[39mnot\u001b[39;00m \u001b[39mNone\u001b[39;00m  \u001b[39m# for mypy\u001b[39;00m\n\u001b[1;32m    789\u001b[0m \u001b[39mif\u001b[39;00m \u001b[39mnot\u001b[39;00m run_result\u001b[39m.\u001b[39mHasField(\u001b[39m\"\u001b[39m\u001b[39mrun\u001b[39m\u001b[39m\"\u001b[39m):\n",
            "\u001b[0;31mCommError\u001b[0m: It appears that you do not have permission to access the requested resource. Please reach out to the project owner to grant you access. If you have the correct permissions, verify that there are no issues with your networking setup.(Error 404: Not Found)"
          ]
        },
        {
          "name": "stdout",
          "output_type": "stream",
          "text": [
            "Error in callback <bound method _WandbInit._pause_backend of <wandb.sdk.wandb_init._WandbInit object at 0x17fc4b690>> (for post_run_cell), with arguments args (<ExecutionResult object at 17f684d90, execution_count=209 error_before_exec=None error_in_exec=It appears that you do not have permission to access the requested resource. Please reach out to the project owner to grant you access. If you have the correct permissions, verify that there are no issues with your networking setup.(Error 404: Not Found) info=<ExecutionInfo object at 17e658e50, raw_cell=\"# How important is the order of the words in the i..\" store_history=True silent=False shell_futures=True cell_id=vscode-notebook-cell:/Users/dqmis/github/nlp1/NLP1_2023_Practical_2.ipynb#Y316sZmlsZQ%3D%3D> result=None>,),kwargs {}:\n"
          ]
        },
        {
          "ename": "TypeError",
          "evalue": "_WandbInit._pause_backend() takes 1 positional argument but 2 were given",
          "output_type": "error",
          "traceback": [
            "\u001b[0;31m---------------------------------------------------------------------------\u001b[0m",
            "\u001b[0;31mTypeError\u001b[0m                                 Traceback (most recent call last)",
            "\u001b[0;31mTypeError\u001b[0m: _WandbInit._pause_backend() takes 1 positional argument but 2 were given"
          ]
        }
      ],
      "source": [
        "# How important is the order of the words in the input?\n",
        "\n",
        "# Let's try to reverse the input sentences and see what happens.\n",
        "# We will use a new reader that returns reversed sentences.\n",
        "\n",
        "def prepare_unordered_minibatch(mb, vocab, shuffle=False, reverse=False):\n",
        "    \"\"\"\n",
        "    Minibatch is a list of examples.\n",
        "    This function converts words to IDs and returns\n",
        "    torch tensors to be used as input/targets.\n",
        "    \"\"\"\n",
        "    batch_size = len(mb)\n",
        "    maxlen = max([len(ex.tokens) for ex in mb])\n",
        "\n",
        "    if reverse:\n",
        "        x = [pad([vocab.w2i.get(t, 0) for t in ex.tokens], maxlen)[::-1] for ex in mb]\n",
        "    elif shuffle:\n",
        "        x = [pad([vocab.w2i.get(t, 0) for t in ex.tokens], maxlen) for ex in mb]\n",
        "        random.shuffle(x)\n",
        "    else:\n",
        "        x = [pad([vocab.w2i.get(t, 0) for t in ex.tokens], maxlen) for ex in mb]\n",
        "\n",
        "    x = torch.LongTensor(x)\n",
        "    x = x.to(device)\n",
        "\n",
        "    y = [ex.label for ex in mb]\n",
        "    y = torch.LongTensor(y)\n",
        "    y = y.to(device)\n",
        "\n",
        "    return x, y\n",
        "\n",
        "# Let's test our new function.\n",
        "# This should give us 3 examples.\n",
        "mb = next(get_minibatch(train_data, batch_size=1, shuffle=False))\n",
        "\n",
        "normal_mb = prepare_unordered_minibatch(mb, v)\n",
        "reversed_mb = prepare_unordered_minibatch(mb, v, reverse=True)\n",
        "shuffled_mb = prepare_unordered_minibatch(mb, v, shuffle=True)\n",
        "\n",
        "print(\"Normal:\", normal_mb[0])\n",
        "print(\"Reversed:\", reversed_mb[0])\n",
        "print(\"Shuffled:\", shuffled_mb[0])\n",
        "\n",
        "batch_size = 25\n",
        "\n",
        "lstm_model = get_lstm_model(v, t2i, vectors, fine_tune=False)\n",
        "optimizer = optim.Adam(lstm_model.parameters(), lr=2e-4)\n",
        "\n",
        "lstm_losses, lstm_accuracies = train_model(\n",
        "    lstm_model, optimizer, num_iterations=30000,\n",
        "    print_every=250, eval_every=250,\n",
        "    batch_size=batch_size,\n",
        "    batch_fn=get_minibatch,\n",
        "    prep_fn=prepare_minibatch,\n",
        "    eval_fn=evaluate,\n",
        "    use_wandb=True,\n",
        "    run_info={\"hypothesis\": \"Does order matter?\", \"order\": \"normal\"}\n",
        ")\n",
        "\n",
        "\n",
        "lstm_model = get_lstm_model(v, t2i, vectors, fine_tune=False)\n",
        "optimizer = optim.Adam(lstm_model.parameters(), lr=2e-4)\n",
        "\n",
        "lstm_losses, lstm_accuracies = train_model(\n",
        "    lstm_model, optimizer, num_iterations=30000,\n",
        "    print_every=250, eval_every=250,\n",
        "    batch_size=batch_size,\n",
        "    batch_fn=get_minibatch,\n",
        "    prep_fn=lambda mb, v: prepare_unordered_minibatch(mb, v, shuffle=True),\n",
        "    eval_fn=evaluate,\n",
        "    use_wandb=True,\n",
        "    run_info={\"hypothesis\": \"Does order matter?\", \"order\": \"shuffled\"}\n",
        ")\n",
        "\n",
        "lstm_model = get_lstm_model(v, t2i, vectors, fine_tune=False)\n",
        "optimizer = optim.Adam(lstm_model.parameters(), lr=2e-4)\n",
        "\n",
        "lstm_losses, lstm_accuracies = train_model(\n",
        "    lstm_model, optimizer, num_iterations=30000,\n",
        "    print_every=250, eval_every=250,\n",
        "    batch_size=batch_size,\n",
        "    batch_fn=get_minibatch,\n",
        "    prep_fn=lambda mb, v: prepare_unordered_minibatch(mb, v, reverse=True),\n",
        "    eval_fn=evaluate,\n",
        "    use_wandb=True,\n",
        "    run_info={\"hypothesis\": \"Does order matter?\", \"order\": \"reversed\"}\n",
        ")"
      ]
    },
    {
      "cell_type": "markdown",
      "metadata": {
        "id": "f7QZZH86eHqu"
      },
      "source": [
        "# Further experiments and report\n",
        "\n",
        "For your report, you are expected to answer research questions by doing further experiments.\n",
        "\n",
        "## Research Questions\n",
        "\n",
        "Make sure you cover at least the following:\n",
        "\n",
        "- How important is word order for this task?\n",
        "- Does the tree structure help to get a better accuracy?\n",
        "- How does performance depend on the sentence length? Compare the various models. Is there a model that does better on longer sentences? If so, why?\n",
        "- Do you get better performance if you supervise the sentiment **at each node in the tree**? You can extract more training examples by treating every node in each tree as a separate tree. You will need to write a function that extracts all subtrees given a treestring.\n",
        "    - Warning: NLTK's Tree function seems to result in invalid trees in some cases, so be careful if you want to parse the string to a tree structure before extraction the phrases.\n",
        "\n",
        "**To be able to obtain a full grade (10), you should conduct further investigations.** For example, you can also investigate one the following:\n",
        "\n",
        "- When making a wrong prediction, can you figure out at what point in the tree (sentence) the model fails? You can make a prediction at each node to investigate.\n",
        "- How does N-ary Tree LSTM compare to the Child-Sum Tree LSTM?\n",
        "- How do the Tai et al. Tree LSTMs compare to Le & Zuidema's formulation?\n",
        "- Or... your own research question!\n",
        "\n",
        "These examples should give you an idea of the expected scope of your further investigations.\n",
        "\n",
        "In general:\n",
        "\n",
        "- ***When you report numbers, please report the mean accuracy across 3 (or more) runs with different random seed, together with the standard deviation.*** This is because the final performance may vary per random seed.\n",
        "More precisely, you should run each model with 3 different seeds, and for each of these 3 runs, evaluate the best model (according to the validation) on the test dataset. The validation dataset is used for finding the best model over iterations, but the accuracy you report should be on the test dataset.\n",
        "\n",
        "## Report instructions\n",
        "\n",
        "Your report needs to be written in LaTeX. You are required to use the ACL 2023 template which you can download from or edit directly on [Overleaf](https://www.overleaf.com/latex/templates/acl-2023-proceedings-template/qjdgcrdwcnwp). Make sure your names and student numbers are visible at the top. (Tip: you need to uncomment `\\aclfinalcopy`).\n",
        "You can find some general tips about writing a research paper [here](https://www.microsoft.com/en-us/research/academic-program/write-great-research-paper/), but note that you need to make your own judgment about what is appropriate for this project.\n",
        "\n",
        "We expect you to use the following structure:\n",
        "1. Introduction (~1 page) - describe the problem, your research questions and goals, a summary of your findings and contributions. Please cite related work (models, data set) as part of your introduction here, since this is a short paper.\n",
        "    - Introduce the task and the main goal\n",
        "    - Present your research questions\n",
        "    - Motivate the importance of the questions\n",
        "    - Present and explain your expectations\n",
        "    - Make clear whether the research questions are addressed or not addressed in the literature\n",
        "    - Describe the approach you use to answer the research questions\n",
        "    - Summarise your findings\n",
        "2. Background (~1/2-1 page) -\n",
        "cover the main techniques (\"building blocks\") used in your project (e.g. word embeddings, LSTM, Tree-LSTM) and intuitions behind them. Be accurate and concise.\n",
        "    - How does each technique work? (Don't just copy the formulas)\n",
        "    - What is the relation between the techniques?\n",
        "3. Models (~1/2 page) - Describe the architecture of the final models.\n",
        "    - How do you use LSTM or Tree-LSTM for the sentiment classification task?\n",
        "    - What layers do you have, how do you do classification?\n",
        "    - What is your loss function?\n",
        "    - Etc.\n",
        "4. Experiments (~1/2 page) - Describe your experimental setup. This section should allow someone else to reproduce your experiments. Describe how you evaluate the models.\n",
        "    - Task and the data\n",
        "    - Training (model, data, parameters and hyper parameters, training algorithms, supervision signals, etc.)\n",
        "    - Evaluation (e.g. metrics)\n",
        "5. Results and Analysis (~1 page). Present the results and analyse your findings.\n",
        "    - Answer each of the research questions you raised in the introduction.\n",
        "    - Use figures and tables to highlight interesting patterns\n",
        "    - What are the factors that make model A better than model B in task C? Investigate to prove their effect!\n",
        "6. Conclusion (~1/4 page). Present the conclusions that can be drawn from your experiments.\n",
        "    - What have you learned from you experiments?\n",
        "    - How do your findings relate to what is already known in the literature?\n",
        "    - Were the results as expected? Any surprising results? Why?\n",
        "    - Based on what you learned, what would you suggest doing next?\n",
        "\n",
        "\n",
        "General Tips:\n",
        "\n",
        "- Math notation – define each variable (either in running text, or in a pseudo-legenda after or before the equation).\n",
        "- Define technical terminology you need.\n",
        "- Avoid colloquial language – everything can be said in a scientific-sounding way.\n",
        "- Avoid lengthy sentences, stay to the point.\n",
        "- Do not spend space on \"obvious\" things.\n",
        "- Do not go over the page limit. (We will deduct points for that.)\n",
        "- The page limit is 4 pages excluding references and appendix. This is a strict limit; points will be deducted for longer reports.\n",
        "- There is no strict limit to references and appendix. However, the report needs to remain fully self-contained: the appendix should only include content that is not necessary to understand your work. For example, preprocessing decisions, model parameters, pseudocode, sample system inputs/outputs, and other details that are necessary for the exact replication of your work can be put into the appendix.\n",
        "\n",
        "\n",
        "An ideal report:\n",
        "- Precise, scientific-sounding, technical, to the point\n",
        "  - Little general “waffle”/chit-chat\n",
        "- Not boring – because you don’t explain obvious things too much\n",
        "- Efficient delivery of (only) the facts that we need to know to understand/reimplement\n",
        "- Results visually well-presented and described with the correct priority of importance of sub-results\n",
        "- Insightful analysis – speculation should connect to something interesting and not be too much; the reader “learns something new”\n",
        "- No typos, no colloquialisms – well-considered language\n",
        "- This normally means several re-draftings (re-orderings of information)\n"
      ]
    }
  ],
  "metadata": {
    "accelerator": "GPU",
    "colab": {
      "provenance": []
    },
    "kernelspec": {
      "display_name": "Python 3",
      "name": "python3"
    },
    "language_info": {
      "codemirror_mode": {
        "name": "ipython",
        "version": 3
      },
      "file_extension": ".py",
      "mimetype": "text/x-python",
      "name": "python",
      "nbconvert_exporter": "python",
      "pygments_lexer": "ipython3",
      "version": "3.11.6"
    }
  },
  "nbformat": 4,
  "nbformat_minor": 0
}
