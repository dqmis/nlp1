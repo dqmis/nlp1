{
 "cells": [
  {
   "cell_type": "markdown",
   "metadata": {
    "id": "ptMZZMQlfn7c"
   },
   "source": [
    "------\n",
    "**You cannot apply any changes to this file, so please make sure to save it on your Google Colab drive or download it as a .ipynb file.**\n",
    "\n",
    "------\n"
   ]
  },
  {
   "cell_type": "markdown",
   "metadata": {
    "id": "jILqpPLlE9r0"
   },
   "source": [
    "# Practical 2: Representing Sentences with Neural Models"
   ]
  },
  {
   "cell_type": "markdown",
   "metadata": {
    "id": "8JXOZ5uhQ8Qq"
   },
   "source": [
    "In this second practical, we will train neural network models to obtain sentence representations. We can then use these sentence representations for a downstream task such as sentiment classification.\n",
    "\n",
    "In this notebook, we will help you to develop models for your experiments. But this time, next to completing the notebook, **you are expected to write a four-page scientific report with your findings**. Please still submit the notebook together with your scientific report so that we can reproduce your experiments. (Note: if you find it useful, you can split this notebook into multiple notebooks. If you do so, keep it mind that it should be possible for your TAs to reproduce the entire content of the notebooks without having to ask for clarifications or to copy and paste functions from one sub-notebook to another.) Make sure your code corresponds to the description you give in the report; we will deduct points if this is not the case.\n",
    "\n",
    "**Important!** The main purpose of this lab is for you to learn how to answer research questions by experimenting and then writing a scientific report.\n",
    "So you will be *judged by the quality of your report* but will lose points if your experiments are not reproducible.\n",
    "You can find the requirements for the report at the end of this notebook.\n",
    "\n",
    "\n",
    "### Data set\n",
    "We will use the [Stanford Sentiment Treebank](https://nlp.stanford.edu/sentiment/) (SST), which provides sentences, their binary tree structure, and fine-grained sentiment scores.\n",
    "This dataset is different from the one we used in the first practical.\n",
    "In Practical 1, a review consisted of several sentences, and we had one sentiment score for the whole review. Now, a review consists of a single sentence, and we have a sentiment score for each node in the binary tree that makes up the sentence, including the root node (i.e., we still have an overall sentiment score for the entire review). We will look at an example below.\n",
    "\n",
    "In the first part of this practical we will only make use of the sentence tokens whereas in the second part we will also exploit the tree structure that is provided by the SST.\n",
    "\n",
    "We will cover the following approaches:\n",
    "\n",
    "- Bag-of-words (BOW)\n",
    "- Continuous bag-of-words (CBOW)\n",
    "- Deep continuous bag-of-words (Deep CBOW)\n",
    "- LSTM\n",
    "- Tree-LSTM\n"
   ]
  },
  {
   "cell_type": "markdown",
   "metadata": {
    "id": "YbNKef3lymaj"
   },
   "source": [
    "## Preparing the data"
   ]
  },
  {
   "cell_type": "markdown",
   "metadata": {
    "id": "9jxTkpg59FlU"
   },
   "source": [
    "Let's first download the data set and take a look."
   ]
  },
  {
   "cell_type": "code",
   "execution_count": 1,
   "metadata": {
    "id": "WZp53HmMP3F2"
   },
   "outputs": [],
   "source": [
    "import math\n",
    "import random\n",
    "import re\n",
    "import time\n",
    "from collections import Counter, OrderedDict, defaultdict, namedtuple\n",
    "from typing import Dict, List, Set, Tuple, Union\n",
    "\n",
    "import matplotlib\n",
    "import matplotlib.pyplot as plt\n",
    "import nltk\n",
    "import numpy as np\n",
    "import pandas as pd\n",
    "import seaborn as sns\n",
    "import torch\n",
    "from nltk import Tree\n",
    "from nltk.treeprettyprinter import TreePrettyPrinter\n",
    "from sklearn.metrics import classification_report, f1_score\n",
    "from sklearn.utils.class_weight import compute_class_weight\n",
    "from torch import nn, optim\n",
    "\n",
    "plt.style.use(\"default\")"
   ]
  },
  {
   "cell_type": "code",
   "execution_count": 2,
   "metadata": {},
   "outputs": [],
   "source": [
    "import warnings\n",
    "\n",
    "warnings.filterwarnings(\"ignore\")"
   ]
  },
  {
   "cell_type": "code",
   "execution_count": 3,
   "metadata": {},
   "outputs": [
    {
     "name": "stdout",
     "output_type": "stream",
     "text": [
      "Using device cuda\n"
     ]
    }
   ],
   "source": [
    "torch.manual_seed(42)\n",
    "random.seed(42)\n",
    "\n",
    "if torch.cuda.is_available():\n",
    "    torch.backends.cudnn.deterministic = True\n",
    "    torch.backends.cudnn.benchmark = False\n",
    "\n",
    "device = torch.device(\"cuda\" if torch.cuda.is_available() else \"cpu\")\n",
    "\n",
    "print(\"Using device\", device)"
   ]
  },
  {
   "cell_type": "code",
   "execution_count": 4,
   "metadata": {},
   "outputs": [],
   "source": [
    "try:\n",
    "    from wandb import wandb\n",
    "except ImportError:\n",
    "    !pip install wandb"
   ]
  },
  {
   "cell_type": "markdown",
   "metadata": {},
   "source": [
    "Experiment config"
   ]
  },
  {
   "cell_type": "code",
   "execution_count": 5,
   "metadata": {},
   "outputs": [],
   "source": [
    "USE_GOOGLE = False\n",
    "LARGER_BATCH_SIZE = False\n",
    "USE_CLASS_WEIGHTS = False\n",
    "USE_SHORT_DATASET = True\n",
    "USE_LONG_DATASET = False\n",
    "TEST_WORD_ORDER = False"
   ]
  },
  {
   "cell_type": "code",
   "execution_count": 6,
   "metadata": {},
   "outputs": [],
   "source": [
    "LAST_MODEL = None"
   ]
  },
  {
   "cell_type": "code",
   "execution_count": 7,
   "metadata": {},
   "outputs": [],
   "source": [
    "if LARGER_BATCH_SIZE:\n",
    "    BATCH_SIZE = 250\n",
    "    NUM_STEPS = 3000\n",
    "else:\n",
    "    BATCH_SIZE = 250\n",
    "    NUM_STEPS = 3000\n",
    "\n",
    "NUM_STEPS_UNBATCHED = 30000"
   ]
  },
  {
   "cell_type": "code",
   "execution_count": 8,
   "metadata": {},
   "outputs": [],
   "source": [
    "HYPOTHESIS = \"\"\n",
    "\n",
    "if USE_CLASS_WEIGHTS:\n",
    "    HYPOTHESIS += \"-class_weights\"\n",
    "if LARGER_BATCH_SIZE:\n",
    "    HYPOTHESIS += \"-larger_batch_size\"\n",
    "if USE_SHORT_DATASET:\n",
    "    HYPOTHESIS += \"-short_dataset\"\n",
    "if USE_LONG_DATASET:\n",
    "    HYPOTHESIS += \"-long_dataset\"\n",
    "if USE_GOOGLE:\n",
    "    HYPOTHESIS += \"-google_embeddings\"\n",
    "if TEST_WORD_ORDER:\n",
    "    HYPOTHESIS += \"-test_word_order\""
   ]
  },
  {
   "cell_type": "code",
   "execution_count": 9,
   "metadata": {},
   "outputs": [],
   "source": [
    "# TO PREVENT WANDB FROM RUNNING DISABLE IT HERE\n",
    "USE_WANDB = True\n",
    "# every test run will run three times unless you change this to 1\n",
    "RUNS = 3"
   ]
  },
  {
   "cell_type": "code",
   "execution_count": 10,
   "metadata": {
    "id": "TovFkDTgE_d6"
   },
   "outputs": [],
   "source": [
    "# !wget http://nlp.stanford.edu/sentiment/trainDevTestTrees_PTB.zip\n",
    "# !unzip trainDevTestTrees_PTB.zip"
   ]
  },
  {
   "cell_type": "code",
   "execution_count": 11,
   "metadata": {},
   "outputs": [],
   "source": [
    "LABELS = [\"negative\", \"somewhat negative\", \"neutral\", \"somewhat positive\", \"positive\"]"
   ]
  },
  {
   "cell_type": "code",
   "execution_count": 12,
   "metadata": {
    "id": "0IpAphkBO5eW"
   },
   "outputs": [],
   "source": [
    "# this function reads in a textfile and fixes an issue with \"\\\\\"\n",
    "\n",
    "\n",
    "def filereader(path):\n",
    "    with open(path, mode=\"r\", encoding=\"utf-8\") as f:\n",
    "        for line in f:\n",
    "            yield line.strip().replace(\"\\\\\", \"\")"
   ]
  },
  {
   "cell_type": "markdown",
   "metadata": {
    "id": "yP_jpquiprH8"
   },
   "source": [
    "Let's look at a data point. It is a **flattened binary tree**, with sentiment scores at every node, and words as the leaves (or *terminal nodes*)."
   ]
  },
  {
   "cell_type": "code",
   "execution_count": 13,
   "metadata": {
    "colab": {
     "base_uri": "https://localhost:8080/"
    },
    "id": "ylkIopm0QJML",
    "outputId": "6dc60009-e7a4-4002-db37-d4f49bca1607"
   },
   "outputs": [
    {
     "name": "stdout",
     "output_type": "stream",
     "text": [
      "(3 (2 It) (4 (4 (2 's) (4 (3 (2 a) (4 (3 lovely) (2 film))) (3 (2 with) (4 (3 (3 lovely) (2 performances)) (2 (2 by) (2 (2 (2 Buy) (2 and)) (2 Accorsi))))))) (2 .)))\n"
     ]
    }
   ],
   "source": [
    "s = next(filereader(\"trees/dev.txt\"))\n",
    "print(s)"
   ]
  },
  {
   "cell_type": "code",
   "execution_count": 14,
   "metadata": {
    "colab": {
     "base_uri": "https://localhost:8080/"
    },
    "id": "7_U7HTFwdrWt",
    "outputId": "80055d7f-8755-423b-8804-3363222bc06b"
   },
   "outputs": [
    {
     "name": "stdout",
     "output_type": "stream",
     "text": [
      "              3                                                                     \n",
      "  ____________|____________________                                                  \n",
      " |                                 4                                                \n",
      " |        _________________________|______________________________________________   \n",
      " |       4                                                                        | \n",
      " |    ___|______________                                                          |  \n",
      " |   |                  4                                                         | \n",
      " |   |         _________|__________                                               |  \n",
      " |   |        |                    3                                              | \n",
      " |   |        |               _____|______________________                        |  \n",
      " |   |        |              |                            4                       | \n",
      " |   |        |              |            ________________|_______                |  \n",
      " |   |        |              |           |                        2               | \n",
      " |   |        |              |           |                 _______|___            |  \n",
      " |   |        3              |           |                |           2           | \n",
      " |   |    ____|_____         |           |                |        ___|_____      |  \n",
      " |   |   |          4        |           3                |       2         |     | \n",
      " |   |   |     _____|___     |      _____|_______         |    ___|___      |     |  \n",
      " 2   2   2    3         2    2     3             2        2   2       2     2     2 \n",
      " |   |   |    |         |    |     |             |        |   |       |     |     |  \n",
      " It  's  a  lovely     film with lovely     performances  by Buy     and Accorsi  . \n",
      "\n"
     ]
    }
   ],
   "source": [
    "# We can use NLTK to better visualise the tree structure of the sentence\n",
    "\n",
    "tree = Tree.fromstring(s)\n",
    "print(TreePrettyPrinter(tree))"
   ]
  },
  {
   "cell_type": "markdown",
   "metadata": {
    "id": "ekAWKsji9t93"
   },
   "source": [
    "The sentiment scores range from 0 (very negative) to 5 (very positive). Again, as you can see, every node in the tree is labeled with a sentiment score. For now, we will only use the score at the **root node**, i.e., the sentiment score for the complete sentence."
   ]
  },
  {
   "cell_type": "code",
   "execution_count": 15,
   "metadata": {
    "colab": {
     "base_uri": "https://localhost:8080/"
    },
    "id": "DKynLm0xPKr2",
    "outputId": "bc0a3ccf-2ed2-4f4d-e3f8-e3330dcb18de"
   },
   "outputs": [
    {
     "name": "stdout",
     "output_type": "stream",
     "text": [
      "['It', \"'s\", 'a', 'lovely', 'film', 'with', 'lovely', 'performances', 'by', 'Buy', 'and', 'Accorsi', '.']\n",
      "13\n"
     ]
    }
   ],
   "source": [
    "# Let's first make a function that extracts the tokens (the leaves).\n",
    "\n",
    "\n",
    "def tokens_from_treestring(s):\n",
    "    \"\"\"extract the tokens from a sentiment tree\"\"\"\n",
    "    return re.sub(r\"\\([0-9] |\\)\", \"\", s).split()\n",
    "\n",
    "\n",
    "# let's try it on our example tree\n",
    "tokens = tokens_from_treestring(s)\n",
    "print(tokens)\n",
    "print(len(tokens))"
   ]
  },
  {
   "cell_type": "markdown",
   "metadata": {
    "id": "B8vFkeqN-NLP"
   },
   "source": [
    "> *Warning: you could also parse a treestring using NLTK and ask it to return the leaves, but there seems to be an issue with NLTK not always correctly parsing the input, so do not rely on it.*"
   ]
  },
  {
   "cell_type": "code",
   "execution_count": 16,
   "metadata": {},
   "outputs": [],
   "source": [
    "# We will also need the following function, but you can ignore this for now.\n",
    "# It is explained later on.\n",
    "\n",
    "SHIFT = 0\n",
    "REDUCE = 1\n",
    "\n",
    "\n",
    "def transitions_from_treestring(s):\n",
    "    s = re.sub(\"\\([0-5] ([^)]+)\\)\", \"0\", s)\n",
    "    s = re.sub(\"\\)\", \" )\", s)\n",
    "    s = re.sub(\"\\([0-4] \", \"\", s)\n",
    "    s = re.sub(\"\\([0-4] \", \"\", s)\n",
    "    s = re.sub(\"\\)\", \"1\", s)\n",
    "    return list(map(int, s.split()))"
   ]
  },
  {
   "cell_type": "code",
   "execution_count": 17,
   "metadata": {
    "colab": {
     "base_uri": "https://localhost:8080/"
    },
    "id": "mNtPdlwPgRat",
    "outputId": "9c999c1a-80e0-4e56-cfe0-b543b20985f2"
   },
   "outputs": [
    {
     "name": "stdout",
     "output_type": "stream",
     "text": [
      "trees/train.txt  8544\n",
      "trees/dev.txt    1101\n",
      "trees/test.txt   2210\n"
     ]
    }
   ],
   "source": [
    "# Now let's first see how large our data sets are.\n",
    "for path in (\"trees/train.txt\", \"trees/dev.txt\", \"trees/test.txt\"):\n",
    "    print(\"{:16s} {:4d}\".format(path, sum(1 for _ in filereader(path))))"
   ]
  },
  {
   "cell_type": "markdown",
   "metadata": {
    "id": "HexlSqTR_UrY"
   },
   "source": [
    "You can see that the number of sentences is not very large. That's probably because the data set required so much manual annotation. However, it is large enough to train a neural network on."
   ]
  },
  {
   "cell_type": "markdown",
   "metadata": {
    "id": "IfRjelOcsXuC"
   },
   "source": [
    "It will be useful to store each data example in an `Example` object,\n",
    "containing everything that we may need for each data point.\n",
    "It will contain the tokens, the tree, the top-level sentiment label, and\n",
    "the transitions (explained later)."
   ]
  },
  {
   "cell_type": "code",
   "execution_count": 18,
   "metadata": {
    "colab": {
     "base_uri": "https://localhost:8080/"
    },
    "id": "4I07Hb_-q8wg",
    "outputId": "cc2a8f6b-3170-45be-a6d5-9b68d34b80ff"
   },
   "outputs": [
    {
     "name": "stdout",
     "output_type": "stream",
     "text": [
      "train 8544\n",
      "dev 1101\n",
      "test 2210\n"
     ]
    }
   ],
   "source": [
    "# A simple way to define a class is using namedtuple.\n",
    "Example = namedtuple(\"Example\", [\"tokens\", \"tree\", \"label\", \"transitions\"])\n",
    "\n",
    "\n",
    "def extract_subtrees(tree_string):\n",
    "    # Remove the top-level tree enclosure\n",
    "    tree_string = tree_string[2:-1]\n",
    "\n",
    "    subtrees = []\n",
    "    balance = 0\n",
    "    subtree_start = None\n",
    "\n",
    "    for i, char in enumerate(tree_string):\n",
    "        if char == \"(\":\n",
    "            balance += 1\n",
    "            if balance == 1:\n",
    "                # Mark the start of a new subtree\n",
    "                subtree_start = i\n",
    "        elif char == \")\":\n",
    "            balance -= 1\n",
    "            if balance == 0 and subtree_start is not None:\n",
    "                # Complete the subtree if it's more than a single token\n",
    "                if i - subtree_start > 1:\n",
    "                    subtrees.append(tree_string[subtree_start : i + 1])\n",
    "                subtree_start = None\n",
    "\n",
    "    return subtrees\n",
    "\n",
    "\n",
    "def examplereader(path, lower=False, create_subtrees=False):\n",
    "    \"\"\"Returns all examples in a file one by one.\"\"\"\n",
    "    for line in filereader(path):\n",
    "        line = line.lower() if lower else line\n",
    "        yield create_example(line)\n",
    "\n",
    "        if create_subtrees:\n",
    "            subtrees = extract_subtrees(line)\n",
    "            for tree in subtrees:\n",
    "                yield create_example(tree)\n",
    "\n",
    "\n",
    "def create_example(tree_string):\n",
    "    tokens = tokens_from_treestring(tree_string)\n",
    "    tree = Tree.fromstring(tree_string)  # use NLTK's Tree\n",
    "    label = int(tree_string[1])\n",
    "    trans = transitions_from_treestring(tree_string)\n",
    "    return Example(tokens=tokens, tree=tree, label=label, transitions=trans)\n",
    "\n",
    "\n",
    "# Let's load the data into memory.\n",
    "LOWER = False  # we will keep the original casing\n",
    "train_data = list(examplereader(\"trees/train.txt\", lower=LOWER))\n",
    "dev_data = list(examplereader(\"trees/dev.txt\", lower=LOWER))\n",
    "test_data = list(examplereader(\"trees/test.txt\", lower=LOWER))\n",
    "\n",
    "print(\"train\", len(train_data))\n",
    "print(\"dev\", len(dev_data))\n",
    "print(\"test\", len(test_data))"
   ]
  },
  {
   "cell_type": "code",
   "execution_count": 19,
   "metadata": {},
   "outputs": [
    {
     "data": {
      "image/png": "[encoded data removed]",
      "text/plain": [
       "<Figure size 3000x1000 with 3 Axes>"
      ]
     },
     "metadata": {},
     "output_type": "display_data"
    }
   ],
   "source": [
    "matplotlib.rcParams.update({\"font.size\": 30})\n",
    "\n",
    "# let's checkout the label distribution\n",
    "fig, axes = plt.subplots(1, 3, figsize=(30, 10))\n",
    "\n",
    "LABELS_ = [\"Class 1\", \"Class 2\", \"Class 3\", \"Class 4\", \"Class 5\"]\n",
    "\n",
    "# Plot countplots\n",
    "sns.countplot(x=[LABELS_[e.label] for e in train_data], ax=axes[0], order=LABELS_)\n",
    "axes[0].set_title(\"Training Set\")\n",
    "axes[0].set(ylabel=\"\")\n",
    "axes[0].set(xlabel=\"\")\n",
    "\n",
    "sns.countplot(x=[LABELS_[e.label] for e in dev_data], ax=axes[1], order=LABELS_)\n",
    "axes[1].set_title(\"Development Set\")\n",
    "axes[1].set(ylabel=\"\")\n",
    "\n",
    "sns.countplot(x=[LABELS_[e.label] for e in test_data], ax=axes[2], order=LABELS_)\n",
    "axes[2].set_title(\"Testing Set\")\n",
    "axes[2].set(ylabel=\"\")\n",
    "\n",
    "# Adjust layout\n",
    "plt.tight_layout()\n",
    "fig.subplots_adjust(top=0.87, left=0.08)\n",
    "\n",
    "fig.supylabel(\"Count\")\n",
    "\n",
    "# Show the plot\n",
    "plt.savefig(\"figures/label_distribution.pdf\", dpi=300)"
   ]
  },
  {
   "cell_type": "code",
   "execution_count": 20,
   "metadata": {},
   "outputs": [
    {
     "name": "stdout",
     "output_type": "stream",
     "text": [
      "Mean sequence length of training set: 19.143960674157302\n",
      "Mean sequence length of dev set: 19.322434150772025\n",
      "Mean sequence length of test set: 19.187782805429865\n"
     ]
    },
    {
     "data": {
      "image/png": "[encoded data removed]",
      "text/plain": [
       "<Figure size 3000x1000 with 3 Axes>"
      ]
     },
     "metadata": {},
     "output_type": "display_data"
    }
   ],
   "source": [
    "# additionally, let's visualise the sequence len distribution\n",
    "\n",
    "# let's checkout the label distribution\n",
    "fig, axes = plt.subplots(1, 3, figsize=(30, 10))\n",
    "\n",
    "# Plot countplots\n",
    "train_seq_lens = [len(e.tokens) for e in train_data]\n",
    "dev_seq_lens = [len(e.tokens) for e in dev_data]\n",
    "test_seq_lens = [len(e.tokens) for e in test_data]\n",
    "\n",
    "axes[0].hist(train_seq_lens)\n",
    "axes[0].set_title(\"Training Set\")\n",
    "\n",
    "axes[1].hist(dev_seq_lens)\n",
    "axes[1].set_title(\"Development Set\")\n",
    "\n",
    "axes[2].hist(test_seq_lens)\n",
    "axes[2].set_title(\"Testing Set\")\n",
    "\n",
    "# Adjust layout\n",
    "plt.tight_layout()\n",
    "fig.subplots_adjust(top=0.87, bottom=0.13, left=0.08)\n",
    "\n",
    "fig.supxlabel(\"Sample sequence length\")\n",
    "fig.supylabel(\"Count\")\n",
    "\n",
    "# Show the plot\n",
    "plt.savefig(\"figures/seq_len_distribution.pdf\", dpi=300)\n",
    "\n",
    "print(\"Mean sequence length of training set:\", np.mean(train_seq_lens))\n",
    "print(\"Mean sequence length of dev set:\", np.mean(dev_seq_lens))\n",
    "print(\"Mean sequence length of test set:\", np.mean(test_seq_lens))"
   ]
  },
  {
   "cell_type": "code",
   "execution_count": 21,
   "metadata": {},
   "outputs": [
    {
     "name": "stdout",
     "output_type": "stream",
     "text": [
      "Test data short samples count: 1197\n",
      "Test data long samples count: 1013\n"
     ]
    }
   ],
   "source": [
    "# based on the distributions above let's construct two additional test sets\n",
    "\n",
    "SEQ_LEN_MEAN = 20\n",
    "\n",
    "test_data_short = []\n",
    "test_data_long = []\n",
    "\n",
    "for e in test_data:\n",
    "    if len(e.tokens) < SEQ_LEN_MEAN:\n",
    "        test_data_short.append(e)\n",
    "    else:\n",
    "        test_data_long.append(e)\n",
    "\n",
    "print(\"Test data short samples count:\", len(test_data_short))\n",
    "print(\"Test data long samples count:\", len(test_data_long))"
   ]
  },
  {
   "cell_type": "markdown",
   "metadata": {
    "id": "6KM0bDyeVZtP"
   },
   "source": [
    "Let's check out an `Example` object."
   ]
  },
  {
   "cell_type": "code",
   "execution_count": 22,
   "metadata": {
    "colab": {
     "base_uri": "https://localhost:8080/"
    },
    "id": "J8mwcaZwxP1c",
    "outputId": "a3772e01-41db-4f93-8c78-c8dd70591cfc"
   },
   "outputs": [
    {
     "name": "stdout",
     "output_type": "stream",
     "text": [
      "First example: Example(tokens=['It', \"'s\", 'a', 'lovely', 'film', 'with', 'lovely', 'performances', 'by', 'Buy', 'and', 'Accorsi', '.'], tree=Tree('3', [Tree('2', ['It']), Tree('4', [Tree('4', [Tree('2', [\"'s\"]), Tree('4', [Tree('3', [Tree('2', ['a']), Tree('4', [Tree('3', ['lovely']), Tree('2', ['film'])])]), Tree('3', [Tree('2', ['with']), Tree('4', [Tree('3', [Tree('3', ['lovely']), Tree('2', ['performances'])]), Tree('2', [Tree('2', ['by']), Tree('2', [Tree('2', [Tree('2', ['Buy']), Tree('2', ['and'])]), Tree('2', ['Accorsi'])])])])])])]), Tree('2', ['.'])])]), label=3, transitions=[0, 0, 0, 0, 0, 1, 1, 0, 0, 0, 1, 0, 0, 0, 1, 0, 1, 1, 1, 1, 1, 1, 0, 1, 1])\n",
      "First example tokens: ['It', \"'s\", 'a', 'lovely', 'film', 'with', 'lovely', 'performances', 'by', 'Buy', 'and', 'Accorsi', '.']\n",
      "First example label: 3\n"
     ]
    }
   ],
   "source": [
    "example = dev_data[0]\n",
    "print(\"First example:\", example)\n",
    "print(\"First example tokens:\", example.tokens)\n",
    "print(\"First example label:\", example.label)"
   ]
  },
  {
   "cell_type": "markdown",
   "metadata": {
    "id": "-WDSprDBVcr-"
   },
   "source": [
    "#### Vocabulary\n",
    "A first step in most NLP tasks is collecting all the word types that appear in the data into a vocabulary, and counting the frequency of their occurrences. On the one hand, this will give us an overview of the word distribution of the data set (what are the most frequent words, how many rare words are there, ...). On the other hand, we will also use the vocabulary to map each word to a unique numeric ID, which is a more handy index than a string."
   ]
  },
  {
   "cell_type": "code",
   "execution_count": 23,
   "metadata": {
    "id": "VvNgKx7usRSt"
   },
   "outputs": [],
   "source": [
    "# Here we first define a class that can map a word to an ID (w2i)\n",
    "# and back (i2w).\n",
    "\n",
    "\n",
    "class OrderedCounter(Counter, OrderedDict):\n",
    "    \"\"\"Counter that remembers the order elements are first seen\"\"\"\n",
    "\n",
    "    def __repr__(self):\n",
    "        return \"%s(%r)\" % (self.__class__.__name__, OrderedDict(self))\n",
    "\n",
    "    def __reduce__(self):\n",
    "        return self.__class__, (OrderedDict(self),)\n",
    "\n",
    "\n",
    "class Vocabulary:\n",
    "    \"\"\"A vocabulary, assigns IDs to tokens\"\"\"\n",
    "\n",
    "    def __init__(self):\n",
    "        self.freqs = OrderedCounter()\n",
    "        self.w2i = {}\n",
    "        self.i2w = []\n",
    "\n",
    "    def count_token(self, t):\n",
    "        self.freqs[t] += 1\n",
    "\n",
    "    def add_token(self, t):\n",
    "        self.w2i[t] = len(self.w2i)\n",
    "        self.i2w.append(t)\n",
    "\n",
    "    def build(self, min_freq=0):\n",
    "        \"\"\"\n",
    "        min_freq: minimum number of occurrences for a word to be included\n",
    "                in the vocabulary\n",
    "        \"\"\"\n",
    "        self.add_token(\"<unk>\")  # reserve 0 for <unk> (unknown words)\n",
    "        self.add_token(\"<pad>\")  # reserve 1 for <pad> (discussed later)\n",
    "\n",
    "        tok_freq = list(self.freqs.items())\n",
    "        tok_freq.sort(key=lambda x: x[1], reverse=True)\n",
    "        for tok, freq in tok_freq:\n",
    "            if freq >= min_freq:\n",
    "                self.add_token(tok)"
   ]
  },
  {
   "cell_type": "markdown",
   "metadata": {
    "id": "kOvkH_llVsoW"
   },
   "source": [
    "The vocabulary has by default an `<unk>` token and a `<pad>` token. The `<unk>` token is reserved for all words which do not appear in the training data (and for which, therefore, we cannot learn word representations). The function of the `<pad>` token will be explained later.\n",
    "\n",
    "\n",
    "Let's build the vocabulary!\n"
   ]
  },
  {
   "cell_type": "code",
   "execution_count": 24,
   "metadata": {
    "colab": {
     "base_uri": "https://localhost:8080/"
    },
    "id": "GwGQgQQBNUSq",
    "outputId": "6b0be0c8-f97b-4845-f070-bd51614b5a4c"
   },
   "outputs": [
    {
     "name": "stdout",
     "output_type": "stream",
     "text": [
      "Vocabulary size: 18280\n"
     ]
    }
   ],
   "source": [
    "# This process should be deterministic and should have the same result\n",
    "# if run multiple times on the same data set.\n",
    "\n",
    "\n",
    "v = Vocabulary()\n",
    "for data_set in (train_data,):\n",
    "    for ex in data_set:\n",
    "        for token in ex.tokens:\n",
    "            v.count_token(token)\n",
    "\n",
    "v.build()\n",
    "print(\"Vocabulary size:\", len(v.w2i))"
   ]
  },
  {
   "cell_type": "markdown",
   "metadata": {
    "id": "-UNIedPrPdCw"
   },
   "source": [
    "Let's have a closer look at the properties of our vocabulary. Having a good idea of what it is like can facilitate data analysis and debugging later on."
   ]
  },
  {
   "cell_type": "code",
   "execution_count": 25,
   "metadata": {
    "id": "oJyuogmh0CA7"
   },
   "outputs": [
    {
     "data": {
      "text/plain": [
       "1973"
      ]
     },
     "execution_count": 25,
     "metadata": {},
     "output_type": "execute_result"
    }
   ],
   "source": [
    "# What is the ID for \"century?\"\n",
    "v.w2i[\"century\"]"
   ]
  },
  {
   "cell_type": "code",
   "execution_count": 26,
   "metadata": {
    "id": "O8OkPQ8Zv-rI"
   },
   "outputs": [
    {
     "data": {
      "text/plain": [
       "['<unk>', '<pad>', '.', ',', 'the', 'and', 'a', 'of', 'to', \"'s\"]"
      ]
     },
     "execution_count": 26,
     "metadata": {},
     "output_type": "execute_result"
    }
   ],
   "source": [
    "# What are the first 10 words in the vocabulary (based on their IDs)?\n",
    "v.i2w[:10]"
   ]
  },
  {
   "cell_type": "code",
   "execution_count": 27,
   "metadata": {
    "id": "kmXwu02lOLWI"
   },
   "outputs": [
    {
     "data": {
      "text/plain": [
       "[('.', 8024),\n",
       " (',', 7131),\n",
       " ('the', 6037),\n",
       " ('and', 4431),\n",
       " ('a', 4403),\n",
       " ('of', 4386),\n",
       " ('to', 2995),\n",
       " (\"'s\", 2544),\n",
       " ('is', 2536),\n",
       " ('that', 1915)]"
      ]
     },
     "execution_count": 27,
     "metadata": {},
     "output_type": "execute_result"
    }
   ],
   "source": [
    "# What are the 10 most common words?\n",
    "v.freqs.most_common(10)"
   ]
  },
  {
   "cell_type": "code",
   "execution_count": 28,
   "metadata": {
    "id": "__NDPaCeOT_m"
   },
   "outputs": [
    {
     "data": {
      "text/plain": [
       "[('near-miss', 1),\n",
       " ('Flat', 1),\n",
       " ('Rashomon-for-dipsticks', 1),\n",
       " ('Bearable', 1),\n",
       " ('Staggeringly', 1),\n",
       " ('Well-made', 1),\n",
       " ('mush-hearted', 1),\n",
       " ('hippie-turned-yuppie', 1),\n",
       " ('muttering', 1),\n",
       " ('dissing', 1)]"
      ]
     },
     "execution_count": 28,
     "metadata": {},
     "output_type": "execute_result"
    }
   ],
   "source": [
    "# And how many words are there with frequency 1?\n",
    "# (A fancy name for these is hapax legomena.)\n",
    "\n",
    "v.freqs.most_common()[-10:]"
   ]
  },
  {
   "cell_type": "code",
   "execution_count": 29,
   "metadata": {
    "id": "xKHocugctZGM"
   },
   "outputs": [
    {
     "data": {
      "text/plain": [
       "['clone',\n",
       " 'summer',\n",
       " 'Margarita',\n",
       " 'regarding',\n",
       " 'voices-from-the-other-side',\n",
       " 'streaks',\n",
       " 'extrusion',\n",
       " 'achievement',\n",
       " 'delusional',\n",
       " 'head',\n",
       " 'heads',\n",
       " 'ascension',\n",
       " 'actor',\n",
       " 'Lambs',\n",
       " 'trim',\n",
       " 'launching',\n",
       " 'frank',\n",
       " 'brat',\n",
       " 'addiction',\n",
       " 'many']"
      ]
     },
     "execution_count": 29,
     "metadata": {},
     "output_type": "execute_result"
    }
   ],
   "source": [
    "# Finally 20 random words from the vocabulary.\n",
    "# This is a simple way to get a feeling for the data.\n",
    "# You could use the `choice` function from the already imported `random` package\n",
    "\n",
    "random.choices(v.i2w, k=20)"
   ]
  },
  {
   "cell_type": "markdown",
   "metadata": {
    "id": "nGWaZahKV_dH"
   },
   "source": [
    "#### Sentiment label vocabulary"
   ]
  },
  {
   "cell_type": "code",
   "execution_count": 30,
   "metadata": {
    "colab": {
     "base_uri": "https://localhost:8080/"
    },
    "id": "AmTC-rvQelpl",
    "outputId": "9837d4ce-2323-43c8-bf19-e4ad60ae5564"
   },
   "outputs": [
    {
     "name": "stdout",
     "output_type": "stream",
     "text": [
      "['very negative', 'negative', 'neutral', 'positive', 'very positive']\n",
      "very positive\n"
     ]
    }
   ],
   "source": [
    "# Now let's map the sentiment labels 0-4 to a more readable form\n",
    "i2t = [\"very negative\", \"negative\", \"neutral\", \"positive\", \"very positive\"]\n",
    "print(i2t)\n",
    "print(i2t[4])"
   ]
  },
  {
   "cell_type": "code",
   "execution_count": 31,
   "metadata": {
    "colab": {
     "base_uri": "https://localhost:8080/"
    },
    "id": "D7UI26DP2dr2",
    "outputId": "8e004ef7-8c95-4980-fa9b-c859927192fb"
   },
   "outputs": [
    {
     "name": "stdout",
     "output_type": "stream",
     "text": [
      "OrderedDict([('very negative', 0), ('negative', 1), ('neutral', 2), ('positive', 3), ('very positive', 4)])\n",
      "4\n"
     ]
    }
   ],
   "source": [
    "# And let's also create the opposite mapping.\n",
    "# We won't use a Vocabulary for this (although we could), since the labels\n",
    "# are already numeric.\n",
    "t2i = OrderedDict({p: i for p, i in zip(i2t, range(len(i2t)))})\n",
    "print(t2i)\n",
    "print(t2i[\"very positive\"])"
   ]
  },
  {
   "cell_type": "code",
   "execution_count": 32,
   "metadata": {},
   "outputs": [],
   "source": [
    "# setting traing set\n",
    "\n",
    "if TEST_WORD_ORDER:\n",
    "    shuffled_train_data = []\n",
    "    # shuffle the training data tokens\n",
    "    for example in train_data:\n",
    "        tokens = example.tokens\n",
    "        random.shuffle(tokens)\n",
    "        shuffled_train_data.append(\n",
    "            Example(\n",
    "                tokens=tokens,\n",
    "                tree=example.tree,\n",
    "                label=example.label,\n",
    "                transitions=example.transitions,\n",
    "            )\n",
    "        )\n",
    "    train_data = shuffled_train_data"
   ]
  },
  {
   "cell_type": "code",
   "execution_count": 33,
   "metadata": {},
   "outputs": [],
   "source": [
    "# setting the test set\n",
    "if USE_SHORT_DATASET:\n",
    "    test_data = test_data_short\n",
    "elif USE_LONG_DATASET:\n",
    "    test_data = test_data_long\n",
    "else:\n",
    "    test_data = test_data"
   ]
  },
  {
   "cell_type": "code",
   "execution_count": 34,
   "metadata": {},
   "outputs": [
    {
     "name": "stdout",
     "output_type": "stream",
     "text": [
      "Class weights: tensor([1.5648, 0.7704, 1.0522, 0.7359, 1.3267])\n"
     ]
    }
   ],
   "source": [
    "# constructing class weights\n",
    "\n",
    "class_weights = compute_class_weight(\n",
    "    class_weight=\"balanced\",\n",
    "    classes=np.unique([e.label for e in train_data]),\n",
    "    y=[e.label for e in train_data],\n",
    ")\n",
    "class_weights = torch.tensor(class_weights, dtype=torch.float)\n",
    "print(\"Class weights:\", class_weights)"
   ]
  },
  {
   "cell_type": "markdown",
   "metadata": {
    "id": "uWBTzkuE3CtZ"
   },
   "source": [
    "# BOW"
   ]
  },
  {
   "cell_type": "markdown",
   "metadata": {
    "id": "TBAjYYySOA5W"
   },
   "source": [
    "Our first model is a rather simple neural **bag-of-words (BOW) model**.\n",
    "Unlike the bag-of-words model that you used in the previous lab, where we would look at the presence / frequency of words in a text, here we associate each word with a multi-dimensional vector which expresses what sentiment is conveyed by the word. In particular, our BOW vectors will be of size 5, exactly our number of sentiment classes.\n",
    "\n",
    "To classify a sentence, we **sum** the vectors of the words in the sentence and a bias vector. Because we sum the vectors, we lose word order: that's why we call this a neural bag-of-words model.\n",
    "\n",
    "```\n",
    "this   [0.0, 0.1, 0.1, 0.1, 0.0]\n",
    "movie  [0.0, 0.1, 0.1, 0.2, 0.1]\n",
    "is     [0.0, 0.1, 0.0, 0.0, 0.0]\n",
    "stupid [0.9, 0.5, 0.1, 0.0, 0.0]\n",
    "\n",
    "bias   [0.0, 0.0, 0.0, 0.0, 0.0]\n",
    "--------------------------------\n",
    "sum    [0.9, 0.8, 0.3, 0.3, 0.1]\n",
    "\n",
    "argmax: 0 (very negative)\n",
    "```\n",
    "\n",
    "The **argmax** of this sum is our predicted label.\n",
    "\n",
    "We initialize all vectors *randomly* and train them using cross-entropy loss."
   ]
  },
  {
   "cell_type": "markdown",
   "metadata": {
    "id": "rLtBAIQGynkB"
   },
   "source": [
    "#### Model class"
   ]
  },
  {
   "cell_type": "code",
   "execution_count": 35,
   "metadata": {
    "id": "QZfNklWf3tvs"
   },
   "outputs": [],
   "source": [
    "class BOW(nn.Module):\n",
    "    \"\"\"A simple bag-of-words model\"\"\"\n",
    "\n",
    "    def __init__(self, vocab_size, embedding_dim, vocab):\n",
    "        super(BOW, self).__init__()\n",
    "        self.vocab = vocab\n",
    "\n",
    "        # this is a trainable look-up table with word embeddings\n",
    "        self.embed = nn.Embedding(vocab_size, embedding_dim)\n",
    "\n",
    "        # this is a trainable bias term\n",
    "        self.bias = nn.Parameter(torch.zeros(embedding_dim), requires_grad=True)\n",
    "\n",
    "    def forward(self, inputs):\n",
    "        # this is the forward pass of the neural network\n",
    "        # it applies a function to the input and returns the output\n",
    "\n",
    "        # this looks up the embeddings for each word ID in inputs\n",
    "        # the result is a sequence of word embeddings\n",
    "        embeds = self.embed(inputs)\n",
    "\n",
    "        # the output is the sum across the time dimension (1)\n",
    "        # with the bias term added\n",
    "        logits = embeds.sum(1) + self.bias\n",
    "\n",
    "        return logits"
   ]
  },
  {
   "cell_type": "code",
   "execution_count": 36,
   "metadata": {
    "colab": {
     "base_uri": "https://localhost:8080/"
    },
    "id": "eKHvBnoBAr6z",
    "outputId": "a22d497a-1fa7-4027-d42d-6d9e3f459295"
   },
   "outputs": [
    {
     "name": "stdout",
     "output_type": "stream",
     "text": [
      "BOW(\n",
      "  (embed): Embedding(18280, 5)\n",
      ")\n"
     ]
    }
   ],
   "source": [
    "# Let's create a model.\n",
    "vocab_size = len(v.w2i)\n",
    "n_classes = len(t2i)\n",
    "bow_model = BOW(vocab_size, n_classes, v)\n",
    "print(bow_model)"
   ]
  },
  {
   "cell_type": "markdown",
   "metadata": {
    "id": "vfCx-HvMH1qQ"
   },
   "source": [
    "> **Hey, wait, where is the bias vector?**\n",
    "> PyTorch does not print Parameters, only Modules!\n",
    "\n",
    "> We can print it ourselves though, to check that it is there."
   ]
  },
  {
   "cell_type": "code",
   "execution_count": 37,
   "metadata": {
    "colab": {
     "base_uri": "https://localhost:8080/"
    },
    "id": "Fhvk5HenAroT",
    "outputId": "abf205db-9edc-41fb-b224-ea7ce321b07b"
   },
   "outputs": [
    {
     "name": "stdout",
     "output_type": "stream",
     "text": [
      "bias                     [5]          requires_grad=True\n",
      "embed.weight             [18280, 5]   requires_grad=True\n",
      "\n",
      "Total number of parameters: 91405\n",
      "\n"
     ]
    }
   ],
   "source": [
    "# Here we print each parameter name, shape, and if it is trainable.\n",
    "\n",
    "\n",
    "def print_parameters(model):\n",
    "    total = 0\n",
    "    for name, p in model.named_parameters():\n",
    "        total += np.prod(p.shape)\n",
    "        print(\n",
    "            \"{:24s} {:12s} requires_grad={}\".format(\n",
    "                name, str(list(p.shape)), p.requires_grad\n",
    "            )\n",
    "        )\n",
    "    print(\"\\nTotal number of parameters: {}\\n\".format(total))\n",
    "\n",
    "\n",
    "print_parameters(bow_model)"
   ]
  },
  {
   "cell_type": "markdown",
   "metadata": {
    "id": "WSAw292WxuP4"
   },
   "source": [
    "#### Preparing an example for input\n",
    "\n",
    "To feed sentences to our PyTorch model, we need to convert a sequence of tokens to a sequence of IDs. The `prepare_example` function below takes care of this for us. We then use these IDs as indices for the word embedding table."
   ]
  },
  {
   "cell_type": "code",
   "execution_count": 38,
   "metadata": {
    "id": "YWeGTC_OGReV"
   },
   "outputs": [],
   "source": [
    "def prepare_example(example, vocab):\n",
    "    \"\"\"\n",
    "    Map tokens to their IDs for a single example\n",
    "    \"\"\"\n",
    "\n",
    "    # vocab returns 0 if the word is not there (i2w[0] = <unk>)\n",
    "    x = [vocab.w2i.get(t, 0) for t in example.tokens]\n",
    "\n",
    "    x = torch.LongTensor([x])\n",
    "    x = x.to(device)\n",
    "\n",
    "    y = torch.LongTensor([example.label])\n",
    "    y = y.to(device)\n",
    "\n",
    "    return x, y"
   ]
  },
  {
   "cell_type": "code",
   "execution_count": 39,
   "metadata": {
    "colab": {
     "base_uri": "https://localhost:8080/"
    },
    "id": "sfbdv9px3uFF",
    "outputId": "423ec782-a269-4a4a-fcd5-a54239e372dd"
   },
   "outputs": [
    {
     "name": "stdout",
     "output_type": "stream",
     "text": [
      "x: tensor([[  28,    9,    6,  998,   16,   18,  998,  135,   32, 7688,    5,    0,\n",
      "            2]], device='cuda:0')\n",
      "y: tensor([3], device='cuda:0')\n"
     ]
    }
   ],
   "source": [
    "x, y = prepare_example(dev_data[0], v)\n",
    "print(\"x:\", x)\n",
    "print(\"y:\", y)"
   ]
  },
  {
   "cell_type": "markdown",
   "metadata": {
    "id": "oKNQjEc0yXnJ"
   },
   "source": [
    "#### Evaluation\n",
    "We now need to define an evaluation metric.\n",
    "How many predictions do we get right? The accuracy will tell us.\n",
    "Make sure that you understand this code block.\n"
   ]
  },
  {
   "cell_type": "code",
   "execution_count": 40,
   "metadata": {
    "id": "yGmQLcVYKZsh"
   },
   "outputs": [],
   "source": [
    "def simple_evaluate(model, data, prep_fn=prepare_example, **kwargs):\n",
    "    \"\"\"Accuracy of a model on given data set.\"\"\"\n",
    "    correct = 0\n",
    "    total = 0\n",
    "    model.eval()  # disable dropout (explained later)\n",
    "\n",
    "    targets = []\n",
    "    predictions = []\n",
    "\n",
    "    for example in data:\n",
    "        # convert the example input and label to PyTorch tensors\n",
    "        x, target = prep_fn(example, model.vocab)\n",
    "\n",
    "        # forward pass without backpropagation (no_grad)\n",
    "        # get the output from the neural network for input x\n",
    "        with torch.no_grad():\n",
    "            logits = model(x)\n",
    "\n",
    "        # get the prediction\n",
    "        prediction = logits.argmax(dim=-1)\n",
    "        predictions.append(prediction.item())\n",
    "        targets.append(target.item())\n",
    "\n",
    "        # add the number of correct predictions to the total correct\n",
    "        correct += (prediction == target).sum().item()\n",
    "        total += 1\n",
    "\n",
    "    return (\n",
    "        correct,\n",
    "        total,\n",
    "        correct / float(total),\n",
    "        f1_score(targets, predictions, average=\"weighted\"),\n",
    "        classification_report(targets, predictions, output_dict=True),\n",
    "    )"
   ]
  },
  {
   "cell_type": "markdown",
   "metadata": {
    "id": "5KlIGFXllWWm"
   },
   "source": [
    "We are using accuracy as a handy evaluation metric. Please consider using [alternative metrics](https://scikit-learn.org/stable/modules/classes.html#classification-metrics) for your experiments if that makes more theoretical sense."
   ]
  },
  {
   "cell_type": "markdown",
   "metadata": {
    "id": "dIk6OtSdzGRP"
   },
   "source": [
    "#### Example feed\n",
    "For stochastic gradient descent (SGD) we will need a random training example for every update.\n",
    "We implement this by shuffling the training data and returning examples one by one using `yield`.\n",
    "\n",
    "Shuffling is optional so that we get to use this function to get validation and test examples, too."
   ]
  },
  {
   "cell_type": "code",
   "execution_count": 41,
   "metadata": {},
   "outputs": [],
   "source": [
    "def set_seed(seed: int) -> None:\n",
    "    torch.manual_seed(seed)\n",
    "    random.seed(seed)\n",
    "    np.random.seed(seed)"
   ]
  },
  {
   "cell_type": "code",
   "execution_count": 42,
   "metadata": {
    "id": "dxDFOZLfCXvJ"
   },
   "outputs": [],
   "source": [
    "def get_examples(data, shuffle=True, **kwargs):\n",
    "    \"\"\"Shuffle data set and return 1 example at a time (until nothing left)\"\"\"\n",
    "    if shuffle:\n",
    "        random.shuffle(data)\n",
    "    for example in data:\n",
    "        yield example"
   ]
  },
  {
   "cell_type": "code",
   "execution_count": 43,
   "metadata": {
    "id": "ktFnKBux25lD"
   },
   "outputs": [],
   "source": [
    "def train_model_(\n",
    "    model_fn,\n",
    "    optimizer=None,\n",
    "    num_iterations=10000,\n",
    "    print_every=1000,\n",
    "    eval_every=1000,\n",
    "    batch_fn=get_examples,\n",
    "    prep_fn=prepare_example,\n",
    "    eval_fn=simple_evaluate,\n",
    "    batch_size=1,\n",
    "    eval_batch_size=None,\n",
    "    use_wandb=None,\n",
    "    hypothesis=None,\n",
    "    seed=42,\n",
    "):\n",
    "    model, optimizer = model_fn()\n",
    "    \n",
    "    if use_wandb is None:\n",
    "        use_wandb = USE_WANDB\n",
    "\n",
    "    if use_wandb:\n",
    "        config = {\n",
    "            \"model\": model.__class__.__name__,\n",
    "            \"optimizer\": optimizer.__class__.__name__,\n",
    "            \"num_iterations\": num_iterations,\n",
    "            \"batch_size\": batch_size,\n",
    "            \"eval_batch_size\": eval_batch_size,\n",
    "            \"seed\": seed,\n",
    "        }\n",
    "\n",
    "        if hypothesis is not None:\n",
    "            config.update({\"hypothesis\": hypothesis + HYPOTHESIS})\n",
    "\n",
    "        wandb.init(\n",
    "            project=\"nlp1-practical2\",\n",
    "            name=model.__class__.__name__ + \"-\" + str(int(time.time())),\n",
    "            config=config,\n",
    "        )\n",
    "\n",
    "    \"\"\"Train a model.\"\"\"\n",
    "    iter_i = 0\n",
    "    train_loss = 0.0\n",
    "    print_num = 0\n",
    "    start = time.time()\n",
    "    if USE_CLASS_WEIGHTS:\n",
    "        print(\"Using class weights\", class_weights)\n",
    "        criterion = nn.CrossEntropyLoss(weight=class_weights.to(device))\n",
    "    else:\n",
    "        criterion = nn.CrossEntropyLoss()\n",
    "    best_eval = 0.0\n",
    "    best_iter = 0\n",
    "\n",
    "    # store train loss and validation accuracy during training\n",
    "    # so we can plot them afterwards\n",
    "    losses = []\n",
    "    accuracies = []\n",
    "\n",
    "    if eval_batch_size is None:\n",
    "        eval_batch_size = batch_size\n",
    "\n",
    "    while True:  # when we run out of examples, shuffle and continue\n",
    "        for batch in batch_fn(train_data, batch_size=batch_size):\n",
    "            # forward pass\n",
    "            model.train()\n",
    "            x, targets = prep_fn(batch, model.vocab)\n",
    "            logits = model(x)\n",
    "\n",
    "            B = targets.size(0)  # later we will use B examples per update\n",
    "\n",
    "            # compute cross-entropy loss (our criterion)\n",
    "            # note that the cross entropy loss function computes the softmax for us\n",
    "            loss = criterion(logits.view([B, -1]), targets.view(-1))\n",
    "            train_loss += loss.item()\n",
    "\n",
    "            optimizer.zero_grad()\n",
    "            loss.backward()\n",
    "            optimizer.step()\n",
    "\n",
    "            print_num += 1\n",
    "            iter_i += 1\n",
    "\n",
    "            # print info\n",
    "            if iter_i % print_every == 0:\n",
    "                print(\n",
    "                    \"Iter %r: loss=%.4f, time=%.2fs\"\n",
    "                    % (iter_i, train_loss, time.time() - start)\n",
    "                )\n",
    "                losses.append(train_loss)\n",
    "                if use_wandb:\n",
    "                    wandb.log({\"train_loss\": train_loss})\n",
    "                print_num = 0\n",
    "                train_loss = 0.0\n",
    "\n",
    "            # evaluate\n",
    "            if iter_i % eval_every == 0:\n",
    "                _, _, accuracy, dev_f1_score, _ = eval_fn(\n",
    "                    model,\n",
    "                    dev_data,\n",
    "                    batch_size=eval_batch_size,\n",
    "                    batch_fn=batch_fn,\n",
    "                    prep_fn=prep_fn,\n",
    "                )\n",
    "                accuracies.append(accuracy)\n",
    "                if use_wandb:\n",
    "                    wandb.log({\"dev_accuracy\": accuracy})\n",
    "                    wandb.log({\"dev_f1_score\": dev_f1_score})\n",
    "                print(\"iter %r: dev acc=%.4f\" % (iter_i, accuracy))\n",
    "\n",
    "                # save best model parameters\n",
    "                if accuracy > best_eval:\n",
    "                    print(\"new highscore\")\n",
    "                    best_eval = accuracy\n",
    "                    best_iter = iter_i\n",
    "                    path = \"{}.pt\".format(model.__class__.__name__)\n",
    "                    ckpt = {\n",
    "                        \"state_dict\": model.state_dict(),\n",
    "                        \"optimizer_state_dict\": optimizer.state_dict(),\n",
    "                        \"best_eval\": best_eval,\n",
    "                        \"best_iter\": best_iter,\n",
    "                    }\n",
    "                    torch.save(ckpt, path)\n",
    "\n",
    "            # done training\n",
    "            if iter_i == num_iterations:\n",
    "                print(\"Done training\")\n",
    "\n",
    "                # evaluate on train, dev, and test with best model\n",
    "                print(\"Loading best model\")\n",
    "                path = \"{}.pt\".format(model.__class__.__name__)\n",
    "                ckpt = torch.load(path)\n",
    "                model.load_state_dict(ckpt[\"state_dict\"])\n",
    "\n",
    "                _, _, train_acc, train_f1_score, _ = eval_fn(\n",
    "                    model,\n",
    "                    train_data,\n",
    "                    batch_size=eval_batch_size,\n",
    "                    batch_fn=batch_fn,\n",
    "                    prep_fn=prep_fn,\n",
    "                )\n",
    "                _, _, dev_acc, dev_f1_score, _ = eval_fn(\n",
    "                    model,\n",
    "                    dev_data,\n",
    "                    batch_size=eval_batch_size,\n",
    "                    batch_fn=batch_fn,\n",
    "                    prep_fn=prep_fn,\n",
    "                )\n",
    "                _, _, test_acc, test_f1_score, test_class_report = eval_fn(\n",
    "                    model,\n",
    "                    test_data,\n",
    "                    batch_size=eval_batch_size,\n",
    "                    batch_fn=batch_fn,\n",
    "                    prep_fn=prep_fn,\n",
    "                )\n",
    "                \n",
    "                global LAST_MODEL\n",
    "                LAST_MODEL = model\n",
    "\n",
    "                if use_wandb:\n",
    "                    wandb.log({\"final_train_accuracy\": train_acc})\n",
    "                    wandb.log({\"final_train_f1_score\": train_f1_score})\n",
    "                    wandb.log({\"final_dev_f1_score\": dev_f1_score})\n",
    "                    wandb.log({\"final_dev_accuracy\": dev_acc})\n",
    "                    wandb.log({\"test_accuracy\": test_acc})\n",
    "                    wandb.log({\"test_f1_score\": test_f1_score})\n",
    "                    wandb.log({\"test_classification_report\": test_class_report})\n",
    "                    wandb.finish()\n",
    "                    time.sleep(5)\n",
    "\n",
    "                print(\n",
    "                    \"best model iter {:d}: \"\n",
    "                    \"train acc={:.4f}, dev acc={:.4f}, test acc={:.4f}\".format(\n",
    "                        best_iter, train_acc, dev_acc, test_acc\n",
    "                    )\n",
    "                )\n",
    "\n",
    "                return losses, accuracies\n",
    "\n",
    "\n",
    "def train_model(**kwargs):\n",
    "    losses = []\n",
    "    accuracies = []\n",
    "    for seed in range(RUNS):\n",
    "        args = kwargs\n",
    "        args[\"seed\"] = seed\n",
    "        set_seed(seed)\n",
    "\n",
    "        losses_, accuracies_ = train_model_(**args)\n",
    "        losses.append(losses_)\n",
    "        accuracies.append(accuracies_)\n",
    "\n",
    "    return losses[0], accuracies[0]"
   ]
  },
  {
   "cell_type": "markdown",
   "metadata": {
    "id": "XEPsLvI-3D5b"
   },
   "source": [
    "### Training the BOW model"
   ]
  },
  {
   "cell_type": "code",
   "execution_count": 44,
   "metadata": {
    "id": "9luJnNuN_d3q"
   },
   "outputs": [
    {
     "name": "stdout",
     "output_type": "stream",
     "text": [
      "BOW(\n",
      "  (embed): Embedding(18280, 5)\n",
      ")\n"
     ]
    },
    {
     "name": "stderr",
     "output_type": "stream",
     "text": [
      "\u001b[34m\u001b[1mwandb\u001b[0m: Currently logged in as: \u001b[33mdqmiss\u001b[0m. Use \u001b[1m`wandb login --relogin`\u001b[0m to force relogin\n"
     ]
    },
    {
     "data": {
      "text/html": [
       "wandb version 0.16.1 is available!  To upgrade, please run:\n",
       " $ pip install wandb --upgrade"
      ],
      "text/plain": [
       "<IPython.core.display.HTML object>"
      ]
     },
     "metadata": {},
     "output_type": "display_data"
    },
    {
     "data": {
      "text/html": [
       "Tracking run with wandb version 0.16.0"
      ],
      "text/plain": [
       "<IPython.core.display.HTML object>"
      ]
     },
     "metadata": {},
     "output_type": "display_data"
    },
    {
     "data": {
      "text/html": [
       "Run data is saved locally in <code>/home/jupyter/github/uva_nlp1/wandb/run-20231211_203850-xeb7ouwv</code>"
      ],
      "text/plain": [
       "<IPython.core.display.HTML object>"
      ]
     },
     "metadata": {},
     "output_type": "display_data"
    },
    {
     "data": {
      "text/html": [
       "Syncing run <strong><a href='https://wandb.ai/dqmiss/nlp1-practical2/runs/xeb7ouwv' target=\"_blank\">BOW-1702327129</a></strong> to <a href='https://wandb.ai/dqmiss/nlp1-practical2' target=\"_blank\">Weights & Biases</a> (<a href='https://wandb.me/run' target=\"_blank\">docs</a>)<br/>"
      ],
      "text/plain": [
       "<IPython.core.display.HTML object>"
      ]
     },
     "metadata": {},
     "output_type": "display_data"
    },
    {
     "data": {
      "text/html": [
       " View project at <a href='https://wandb.ai/dqmiss/nlp1-practical2' target=\"_blank\">https://wandb.ai/dqmiss/nlp1-practical2</a>"
      ],
      "text/plain": [
       "<IPython.core.display.HTML object>"
      ]
     },
     "metadata": {},
     "output_type": "display_data"
    },
    {
     "data": {
      "text/html": [
       " View run at <a href='https://wandb.ai/dqmiss/nlp1-practical2/runs/xeb7ouwv' target=\"_blank\">https://wandb.ai/dqmiss/nlp1-practical2/runs/xeb7ouwv</a>"
      ],
      "text/plain": [
       "<IPython.core.display.HTML object>"
      ]
     },
     "metadata": {},
     "output_type": "display_data"
    },
    {
     "name": "stdout",
     "output_type": "stream",
     "text": [
      "Iter 1000: loss=5887.2239, time=1.45s\n",
      "iter 1000: dev acc=0.1889\n",
      "new highscore\n",
      "Iter 2000: loss=5599.4032, time=3.48s\n",
      "iter 2000: dev acc=0.1953\n",
      "new highscore\n",
      "Iter 3000: loss=5235.8173, time=5.48s\n",
      "iter 3000: dev acc=0.1998\n",
      "new highscore\n",
      "Iter 4000: loss=4656.1818, time=7.48s\n",
      "iter 4000: dev acc=0.2107\n",
      "new highscore\n",
      "Iter 5000: loss=4723.8162, time=9.52s\n",
      "iter 5000: dev acc=0.2134\n",
      "new highscore\n",
      "Iter 6000: loss=4464.1820, time=11.52s\n",
      "iter 6000: dev acc=0.2153\n",
      "new highscore\n",
      "Iter 7000: loss=4477.2146, time=13.45s\n",
      "iter 7000: dev acc=0.2162\n",
      "new highscore\n",
      "Iter 8000: loss=4534.3706, time=15.03s\n",
      "iter 8000: dev acc=0.2134\n",
      "Iter 9000: loss=4276.6309, time=16.19s\n",
      "iter 9000: dev acc=0.2162\n",
      "Iter 10000: loss=4048.7444, time=17.41s\n",
      "iter 10000: dev acc=0.2216\n",
      "new highscore\n",
      "Iter 11000: loss=4052.8324, time=18.69s\n",
      "iter 11000: dev acc=0.2271\n",
      "new highscore\n",
      "Iter 12000: loss=3906.6551, time=20.05s\n",
      "iter 12000: dev acc=0.2289\n",
      "new highscore\n",
      "Iter 13000: loss=4114.5406, time=21.34s\n",
      "iter 13000: dev acc=0.2307\n",
      "new highscore\n",
      "Iter 14000: loss=4011.5760, time=22.61s\n",
      "iter 14000: dev acc=0.2289\n",
      "Iter 15000: loss=4064.1200, time=23.88s\n",
      "iter 15000: dev acc=0.2325\n",
      "new highscore\n",
      "Iter 16000: loss=4008.6098, time=25.32s\n",
      "iter 16000: dev acc=0.2343\n",
      "new highscore\n",
      "Iter 17000: loss=3805.4265, time=26.64s\n",
      "iter 17000: dev acc=0.2343\n",
      "Iter 18000: loss=3663.6407, time=27.95s\n",
      "iter 18000: dev acc=0.2325\n",
      "Iter 19000: loss=3593.8764, time=29.43s\n",
      "iter 19000: dev acc=0.2343\n",
      "Iter 20000: loss=3363.6946, time=30.78s\n",
      "iter 20000: dev acc=0.2343\n",
      "Iter 21000: loss=3552.3752, time=32.20s\n",
      "iter 21000: dev acc=0.2352\n",
      "new highscore\n",
      "Iter 22000: loss=3597.6210, time=33.58s\n",
      "iter 22000: dev acc=0.2380\n",
      "new highscore\n",
      "Iter 23000: loss=3399.0368, time=34.97s\n",
      "iter 23000: dev acc=0.2371\n",
      "Iter 24000: loss=3409.8728, time=36.88s\n",
      "iter 24000: dev acc=0.2380\n",
      "Iter 25000: loss=3493.1929, time=40.41s\n",
      "iter 25000: dev acc=0.2407\n",
      "new highscore\n",
      "Iter 26000: loss=3309.0585, time=43.98s\n",
      "iter 26000: dev acc=0.2407\n",
      "Iter 27000: loss=3185.4872, time=47.78s\n",
      "iter 27000: dev acc=0.2398\n",
      "Iter 28000: loss=3135.8886, time=51.60s\n",
      "iter 28000: dev acc=0.2434\n",
      "new highscore\n",
      "Iter 29000: loss=3242.1134, time=55.53s\n",
      "iter 29000: dev acc=0.2389\n",
      "Iter 30000: loss=2987.0211, time=59.26s\n",
      "iter 30000: dev acc=0.2470\n",
      "new highscore\n",
      "Done training\n",
      "Loading best model\n"
     ]
    },
    {
     "data": {
      "application/vnd.jupyter.widget-view+json": {
       "model_id": "",
       "version_major": 2,
       "version_minor": 0
      },
      "text/plain": [
       "VBox(children=(Label(value='0.002 MB of 0.002 MB uploaded\\r'), FloatProgress(value=1.0, max=1.0)))"
      ]
     },
     "metadata": {},
     "output_type": "display_data"
    },
    {
     "data": {
      "text/html": [
       "<style>\n",
       "    table.wandb td:nth-child(1) { padding: 0 10px; text-align: left ; width: auto;} td:nth-child(2) {text-align: left ; width: 100%}\n",
       "    .wandb-row { display: flex; flex-direction: row; flex-wrap: wrap; justify-content: flex-start; width: 100% }\n",
       "    .wandb-col { display: flex; flex-direction: column; flex-basis: 100%; flex: 1; padding: 10px; }\n",
       "    </style>\n",
       "<div class=\"wandb-row\"><div class=\"wandb-col\"><h3>Run history:</h3><br/><table class=\"wandb\"><tr><td>dev_accuracy</td><td>▁▂▂▄▄▄▄▄▄▅▆▆▆▆▆▆▆▆▆▆▇▇▇▇▇▇▇█▇█</td></tr><tr><td>dev_f1_score</td><td>▁▂▃▅▅▅▆▅▆▆▇▇▇▇▇▇▇▇▇▇▇▇▇▇██▇█▇█</td></tr><tr><td>final_dev_accuracy</td><td>▁</td></tr><tr><td>final_dev_f1_score</td><td>▁</td></tr><tr><td>final_train_accuracy</td><td>▁</td></tr><tr><td>final_train_f1_score</td><td>▁</td></tr><tr><td>test_accuracy</td><td>▁</td></tr><tr><td>test_f1_score</td><td>▁</td></tr><tr><td>train_loss</td><td>█▇▆▅▅▅▅▅▄▄▄▃▄▃▄▃▃▃▂▂▂▂▂▂▂▂▁▁▂▁</td></tr></table><br/></div><div class=\"wandb-col\"><h3>Run summary:</h3><br/><table class=\"wandb\"><tr><td>dev_accuracy</td><td>0.24705</td></tr><tr><td>dev_f1_score</td><td>0.23938</td></tr><tr><td>final_dev_accuracy</td><td>0.24705</td></tr><tr><td>final_dev_f1_score</td><td>0.23938</td></tr><tr><td>final_train_accuracy</td><td>0.30875</td></tr><tr><td>final_train_f1_score</td><td>0.30786</td></tr><tr><td>test_accuracy</td><td>0.23225</td></tr><tr><td>test_f1_score</td><td>0.23048</td></tr><tr><td>train_loss</td><td>2987.02108</td></tr></table><br/></div></div>"
      ],
      "text/plain": [
       "<IPython.core.display.HTML object>"
      ]
     },
     "metadata": {},
     "output_type": "display_data"
    },
    {
     "data": {
      "text/html": [
       " View run <strong style=\"color:#cdcd00\">BOW-1702327129</strong> at: <a href='https://wandb.ai/dqmiss/nlp1-practical2/runs/xeb7ouwv' target=\"_blank\">https://wandb.ai/dqmiss/nlp1-practical2/runs/xeb7ouwv</a><br/> View job at <a href='https://wandb.ai/dqmiss/nlp1-practical2/jobs/QXJ0aWZhY3RDb2xsZWN0aW9uOjEyMjgwNjIyMw==/version_details/v0' target=\"_blank\">https://wandb.ai/dqmiss/nlp1-practical2/jobs/QXJ0aWZhY3RDb2xsZWN0aW9uOjEyMjgwNjIyMw==/version_details/v0</a><br/>Synced 6 W&B file(s), 0 media file(s), 2 artifact file(s) and 0 other file(s)"
      ],
      "text/plain": [
       "<IPython.core.display.HTML object>"
      ]
     },
     "metadata": {},
     "output_type": "display_data"
    },
    {
     "data": {
      "text/html": [
       "Find logs at: <code>./wandb/run-20231211_203850-xeb7ouwv/logs</code>"
      ],
      "text/plain": [
       "<IPython.core.display.HTML object>"
      ]
     },
     "metadata": {},
     "output_type": "display_data"
    },
    {
     "name": "stdout",
     "output_type": "stream",
     "text": [
      "best model iter 30000: train acc=0.3088, dev acc=0.2470, test acc=0.2322\n",
      "BOW(\n",
      "  (embed): Embedding(18280, 5)\n",
      ")\n"
     ]
    },
    {
     "data": {
      "text/html": [
       "wandb version 0.16.1 is available!  To upgrade, please run:\n",
       " $ pip install wandb --upgrade"
      ],
      "text/plain": [
       "<IPython.core.display.HTML object>"
      ]
     },
     "metadata": {},
     "output_type": "display_data"
    },
    {
     "data": {
      "text/html": [
       "Tracking run with wandb version 0.16.0"
      ],
      "text/plain": [
       "<IPython.core.display.HTML object>"
      ]
     },
     "metadata": {},
     "output_type": "display_data"
    },
    {
     "data": {
      "text/html": [
       "Run data is saved locally in <code>/home/jupyter/github/uva_nlp1/wandb/run-20231211_204029-xhsv5q3s</code>"
      ],
      "text/plain": [
       "<IPython.core.display.HTML object>"
      ]
     },
     "metadata": {},
     "output_type": "display_data"
    },
    {
     "data": {
      "text/html": [
       "Syncing run <strong><a href='https://wandb.ai/dqmiss/nlp1-practical2/runs/xhsv5q3s' target=\"_blank\">BOW-1702327229</a></strong> to <a href='https://wandb.ai/dqmiss/nlp1-practical2' target=\"_blank\">Weights & Biases</a> (<a href='https://wandb.me/run' target=\"_blank\">docs</a>)<br/>"
      ],
      "text/plain": [
       "<IPython.core.display.HTML object>"
      ]
     },
     "metadata": {},
     "output_type": "display_data"
    },
    {
     "data": {
      "text/html": [
       " View project at <a href='https://wandb.ai/dqmiss/nlp1-practical2' target=\"_blank\">https://wandb.ai/dqmiss/nlp1-practical2</a>"
      ],
      "text/plain": [
       "<IPython.core.display.HTML object>"
      ]
     },
     "metadata": {},
     "output_type": "display_data"
    },
    {
     "data": {
      "text/html": [
       " View run at <a href='https://wandb.ai/dqmiss/nlp1-practical2/runs/xhsv5q3s' target=\"_blank\">https://wandb.ai/dqmiss/nlp1-practical2/runs/xhsv5q3s</a>"
      ],
      "text/plain": [
       "<IPython.core.display.HTML object>"
      ]
     },
     "metadata": {},
     "output_type": "display_data"
    },
    {
     "name": "stdout",
     "output_type": "stream",
     "text": [
      "Iter 1000: loss=5468.5539, time=3.07s\n",
      "iter 1000: dev acc=0.1780\n",
      "new highscore\n",
      "Iter 2000: loss=5395.9553, time=7.07s\n",
      "iter 2000: dev acc=0.1744\n",
      "Iter 3000: loss=4892.4902, time=11.42s\n",
      "iter 3000: dev acc=0.1844\n",
      "new highscore\n",
      "Iter 4000: loss=4618.3548, time=15.78s\n",
      "iter 4000: dev acc=0.1871\n",
      "new highscore\n",
      "Iter 5000: loss=4765.4554, time=20.19s\n",
      "iter 5000: dev acc=0.2007\n",
      "new highscore\n",
      "Iter 6000: loss=4430.4141, time=24.51s\n",
      "iter 6000: dev acc=0.2044\n",
      "new highscore\n",
      "Iter 7000: loss=4372.0018, time=28.86s\n",
      "iter 7000: dev acc=0.2098\n",
      "new highscore\n",
      "Iter 8000: loss=4389.9773, time=33.28s\n",
      "iter 8000: dev acc=0.2107\n",
      "new highscore\n",
      "Iter 9000: loss=4344.6841, time=37.12s\n",
      "iter 9000: dev acc=0.2207\n",
      "new highscore\n",
      "Iter 10000: loss=4269.2003, time=41.51s\n",
      "iter 10000: dev acc=0.2262\n",
      "new highscore\n",
      "Iter 11000: loss=4158.2494, time=45.88s\n",
      "iter 11000: dev acc=0.2271\n",
      "new highscore\n",
      "Iter 12000: loss=3960.8651, time=50.39s\n",
      "iter 12000: dev acc=0.2216\n",
      "Iter 13000: loss=4188.9964, time=54.79s\n",
      "iter 13000: dev acc=0.2298\n",
      "new highscore\n",
      "Iter 14000: loss=4059.8425, time=59.13s\n",
      "iter 14000: dev acc=0.2307\n",
      "new highscore\n",
      "Iter 15000: loss=3827.3947, time=63.60s\n",
      "iter 15000: dev acc=0.2343\n",
      "new highscore\n",
      "Iter 16000: loss=3802.7269, time=67.02s\n",
      "iter 16000: dev acc=0.2307\n",
      "Iter 17000: loss=3668.4157, time=69.49s\n",
      "iter 17000: dev acc=0.2334\n",
      "Iter 18000: loss=3652.4245, time=71.94s\n",
      "iter 18000: dev acc=0.2343\n",
      "Iter 19000: loss=3521.9257, time=74.28s\n",
      "iter 19000: dev acc=0.2389\n",
      "new highscore\n",
      "Iter 20000: loss=3781.7125, time=76.61s\n",
      "iter 20000: dev acc=0.2398\n",
      "new highscore\n",
      "Iter 21000: loss=3298.6764, time=78.69s\n",
      "iter 21000: dev acc=0.2434\n",
      "new highscore\n",
      "Iter 22000: loss=3602.8108, time=80.62s\n",
      "iter 22000: dev acc=0.2461\n",
      "new highscore\n",
      "Iter 23000: loss=3376.4553, time=81.82s\n",
      "iter 23000: dev acc=0.2480\n",
      "new highscore\n",
      "Iter 24000: loss=3438.4421, time=83.03s\n",
      "iter 24000: dev acc=0.2507\n",
      "new highscore\n",
      "Iter 25000: loss=3454.2771, time=84.31s\n",
      "iter 25000: dev acc=0.2480\n",
      "Iter 26000: loss=3221.2601, time=85.57s\n",
      "iter 26000: dev acc=0.2470\n",
      "Iter 27000: loss=3275.8241, time=86.84s\n",
      "iter 27000: dev acc=0.2443\n",
      "Iter 28000: loss=3242.2896, time=88.14s\n",
      "iter 28000: dev acc=0.2461\n",
      "Iter 29000: loss=3133.6710, time=89.52s\n",
      "iter 29000: dev acc=0.2552\n",
      "new highscore\n",
      "Iter 30000: loss=3065.2631, time=90.86s\n",
      "iter 30000: dev acc=0.2561\n",
      "new highscore\n",
      "Done training\n",
      "Loading best model\n"
     ]
    },
    {
     "data": {
      "application/vnd.jupyter.widget-view+json": {
       "model_id": "",
       "version_major": 2,
       "version_minor": 0
      },
      "text/plain": [
       "VBox(children=(Label(value='0.002 MB of 0.002 MB uploaded\\r'), FloatProgress(value=1.0, max=1.0)))"
      ]
     },
     "metadata": {},
     "output_type": "display_data"
    },
    {
     "data": {
      "text/html": [
       "<style>\n",
       "    table.wandb td:nth-child(1) { padding: 0 10px; text-align: left ; width: auto;} td:nth-child(2) {text-align: left ; width: 100%}\n",
       "    .wandb-row { display: flex; flex-direction: row; flex-wrap: wrap; justify-content: flex-start; width: 100% }\n",
       "    .wandb-col { display: flex; flex-direction: column; flex-basis: 100%; flex: 1; padding: 10px; }\n",
       "    </style>\n",
       "<div class=\"wandb-row\"><div class=\"wandb-col\"><h3>Run history:</h3><br/><table class=\"wandb\"><tr><td>dev_accuracy</td><td>▁▁▂▂▃▄▄▄▅▅▆▅▆▆▆▆▆▆▇▇▇▇▇█▇▇▇▇██</td></tr><tr><td>dev_f1_score</td><td>▁▁▂▃▄▄▄▄▅▆▆▅▆▆▆▆▆▆▇▇▇▇▇██▇▇▇██</td></tr><tr><td>final_dev_accuracy</td><td>▁</td></tr><tr><td>final_dev_f1_score</td><td>▁</td></tr><tr><td>final_train_accuracy</td><td>▁</td></tr><tr><td>final_train_f1_score</td><td>▁</td></tr><tr><td>test_accuracy</td><td>▁</td></tr><tr><td>test_f1_score</td><td>▁</td></tr><tr><td>train_loss</td><td>██▆▆▆▅▅▅▅▅▄▄▄▄▃▃▃▃▂▃▂▃▂▂▂▁▂▂▁▁</td></tr></table><br/></div><div class=\"wandb-col\"><h3>Run summary:</h3><br/><table class=\"wandb\"><tr><td>dev_accuracy</td><td>0.25613</td></tr><tr><td>dev_f1_score</td><td>0.24999</td></tr><tr><td>final_dev_accuracy</td><td>0.25613</td></tr><tr><td>final_dev_f1_score</td><td>0.24999</td></tr><tr><td>final_train_accuracy</td><td>0.31297</td></tr><tr><td>final_train_f1_score</td><td>0.31164</td></tr><tr><td>test_accuracy</td><td>0.25982</td></tr><tr><td>test_f1_score</td><td>0.25458</td></tr><tr><td>train_loss</td><td>3065.26309</td></tr></table><br/></div></div>"
      ],
      "text/plain": [
       "<IPython.core.display.HTML object>"
      ]
     },
     "metadata": {},
     "output_type": "display_data"
    },
    {
     "data": {
      "text/html": [
       " View run <strong style=\"color:#cdcd00\">BOW-1702327229</strong> at: <a href='https://wandb.ai/dqmiss/nlp1-practical2/runs/xhsv5q3s' target=\"_blank\">https://wandb.ai/dqmiss/nlp1-practical2/runs/xhsv5q3s</a><br/> View job at <a href='https://wandb.ai/dqmiss/nlp1-practical2/jobs/QXJ0aWZhY3RDb2xsZWN0aW9uOjEyMjgwNjIyMw==/version_details/v0' target=\"_blank\">https://wandb.ai/dqmiss/nlp1-practical2/jobs/QXJ0aWZhY3RDb2xsZWN0aW9uOjEyMjgwNjIyMw==/version_details/v0</a><br/>Synced 6 W&B file(s), 0 media file(s), 0 artifact file(s) and 0 other file(s)"
      ],
      "text/plain": [
       "<IPython.core.display.HTML object>"
      ]
     },
     "metadata": {},
     "output_type": "display_data"
    },
    {
     "data": {
      "text/html": [
       "Find logs at: <code>./wandb/run-20231211_204029-xhsv5q3s/logs</code>"
      ],
      "text/plain": [
       "<IPython.core.display.HTML object>"
      ]
     },
     "metadata": {},
     "output_type": "display_data"
    },
    {
     "name": "stdout",
     "output_type": "stream",
     "text": [
      "best model iter 30000: train acc=0.3130, dev acc=0.2561, test acc=0.2598\n",
      "BOW(\n",
      "  (embed): Embedding(18280, 5)\n",
      ")\n"
     ]
    },
    {
     "data": {
      "text/html": [
       "wandb version 0.16.1 is available!  To upgrade, please run:\n",
       " $ pip install wandb --upgrade"
      ],
      "text/plain": [
       "<IPython.core.display.HTML object>"
      ]
     },
     "metadata": {},
     "output_type": "display_data"
    },
    {
     "data": {
      "text/html": [
       "Tracking run with wandb version 0.16.0"
      ],
      "text/plain": [
       "<IPython.core.display.HTML object>"
      ]
     },
     "metadata": {},
     "output_type": "display_data"
    },
    {
     "data": {
      "text/html": [
       "Run data is saved locally in <code>/home/jupyter/github/uva_nlp1/wandb/run-20231211_204223-eso9q0f9</code>"
      ],
      "text/plain": [
       "<IPython.core.display.HTML object>"
      ]
     },
     "metadata": {},
     "output_type": "display_data"
    },
    {
     "data": {
      "text/html": [
       "Syncing run <strong><a href='https://wandb.ai/dqmiss/nlp1-practical2/runs/eso9q0f9' target=\"_blank\">BOW-1702327343</a></strong> to <a href='https://wandb.ai/dqmiss/nlp1-practical2' target=\"_blank\">Weights & Biases</a> (<a href='https://wandb.me/run' target=\"_blank\">docs</a>)<br/>"
      ],
      "text/plain": [
       "<IPython.core.display.HTML object>"
      ]
     },
     "metadata": {},
     "output_type": "display_data"
    },
    {
     "data": {
      "text/html": [
       " View project at <a href='https://wandb.ai/dqmiss/nlp1-practical2' target=\"_blank\">https://wandb.ai/dqmiss/nlp1-practical2</a>"
      ],
      "text/plain": [
       "<IPython.core.display.HTML object>"
      ]
     },
     "metadata": {},
     "output_type": "display_data"
    },
    {
     "data": {
      "text/html": [
       " View run at <a href='https://wandb.ai/dqmiss/nlp1-practical2/runs/eso9q0f9' target=\"_blank\">https://wandb.ai/dqmiss/nlp1-practical2/runs/eso9q0f9</a>"
      ],
      "text/plain": [
       "<IPython.core.display.HTML object>"
      ]
     },
     "metadata": {},
     "output_type": "display_data"
    },
    {
     "name": "stdout",
     "output_type": "stream",
     "text": [
      "Iter 1000: loss=4966.9761, time=3.05s\n",
      "iter 1000: dev acc=0.1980\n",
      "new highscore\n",
      "Iter 2000: loss=4858.5450, time=6.99s\n",
      "iter 2000: dev acc=0.2044\n",
      "new highscore\n",
      "Iter 3000: loss=4821.5402, time=10.96s\n",
      "iter 3000: dev acc=0.2144\n",
      "new highscore\n",
      "Iter 4000: loss=4681.8356, time=15.49s\n",
      "iter 4000: dev acc=0.2153\n",
      "new highscore\n",
      "Iter 5000: loss=4649.7223, time=20.00s\n",
      "iter 5000: dev acc=0.2180\n",
      "new highscore\n",
      "Iter 6000: loss=4367.4997, time=24.51s\n",
      "iter 6000: dev acc=0.2225\n",
      "new highscore\n",
      "Iter 7000: loss=4599.6737, time=29.00s\n",
      "iter 7000: dev acc=0.2216\n",
      "Iter 8000: loss=4358.1086, time=33.38s\n",
      "iter 8000: dev acc=0.2271\n",
      "new highscore\n",
      "Iter 9000: loss=4206.6779, time=37.79s\n",
      "iter 9000: dev acc=0.2252\n",
      "Iter 10000: loss=4163.1152, time=41.64s\n",
      "iter 10000: dev acc=0.2262\n",
      "Iter 11000: loss=4226.9727, time=45.57s\n",
      "iter 11000: dev acc=0.2298\n",
      "new highscore\n",
      "Iter 12000: loss=4056.4406, time=50.08s\n",
      "iter 12000: dev acc=0.2298\n",
      "Iter 13000: loss=3943.3022, time=54.56s\n",
      "iter 13000: dev acc=0.2361\n",
      "new highscore\n",
      "Iter 14000: loss=3905.6107, time=59.05s\n",
      "iter 14000: dev acc=0.2371\n",
      "new highscore\n",
      "Iter 15000: loss=3830.2300, time=63.58s\n",
      "iter 15000: dev acc=0.2343\n",
      "Iter 16000: loss=3933.0499, time=68.07s\n",
      "iter 16000: dev acc=0.2371\n",
      "Iter 17000: loss=3712.8323, time=72.57s\n",
      "iter 17000: dev acc=0.2380\n",
      "new highscore\n",
      "Iter 18000: loss=3635.8229, time=77.06s\n",
      "iter 18000: dev acc=0.2434\n",
      "new highscore\n",
      "Iter 19000: loss=3515.2277, time=81.54s\n",
      "iter 19000: dev acc=0.2434\n",
      "Iter 20000: loss=3494.8500, time=85.94s\n",
      "iter 20000: dev acc=0.2498\n",
      "new highscore\n",
      "Iter 21000: loss=3476.9221, time=90.40s\n",
      "iter 21000: dev acc=0.2507\n",
      "new highscore\n",
      "Iter 22000: loss=3451.3750, time=94.83s\n",
      "iter 22000: dev acc=0.2525\n",
      "new highscore\n",
      "Iter 23000: loss=3537.6005, time=99.29s\n",
      "iter 23000: dev acc=0.2534\n",
      "new highscore\n",
      "Iter 24000: loss=3518.1094, time=103.76s\n",
      "iter 24000: dev acc=0.2525\n",
      "Iter 25000: loss=3204.5252, time=107.67s\n",
      "iter 25000: dev acc=0.2552\n",
      "new highscore\n",
      "Iter 26000: loss=3178.9612, time=112.11s\n",
      "iter 26000: dev acc=0.2579\n",
      "new highscore\n",
      "Iter 27000: loss=3148.8903, time=115.37s\n",
      "iter 27000: dev acc=0.2561\n",
      "Iter 28000: loss=3325.1892, time=117.70s\n",
      "iter 28000: dev acc=0.2579\n",
      "Iter 29000: loss=3179.2189, time=119.97s\n",
      "iter 29000: dev acc=0.2616\n",
      "new highscore\n",
      "Iter 30000: loss=2789.9282, time=122.29s\n",
      "iter 30000: dev acc=0.2634\n",
      "new highscore\n",
      "Done training\n",
      "Loading best model\n"
     ]
    },
    {
     "data": {
      "application/vnd.jupyter.widget-view+json": {
       "model_id": "",
       "version_major": 2,
       "version_minor": 0
      },
      "text/plain": [
       "VBox(children=(Label(value='0.002 MB of 0.002 MB uploaded\\r'), FloatProgress(value=1.0, max=1.0)))"
      ]
     },
     "metadata": {},
     "output_type": "display_data"
    },
    {
     "data": {
      "text/html": [
       "<style>\n",
       "    table.wandb td:nth-child(1) { padding: 0 10px; text-align: left ; width: auto;} td:nth-child(2) {text-align: left ; width: 100%}\n",
       "    .wandb-row { display: flex; flex-direction: row; flex-wrap: wrap; justify-content: flex-start; width: 100% }\n",
       "    .wandb-col { display: flex; flex-direction: column; flex-basis: 100%; flex: 1; padding: 10px; }\n",
       "    </style>\n",
       "<div class=\"wandb-row\"><div class=\"wandb-col\"><h3>Run history:</h3><br/><table class=\"wandb\"><tr><td>dev_accuracy</td><td>▁▂▃▃▃▄▄▄▄▄▄▄▅▅▅▅▅▆▆▇▇▇▇▇▇▇▇▇██</td></tr><tr><td>dev_f1_score</td><td>▁▂▃▃▃▄▃▄▄▄▅▅▅▅▅▅▅▆▆▆▇▇▇▇▇▇▇▇▇█</td></tr><tr><td>final_dev_accuracy</td><td>▁</td></tr><tr><td>final_dev_f1_score</td><td>▁</td></tr><tr><td>final_train_accuracy</td><td>▁</td></tr><tr><td>final_train_f1_score</td><td>▁</td></tr><tr><td>test_accuracy</td><td>▁</td></tr><tr><td>test_f1_score</td><td>▁</td></tr><tr><td>train_loss</td><td>███▇▇▆▇▆▆▅▆▅▅▅▄▅▄▄▃▃▃▃▃▃▂▂▂▃▂▁</td></tr></table><br/></div><div class=\"wandb-col\"><h3>Run summary:</h3><br/><table class=\"wandb\"><tr><td>dev_accuracy</td><td>0.2634</td></tr><tr><td>dev_f1_score</td><td>0.2432</td></tr><tr><td>final_dev_accuracy</td><td>0.2634</td></tr><tr><td>final_dev_f1_score</td><td>0.2432</td></tr><tr><td>final_train_accuracy</td><td>0.31601</td></tr><tr><td>final_train_f1_score</td><td>0.31537</td></tr><tr><td>test_accuracy</td><td>0.26817</td></tr><tr><td>test_f1_score</td><td>0.25209</td></tr><tr><td>train_loss</td><td>2789.92818</td></tr></table><br/></div></div>"
      ],
      "text/plain": [
       "<IPython.core.display.HTML object>"
      ]
     },
     "metadata": {},
     "output_type": "display_data"
    },
    {
     "data": {
      "text/html": [
       " View run <strong style=\"color:#cdcd00\">BOW-1702327343</strong> at: <a href='https://wandb.ai/dqmiss/nlp1-practical2/runs/eso9q0f9' target=\"_blank\">https://wandb.ai/dqmiss/nlp1-practical2/runs/eso9q0f9</a><br/> View job at <a href='https://wandb.ai/dqmiss/nlp1-practical2/jobs/QXJ0aWZhY3RDb2xsZWN0aW9uOjEyMjgwNjIyMw==/version_details/v0' target=\"_blank\">https://wandb.ai/dqmiss/nlp1-practical2/jobs/QXJ0aWZhY3RDb2xsZWN0aW9uOjEyMjgwNjIyMw==/version_details/v0</a><br/>Synced 6 W&B file(s), 0 media file(s), 0 artifact file(s) and 0 other file(s)"
      ],
      "text/plain": [
       "<IPython.core.display.HTML object>"
      ]
     },
     "metadata": {},
     "output_type": "display_data"
    },
    {
     "data": {
      "text/html": [
       "Find logs at: <code>./wandb/run-20231211_204223-eso9q0f9/logs</code>"
      ],
      "text/plain": [
       "<IPython.core.display.HTML object>"
      ]
     },
     "metadata": {},
     "output_type": "display_data"
    },
    {
     "name": "stdout",
     "output_type": "stream",
     "text": [
      "best model iter 30000: train acc=0.3160, dev acc=0.2634, test acc=0.2682\n"
     ]
    }
   ],
   "source": [
    "# If everything is in place we can now train our first model!\n",
    "def get_model():\n",
    "    bow_model = BOW(len(v.w2i), len(t2i), vocab=v)\n",
    "    print(bow_model)\n",
    "\n",
    "    bow_model = bow_model.to(device)\n",
    "    optimizer = optim.Adam(bow_model.parameters(), lr=0.0005)\n",
    "\n",
    "    return bow_model, optimizer\n",
    "    \n",
    "\n",
    "bow_losses, bow_accuracies = train_model(\n",
    "    model_fn=get_model,\n",
    "    num_iterations=NUM_STEPS_UNBATCHED,\n",
    "    print_every=NUM_STEPS_UNBATCHED // 30,\n",
    "    eval_every=NUM_STEPS_UNBATCHED // 30,\n",
    "    hypothesis=\"bow\",\n",
    ")"
   ]
  },
  {
   "cell_type": "code",
   "execution_count": 45,
   "metadata": {},
   "outputs": [],
   "source": [
    "matplotlib.rcParams.update({\"font.size\": 12})"
   ]
  },
  {
   "cell_type": "code",
   "execution_count": 46,
   "metadata": {
    "id": "dvYLj8LIAzfS"
   },
   "outputs": [
    {
     "data": {
      "text/plain": [
       "[<matplotlib.lines.Line2D at 0x7f432c551750>]"
      ]
     },
     "execution_count": 46,
     "metadata": {},
     "output_type": "execute_result"
    },
    {
     "data": {
      "image/png": "[encoded data removed]",
      "text/plain": [
       "<Figure size 640x480 with 1 Axes>"
      ]
     },
     "metadata": {},
     "output_type": "display_data"
    }
   ],
   "source": [
    "# This will plot the validation accuracies across time.\n",
    "plt.plot(bow_accuracies)"
   ]
  },
  {
   "cell_type": "code",
   "execution_count": 47,
   "metadata": {
    "id": "vUHm9JfSI4po"
   },
   "outputs": [
    {
     "data": {
      "text/plain": [
       "[<matplotlib.lines.Line2D at 0x7f432c56aad0>]"
      ]
     },
     "execution_count": 47,
     "metadata": {},
     "output_type": "execute_result"
    },
    {
     "data": {
      "image/png": "[encoded data removed]",
      "text/plain": [
       "<Figure size 640x480 with 1 Axes>"
      ]
     },
     "metadata": {},
     "output_type": "display_data"
    }
   ],
   "source": [
    "# This will plot the training loss over time.\n",
    "plt.plot(bow_losses)"
   ]
  },
  {
   "cell_type": "markdown",
   "metadata": {
    "id": "Psxh-Le1BMDQ"
   },
   "source": [
    "Please note that we set the number of iterations to 30K as an indicative value, after which we simply stop training without checking for convergence. You should choose an appropriate number of iterations and motivate your decision. **This holds for all pre-set numbers of iteration in the following code blocks.**"
   ]
  },
  {
   "cell_type": "markdown",
   "metadata": {
    "id": "E9mB1_XhMPNN"
   },
   "source": [
    "# CBOW"
   ]
  },
  {
   "cell_type": "markdown",
   "metadata": {
    "id": "pWk78FvNMw4o"
   },
   "source": [
    "We now continue with a **continuous bag-of-words (CBOW)** model. (*This is not the same as the word2vec CBOW model!*)\n",
    "\n",
    "It is similar to the BOW model above, but now embeddings can have a dimension of *arbitrary size*.\n",
    "This means that we can choose a higher dimensionality and learn more aspects of each word. We will still sum word vectors to get a sentence representation, but now the size of the resulting vector will no longer correspond to the number of sentiment classes.\n",
    "\n",
    "So to turn the size of our summed vector into the number of output classes, we can *learn* a parameter matrix $W$ and multiply it by the sum vector $x$: $$Wx$$\n",
    "If the size of $x$ is `d x 1`, we can set $W$ to be `5 x d`, so that the output of the matrix multiplication will be the of the desired size, `5 x 1`. Then, just like for the BOW model, we can obtain a prediction using the argmax function."
   ]
  },
  {
   "cell_type": "markdown",
   "metadata": {
    "id": "gIjrCPfCwsXI"
   },
   "source": [
    "## Exercise: implement and train the CBOW model\n",
    "\n",
    "Write a class `CBOW` that:\n",
    "\n",
    "- has word embeddings with size 300\n",
    "- sums the word vectors for the input words (just like in `BOW`)\n",
    "- projects the resulting vector down to 5 units using a linear layer and a bias term (check out `nn.Linear`)\n",
    "\n",
    "Train your CBOW model and plot the validation accuracy and training loss over time."
   ]
  },
  {
   "cell_type": "code",
   "execution_count": 48,
   "metadata": {},
   "outputs": [],
   "source": [
    "class BOW(nn.Module):\n",
    "    \"\"\"A simple bag-of-words model\"\"\"\n",
    "\n",
    "    def __init__(self, vocab_size, embedding_dim, vocab):\n",
    "        super(BOW, self).__init__()\n",
    "        self.vocab = vocab\n",
    "\n",
    "        # this is a trainable look-up table with word embeddings\n",
    "        self.embed = nn.Embedding(vocab_size, embedding_dim)\n",
    "\n",
    "        # this is a trainable bias term\n",
    "        self.bias = nn.Parameter(torch.zeros(embedding_dim), requires_grad=True)\n",
    "\n",
    "    def forward(self, inputs):\n",
    "        # this is the forward pass of the neural network\n",
    "        # it applies a function to the input and returns the output\n",
    "\n",
    "        # this looks up the embeddings for each word ID in inputs\n",
    "        # the result is a sequence of word embeddings\n",
    "        embeds = self.embed(inputs)\n",
    "\n",
    "        # the output is the sum across the time dimension (1)\n",
    "        # with the bias term added\n",
    "        logits = embeds.sum(1) + self.bias\n",
    "\n",
    "        return logits"
   ]
  },
  {
   "cell_type": "code",
   "execution_count": 49,
   "metadata": {
    "id": "PEV22aR2MP0Q"
   },
   "outputs": [],
   "source": [
    "# YOUR CODE HERE\n",
    "\n",
    "\n",
    "class CBOW(nn.Module):\n",
    "    \"\"\"A simple bag-of-words model\"\"\"\n",
    "\n",
    "    def __init__(self, vocab_size, embedding_dim, output_dim, vocab):\n",
    "        super(CBOW, self).__init__()\n",
    "        self.vocab = vocab\n",
    "\n",
    "        # this is a trainable look-up table with word embeddings\n",
    "        self.embed = nn.Embedding(vocab_size, embedding_dim)\n",
    "\n",
    "        # this is a trainable bias term\n",
    "        self.linear1 = nn.Linear(embedding_dim, output_dim, bias=True)\n",
    "\n",
    "    def forward(self, inputs):\n",
    "        # this is the forward pass of the neural network\n",
    "        # it applies a function to the input and returns the output\n",
    "\n",
    "        # this looks up the embeddings for each word ID in inputs\n",
    "        # the result is a sequence of word embeddings\n",
    "        embeds = self.embed(inputs)\n",
    "\n",
    "        # Projecting back to 5 dimensions using a linear layer\n",
    "        out = self.linear1(embeds)\n",
    "        out = out.sum(1)\n",
    "\n",
    "        return out"
   ]
  },
  {
   "cell_type": "code",
   "execution_count": 50,
   "metadata": {},
   "outputs": [
    {
     "name": "stdout",
     "output_type": "stream",
     "text": [
      "CBOW(\n",
      "  (embed): Embedding(18280, 300)\n",
      "  (linear1): Linear(in_features=300, out_features=5, bias=True)\n",
      ")\n"
     ]
    },
    {
     "data": {
      "text/html": [
       "wandb version 0.16.1 is available!  To upgrade, please run:\n",
       " $ pip install wandb --upgrade"
      ],
      "text/plain": [
       "<IPython.core.display.HTML object>"
      ]
     },
     "metadata": {},
     "output_type": "display_data"
    },
    {
     "data": {
      "text/html": [
       "Tracking run with wandb version 0.16.0"
      ],
      "text/plain": [
       "<IPython.core.display.HTML object>"
      ]
     },
     "metadata": {},
     "output_type": "display_data"
    },
    {
     "data": {
      "text/html": [
       "Run data is saved locally in <code>/home/jupyter/github/uva_nlp1/wandb/run-20231211_204450-eiprtrp4</code>"
      ],
      "text/plain": [
       "<IPython.core.display.HTML object>"
      ]
     },
     "metadata": {},
     "output_type": "display_data"
    },
    {
     "data": {
      "text/html": [
       "Syncing run <strong><a href='https://wandb.ai/dqmiss/nlp1-practical2/runs/eiprtrp4' target=\"_blank\">CBOW-1702327490</a></strong> to <a href='https://wandb.ai/dqmiss/nlp1-practical2' target=\"_blank\">Weights & Biases</a> (<a href='https://wandb.me/run' target=\"_blank\">docs</a>)<br/>"
      ],
      "text/plain": [
       "<IPython.core.display.HTML object>"
      ]
     },
     "metadata": {},
     "output_type": "display_data"
    },
    {
     "data": {
      "text/html": [
       " View project at <a href='https://wandb.ai/dqmiss/nlp1-practical2' target=\"_blank\">https://wandb.ai/dqmiss/nlp1-practical2</a>"
      ],
      "text/plain": [
       "<IPython.core.display.HTML object>"
      ]
     },
     "metadata": {},
     "output_type": "display_data"
    },
    {
     "data": {
      "text/html": [
       " View run at <a href='https://wandb.ai/dqmiss/nlp1-practical2/runs/eiprtrp4' target=\"_blank\">https://wandb.ai/dqmiss/nlp1-practical2/runs/eiprtrp4</a>"
      ],
      "text/plain": [
       "<IPython.core.display.HTML object>"
      ]
     },
     "metadata": {},
     "output_type": "display_data"
    },
    {
     "name": "stdout",
     "output_type": "stream",
     "text": [
      "Iter 1000: loss=2860.0631, time=4.89s\n",
      "iter 1000: dev acc=0.2679\n",
      "new highscore\n",
      "Iter 2000: loss=2232.0625, time=11.07s\n",
      "iter 2000: dev acc=0.2679\n",
      "Iter 3000: loss=2105.5694, time=16.78s\n",
      "iter 3000: dev acc=0.2589\n",
      "Iter 4000: loss=2062.8901, time=22.95s\n",
      "iter 4000: dev acc=0.2625\n",
      "Iter 5000: loss=1977.3149, time=29.14s\n",
      "iter 5000: dev acc=0.2925\n",
      "new highscore\n",
      "Iter 6000: loss=1911.0481, time=35.48s\n",
      "iter 6000: dev acc=0.3052\n",
      "new highscore\n",
      "Iter 7000: loss=1863.2214, time=41.75s\n",
      "iter 7000: dev acc=0.2906\n",
      "Iter 8000: loss=1857.8702, time=47.66s\n",
      "iter 8000: dev acc=0.2797\n",
      "Iter 9000: loss=1701.7993, time=53.56s\n",
      "iter 9000: dev acc=0.3070\n",
      "new highscore\n",
      "Iter 10000: loss=1572.6828, time=59.83s\n",
      "iter 10000: dev acc=0.2852\n",
      "Iter 11000: loss=1671.8934, time=66.04s\n",
      "iter 11000: dev acc=0.3015\n",
      "Iter 12000: loss=1636.6033, time=71.93s\n",
      "iter 12000: dev acc=0.2816\n",
      "Iter 13000: loss=1697.2366, time=78.09s\n",
      "iter 13000: dev acc=0.2943\n",
      "Iter 14000: loss=1624.9446, time=84.03s\n",
      "iter 14000: dev acc=0.3270\n",
      "new highscore\n",
      "Iter 15000: loss=1667.3971, time=91.15s\n",
      "iter 15000: dev acc=0.3179\n",
      "Iter 16000: loss=1610.0893, time=97.03s\n",
      "iter 16000: dev acc=0.3379\n",
      "new highscore\n",
      "Iter 17000: loss=1623.4740, time=103.57s\n",
      "iter 17000: dev acc=0.3170\n",
      "Iter 18000: loss=1344.7427, time=109.70s\n",
      "iter 18000: dev acc=0.3124\n",
      "Iter 19000: loss=1244.1500, time=115.59s\n",
      "iter 19000: dev acc=0.3206\n",
      "Iter 20000: loss=1314.2548, time=121.70s\n",
      "iter 20000: dev acc=0.3061\n",
      "Iter 21000: loss=1318.2193, time=127.83s\n",
      "iter 21000: dev acc=0.3206\n",
      "Iter 22000: loss=1445.9293, time=133.74s\n",
      "iter 22000: dev acc=0.3152\n",
      "Iter 23000: loss=1402.5362, time=139.64s\n",
      "iter 23000: dev acc=0.3488\n",
      "new highscore\n",
      "Iter 24000: loss=1340.7122, time=146.69s\n",
      "iter 24000: dev acc=0.3206\n",
      "Iter 25000: loss=1403.0866, time=152.80s\n",
      "iter 25000: dev acc=0.3261\n",
      "Iter 26000: loss=1177.3010, time=158.91s\n",
      "iter 26000: dev acc=0.3488\n",
      "Iter 27000: loss=959.7654, time=164.77s\n",
      "iter 27000: dev acc=0.3324\n",
      "Iter 28000: loss=1006.9460, time=170.95s\n",
      "iter 28000: dev acc=0.3306\n",
      "Iter 29000: loss=1072.0119, time=176.85s\n",
      "iter 29000: dev acc=0.3333\n",
      "Iter 30000: loss=1073.8264, time=182.91s\n",
      "iter 30000: dev acc=0.3297\n",
      "Done training\n",
      "Loading best model\n"
     ]
    },
    {
     "data": {
      "application/vnd.jupyter.widget-view+json": {
       "model_id": "",
       "version_major": 2,
       "version_minor": 0
      },
      "text/plain": [
       "VBox(children=(Label(value='0.002 MB of 0.018 MB uploaded\\r'), FloatProgress(value=0.10926634682766427, max=1.…"
      ]
     },
     "metadata": {},
     "output_type": "display_data"
    },
    {
     "data": {
      "text/html": [
       "<style>\n",
       "    table.wandb td:nth-child(1) { padding: 0 10px; text-align: left ; width: auto;} td:nth-child(2) {text-align: left ; width: 100%}\n",
       "    .wandb-row { display: flex; flex-direction: row; flex-wrap: wrap; justify-content: flex-start; width: 100% }\n",
       "    .wandb-col { display: flex; flex-direction: column; flex-basis: 100%; flex: 1; padding: 10px; }\n",
       "    </style>\n",
       "<div class=\"wandb-row\"><div class=\"wandb-col\"><h3>Run history:</h3><br/><table class=\"wandb\"><tr><td>dev_accuracy</td><td>▂▂▁▁▄▅▃▃▅▃▄▃▄▆▆▇▆▅▆▅▆▅█▆▆█▇▇▇▇</td></tr><tr><td>dev_f1_score</td><td>▂▁▁▁▃▃▄▃▅▃▄▃▄▄▅▇▄▅▆▅▆▆█▅▆█▆▆▇▇</td></tr><tr><td>final_dev_accuracy</td><td>▁</td></tr><tr><td>final_dev_f1_score</td><td>▁</td></tr><tr><td>final_train_accuracy</td><td>▁</td></tr><tr><td>final_train_f1_score</td><td>▁</td></tr><tr><td>test_accuracy</td><td>▁</td></tr><tr><td>test_f1_score</td><td>▁</td></tr><tr><td>train_loss</td><td>█▆▅▅▅▅▄▄▄▃▄▃▄▃▄▃▃▂▂▂▂▃▃▂▃▂▁▁▁▁</td></tr></table><br/></div><div class=\"wandb-col\"><h3>Run summary:</h3><br/><table class=\"wandb\"><tr><td>dev_accuracy</td><td>0.3297</td></tr><tr><td>dev_f1_score</td><td>0.32379</td></tr><tr><td>final_dev_accuracy</td><td>0.35059</td></tr><tr><td>final_dev_f1_score</td><td>0.33487</td></tr><tr><td>final_train_accuracy</td><td>0.68212</td></tr><tr><td>final_train_f1_score</td><td>0.67991</td></tr><tr><td>test_accuracy</td><td>0.39098</td></tr><tr><td>test_f1_score</td><td>0.37206</td></tr><tr><td>train_loss</td><td>1073.82637</td></tr></table><br/></div></div>"
      ],
      "text/plain": [
       "<IPython.core.display.HTML object>"
      ]
     },
     "metadata": {},
     "output_type": "display_data"
    },
    {
     "data": {
      "text/html": [
       " View run <strong style=\"color:#cdcd00\">CBOW-1702327490</strong> at: <a href='https://wandb.ai/dqmiss/nlp1-practical2/runs/eiprtrp4' target=\"_blank\">https://wandb.ai/dqmiss/nlp1-practical2/runs/eiprtrp4</a><br/> View job at <a href='https://wandb.ai/dqmiss/nlp1-practical2/jobs/QXJ0aWZhY3RDb2xsZWN0aW9uOjEyMjgwNjIyMw==/version_details/v0' target=\"_blank\">https://wandb.ai/dqmiss/nlp1-practical2/jobs/QXJ0aWZhY3RDb2xsZWN0aW9uOjEyMjgwNjIyMw==/version_details/v0</a><br/>Synced 6 W&B file(s), 0 media file(s), 0 artifact file(s) and 0 other file(s)"
      ],
      "text/plain": [
       "<IPython.core.display.HTML object>"
      ]
     },
     "metadata": {},
     "output_type": "display_data"
    },
    {
     "data": {
      "text/html": [
       "Find logs at: <code>./wandb/run-20231211_204450-eiprtrp4/logs</code>"
      ],
      "text/plain": [
       "<IPython.core.display.HTML object>"
      ]
     },
     "metadata": {},
     "output_type": "display_data"
    },
    {
     "name": "stdout",
     "output_type": "stream",
     "text": [
      "best model iter 23000: train acc=0.6821, dev acc=0.3506, test acc=0.3910\n",
      "CBOW(\n",
      "  (embed): Embedding(18280, 300)\n",
      "  (linear1): Linear(in_features=300, out_features=5, bias=True)\n",
      ")\n"
     ]
    },
    {
     "data": {
      "text/html": [
       "wandb version 0.16.1 is available!  To upgrade, please run:\n",
       " $ pip install wandb --upgrade"
      ],
      "text/plain": [
       "<IPython.core.display.HTML object>"
      ]
     },
     "metadata": {},
     "output_type": "display_data"
    },
    {
     "data": {
      "text/html": [
       "Tracking run with wandb version 0.16.0"
      ],
      "text/plain": [
       "<IPython.core.display.HTML object>"
      ]
     },
     "metadata": {},
     "output_type": "display_data"
    },
    {
     "data": {
      "text/html": [
       "Run data is saved locally in <code>/home/jupyter/github/uva_nlp1/wandb/run-20231211_204822-ui7f5u7d</code>"
      ],
      "text/plain": [
       "<IPython.core.display.HTML object>"
      ]
     },
     "metadata": {},
     "output_type": "display_data"
    },
    {
     "data": {
      "text/html": [
       "Syncing run <strong><a href='https://wandb.ai/dqmiss/nlp1-practical2/runs/ui7f5u7d' target=\"_blank\">CBOW-1702327702</a></strong> to <a href='https://wandb.ai/dqmiss/nlp1-practical2' target=\"_blank\">Weights & Biases</a> (<a href='https://wandb.me/run' target=\"_blank\">docs</a>)<br/>"
      ],
      "text/plain": [
       "<IPython.core.display.HTML object>"
      ]
     },
     "metadata": {},
     "output_type": "display_data"
    },
    {
     "data": {
      "text/html": [
       " View project at <a href='https://wandb.ai/dqmiss/nlp1-practical2' target=\"_blank\">https://wandb.ai/dqmiss/nlp1-practical2</a>"
      ],
      "text/plain": [
       "<IPython.core.display.HTML object>"
      ]
     },
     "metadata": {},
     "output_type": "display_data"
    },
    {
     "data": {
      "text/html": [
       " View run at <a href='https://wandb.ai/dqmiss/nlp1-practical2/runs/ui7f5u7d' target=\"_blank\">https://wandb.ai/dqmiss/nlp1-practical2/runs/ui7f5u7d</a>"
      ],
      "text/plain": [
       "<IPython.core.display.HTML object>"
      ]
     },
     "metadata": {},
     "output_type": "display_data"
    },
    {
     "name": "stdout",
     "output_type": "stream",
     "text": [
      "Iter 1000: loss=2775.8077, time=5.69s\n",
      "iter 1000: dev acc=0.2480\n",
      "new highscore\n",
      "Iter 2000: loss=2358.1398, time=13.65s\n",
      "iter 2000: dev acc=0.2643\n",
      "new highscore\n",
      "Iter 3000: loss=2091.3309, time=22.40s\n",
      "iter 3000: dev acc=0.2589\n",
      "Iter 4000: loss=2049.4041, time=29.86s\n",
      "iter 4000: dev acc=0.2661\n",
      "new highscore\n",
      "Iter 5000: loss=1947.0398, time=37.28s\n",
      "iter 5000: dev acc=0.2834\n",
      "new highscore\n",
      "Iter 6000: loss=1893.5705, time=45.22s\n",
      "iter 6000: dev acc=0.3052\n",
      "new highscore\n",
      "Iter 7000: loss=1919.0043, time=53.35s\n",
      "iter 7000: dev acc=0.2988\n",
      "Iter 8000: loss=1912.3389, time=61.14s\n",
      "iter 8000: dev acc=0.2879\n",
      "Iter 9000: loss=1709.9240, time=68.99s\n",
      "iter 9000: dev acc=0.2779\n",
      "Iter 10000: loss=1613.3857, time=76.45s\n",
      "iter 10000: dev acc=0.2679\n",
      "Iter 11000: loss=1608.7565, time=84.38s\n",
      "iter 11000: dev acc=0.2997\n",
      "Iter 12000: loss=1632.6638, time=92.04s\n",
      "iter 12000: dev acc=0.3006\n",
      "Iter 13000: loss=1706.6472, time=99.49s\n",
      "iter 13000: dev acc=0.3252\n",
      "new highscore\n",
      "Iter 14000: loss=1597.8884, time=107.57s\n",
      "iter 14000: dev acc=0.3370\n",
      "new highscore\n",
      "Iter 15000: loss=1628.2700, time=115.56s\n",
      "iter 15000: dev acc=0.2870\n",
      "Iter 16000: loss=1615.9693, time=123.34s\n",
      "iter 16000: dev acc=0.3197\n",
      "Iter 17000: loss=1697.9862, time=130.17s\n",
      "iter 17000: dev acc=0.3134\n",
      "Iter 18000: loss=1231.5061, time=137.89s\n",
      "iter 18000: dev acc=0.3043\n",
      "Iter 19000: loss=1298.6625, time=145.35s\n",
      "iter 19000: dev acc=0.3088\n",
      "Iter 20000: loss=1337.0613, time=152.83s\n",
      "iter 20000: dev acc=0.3161\n",
      "Iter 21000: loss=1325.7840, time=160.76s\n",
      "iter 21000: dev acc=0.3315\n",
      "Iter 22000: loss=1347.5951, time=168.73s\n",
      "iter 22000: dev acc=0.3179\n",
      "Iter 23000: loss=1418.1911, time=176.78s\n",
      "iter 23000: dev acc=0.3279\n",
      "Iter 24000: loss=1364.0407, time=184.59s\n",
      "iter 24000: dev acc=0.3170\n",
      "Iter 25000: loss=1410.6023, time=192.71s\n",
      "iter 25000: dev acc=0.3061\n",
      "Iter 26000: loss=1233.8533, time=200.66s\n",
      "iter 26000: dev acc=0.3179\n",
      "Iter 27000: loss=954.5629, time=208.56s\n",
      "iter 27000: dev acc=0.2970\n",
      "Iter 28000: loss=965.5266, time=216.52s\n",
      "iter 28000: dev acc=0.3479\n",
      "new highscore\n",
      "Iter 29000: loss=1047.5156, time=225.61s\n",
      "iter 29000: dev acc=0.3161\n",
      "Iter 30000: loss=1074.6963, time=233.61s\n",
      "iter 30000: dev acc=0.3370\n",
      "Done training\n",
      "Loading best model\n"
     ]
    },
    {
     "data": {
      "application/vnd.jupyter.widget-view+json": {
       "model_id": "",
       "version_major": 2,
       "version_minor": 0
      },
      "text/plain": [
       "VBox(children=(Label(value='0.002 MB of 0.018 MB uploaded\\r'), FloatProgress(value=0.10918394828979262, max=1.…"
      ]
     },
     "metadata": {},
     "output_type": "display_data"
    },
    {
     "data": {
      "text/html": [
       "<style>\n",
       "    table.wandb td:nth-child(1) { padding: 0 10px; text-align: left ; width: auto;} td:nth-child(2) {text-align: left ; width: 100%}\n",
       "    .wandb-row { display: flex; flex-direction: row; flex-wrap: wrap; justify-content: flex-start; width: 100% }\n",
       "    .wandb-col { display: flex; flex-direction: column; flex-basis: 100%; flex: 1; padding: 10px; }\n",
       "    </style>\n",
       "<div class=\"wandb-row\"><div class=\"wandb-col\"><h3>Run history:</h3><br/><table class=\"wandb\"><tr><td>dev_accuracy</td><td>▁▂▂▂▃▅▅▄▃▂▅▅▆▇▄▆▆▅▅▆▇▆▇▆▅▆▄█▆▇</td></tr><tr><td>dev_f1_score</td><td>▁▃▃▃▄▅▅▅▄▄▆▅▆▇▅▆▆▆▆▆▇▆▇▆▆▆▆█▇▇</td></tr><tr><td>final_dev_accuracy</td><td>▁</td></tr><tr><td>final_dev_f1_score</td><td>▁</td></tr><tr><td>final_train_accuracy</td><td>▁</td></tr><tr><td>final_train_f1_score</td><td>▁</td></tr><tr><td>test_accuracy</td><td>▁</td></tr><tr><td>test_f1_score</td><td>▁</td></tr><tr><td>train_loss</td><td>█▆▅▅▅▅▅▅▄▄▄▄▄▃▄▄▄▂▂▂▂▃▃▃▃▂▁▁▁▁</td></tr></table><br/></div><div class=\"wandb-col\"><h3>Run summary:</h3><br/><table class=\"wandb\"><tr><td>dev_accuracy</td><td>0.33697</td></tr><tr><td>dev_f1_score</td><td>0.32013</td></tr><tr><td>final_dev_accuracy</td><td>0.34787</td></tr><tr><td>final_dev_f1_score</td><td>0.34508</td></tr><tr><td>final_train_accuracy</td><td>0.67521</td></tr><tr><td>final_train_f1_score</td><td>0.67281</td></tr><tr><td>test_accuracy</td><td>0.37343</td></tr><tr><td>test_f1_score</td><td>0.37207</td></tr><tr><td>train_loss</td><td>1074.69626</td></tr></table><br/></div></div>"
      ],
      "text/plain": [
       "<IPython.core.display.HTML object>"
      ]
     },
     "metadata": {},
     "output_type": "display_data"
    },
    {
     "data": {
      "text/html": [
       " View run <strong style=\"color:#cdcd00\">CBOW-1702327702</strong> at: <a href='https://wandb.ai/dqmiss/nlp1-practical2/runs/ui7f5u7d' target=\"_blank\">https://wandb.ai/dqmiss/nlp1-practical2/runs/ui7f5u7d</a><br/> View job at <a href='https://wandb.ai/dqmiss/nlp1-practical2/jobs/QXJ0aWZhY3RDb2xsZWN0aW9uOjEyMjgwNjIyMw==/version_details/v0' target=\"_blank\">https://wandb.ai/dqmiss/nlp1-practical2/jobs/QXJ0aWZhY3RDb2xsZWN0aW9uOjEyMjgwNjIyMw==/version_details/v0</a><br/>Synced 6 W&B file(s), 0 media file(s), 0 artifact file(s) and 0 other file(s)"
      ],
      "text/plain": [
       "<IPython.core.display.HTML object>"
      ]
     },
     "metadata": {},
     "output_type": "display_data"
    },
    {
     "data": {
      "text/html": [
       "Find logs at: <code>./wandb/run-20231211_204822-ui7f5u7d/logs</code>"
      ],
      "text/plain": [
       "<IPython.core.display.HTML object>"
      ]
     },
     "metadata": {},
     "output_type": "display_data"
    },
    {
     "name": "stdout",
     "output_type": "stream",
     "text": [
      "best model iter 28000: train acc=0.6752, dev acc=0.3479, test acc=0.3734\n",
      "CBOW(\n",
      "  (embed): Embedding(18280, 300)\n",
      "  (linear1): Linear(in_features=300, out_features=5, bias=True)\n",
      ")\n"
     ]
    },
    {
     "data": {
      "text/html": [
       "wandb version 0.16.1 is available!  To upgrade, please run:\n",
       " $ pip install wandb --upgrade"
      ],
      "text/plain": [
       "<IPython.core.display.HTML object>"
      ]
     },
     "metadata": {},
     "output_type": "display_data"
    },
    {
     "data": {
      "text/html": [
       "Tracking run with wandb version 0.16.0"
      ],
      "text/plain": [
       "<IPython.core.display.HTML object>"
      ]
     },
     "metadata": {},
     "output_type": "display_data"
    },
    {
     "data": {
      "text/html": [
       "Run data is saved locally in <code>/home/jupyter/github/uva_nlp1/wandb/run-20231211_205251-nm43jon8</code>"
      ],
      "text/plain": [
       "<IPython.core.display.HTML object>"
      ]
     },
     "metadata": {},
     "output_type": "display_data"
    },
    {
     "data": {
      "text/html": [
       "Syncing run <strong><a href='https://wandb.ai/dqmiss/nlp1-practical2/runs/nm43jon8' target=\"_blank\">CBOW-1702327971</a></strong> to <a href='https://wandb.ai/dqmiss/nlp1-practical2' target=\"_blank\">Weights & Biases</a> (<a href='https://wandb.me/run' target=\"_blank\">docs</a>)<br/>"
      ],
      "text/plain": [
       "<IPython.core.display.HTML object>"
      ]
     },
     "metadata": {},
     "output_type": "display_data"
    },
    {
     "data": {
      "text/html": [
       " View project at <a href='https://wandb.ai/dqmiss/nlp1-practical2' target=\"_blank\">https://wandb.ai/dqmiss/nlp1-practical2</a>"
      ],
      "text/plain": [
       "<IPython.core.display.HTML object>"
      ]
     },
     "metadata": {},
     "output_type": "display_data"
    },
    {
     "data": {
      "text/html": [
       " View run at <a href='https://wandb.ai/dqmiss/nlp1-practical2/runs/nm43jon8' target=\"_blank\">https://wandb.ai/dqmiss/nlp1-practical2/runs/nm43jon8</a>"
      ],
      "text/plain": [
       "<IPython.core.display.HTML object>"
      ]
     },
     "metadata": {},
     "output_type": "display_data"
    },
    {
     "name": "stdout",
     "output_type": "stream",
     "text": [
      "Iter 1000: loss=2777.3888, time=4.87s\n",
      "iter 1000: dev acc=0.2452\n",
      "new highscore\n",
      "Iter 2000: loss=2299.8719, time=12.76s\n",
      "iter 2000: dev acc=0.2852\n",
      "new highscore\n",
      "Iter 3000: loss=2131.2826, time=20.90s\n",
      "iter 3000: dev acc=0.2797\n",
      "Iter 4000: loss=1998.8135, time=28.90s\n",
      "iter 4000: dev acc=0.2761\n",
      "Iter 5000: loss=1956.3128, time=35.40s\n",
      "iter 5000: dev acc=0.2816\n",
      "Iter 6000: loss=1892.4592, time=42.28s\n",
      "iter 6000: dev acc=0.2979\n",
      "new highscore\n",
      "Iter 7000: loss=1823.9782, time=52.19s\n",
      "iter 7000: dev acc=0.3052\n",
      "new highscore\n",
      "Iter 8000: loss=1864.4747, time=61.07s\n",
      "iter 8000: dev acc=0.3152\n",
      "new highscore\n",
      "Iter 9000: loss=1700.3924, time=69.00s\n",
      "iter 9000: dev acc=0.3270\n",
      "new highscore\n",
      "Iter 10000: loss=1606.8033, time=77.07s\n",
      "iter 10000: dev acc=0.3134\n",
      "Iter 11000: loss=1635.9066, time=84.65s\n",
      "iter 11000: dev acc=0.3288\n",
      "new highscore\n",
      "Iter 12000: loss=1632.7630, time=92.48s\n",
      "iter 12000: dev acc=0.2988\n",
      "Iter 13000: loss=1667.7678, time=100.17s\n",
      "iter 13000: dev acc=0.3306\n",
      "new highscore\n",
      "Iter 14000: loss=1609.1641, time=108.16s\n",
      "iter 14000: dev acc=0.3224\n",
      "Iter 15000: loss=1662.6290, time=116.11s\n",
      "iter 15000: dev acc=0.3324\n",
      "new highscore\n",
      "Iter 16000: loss=1671.2685, time=124.21s\n",
      "iter 16000: dev acc=0.3288\n",
      "Iter 17000: loss=1499.2324, time=132.23s\n",
      "iter 17000: dev acc=0.3261\n",
      "Iter 18000: loss=1235.3633, time=140.27s\n",
      "iter 18000: dev acc=0.3342\n",
      "new highscore\n",
      "Iter 19000: loss=1296.7120, time=148.47s\n",
      "iter 19000: dev acc=0.3297\n",
      "Iter 20000: loss=1249.2599, time=156.48s\n",
      "iter 20000: dev acc=0.3297\n",
      "Iter 21000: loss=1360.7798, time=164.48s\n",
      "iter 21000: dev acc=0.3370\n",
      "new highscore\n",
      "Iter 22000: loss=1335.8463, time=172.65s\n",
      "iter 22000: dev acc=0.3433\n",
      "new highscore\n",
      "Iter 23000: loss=1410.8893, time=180.79s\n",
      "iter 23000: dev acc=0.3379\n",
      "Iter 24000: loss=1355.1586, time=188.83s\n",
      "iter 24000: dev acc=0.3415\n",
      "Iter 25000: loss=1426.7299, time=196.85s\n",
      "iter 25000: dev acc=0.3388\n",
      "Iter 26000: loss=1131.1887, time=204.76s\n",
      "iter 26000: dev acc=0.3451\n",
      "new highscore\n",
      "Iter 27000: loss=894.0062, time=213.09s\n",
      "iter 27000: dev acc=0.3351\n",
      "Iter 28000: loss=1051.1365, time=221.07s\n",
      "iter 28000: dev acc=0.3506\n",
      "new highscore\n",
      "Iter 29000: loss=1055.8578, time=229.21s\n",
      "iter 29000: dev acc=0.3306\n",
      "Iter 30000: loss=1079.0584, time=237.24s\n",
      "iter 30000: dev acc=0.3460\n",
      "Done training\n",
      "Loading best model\n"
     ]
    },
    {
     "data": {
      "application/vnd.jupyter.widget-view+json": {
       "model_id": "",
       "version_major": 2,
       "version_minor": 0
      },
      "text/plain": [
       "VBox(children=(Label(value='0.002 MB of 0.002 MB uploaded\\r'), FloatProgress(value=1.0, max=1.0)))"
      ]
     },
     "metadata": {},
     "output_type": "display_data"
    },
    {
     "data": {
      "text/html": [
       "<style>\n",
       "    table.wandb td:nth-child(1) { padding: 0 10px; text-align: left ; width: auto;} td:nth-child(2) {text-align: left ; width: 100%}\n",
       "    .wandb-row { display: flex; flex-direction: row; flex-wrap: wrap; justify-content: flex-start; width: 100% }\n",
       "    .wandb-col { display: flex; flex-direction: column; flex-basis: 100%; flex: 1; padding: 10px; }\n",
       "    </style>\n",
       "<div class=\"wandb-row\"><div class=\"wandb-col\"><h3>Run history:</h3><br/><table class=\"wandb\"><tr><td>dev_accuracy</td><td>▁▄▃▃▃▄▅▆▆▆▇▅▇▆▇▇▆▇▇▇▇█▇▇▇█▇█▇█</td></tr><tr><td>dev_f1_score</td><td>▁▃▂▃▄▅▅▅▄▅▅▅▇▆▇▅▆▆▇▆▇▇▆█▆▇▇█▇▇</td></tr><tr><td>final_dev_accuracy</td><td>▁</td></tr><tr><td>final_dev_f1_score</td><td>▁</td></tr><tr><td>final_train_accuracy</td><td>▁</td></tr><tr><td>final_train_f1_score</td><td>▁</td></tr><tr><td>test_accuracy</td><td>▁</td></tr><tr><td>test_f1_score</td><td>▁</td></tr><tr><td>train_loss</td><td>█▆▆▅▅▅▄▅▄▄▄▄▄▄▄▄▃▂▂▂▃▃▃▃▃▂▁▂▂▂</td></tr></table><br/></div><div class=\"wandb-col\"><h3>Run summary:</h3><br/><table class=\"wandb\"><tr><td>dev_accuracy</td><td>0.34605</td></tr><tr><td>dev_f1_score</td><td>0.3222</td></tr><tr><td>final_dev_accuracy</td><td>0.35059</td></tr><tr><td>final_dev_f1_score</td><td>0.33487</td></tr><tr><td>final_train_accuracy</td><td>0.68212</td></tr><tr><td>final_train_f1_score</td><td>0.67991</td></tr><tr><td>test_accuracy</td><td>0.39098</td></tr><tr><td>test_f1_score</td><td>0.37206</td></tr><tr><td>train_loss</td><td>1079.05842</td></tr></table><br/></div></div>"
      ],
      "text/plain": [
       "<IPython.core.display.HTML object>"
      ]
     },
     "metadata": {},
     "output_type": "display_data"
    },
    {
     "data": {
      "text/html": [
       " View run <strong style=\"color:#cdcd00\">CBOW-1702327971</strong> at: <a href='https://wandb.ai/dqmiss/nlp1-practical2/runs/nm43jon8' target=\"_blank\">https://wandb.ai/dqmiss/nlp1-practical2/runs/nm43jon8</a><br/> View job at <a href='https://wandb.ai/dqmiss/nlp1-practical2/jobs/QXJ0aWZhY3RDb2xsZWN0aW9uOjEyMjgwNjIyMw==/version_details/v0' target=\"_blank\">https://wandb.ai/dqmiss/nlp1-practical2/jobs/QXJ0aWZhY3RDb2xsZWN0aW9uOjEyMjgwNjIyMw==/version_details/v0</a><br/>Synced 6 W&B file(s), 0 media file(s), 0 artifact file(s) and 0 other file(s)"
      ],
      "text/plain": [
       "<IPython.core.display.HTML object>"
      ]
     },
     "metadata": {},
     "output_type": "display_data"
    },
    {
     "data": {
      "text/html": [
       "Find logs at: <code>./wandb/run-20231211_205251-nm43jon8/logs</code>"
      ],
      "text/plain": [
       "<IPython.core.display.HTML object>"
      ]
     },
     "metadata": {},
     "output_type": "display_data"
    },
    {
     "name": "stdout",
     "output_type": "stream",
     "text": [
      "best model iter 28000: train acc=0.6821, dev acc=0.3506, test acc=0.3910\n"
     ]
    }
   ],
   "source": [
    "vocab_size = len(v.w2i)\n",
    "n_classes = len(t2i)\n",
    "\n",
    "\n",
    "def get_model():\n",
    "    cbow_model = CBOW(vocab_size, 300, n_classes, v)\n",
    "    print(cbow_model)\n",
    "    cbow_model = cbow_model.to(device)\n",
    "    cbow_optimizer = optim.Adam(cbow_model.parameters(), lr=0.0005)\n",
    "\n",
    "    return cbow_model, cbow_optimizer\n",
    "\n",
    "\n",
    "cbow_losses, cbow_accuracies = train_model(\n",
    "    model_fn=get_model,\n",
    "    num_iterations=NUM_STEPS_UNBATCHED,\n",
    "    print_every=NUM_STEPS_UNBATCHED // 30,\n",
    "    eval_every=NUM_STEPS_UNBATCHED // 30,\n",
    "    hypothesis=\"cbow\",\n",
    ")"
   ]
  },
  {
   "cell_type": "code",
   "execution_count": 51,
   "metadata": {},
   "outputs": [
    {
     "data": {
      "text/plain": [
       "[<matplotlib.lines.Line2D at 0x7f432c3442b0>]"
      ]
     },
     "execution_count": 51,
     "metadata": {},
     "output_type": "execute_result"
    },
    {
     "data": {
      "image/png": "[encoded data removed]",
      "text/plain": [
       "<Figure size 640x480 with 1 Axes>"
      ]
     },
     "metadata": {},
     "output_type": "display_data"
    }
   ],
   "source": [
    "plt.plot(cbow_accuracies)"
   ]
  },
  {
   "cell_type": "code",
   "execution_count": 52,
   "metadata": {},
   "outputs": [
    {
     "data": {
      "text/plain": [
       "[<matplotlib.lines.Line2D at 0x7f432c43ffd0>]"
      ]
     },
     "execution_count": 52,
     "metadata": {},
     "output_type": "execute_result"
    },
    {
     "data": {
      "image/png": "[encoded data removed]",
      "text/plain": [
       "<Figure size 640x480 with 1 Axes>"
      ]
     },
     "metadata": {},
     "output_type": "display_data"
    }
   ],
   "source": [
    "plt.plot(cbow_losses)"
   ]
  },
  {
   "cell_type": "markdown",
   "metadata": {
    "id": "zpFt_Fo2TdN0"
   },
   "source": [
    "# Deep CBOW"
   ]
  },
  {
   "cell_type": "markdown",
   "metadata": {
    "id": "iZanOMesTfEZ"
   },
   "source": [
    "To see if we can squeeze some more performance out of the CBOW model, we can make it deeper and non-linear by adding more layers and, e.g., tanh-activations.\n",
    "By using more parameters we can learn more aspects of the data, and by using more layers and non-linearities, we can try to learn a more complex function.\n",
    "This is not something that always works. If the input-output mapping of your data is simple, then a complicated function could easily overfit on your training set, thereby leading to poor generalization.\n",
    "\n",
    "#### Exercise: write Deep CBOW class and train it\n",
    "\n",
    "Write a class `DeepCBOW`.\n",
    "\n",
    "In your code, make sure that your `output_layer` consists of the following:\n",
    "- A linear transformation from E units to D units.\n",
    "- A Tanh activation\n",
    "- A linear transformation from D units to D units\n",
    "- A Tanh activation\n",
    "- A linear transformation from D units to 5 units (our output classes).\n",
    "\n",
    "E is the size of the word embeddings (please use E=300) and D for the size of a hidden layer (please use D=100).\n",
    "\n",
    "We recommend using [nn.Sequential](https://pytorch.org/docs/stable/nn.html?highlight=sequential#torch.nn.Sequential) to implement this exercise."
   ]
  },
  {
   "cell_type": "code",
   "execution_count": 53,
   "metadata": {
    "id": "l8Z1igvpTrZq"
   },
   "outputs": [],
   "source": [
    "# YOUR CODE HERE\n",
    "\n",
    "\n",
    "class DeepCBOW(nn.Sequential):\n",
    "    \"\"\"A simple bag-of-words model\"\"\"\n",
    "\n",
    "    def __init__(self, vocab_size, embedding_dim, hidden_dim, output_dim, vocab):\n",
    "        super(DeepCBOW, self).__init__()\n",
    "        self.vocab = vocab\n",
    "\n",
    "        # this is a trainable look-up table with word embeddings\n",
    "        self.embed = nn.Embedding(vocab_size, embedding_dim)\n",
    "\n",
    "        # this is a trainable bias term\n",
    "        self.model = nn.Sequential(\n",
    "            nn.Linear(embedding_dim, hidden_dim, bias=True),\n",
    "            nn.Tanh(),\n",
    "            nn.Linear(hidden_dim, hidden_dim, bias=True),\n",
    "            nn.Tanh(),\n",
    "            nn.Linear(hidden_dim, output_dim, bias=True),\n",
    "        )\n",
    "\n",
    "    def forward(self, inputs):\n",
    "        # this is the forward pass of the neural network\n",
    "        # it applies a function to the input and returns the output\n",
    "\n",
    "        # this looks up the embeddings for each word ID in inputs\n",
    "        # the result is a sequence of word embeddings\n",
    "        embeds = self.embed(inputs)\n",
    "\n",
    "        # the output is the small nn with 3 linear layers and 2 tanh activation layers\n",
    "        out = self.model(embeds)\n",
    "        out = out.sum(1)\n",
    "\n",
    "        return out"
   ]
  },
  {
   "cell_type": "code",
   "execution_count": 54,
   "metadata": {},
   "outputs": [
    {
     "name": "stdout",
     "output_type": "stream",
     "text": [
      "DeepCBOW(\n",
      "  (embed): Embedding(18280, 300)\n",
      "  (model): Sequential(\n",
      "    (0): Linear(in_features=300, out_features=100, bias=True)\n",
      "    (1): Tanh()\n",
      "    (2): Linear(in_features=100, out_features=100, bias=True)\n",
      "    (3): Tanh()\n",
      "    (4): Linear(in_features=100, out_features=5, bias=True)\n",
      "  )\n",
      ")\n"
     ]
    },
    {
     "data": {
      "text/html": [
       "wandb version 0.16.1 is available!  To upgrade, please run:\n",
       " $ pip install wandb --upgrade"
      ],
      "text/plain": [
       "<IPython.core.display.HTML object>"
      ]
     },
     "metadata": {},
     "output_type": "display_data"
    },
    {
     "data": {
      "text/html": [
       "Tracking run with wandb version 0.16.0"
      ],
      "text/plain": [
       "<IPython.core.display.HTML object>"
      ]
     },
     "metadata": {},
     "output_type": "display_data"
    },
    {
     "data": {
      "text/html": [
       "Run data is saved locally in <code>/home/jupyter/github/uva_nlp1/wandb/run-20231211_205723-nsb0k6rh</code>"
      ],
      "text/plain": [
       "<IPython.core.display.HTML object>"
      ]
     },
     "metadata": {},
     "output_type": "display_data"
    },
    {
     "data": {
      "text/html": [
       "Syncing run <strong><a href='https://wandb.ai/dqmiss/nlp1-practical2/runs/nsb0k6rh' target=\"_blank\">DeepCBOW-1702328243</a></strong> to <a href='https://wandb.ai/dqmiss/nlp1-practical2' target=\"_blank\">Weights & Biases</a> (<a href='https://wandb.me/run' target=\"_blank\">docs</a>)<br/>"
      ],
      "text/plain": [
       "<IPython.core.display.HTML object>"
      ]
     },
     "metadata": {},
     "output_type": "display_data"
    },
    {
     "data": {
      "text/html": [
       " View project at <a href='https://wandb.ai/dqmiss/nlp1-practical2' target=\"_blank\">https://wandb.ai/dqmiss/nlp1-practical2</a>"
      ],
      "text/plain": [
       "<IPython.core.display.HTML object>"
      ]
     },
     "metadata": {},
     "output_type": "display_data"
    },
    {
     "data": {
      "text/html": [
       " View run at <a href='https://wandb.ai/dqmiss/nlp1-practical2/runs/nsb0k6rh' target=\"_blank\">https://wandb.ai/dqmiss/nlp1-practical2/runs/nsb0k6rh</a>"
      ],
      "text/plain": [
       "<IPython.core.display.HTML object>"
      ]
     },
     "metadata": {},
     "output_type": "display_data"
    },
    {
     "name": "stdout",
     "output_type": "stream",
     "text": [
      "Iter 1000: loss=1758.0340, time=5.21s\n",
      "iter 1000: dev acc=0.2452\n",
      "new highscore\n",
      "Iter 2000: loss=1668.0742, time=14.36s\n",
      "iter 2000: dev acc=0.2634\n",
      "new highscore\n",
      "Iter 3000: loss=1644.5244, time=24.65s\n",
      "iter 3000: dev acc=0.2452\n",
      "Iter 4000: loss=1611.1397, time=32.60s\n",
      "iter 4000: dev acc=0.3106\n",
      "new highscore\n",
      "Iter 5000: loss=1565.4282, time=40.99s\n",
      "iter 5000: dev acc=0.2943\n",
      "Iter 6000: loss=1545.0895, time=48.77s\n",
      "iter 6000: dev acc=0.3261\n",
      "new highscore\n",
      "Iter 7000: loss=1569.3826, time=58.13s\n",
      "iter 7000: dev acc=0.2897\n",
      "Iter 8000: loss=1550.1434, time=65.33s\n",
      "iter 8000: dev acc=0.3424\n",
      "new highscore\n",
      "Iter 9000: loss=1460.0559, time=73.35s\n",
      "iter 9000: dev acc=0.3397\n",
      "Iter 10000: loss=1395.4374, time=81.69s\n",
      "iter 10000: dev acc=0.2997\n",
      "Iter 11000: loss=1392.1623, time=89.75s\n",
      "iter 11000: dev acc=0.3070\n",
      "Iter 12000: loss=1411.7390, time=98.00s\n",
      "iter 12000: dev acc=0.3170\n",
      "Iter 13000: loss=1409.8364, time=105.97s\n",
      "iter 13000: dev acc=0.3488\n",
      "new highscore\n",
      "Iter 14000: loss=1362.9116, time=114.97s\n",
      "iter 14000: dev acc=0.3551\n",
      "new highscore\n",
      "Iter 15000: loss=1368.5440, time=124.40s\n",
      "iter 15000: dev acc=0.3569\n",
      "new highscore\n",
      "Iter 16000: loss=1362.8134, time=132.86s\n",
      "iter 16000: dev acc=0.3787\n",
      "new highscore\n",
      "Iter 17000: loss=1418.4645, time=141.29s\n",
      "iter 17000: dev acc=0.3106\n",
      "Iter 18000: loss=1135.0187, time=149.54s\n",
      "iter 18000: dev acc=0.3533\n",
      "Iter 19000: loss=1168.0646, time=157.87s\n",
      "iter 19000: dev acc=0.3533\n",
      "Iter 20000: loss=1167.5839, time=166.28s\n",
      "iter 20000: dev acc=0.3306\n",
      "Iter 21000: loss=1151.0673, time=174.89s\n",
      "iter 21000: dev acc=0.3424\n",
      "Iter 22000: loss=1197.0543, time=183.67s\n",
      "iter 22000: dev acc=0.3306\n",
      "Iter 23000: loss=1153.9597, time=192.51s\n",
      "iter 23000: dev acc=0.3579\n",
      "Iter 24000: loss=1171.4123, time=201.01s\n",
      "iter 24000: dev acc=0.3597\n",
      "Iter 25000: loss=1220.3487, time=209.37s\n",
      "iter 25000: dev acc=0.3751\n",
      "Iter 26000: loss=1111.9217, time=217.69s\n",
      "iter 26000: dev acc=0.3606\n",
      "Iter 27000: loss=920.3830, time=225.85s\n",
      "iter 27000: dev acc=0.3551\n",
      "Iter 28000: loss=898.6220, time=234.21s\n",
      "iter 28000: dev acc=0.3533\n",
      "Iter 29000: loss=981.6333, time=240.94s\n",
      "iter 29000: dev acc=0.3333\n",
      "Iter 30000: loss=909.1131, time=247.49s\n",
      "iter 30000: dev acc=0.3415\n",
      "Done training\n",
      "Loading best model\n"
     ]
    },
    {
     "data": {
      "application/vnd.jupyter.widget-view+json": {
       "model_id": "",
       "version_major": 2,
       "version_minor": 0
      },
      "text/plain": [
       "VBox(children=(Label(value='0.002 MB of 0.018 MB uploaded\\r'), FloatProgress(value=0.10903711672942443, max=1.…"
      ]
     },
     "metadata": {},
     "output_type": "display_data"
    },
    {
     "data": {
      "text/html": [
       "<style>\n",
       "    table.wandb td:nth-child(1) { padding: 0 10px; text-align: left ; width: auto;} td:nth-child(2) {text-align: left ; width: 100%}\n",
       "    .wandb-row { display: flex; flex-direction: row; flex-wrap: wrap; justify-content: flex-start; width: 100% }\n",
       "    .wandb-col { display: flex; flex-direction: column; flex-basis: 100%; flex: 1; padding: 10px; }\n",
       "    </style>\n",
       "<div class=\"wandb-row\"><div class=\"wandb-col\"><h3>Run history:</h3><br/><table class=\"wandb\"><tr><td>dev_accuracy</td><td>▁▂▁▄▄▅▃▆▆▄▄▅▆▇▇█▄▇▇▅▆▅▇▇█▇▇▇▆▆</td></tr><tr><td>dev_f1_score</td><td>▁▂▂▃▁▄▄▄▅▄▄▄▆▄▇▇▅▇▅▅▆▆▇▇█▇█▇▆▇</td></tr><tr><td>final_dev_accuracy</td><td>▁</td></tr><tr><td>final_dev_f1_score</td><td>▁</td></tr><tr><td>final_train_accuracy</td><td>▁</td></tr><tr><td>final_train_f1_score</td><td>▁</td></tr><tr><td>test_accuracy</td><td>▁</td></tr><tr><td>test_f1_score</td><td>▁</td></tr><tr><td>train_loss</td><td>█▇▇▇▆▆▆▆▆▅▅▅▅▅▅▅▅▃▃▃▃▃▃▃▄▃▁▁▂▁</td></tr></table><br/></div><div class=\"wandb-col\"><h3>Run summary:</h3><br/><table class=\"wandb\"><tr><td>dev_accuracy</td><td>0.34151</td></tr><tr><td>dev_f1_score</td><td>0.33054</td></tr><tr><td>final_dev_accuracy</td><td>0.37693</td></tr><tr><td>final_dev_f1_score</td><td>0.34549</td></tr><tr><td>final_train_accuracy</td><td>0.6147</td></tr><tr><td>final_train_f1_score</td><td>0.59981</td></tr><tr><td>test_accuracy</td><td>0.40434</td></tr><tr><td>test_f1_score</td><td>0.38173</td></tr><tr><td>train_loss</td><td>909.11305</td></tr></table><br/></div></div>"
      ],
      "text/plain": [
       "<IPython.core.display.HTML object>"
      ]
     },
     "metadata": {},
     "output_type": "display_data"
    },
    {
     "data": {
      "text/html": [
       " View run <strong style=\"color:#cdcd00\">DeepCBOW-1702328243</strong> at: <a href='https://wandb.ai/dqmiss/nlp1-practical2/runs/nsb0k6rh' target=\"_blank\">https://wandb.ai/dqmiss/nlp1-practical2/runs/nsb0k6rh</a><br/> View job at <a href='https://wandb.ai/dqmiss/nlp1-practical2/jobs/QXJ0aWZhY3RDb2xsZWN0aW9uOjEyMjgwNjIyMw==/version_details/v0' target=\"_blank\">https://wandb.ai/dqmiss/nlp1-practical2/jobs/QXJ0aWZhY3RDb2xsZWN0aW9uOjEyMjgwNjIyMw==/version_details/v0</a><br/>Synced 6 W&B file(s), 0 media file(s), 0 artifact file(s) and 0 other file(s)"
      ],
      "text/plain": [
       "<IPython.core.display.HTML object>"
      ]
     },
     "metadata": {},
     "output_type": "display_data"
    },
    {
     "data": {
      "text/html": [
       "Find logs at: <code>./wandb/run-20231211_205723-nsb0k6rh/logs</code>"
      ],
      "text/plain": [
       "<IPython.core.display.HTML object>"
      ]
     },
     "metadata": {},
     "output_type": "display_data"
    },
    {
     "name": "stdout",
     "output_type": "stream",
     "text": [
      "best model iter 16000: train acc=0.6147, dev acc=0.3769, test acc=0.4043\n",
      "DeepCBOW(\n",
      "  (embed): Embedding(18280, 300)\n",
      "  (model): Sequential(\n",
      "    (0): Linear(in_features=300, out_features=100, bias=True)\n",
      "    (1): Tanh()\n",
      "    (2): Linear(in_features=100, out_features=100, bias=True)\n",
      "    (3): Tanh()\n",
      "    (4): Linear(in_features=100, out_features=5, bias=True)\n",
      "  )\n",
      ")\n"
     ]
    },
    {
     "data": {
      "text/html": [
       "wandb version 0.16.1 is available!  To upgrade, please run:\n",
       " $ pip install wandb --upgrade"
      ],
      "text/plain": [
       "<IPython.core.display.HTML object>"
      ]
     },
     "metadata": {},
     "output_type": "display_data"
    },
    {
     "data": {
      "text/html": [
       "Tracking run with wandb version 0.16.0"
      ],
      "text/plain": [
       "<IPython.core.display.HTML object>"
      ]
     },
     "metadata": {},
     "output_type": "display_data"
    },
    {
     "data": {
      "text/html": [
       "Run data is saved locally in <code>/home/jupyter/github/uva_nlp1/wandb/run-20231211_210159-lvywap5j</code>"
      ],
      "text/plain": [
       "<IPython.core.display.HTML object>"
      ]
     },
     "metadata": {},
     "output_type": "display_data"
    },
    {
     "data": {
      "text/html": [
       "Syncing run <strong><a href='https://wandb.ai/dqmiss/nlp1-practical2/runs/lvywap5j' target=\"_blank\">DeepCBOW-1702328519</a></strong> to <a href='https://wandb.ai/dqmiss/nlp1-practical2' target=\"_blank\">Weights & Biases</a> (<a href='https://wandb.me/run' target=\"_blank\">docs</a>)<br/>"
      ],
      "text/plain": [
       "<IPython.core.display.HTML object>"
      ]
     },
     "metadata": {},
     "output_type": "display_data"
    },
    {
     "data": {
      "text/html": [
       " View project at <a href='https://wandb.ai/dqmiss/nlp1-practical2' target=\"_blank\">https://wandb.ai/dqmiss/nlp1-practical2</a>"
      ],
      "text/plain": [
       "<IPython.core.display.HTML object>"
      ]
     },
     "metadata": {},
     "output_type": "display_data"
    },
    {
     "data": {
      "text/html": [
       " View run at <a href='https://wandb.ai/dqmiss/nlp1-practical2/runs/lvywap5j' target=\"_blank\">https://wandb.ai/dqmiss/nlp1-practical2/runs/lvywap5j</a>"
      ],
      "text/plain": [
       "<IPython.core.display.HTML object>"
      ]
     },
     "metadata": {},
     "output_type": "display_data"
    },
    {
     "name": "stdout",
     "output_type": "stream",
     "text": [
      "Iter 1000: loss=1754.6661, time=4.03s\n",
      "iter 1000: dev acc=0.2725\n",
      "new highscore\n",
      "Iter 2000: loss=1678.9758, time=10.36s\n",
      "iter 2000: dev acc=0.2698\n",
      "Iter 3000: loss=1636.4058, time=17.01s\n",
      "iter 3000: dev acc=0.2734\n",
      "new highscore\n",
      "Iter 4000: loss=1605.4470, time=24.06s\n",
      "iter 4000: dev acc=0.3015\n",
      "new highscore\n",
      "Iter 5000: loss=1561.6594, time=31.19s\n",
      "iter 5000: dev acc=0.3025\n",
      "new highscore\n",
      "Iter 6000: loss=1544.0129, time=38.01s\n",
      "iter 6000: dev acc=0.3143\n",
      "new highscore\n",
      "Iter 7000: loss=1538.7593, time=45.05s\n",
      "iter 7000: dev acc=0.3252\n",
      "new highscore\n",
      "Iter 8000: loss=1558.0035, time=52.51s\n",
      "iter 8000: dev acc=0.3188\n",
      "Iter 9000: loss=1477.6821, time=59.20s\n",
      "iter 9000: dev acc=0.3243\n",
      "Iter 10000: loss=1404.4817, time=65.83s\n",
      "iter 10000: dev acc=0.3479\n",
      "new highscore\n",
      "Iter 11000: loss=1399.4485, time=73.51s\n",
      "iter 11000: dev acc=0.3406\n",
      "Iter 12000: loss=1397.6824, time=80.17s\n",
      "iter 12000: dev acc=0.3215\n",
      "Iter 13000: loss=1393.2818, time=86.59s\n",
      "iter 13000: dev acc=0.3751\n",
      "new highscore\n",
      "Iter 14000: loss=1358.0530, time=93.75s\n",
      "iter 14000: dev acc=0.3143\n",
      "Iter 15000: loss=1390.6891, time=100.06s\n",
      "iter 15000: dev acc=0.3342\n",
      "Iter 16000: loss=1363.3208, time=106.41s\n",
      "iter 16000: dev acc=0.2988\n",
      "Iter 17000: loss=1363.2077, time=113.08s\n",
      "iter 17000: dev acc=0.3088\n",
      "Iter 18000: loss=1164.4049, time=119.85s\n",
      "iter 18000: dev acc=0.3588\n",
      "Iter 19000: loss=1174.3828, time=126.48s\n",
      "iter 19000: dev acc=0.3506\n",
      "Iter 20000: loss=1159.6359, time=133.08s\n",
      "iter 20000: dev acc=0.3288\n",
      "Iter 21000: loss=1166.5025, time=139.86s\n",
      "iter 21000: dev acc=0.3415\n",
      "Iter 22000: loss=1187.7029, time=146.53s\n",
      "iter 22000: dev acc=0.3506\n",
      "Iter 23000: loss=1135.9068, time=153.12s\n",
      "iter 23000: dev acc=0.3379\n",
      "Iter 24000: loss=1192.8905, time=159.83s\n",
      "iter 24000: dev acc=0.3470\n",
      "Iter 25000: loss=1195.6761, time=166.53s\n",
      "iter 25000: dev acc=0.3551\n",
      "Iter 26000: loss=1064.1640, time=173.17s\n",
      "iter 26000: dev acc=0.3179\n",
      "Iter 27000: loss=857.2647, time=179.87s\n",
      "iter 27000: dev acc=0.3379\n",
      "Iter 28000: loss=945.3819, time=186.47s\n",
      "iter 28000: dev acc=0.3342\n",
      "Iter 29000: loss=930.0690, time=193.18s\n",
      "iter 29000: dev acc=0.3460\n",
      "Iter 30000: loss=954.8847, time=198.84s\n",
      "iter 30000: dev acc=0.3197\n",
      "Done training\n",
      "Loading best model\n"
     ]
    },
    {
     "data": {
      "application/vnd.jupyter.widget-view+json": {
       "model_id": "",
       "version_major": 2,
       "version_minor": 0
      },
      "text/plain": [
       "VBox(children=(Label(value='0.002 MB of 0.018 MB uploaded\\r'), FloatProgress(value=0.10909384764572783, max=1.…"
      ]
     },
     "metadata": {},
     "output_type": "display_data"
    },
    {
     "data": {
      "text/html": [
       "<style>\n",
       "    table.wandb td:nth-child(1) { padding: 0 10px; text-align: left ; width: auto;} td:nth-child(2) {text-align: left ; width: 100%}\n",
       "    .wandb-row { display: flex; flex-direction: row; flex-wrap: wrap; justify-content: flex-start; width: 100% }\n",
       "    .wandb-col { display: flex; flex-direction: column; flex-basis: 100%; flex: 1; padding: 10px; }\n",
       "    </style>\n",
       "<div class=\"wandb-row\"><div class=\"wandb-col\"><h3>Run history:</h3><br/><table class=\"wandb\"><tr><td>dev_accuracy</td><td>▁▁▁▃▃▄▅▄▅▆▆▄█▄▅▃▄▇▆▅▆▆▆▆▇▄▆▅▆▄</td></tr><tr><td>dev_f1_score</td><td>▃▃▁▅▃▄▆▄▇▆▇▆▇▆▆▅▅▇█▇▇██▇▇▆█▇█▇</td></tr><tr><td>final_dev_accuracy</td><td>▁</td></tr><tr><td>final_dev_f1_score</td><td>▁</td></tr><tr><td>final_train_accuracy</td><td>▁</td></tr><tr><td>final_train_f1_score</td><td>▁</td></tr><tr><td>test_accuracy</td><td>▁</td></tr><tr><td>test_f1_score</td><td>▁</td></tr><tr><td>train_loss</td><td>█▇▇▇▆▆▆▆▆▅▅▅▅▅▅▅▅▃▃▃▃▄▃▄▄▃▁▂▂▂</td></tr></table><br/></div><div class=\"wandb-col\"><h3>Run summary:</h3><br/><table class=\"wandb\"><tr><td>dev_accuracy</td><td>0.31971</td></tr><tr><td>dev_f1_score</td><td>0.31469</td></tr><tr><td>final_dev_accuracy</td><td>0.37875</td></tr><tr><td>final_dev_f1_score</td><td>0.33937</td></tr><tr><td>final_train_accuracy</td><td>0.50492</td></tr><tr><td>final_train_f1_score</td><td>0.46439</td></tr><tr><td>test_accuracy</td><td>0.38346</td></tr><tr><td>test_f1_score</td><td>0.35026</td></tr><tr><td>train_loss</td><td>954.8847</td></tr></table><br/></div></div>"
      ],
      "text/plain": [
       "<IPython.core.display.HTML object>"
      ]
     },
     "metadata": {},
     "output_type": "display_data"
    },
    {
     "data": {
      "text/html": [
       " View run <strong style=\"color:#cdcd00\">DeepCBOW-1702328519</strong> at: <a href='https://wandb.ai/dqmiss/nlp1-practical2/runs/lvywap5j' target=\"_blank\">https://wandb.ai/dqmiss/nlp1-practical2/runs/lvywap5j</a><br/> View job at <a href='https://wandb.ai/dqmiss/nlp1-practical2/jobs/QXJ0aWZhY3RDb2xsZWN0aW9uOjEyMjgwNjIyMw==/version_details/v0' target=\"_blank\">https://wandb.ai/dqmiss/nlp1-practical2/jobs/QXJ0aWZhY3RDb2xsZWN0aW9uOjEyMjgwNjIyMw==/version_details/v0</a><br/>Synced 6 W&B file(s), 0 media file(s), 0 artifact file(s) and 0 other file(s)"
      ],
      "text/plain": [
       "<IPython.core.display.HTML object>"
      ]
     },
     "metadata": {},
     "output_type": "display_data"
    },
    {
     "data": {
      "text/html": [
       "Find logs at: <code>./wandb/run-20231211_210159-lvywap5j/logs</code>"
      ],
      "text/plain": [
       "<IPython.core.display.HTML object>"
      ]
     },
     "metadata": {},
     "output_type": "display_data"
    },
    {
     "name": "stdout",
     "output_type": "stream",
     "text": [
      "best model iter 13000: train acc=0.5049, dev acc=0.3787, test acc=0.3835\n",
      "DeepCBOW(\n",
      "  (embed): Embedding(18280, 300)\n",
      "  (model): Sequential(\n",
      "    (0): Linear(in_features=300, out_features=100, bias=True)\n",
      "    (1): Tanh()\n",
      "    (2): Linear(in_features=100, out_features=100, bias=True)\n",
      "    (3): Tanh()\n",
      "    (4): Linear(in_features=100, out_features=5, bias=True)\n",
      "  )\n",
      ")\n"
     ]
    },
    {
     "data": {
      "text/html": [
       "wandb version 0.16.1 is available!  To upgrade, please run:\n",
       " $ pip install wandb --upgrade"
      ],
      "text/plain": [
       "<IPython.core.display.HTML object>"
      ]
     },
     "metadata": {},
     "output_type": "display_data"
    },
    {
     "data": {
      "text/html": [
       "Tracking run with wandb version 0.16.0"
      ],
      "text/plain": [
       "<IPython.core.display.HTML object>"
      ]
     },
     "metadata": {},
     "output_type": "display_data"
    },
    {
     "data": {
      "text/html": [
       "Run data is saved locally in <code>/home/jupyter/github/uva_nlp1/wandb/run-20231211_210547-33hmvufh</code>"
      ],
      "text/plain": [
       "<IPython.core.display.HTML object>"
      ]
     },
     "metadata": {},
     "output_type": "display_data"
    },
    {
     "data": {
      "text/html": [
       "Syncing run <strong><a href='https://wandb.ai/dqmiss/nlp1-practical2/runs/33hmvufh' target=\"_blank\">DeepCBOW-1702328747</a></strong> to <a href='https://wandb.ai/dqmiss/nlp1-practical2' target=\"_blank\">Weights & Biases</a> (<a href='https://wandb.me/run' target=\"_blank\">docs</a>)<br/>"
      ],
      "text/plain": [
       "<IPython.core.display.HTML object>"
      ]
     },
     "metadata": {},
     "output_type": "display_data"
    },
    {
     "data": {
      "text/html": [
       " View project at <a href='https://wandb.ai/dqmiss/nlp1-practical2' target=\"_blank\">https://wandb.ai/dqmiss/nlp1-practical2</a>"
      ],
      "text/plain": [
       "<IPython.core.display.HTML object>"
      ]
     },
     "metadata": {},
     "output_type": "display_data"
    },
    {
     "data": {
      "text/html": [
       " View run at <a href='https://wandb.ai/dqmiss/nlp1-practical2/runs/33hmvufh' target=\"_blank\">https://wandb.ai/dqmiss/nlp1-practical2/runs/33hmvufh</a>"
      ],
      "text/plain": [
       "<IPython.core.display.HTML object>"
      ]
     },
     "metadata": {},
     "output_type": "display_data"
    },
    {
     "name": "stdout",
     "output_type": "stream",
     "text": [
      "Iter 1000: loss=1776.0884, time=5.02s\n",
      "iter 1000: dev acc=0.2625\n",
      "new highscore\n",
      "Iter 2000: loss=1695.4578, time=11.78s\n",
      "iter 2000: dev acc=0.2679\n",
      "new highscore\n",
      "Iter 3000: loss=1642.1369, time=18.58s\n",
      "iter 3000: dev acc=0.2852\n",
      "new highscore\n",
      "Iter 4000: loss=1605.0436, time=25.64s\n",
      "iter 4000: dev acc=0.3097\n",
      "new highscore\n",
      "Iter 5000: loss=1571.0025, time=32.63s\n",
      "iter 5000: dev acc=0.3152\n",
      "new highscore\n",
      "Iter 6000: loss=1549.6496, time=39.46s\n",
      "iter 6000: dev acc=0.3143\n",
      "Iter 7000: loss=1523.6196, time=45.85s\n",
      "iter 7000: dev acc=0.3288\n",
      "new highscore\n",
      "Iter 8000: loss=1535.2792, time=52.68s\n",
      "iter 8000: dev acc=0.3333\n",
      "new highscore\n",
      "Iter 9000: loss=1484.9990, time=59.58s\n",
      "iter 9000: dev acc=0.3388\n",
      "new highscore\n",
      "Iter 10000: loss=1387.9110, time=66.40s\n",
      "iter 10000: dev acc=0.3397\n",
      "new highscore\n",
      "Iter 11000: loss=1377.1257, time=73.17s\n",
      "iter 11000: dev acc=0.3470\n",
      "new highscore\n",
      "Iter 12000: loss=1374.6883, time=79.97s\n",
      "iter 12000: dev acc=0.3370\n",
      "Iter 13000: loss=1375.9465, time=86.55s\n",
      "iter 13000: dev acc=0.3642\n",
      "new highscore\n",
      "Iter 14000: loss=1332.6078, time=93.47s\n",
      "iter 14000: dev acc=0.3606\n",
      "Iter 15000: loss=1407.3460, time=100.08s\n",
      "iter 15000: dev acc=0.3488\n",
      "Iter 16000: loss=1359.1826, time=106.66s\n",
      "iter 16000: dev acc=0.3615\n",
      "Iter 17000: loss=1353.2120, time=113.25s\n",
      "iter 17000: dev acc=0.3606\n",
      "Iter 18000: loss=1182.2047, time=119.82s\n",
      "iter 18000: dev acc=0.3597\n",
      "Iter 19000: loss=1073.5909, time=126.43s\n",
      "iter 19000: dev acc=0.3606\n",
      "Iter 20000: loss=1174.7529, time=133.01s\n",
      "iter 20000: dev acc=0.3633\n",
      "Iter 21000: loss=1184.4133, time=139.61s\n",
      "iter 21000: dev acc=0.3415\n",
      "Iter 22000: loss=1179.0515, time=146.22s\n",
      "iter 22000: dev acc=0.3560\n",
      "Iter 23000: loss=1143.4662, time=152.83s\n",
      "iter 23000: dev acc=0.3506\n",
      "Iter 24000: loss=1148.2551, time=159.39s\n",
      "iter 24000: dev acc=0.3642\n",
      "Iter 25000: loss=1175.3207, time=166.00s\n",
      "iter 25000: dev acc=0.3769\n",
      "new highscore\n",
      "Iter 26000: loss=1066.3444, time=172.79s\n",
      "iter 26000: dev acc=0.3533\n",
      "Iter 27000: loss=865.2488, time=179.40s\n",
      "iter 27000: dev acc=0.3460\n",
      "Iter 28000: loss=926.3547, time=186.02s\n",
      "iter 28000: dev acc=0.3697\n",
      "Iter 29000: loss=905.2359, time=192.59s\n",
      "iter 29000: dev acc=0.3542\n",
      "Iter 30000: loss=957.7429, time=199.21s\n",
      "iter 30000: dev acc=0.3615\n",
      "Done training\n",
      "Loading best model\n"
     ]
    },
    {
     "data": {
      "application/vnd.jupyter.widget-view+json": {
       "model_id": "",
       "version_major": 2,
       "version_minor": 0
      },
      "text/plain": [
       "VBox(children=(Label(value='0.002 MB of 0.002 MB uploaded\\r'), FloatProgress(value=1.0, max=1.0)))"
      ]
     },
     "metadata": {},
     "output_type": "display_data"
    },
    {
     "data": {
      "text/html": [
       "<style>\n",
       "    table.wandb td:nth-child(1) { padding: 0 10px; text-align: left ; width: auto;} td:nth-child(2) {text-align: left ; width: 100%}\n",
       "    .wandb-row { display: flex; flex-direction: row; flex-wrap: wrap; justify-content: flex-start; width: 100% }\n",
       "    .wandb-col { display: flex; flex-direction: column; flex-basis: 100%; flex: 1; padding: 10px; }\n",
       "    </style>\n",
       "<div class=\"wandb-row\"><div class=\"wandb-col\"><h3>Run history:</h3><br/><table class=\"wandb\"><tr><td>dev_accuracy</td><td>▁▁▂▄▄▄▅▅▆▆▆▆▇▇▆▇▇▇▇▇▆▇▆▇█▇▆█▇▇</td></tr><tr><td>dev_f1_score</td><td>▂▁▃▅▃▄▄▆▅▆▆▇▆▇▇▇▇▇▇▇▇▇▇██▇█▇██</td></tr><tr><td>final_dev_accuracy</td><td>▁</td></tr><tr><td>final_dev_f1_score</td><td>▁</td></tr><tr><td>final_train_accuracy</td><td>▁</td></tr><tr><td>final_train_f1_score</td><td>▁</td></tr><tr><td>test_accuracy</td><td>▁</td></tr><tr><td>test_f1_score</td><td>▁</td></tr><tr><td>train_loss</td><td>█▇▇▇▆▆▆▆▆▅▅▅▅▅▅▅▅▃▃▃▃▃▃▃▃▃▁▁▁▂</td></tr></table><br/></div><div class=\"wandb-col\"><h3>Run summary:</h3><br/><table class=\"wandb\"><tr><td>dev_accuracy</td><td>0.36149</td></tr><tr><td>dev_f1_score</td><td>0.3368</td></tr><tr><td>final_dev_accuracy</td><td>0.37693</td></tr><tr><td>final_dev_f1_score</td><td>0.34549</td></tr><tr><td>final_train_accuracy</td><td>0.6147</td></tr><tr><td>final_train_f1_score</td><td>0.59981</td></tr><tr><td>test_accuracy</td><td>0.40434</td></tr><tr><td>test_f1_score</td><td>0.38173</td></tr><tr><td>train_loss</td><td>957.74294</td></tr></table><br/></div></div>"
      ],
      "text/plain": [
       "<IPython.core.display.HTML object>"
      ]
     },
     "metadata": {},
     "output_type": "display_data"
    },
    {
     "data": {
      "text/html": [
       " View run <strong style=\"color:#cdcd00\">DeepCBOW-1702328747</strong> at: <a href='https://wandb.ai/dqmiss/nlp1-practical2/runs/33hmvufh' target=\"_blank\">https://wandb.ai/dqmiss/nlp1-practical2/runs/33hmvufh</a><br/> View job at <a href='https://wandb.ai/dqmiss/nlp1-practical2/jobs/QXJ0aWZhY3RDb2xsZWN0aW9uOjEyMjgwNjIyMw==/version_details/v0' target=\"_blank\">https://wandb.ai/dqmiss/nlp1-practical2/jobs/QXJ0aWZhY3RDb2xsZWN0aW9uOjEyMjgwNjIyMw==/version_details/v0</a><br/>Synced 6 W&B file(s), 0 media file(s), 0 artifact file(s) and 0 other file(s)"
      ],
      "text/plain": [
       "<IPython.core.display.HTML object>"
      ]
     },
     "metadata": {},
     "output_type": "display_data"
    },
    {
     "data": {
      "text/html": [
       "Find logs at: <code>./wandb/run-20231211_210547-33hmvufh/logs</code>"
      ],
      "text/plain": [
       "<IPython.core.display.HTML object>"
      ]
     },
     "metadata": {},
     "output_type": "display_data"
    },
    {
     "name": "stdout",
     "output_type": "stream",
     "text": [
      "best model iter 25000: train acc=0.6147, dev acc=0.3769, test acc=0.4043\n"
     ]
    }
   ],
   "source": [
    "vocab_size = len(v.w2i)\n",
    "n_classes = len(t2i)\n",
    "\n",
    "\n",
    "def get_model():\n",
    "    deepcbow_model = DeepCBOW(vocab_size, 300, 100, n_classes, v)\n",
    "    print(deepcbow_model)\n",
    "\n",
    "    deepcbow_model = deepcbow_model.to(device)\n",
    "    deepcbow_optimizer = optim.Adam(deepcbow_model.parameters(), lr=0.0005)\n",
    "\n",
    "    return deepcbow_model, deepcbow_optimizer\n",
    "\n",
    "\n",
    "deepcbow_losses, deepcbow_accuracies = train_model(\n",
    "    model_fn=get_model,\n",
    "    num_iterations=NUM_STEPS_UNBATCHED,\n",
    "    print_every=NUM_STEPS_UNBATCHED // 30,\n",
    "    eval_every=NUM_STEPS_UNBATCHED // 30,\n",
    "    hypothesis=\"deepcbow\",\n",
    ")"
   ]
  },
  {
   "cell_type": "code",
   "execution_count": 55,
   "metadata": {},
   "outputs": [
    {
     "data": {
      "text/plain": [
       "[<matplotlib.lines.Line2D at 0x7f432c0d2d70>]"
      ]
     },
     "execution_count": 55,
     "metadata": {},
     "output_type": "execute_result"
    },
    {
     "data": {
      "image/png": "[encoded data removed]",
      "text/plain": [
       "<Figure size 640x480 with 1 Axes>"
      ]
     },
     "metadata": {},
     "output_type": "display_data"
    }
   ],
   "source": [
    "plt.plot(deepcbow_accuracies)"
   ]
  },
  {
   "cell_type": "code",
   "execution_count": 56,
   "metadata": {},
   "outputs": [
    {
     "data": {
      "text/plain": [
       "[<matplotlib.lines.Line2D at 0x7f432c158790>]"
      ]
     },
     "execution_count": 56,
     "metadata": {},
     "output_type": "execute_result"
    },
    {
     "data": {
      "image/png": "[encoded data removed]",
      "text/plain": [
       "<Figure size 640x480 with 1 Axes>"
      ]
     },
     "metadata": {},
     "output_type": "display_data"
    }
   ],
   "source": [
    "plt.plot(deepcbow_losses)"
   ]
  },
  {
   "cell_type": "markdown",
   "metadata": {
    "id": "MQZ5flHwiiHY"
   },
   "source": [
    "# Pre-trained word embeddings"
   ]
  },
  {
   "cell_type": "markdown",
   "metadata": {
    "id": "9NX35vecmHy6"
   },
   "source": [
    "The Stanford Sentiment Treebank is a rather small data set, since it required fine-grained manual annotatation. This makes it difficult for the Deep CBOW model to learn good word embeddings, i.e. to learn good word representations for the words in our vocabulary.\n",
    "In fact, the only error signal that the network receives is from predicting the sentiment of entire sentences!\n",
    "\n",
    "To start off with better word representations, we can download **pre-trained word embeddings**.\n",
    "You can choose which pre-trained word embeddings to use:\n",
    "\n",
    "- **GloVe**. The \"original\" Stanford Sentiment classification [paper](http://aclweb.org/anthology/P/P15/P15-1150.pdf) used Glove embeddings, which are just another method (like *word2vec*) to get word embeddings from unannotated text. Glove is described in the following paper which you should cite if you use them:\n",
    "> Jeffrey Pennington, Richard Socher, and Christopher Manning. [\"Glove: Global vectors for word representation.\"](https://nlp.stanford.edu/pubs/glove.pdf) EMNLP 2014.\n",
    "\n",
    "- **Word2Vec**. This is the method that you learned about in class, described in:\n",
    "> Mikolov, Tomas, et al. [\"Distributed representations of words and phrases and their compositionality.\"](https://papers.nips.cc/paper/5021-distributed-representations-of-words-and-phrases-and-their-compositionality.pdf) Advances in neural information processing systems. 2013.\n",
    "\n",
    "Using these pre-trained word embeddings, we can initialize our word embedding lookup table and start form a point where similar words are already close to one another in the distributional semantic space.\n",
    "\n",
    "You can choose to keep the word embeddings **fixed** or to train them further, specialising them to the task at hand.\n",
    "We will keep them fixed for now.\n",
    "\n",
    "For the purposes of this lab, it is enough if you understand how word2vec works (whichever vectors you use), but if you are interested, we encourage you to also check out the GloVe paper.\n",
    "\n",
    "You can either download the word2vec vectors, or the Glove vectors.\n",
    "If you want to compare your results to the Stanford paper later on, then you should use Glove.\n",
    "**At the end of this lab you have the option to compare which vectors give you the best performance. For now, simply choose one of them and continue with that.**\n",
    "\n",
    "[**OPTIONAL in case you don't want to mount Google Drive:** instead of running all the 5 boxes below, you can 1) download the GloVe and word2vec in your local machine, 2) upload them on your Drive folder (\"My Drive\"). Then, uncomment the first 2 lines in box 6 before writing your code!]\n"
   ]
  },
  {
   "cell_type": "code",
   "execution_count": 57,
   "metadata": {
    "id": "lGYr02WWO993"
   },
   "outputs": [],
   "source": [
    "# This downloads the Glove 840B 300d embeddings.\n",
    "# The original file is at http://nlp.stanford.edu/data/glove.840B.300d.zip\n",
    "# Since that file is 2GB, we provide you with a *filtered version*\n",
    "# which contains all the words you need for this data set.\n",
    "\n",
    "# You only need to do this once.\n",
    "# Please comment this cell out after downloading.\n",
    "\n",
    "# !wget https://gist.githubusercontent.com/bastings/b094de2813da58056a05e8e7950d4ad1/raw/3fbd3976199c2b88de2ae62afc0ecc6f15e6f7ce/glove.840B.300d.sst.txt"
   ]
  },
  {
   "cell_type": "code",
   "execution_count": 58,
   "metadata": {
    "id": "6NLsgFGiTjmI"
   },
   "outputs": [],
   "source": [
    "# This downloads the word2vec 300D Google News vectors\n",
    "# The file has been truncated to only contain words that appear in our data set.\n",
    "# You can find the original file here: https://code.google.com/archive/p/word2vec/\n",
    "\n",
    "# You only need to do this once.\n",
    "# Please comment this out after downloading.\n",
    "# !wget https://gist.githubusercontent.com/bastings/4d1c346c68969b95f2c34cfbc00ba0a0/raw/76b4fefc9ef635a79d0d8002522543bc53ca2683/googlenews.word2vec.300d.txt"
   ]
  },
  {
   "cell_type": "code",
   "execution_count": 59,
   "metadata": {
    "cellView": "both",
    "id": "GXBITzPRQUQb"
   },
   "outputs": [],
   "source": [
    "# Mount Google Drive (to save the downloaded files)\n",
    "# from google.colab import drive\n",
    "# drive.mount('/gdrive')"
   ]
  },
  {
   "cell_type": "code",
   "execution_count": 60,
   "metadata": {
    "id": "uFvzPuiKSCbl"
   },
   "outputs": [],
   "source": [
    "# Copy word vectors *to* Google Drive\n",
    "\n",
    "# You only need to do this once.\n",
    "# Please comment this out after running it.\n",
    "#!cp \"glove.840B.300d.sst.txt\" \"/gdrive/My Drive/\"\n",
    "#!cp \"googlenews.word2vec.300d.txt\" \"/gdrive/My Drive/\""
   ]
  },
  {
   "cell_type": "code",
   "execution_count": 61,
   "metadata": {
    "id": "kUMH0bM6BuY9"
   },
   "outputs": [],
   "source": [
    "# If you copied the word vectors to your Drive before,\n",
    "# here is where you copy them back to the Colab notebook.\n",
    "\n",
    "# Copy Glove vectors *from* Google Drive\n",
    "# !cp \"/gdrive/My Drive/glove.840B.300d.sst.txt\" .\n",
    "# !cp \"/gdrive/My Drive/googlenews.word2vec.300d.txt\" ."
   ]
  },
  {
   "cell_type": "code",
   "execution_count": 62,
   "metadata": {
    "id": "xcpkoh6PIjfe"
   },
   "outputs": [],
   "source": [
    "# Uncomment these 2 lines below if went for the OPTIONAL method described above\n",
    "# !cp \"glove.840B.300d.sst.txt\" \"./\"\n",
    "# !cp \"googlenews.word2vec.300d.txt\" \"./\""
   ]
  },
  {
   "cell_type": "markdown",
   "metadata": {
    "id": "MX2GJVHILM8n"
   },
   "source": [
    "At this point you have the pre-trained word embedding files, but what do they look like?"
   ]
  },
  {
   "cell_type": "code",
   "execution_count": 63,
   "metadata": {
    "id": "ChsChH14Ruxn"
   },
   "outputs": [
    {
     "name": "stdout",
     "output_type": "stream",
     "text": [
      ", [-0.082752  0.67204  -0.14987  -0.064983  0.056491]\n",
      ". [ 0.012001  0.20751  -0.12578  -0.59325   0.12525 ]\n",
      "the [ 0.27204  -0.06203  -0.1884    0.023225 -0.018158]\n",
      "and [-0.18567   0.066008 -0.25209  -0.11725   0.26513 ]\n",
      "in [0.0703125  0.08691406 0.08789062 0.0625     0.06933594]\n",
      "for [-0.01177978 -0.04736328  0.04467773  0.06347656 -0.01818848]\n",
      "that [-0.01574707 -0.02832031  0.08349609  0.05029297 -0.11035156]\n",
      "is [ 0.00704956 -0.07324219  0.171875    0.02258301 -0.1328125 ]\n",
      "\n",
      "Glove embeddings:\n",
      "\n",
      "Number of words: 20725\n",
      "Embedding dimension: 300\n",
      "------------------------------\n",
      "Google embeddings:\n",
      "\n",
      "Number of words: 18920\n",
      "Embedding dimension: 300\n",
      "\n",
      "Matching words between Glove and Google: 18905\n"
     ]
    }
   ],
   "source": [
    "# Exercise: Print the first 4 lines of the files that you downloaded.\n",
    "# What do you see?\n",
    "\n",
    "glove_embeddings: dict[str, np.ndarray] = {}\n",
    "google_embeddings: dict[str, np.ndarray] = {}\n",
    "\n",
    "with open(\"glove.840B.300d.sst.txt\", mode=\"r\", encoding=\"utf-8\") as f:\n",
    "    glove_embeddings = {\n",
    "        line.split()[0]: np.array(line.split()[1:], dtype=np.float64) for line in f\n",
    "    }\n",
    "\n",
    "with open(\"googlenews.word2vec.300d.txt\", mode=\"r\", encoding=\"utf-8\") as f:\n",
    "    google_embeddings = {\n",
    "        line.split()[0]: np.array(line.split()[1:], dtype=np.float64) for line in f\n",
    "    }\n",
    "\n",
    "for i, (k, v) in enumerate(glove_embeddings.items()):\n",
    "    print(k, v[:5])\n",
    "    if i == 3:\n",
    "        break\n",
    "for i, (k, v) in enumerate(google_embeddings.items()):\n",
    "    print(k, v[:5])\n",
    "    if i == 3:\n",
    "        break\n",
    "\n",
    "print()\n",
    "\n",
    "print(\"Glove embeddings:\\n\")\n",
    "print(\"Number of words:\", len(glove_embeddings))\n",
    "print(\"Embedding dimension:\", len(next(iter(glove_embeddings.values()))))\n",
    "\n",
    "print(\"-\" * 30)\n",
    "\n",
    "print(\"Google embeddings:\\n\")\n",
    "print(\"Number of words:\", len(google_embeddings))\n",
    "print(\"Embedding dimension:\", len(next(iter(google_embeddings.values()))))\n",
    "\n",
    "print()\n",
    "print(\n",
    "    \"Matching words between Glove and Google:\",\n",
    "    len(glove_embeddings.keys() & google_embeddings.keys()),\n",
    ")"
   ]
  },
  {
   "cell_type": "markdown",
   "metadata": {
    "id": "WIVCkUkE_IjR"
   },
   "source": [
    "#### Exercise: New Vocabulary\n",
    "\n",
    "Since we now use pre-trained word embeddings, we need to create a new vocabulary.\n",
    "This is because of two reasons:\n",
    "\n",
    "1. We do not have pre-trained word embeddings for all words in our SST training set, and we do not want words in our vocabulary for which we have no word embeddings.\n",
    "2. We should be able to look up the pre-trained word embedding for words in the validation and test set, even if these words are unseen in training.\n",
    "\n",
    "Now, create a new vocabulary object `v` based on the word set of pre-trained embeddings, and load the corresponding embeddings into a list `vectors`.\n",
    "\n",
    "The vocabulary `v` should consist of:\n",
    " - a  `<unk>` token at position 0,\n",
    " - a  `<pad>` token at position 1,\n",
    " - and then all words in the pre-trained embedding set.\n",
    "\n",
    "\n",
    "After storing each vector in a list `vectors`, turn the list into a numpy matrix like this:\n",
    "```python\n",
    " vectors = np.stack(vectors, axis=0)\n",
    "```\n",
    "\n",
    "Remember to add new embeddings for the `<unk>` and `<pad>` tokens, as they're not part of the word2vec/GloVe embeddings. These embeddings can be randomly initialized or 0-valued, think about what makes sense and see what the effects are.\n"
   ]
  },
  {
   "cell_type": "code",
   "execution_count": 64,
   "metadata": {
    "id": "ITyyCvDnCL4U"
   },
   "outputs": [
    {
     "data": {
      "text/plain": [
       "(20727, 300)"
      ]
     },
     "execution_count": 64,
     "metadata": {},
     "output_type": "execute_result"
    }
   ],
   "source": [
    "def construct_vocab_embeddings(\n",
    "    pretrained_embeddings: Dict[str, np.ndarray]\n",
    ") -> Tuple[Vocabulary, np.ndarray]:\n",
    "    vocab = Vocabulary()\n",
    "    vocab.build()\n",
    "    embedding_dim = len(next(iter(pretrained_embeddings.values())))\n",
    "    pretrained_embeddings_word_size = len(pretrained_embeddings)\n",
    "    embeddings = np.random.normal(\n",
    "        0, 1, size=(len(vocab.w2i) + pretrained_embeddings_word_size, embedding_dim)\n",
    "    )\n",
    "    for _, (word, embedding) in enumerate(pretrained_embeddings.items()):\n",
    "        vocab.add_token(word)\n",
    "        embeddings[vocab.w2i[word]] = embedding\n",
    "    return vocab, embeddings\n",
    "\n",
    "\n",
    "if USE_GOOGLE:\n",
    "    v, vectors = construct_vocab_embeddings(google_embeddings)\n",
    "else:\n",
    "    v, vectors = construct_vocab_embeddings(glove_embeddings)\n",
    "vectors.shape"
   ]
  },
  {
   "cell_type": "markdown",
   "metadata": {
    "id": "xC-7mRyYNG9b"
   },
   "source": [
    "#### Exercise: words not in our pre-trained set\n",
    "\n",
    "How many words in the training, dev, and test set are also in your vector set?\n",
    "How many words are not there?\n",
    "\n",
    "Store the words that are not in the word vector set in the set below."
   ]
  },
  {
   "cell_type": "code",
   "execution_count": 65,
   "metadata": {
    "id": "K6MA3-wF_X5M"
   },
   "outputs": [
    {
     "name": "stdout",
     "output_type": "stream",
     "text": [
      "Number of unique tokens in train set: 16579\n",
      "Number of tokens in train set that are in Glove: 13454\n",
      "Number of tokens in train set that are in Google: 12206\n",
      "Number of tokens in train set that are not in Glove: 3125\n",
      "Number of tokens in train set that are not in Google: 4373\n",
      "\n",
      "Number of unique tokens in dev set: 5038\n",
      "Number of tokens in dev set that are in Glove: 4328\n",
      "Number of tokens in dev set that are in Google: 4098\n",
      "Number of tokens in dev set that are not in Glove: 710\n",
      "Number of tokens in dev set that are not in Google: 940\n",
      "\n",
      "Number of unique tokens in test set: 3949\n",
      "Number of tokens in test set that are in Glove: 3443\n",
      "Number of tokens in test set that are in Google: 3236\n",
      "Number of tokens in test set that are not in Glove: 506\n",
      "Number of tokens in test set that are not in Google: 713\n",
      "\n"
     ]
    }
   ],
   "source": [
    "dataset_tokens: List[Set[str]] = []\n",
    "for data_set in (train_data, dev_data, test_data):\n",
    "    tokens = set()\n",
    "    for ex in data_set:\n",
    "        for token in ex.tokens:\n",
    "            tokens.add(token.lower())\n",
    "    dataset_tokens.append(tokens)\n",
    "\n",
    "for i, tokens in enumerate(dataset_tokens):\n",
    "    print(\n",
    "        \"Number of unique tokens in {} set: {}\".format(\n",
    "            [\"train\", \"dev\", \"test\"][i], len(tokens)\n",
    "        )\n",
    "    )\n",
    "    print(\n",
    "        \"Number of tokens in {} set that are in Glove: {}\".format(\n",
    "            [\"train\", \"dev\", \"test\"][i], len(tokens & glove_embeddings.keys())\n",
    "        )\n",
    "    )\n",
    "    print(\n",
    "        \"Number of tokens in {} set that are in Google: {}\".format(\n",
    "            [\"train\", \"dev\", \"test\"][i], len(tokens & google_embeddings.keys())\n",
    "        )\n",
    "    )\n",
    "    print(\n",
    "        \"Number of tokens in {} set that are not in Glove: {}\".format(\n",
    "            [\"train\", \"dev\", \"test\"][i], len(tokens - glove_embeddings.keys())\n",
    "        )\n",
    "    )\n",
    "    print(\n",
    "        \"Number of tokens in {} set that are not in Google: {}\".format(\n",
    "            [\"train\", \"dev\", \"test\"][i], len(tokens - google_embeddings.keys())\n",
    "        )\n",
    "    )\n",
    "    print()"
   ]
  },
  {
   "cell_type": "markdown",
   "metadata": {
    "id": "BfEd38W0NnAI"
   },
   "source": [
    "#### Exercise: train Deep CBOW with (fixed) pre-trained embeddings\n",
    "\n",
    "Now train Deep CBOW again using the pre-trained word vectors.\n"
   ]
  },
  {
   "cell_type": "code",
   "execution_count": 66,
   "metadata": {
    "id": "z_6ooqgEsB20"
   },
   "outputs": [],
   "source": [
    "# We define a new class that inherits from DeepCBOW.\n",
    "\n",
    "class PTDeepCBOW(DeepCBOW):\n",
    "    def __init__(self, vocab_size, embedding_dim, hidden_dim, output_dim, vocab):\n",
    "        super(PTDeepCBOW, self).__init__(\n",
    "            vocab_size, embedding_dim, hidden_dim, output_dim, vocab\n",
    "        )"
   ]
  },
  {
   "cell_type": "code",
   "execution_count": 67,
   "metadata": {
    "id": "JfIh4Ni6yuAh"
   },
   "outputs": [
    {
     "data": {
      "text/html": [
       "wandb version 0.16.1 is available!  To upgrade, please run:\n",
       " $ pip install wandb --upgrade"
      ],
      "text/plain": [
       "<IPython.core.display.HTML object>"
      ]
     },
     "metadata": {},
     "output_type": "display_data"
    },
    {
     "data": {
      "text/html": [
       "Tracking run with wandb version 0.16.0"
      ],
      "text/plain": [
       "<IPython.core.display.HTML object>"
      ]
     },
     "metadata": {},
     "output_type": "display_data"
    },
    {
     "data": {
      "text/html": [
       "Run data is saved locally in <code>/home/jupyter/github/uva_nlp1/wandb/run-20231211_210941-tf3n8s8n</code>"
      ],
      "text/plain": [
       "<IPython.core.display.HTML object>"
      ]
     },
     "metadata": {},
     "output_type": "display_data"
    },
    {
     "data": {
      "text/html": [
       "Syncing run <strong><a href='https://wandb.ai/dqmiss/nlp1-practical2/runs/tf3n8s8n' target=\"_blank\">PTDeepCBOW-1702328981</a></strong> to <a href='https://wandb.ai/dqmiss/nlp1-practical2' target=\"_blank\">Weights & Biases</a> (<a href='https://wandb.me/run' target=\"_blank\">docs</a>)<br/>"
      ],
      "text/plain": [
       "<IPython.core.display.HTML object>"
      ]
     },
     "metadata": {},
     "output_type": "display_data"
    },
    {
     "data": {
      "text/html": [
       " View project at <a href='https://wandb.ai/dqmiss/nlp1-practical2' target=\"_blank\">https://wandb.ai/dqmiss/nlp1-practical2</a>"
      ],
      "text/plain": [
       "<IPython.core.display.HTML object>"
      ]
     },
     "metadata": {},
     "output_type": "display_data"
    },
    {
     "data": {
      "text/html": [
       " View run at <a href='https://wandb.ai/dqmiss/nlp1-practical2/runs/tf3n8s8n' target=\"_blank\">https://wandb.ai/dqmiss/nlp1-practical2/runs/tf3n8s8n</a>"
      ],
      "text/plain": [
       "<IPython.core.display.HTML object>"
      ]
     },
     "metadata": {},
     "output_type": "display_data"
    },
    {
     "name": "stdout",
     "output_type": "stream",
     "text": [
      "Iter 1000: loss=1588.9790, time=3.35s\n",
      "iter 1000: dev acc=0.3488\n",
      "new highscore\n",
      "Iter 2000: loss=1469.8254, time=7.87s\n",
      "iter 2000: dev acc=0.3415\n",
      "Iter 3000: loss=1464.2952, time=12.45s\n",
      "iter 3000: dev acc=0.3333\n",
      "Iter 4000: loss=1461.4092, time=16.93s\n",
      "iter 4000: dev acc=0.3915\n",
      "new highscore\n",
      "Iter 5000: loss=1404.7717, time=21.54s\n",
      "iter 5000: dev acc=0.3115\n",
      "Iter 6000: loss=1378.5651, time=26.52s\n",
      "iter 6000: dev acc=0.4042\n",
      "new highscore\n",
      "Iter 7000: loss=1398.6821, time=31.30s\n",
      "iter 7000: dev acc=0.3742\n",
      "Iter 8000: loss=1373.2205, time=36.19s\n",
      "iter 8000: dev acc=0.4005\n",
      "Iter 9000: loss=1390.2687, time=40.84s\n",
      "iter 9000: dev acc=0.3951\n",
      "Iter 10000: loss=1372.9116, time=45.36s\n",
      "iter 10000: dev acc=0.3887\n",
      "Iter 11000: loss=1368.2180, time=49.70s\n",
      "iter 11000: dev acc=0.4051\n",
      "new highscore\n",
      "Iter 12000: loss=1362.5022, time=54.35s\n",
      "iter 12000: dev acc=0.3215\n",
      "Iter 13000: loss=1407.1467, time=59.25s\n",
      "iter 13000: dev acc=0.3488\n",
      "Iter 14000: loss=1346.0981, time=63.65s\n",
      "iter 14000: dev acc=0.3724\n",
      "Iter 15000: loss=1367.1422, time=68.57s\n",
      "iter 15000: dev acc=0.3842\n",
      "Iter 16000: loss=1365.6579, time=73.72s\n",
      "iter 16000: dev acc=0.3951\n",
      "Iter 17000: loss=1353.5718, time=78.65s\n",
      "iter 17000: dev acc=0.3787\n",
      "Iter 18000: loss=1354.3146, time=83.58s\n",
      "iter 18000: dev acc=0.3896\n",
      "Iter 19000: loss=1291.5190, time=88.71s\n",
      "iter 19000: dev acc=0.4051\n",
      "Iter 20000: loss=1331.9873, time=93.75s\n",
      "iter 20000: dev acc=0.4187\n",
      "new highscore\n",
      "Iter 21000: loss=1343.0202, time=98.81s\n",
      "iter 21000: dev acc=0.4051\n",
      "Iter 22000: loss=1372.9131, time=103.73s\n",
      "iter 22000: dev acc=0.4042\n",
      "Iter 23000: loss=1367.6542, time=108.60s\n",
      "iter 23000: dev acc=0.4287\n",
      "new highscore\n",
      "Iter 24000: loss=1310.3448, time=113.67s\n",
      "iter 24000: dev acc=0.3906\n",
      "Iter 25000: loss=1341.8797, time=118.50s\n",
      "iter 25000: dev acc=0.3933\n",
      "Iter 26000: loss=1340.6896, time=122.79s\n",
      "iter 26000: dev acc=0.4114\n",
      "Iter 27000: loss=1318.9179, time=127.68s\n",
      "iter 27000: dev acc=0.4078\n",
      "Iter 28000: loss=1343.1328, time=132.66s\n",
      "iter 28000: dev acc=0.4142\n",
      "Iter 29000: loss=1318.0154, time=137.56s\n",
      "iter 29000: dev acc=0.4015\n",
      "Iter 30000: loss=1324.9464, time=142.39s\n",
      "iter 30000: dev acc=0.4223\n",
      "Done training\n",
      "Loading best model\n"
     ]
    },
    {
     "ename": "RuntimeError",
     "evalue": "Error(s) in loading state_dict for PTDeepCBOW:\n\tsize mismatch for embed.weight: copying a param with shape torch.Size([18922, 300]) from checkpoint, the shape in current model is torch.Size([20727, 300]).",
     "output_type": "error",
     "traceback": [
      "\u001b[0;31m---------------------------------------------------------------------------\u001b[0m",
      "\u001b[0;31mRuntimeError\u001b[0m                              Traceback (most recent call last)",
      "Cell \u001b[0;32mIn[67], line 16\u001b[0m\n\u001b[1;32m     12\u001b[0m     pt_deep_cbow_optimizer \u001b[38;5;241m=\u001b[39m optim\u001b[38;5;241m.\u001b[39mAdam(pt_deep_cbow_model\u001b[38;5;241m.\u001b[39mparameters(), lr\u001b[38;5;241m=\u001b[39m\u001b[38;5;241m0.0005\u001b[39m)\n\u001b[1;32m     14\u001b[0m     \u001b[38;5;28;01mreturn\u001b[39;00m pt_deep_cbow_model, pt_deep_cbow_optimizer\n\u001b[0;32m---> 16\u001b[0m pt_deep_cbow__losses, pt_deep_cbow__accuracies \u001b[38;5;241m=\u001b[39m \u001b[43mtrain_model\u001b[49m\u001b[43m(\u001b[49m\n\u001b[1;32m     17\u001b[0m \u001b[43m    \u001b[49m\u001b[43mmodel_fn\u001b[49m\u001b[38;5;241;43m=\u001b[39;49m\u001b[43mget_model\u001b[49m\u001b[43m,\u001b[49m\n\u001b[1;32m     18\u001b[0m \u001b[43m    \u001b[49m\u001b[43mnum_iterations\u001b[49m\u001b[38;5;241;43m=\u001b[39;49m\u001b[43mNUM_STEPS_UNBATCHED\u001b[49m\u001b[43m,\u001b[49m\n\u001b[1;32m     19\u001b[0m \u001b[43m    \u001b[49m\u001b[43mprint_every\u001b[49m\u001b[38;5;241;43m=\u001b[39;49m\u001b[43mNUM_STEPS_UNBATCHED\u001b[49m\u001b[43m \u001b[49m\u001b[38;5;241;43m/\u001b[39;49m\u001b[38;5;241;43m/\u001b[39;49m\u001b[43m \u001b[49m\u001b[38;5;241;43m30\u001b[39;49m\u001b[43m,\u001b[49m\n\u001b[1;32m     20\u001b[0m \u001b[43m    \u001b[49m\u001b[43meval_every\u001b[49m\u001b[38;5;241;43m=\u001b[39;49m\u001b[43mNUM_STEPS_UNBATCHED\u001b[49m\u001b[43m \u001b[49m\u001b[38;5;241;43m/\u001b[39;49m\u001b[38;5;241;43m/\u001b[39;49m\u001b[43m \u001b[49m\u001b[38;5;241;43m30\u001b[39;49m\u001b[43m,\u001b[49m\n\u001b[1;32m     21\u001b[0m \u001b[43m    \u001b[49m\u001b[43mhypothesis\u001b[49m\u001b[38;5;241;43m=\u001b[39;49m\u001b[38;5;124;43m\"\u001b[39;49m\u001b[38;5;124;43mptdeepcbow\u001b[39;49m\u001b[38;5;124;43m\"\u001b[39;49m\u001b[43m,\u001b[49m\n\u001b[1;32m     22\u001b[0m \u001b[43m)\u001b[49m\n",
      "Cell \u001b[0;32mIn[43], line 187\u001b[0m, in \u001b[0;36mtrain_model\u001b[0;34m(**kwargs)\u001b[0m\n\u001b[1;32m    184\u001b[0m args[\u001b[38;5;124m\"\u001b[39m\u001b[38;5;124mseed\u001b[39m\u001b[38;5;124m\"\u001b[39m] \u001b[38;5;241m=\u001b[39m seed\n\u001b[1;32m    185\u001b[0m set_seed(seed)\n\u001b[0;32m--> 187\u001b[0m losses_, accuracies_ \u001b[38;5;241m=\u001b[39m \u001b[43mtrain_model_\u001b[49m\u001b[43m(\u001b[49m\u001b[38;5;241;43m*\u001b[39;49m\u001b[38;5;241;43m*\u001b[39;49m\u001b[43margs\u001b[49m\u001b[43m)\u001b[49m\n\u001b[1;32m    188\u001b[0m losses\u001b[38;5;241m.\u001b[39mappend(losses_)\n\u001b[1;32m    189\u001b[0m accuracies\u001b[38;5;241m.\u001b[39mappend(accuracies_)\n",
      "Cell \u001b[0;32mIn[43], line 131\u001b[0m, in \u001b[0;36mtrain_model_\u001b[0;34m(model_fn, optimizer, num_iterations, print_every, eval_every, batch_fn, prep_fn, eval_fn, batch_size, eval_batch_size, use_wandb, hypothesis, seed)\u001b[0m\n\u001b[1;32m    129\u001b[0m path \u001b[38;5;241m=\u001b[39m \u001b[38;5;124m\"\u001b[39m\u001b[38;5;132;01m{}\u001b[39;00m\u001b[38;5;124m.pt\u001b[39m\u001b[38;5;124m\"\u001b[39m\u001b[38;5;241m.\u001b[39mformat(model\u001b[38;5;241m.\u001b[39m\u001b[38;5;18m__class__\u001b[39m\u001b[38;5;241m.\u001b[39m\u001b[38;5;18m__name__\u001b[39m)\n\u001b[1;32m    130\u001b[0m ckpt \u001b[38;5;241m=\u001b[39m torch\u001b[38;5;241m.\u001b[39mload(path)\n\u001b[0;32m--> 131\u001b[0m \u001b[43mmodel\u001b[49m\u001b[38;5;241;43m.\u001b[39;49m\u001b[43mload_state_dict\u001b[49m\u001b[43m(\u001b[49m\u001b[43mckpt\u001b[49m\u001b[43m[\u001b[49m\u001b[38;5;124;43m\"\u001b[39;49m\u001b[38;5;124;43mstate_dict\u001b[39;49m\u001b[38;5;124;43m\"\u001b[39;49m\u001b[43m]\u001b[49m\u001b[43m)\u001b[49m\n\u001b[1;32m    133\u001b[0m _, _, train_acc, train_f1_score, _ \u001b[38;5;241m=\u001b[39m eval_fn(\n\u001b[1;32m    134\u001b[0m     model,\n\u001b[1;32m    135\u001b[0m     train_data,\n\u001b[0;32m   (...)\u001b[0m\n\u001b[1;32m    138\u001b[0m     prep_fn\u001b[38;5;241m=\u001b[39mprep_fn,\n\u001b[1;32m    139\u001b[0m )\n\u001b[1;32m    140\u001b[0m _, _, dev_acc, dev_f1_score, _ \u001b[38;5;241m=\u001b[39m eval_fn(\n\u001b[1;32m    141\u001b[0m     model,\n\u001b[1;32m    142\u001b[0m     dev_data,\n\u001b[0;32m   (...)\u001b[0m\n\u001b[1;32m    145\u001b[0m     prep_fn\u001b[38;5;241m=\u001b[39mprep_fn,\n\u001b[1;32m    146\u001b[0m )\n",
      "File \u001b[0;32m/opt/conda/lib/python3.10/site-packages/torch/nn/modules/module.py:2152\u001b[0m, in \u001b[0;36mModule.load_state_dict\u001b[0;34m(self, state_dict, strict, assign)\u001b[0m\n\u001b[1;32m   2147\u001b[0m         error_msgs\u001b[38;5;241m.\u001b[39minsert(\n\u001b[1;32m   2148\u001b[0m             \u001b[38;5;241m0\u001b[39m, \u001b[38;5;124m'\u001b[39m\u001b[38;5;124mMissing key(s) in state_dict: \u001b[39m\u001b[38;5;132;01m{}\u001b[39;00m\u001b[38;5;124m. \u001b[39m\u001b[38;5;124m'\u001b[39m\u001b[38;5;241m.\u001b[39mformat(\n\u001b[1;32m   2149\u001b[0m                 \u001b[38;5;124m'\u001b[39m\u001b[38;5;124m, \u001b[39m\u001b[38;5;124m'\u001b[39m\u001b[38;5;241m.\u001b[39mjoin(\u001b[38;5;124mf\u001b[39m\u001b[38;5;124m'\u001b[39m\u001b[38;5;124m\"\u001b[39m\u001b[38;5;132;01m{\u001b[39;00mk\u001b[38;5;132;01m}\u001b[39;00m\u001b[38;5;124m\"\u001b[39m\u001b[38;5;124m'\u001b[39m \u001b[38;5;28;01mfor\u001b[39;00m k \u001b[38;5;129;01min\u001b[39;00m missing_keys)))\n\u001b[1;32m   2151\u001b[0m \u001b[38;5;28;01mif\u001b[39;00m \u001b[38;5;28mlen\u001b[39m(error_msgs) \u001b[38;5;241m>\u001b[39m \u001b[38;5;241m0\u001b[39m:\n\u001b[0;32m-> 2152\u001b[0m     \u001b[38;5;28;01mraise\u001b[39;00m \u001b[38;5;167;01mRuntimeError\u001b[39;00m(\u001b[38;5;124m'\u001b[39m\u001b[38;5;124mError(s) in loading state_dict for \u001b[39m\u001b[38;5;132;01m{}\u001b[39;00m\u001b[38;5;124m:\u001b[39m\u001b[38;5;130;01m\\n\u001b[39;00m\u001b[38;5;130;01m\\t\u001b[39;00m\u001b[38;5;132;01m{}\u001b[39;00m\u001b[38;5;124m'\u001b[39m\u001b[38;5;241m.\u001b[39mformat(\n\u001b[1;32m   2153\u001b[0m                        \u001b[38;5;28mself\u001b[39m\u001b[38;5;241m.\u001b[39m\u001b[38;5;18m__class__\u001b[39m\u001b[38;5;241m.\u001b[39m\u001b[38;5;18m__name__\u001b[39m, \u001b[38;5;124m\"\u001b[39m\u001b[38;5;130;01m\\n\u001b[39;00m\u001b[38;5;130;01m\\t\u001b[39;00m\u001b[38;5;124m\"\u001b[39m\u001b[38;5;241m.\u001b[39mjoin(error_msgs)))\n\u001b[1;32m   2154\u001b[0m \u001b[38;5;28;01mreturn\u001b[39;00m _IncompatibleKeys(missing_keys, unexpected_keys)\n",
      "\u001b[0;31mRuntimeError\u001b[0m: Error(s) in loading state_dict for PTDeepCBOW:\n\tsize mismatch for embed.weight: copying a param with shape torch.Size([18922, 300]) from checkpoint, the shape in current model is torch.Size([20727, 300])."
     ]
    }
   ],
   "source": [
    "# Create a Deep CBOW model with pre-trained embeddings\n",
    "# YOUR CODE HERE\n",
    "vocab_size = vectors.shape[0]\n",
    "embedding_dim = vectors.shape[1]\n",
    "\n",
    "def get_model():\n",
    "    pt_deep_cbow_model = PTDeepCBOW(vocab_size, embedding_dim, 100, n_classes, v)\n",
    "    pt_deep_cbow_model.embed.weight.data.copy_(torch.from_numpy(vectors))\n",
    "\n",
    "    pt_deep_cbow_model.embed.weight.requires_grad = False\n",
    "    pt_deep_cbow_model = pt_deep_cbow_model.to(device)\n",
    "    pt_deep_cbow_optimizer = optim.Adam(pt_deep_cbow_model.parameters(), lr=0.0005)\n",
    "\n",
    "    return pt_deep_cbow_model, pt_deep_cbow_optimizer\n",
    "\n",
    "pt_deep_cbow__losses, pt_deep_cbow__accuracies = train_model(\n",
    "    model_fn=get_model,\n",
    "    num_iterations=NUM_STEPS_UNBATCHED,\n",
    "    print_every=NUM_STEPS_UNBATCHED // 30,\n",
    "    eval_every=NUM_STEPS_UNBATCHED // 30,\n",
    "    hypothesis=\"ptdeepcbow\",\n",
    ")"
   ]
  },
  {
   "cell_type": "code",
   "execution_count": null,
   "metadata": {
    "id": "Ufujv3x31ufD"
   },
   "outputs": [],
   "source": [
    "# plot dev accuracies\n",
    "plt.plot(pt_deep_cbow__accuracies)"
   ]
  },
  {
   "cell_type": "code",
   "execution_count": null,
   "metadata": {
    "id": "YTJtKBzd7Qjr"
   },
   "outputs": [],
   "source": [
    "# plot train loss\n",
    "plt.plot(pt_deep_cbow__losses)"
   ]
  },
  {
   "cell_type": "markdown",
   "metadata": {
    "id": "yFu8xzCy9XDW"
   },
   "source": [
    "**It looks like we've hit what is possible with just using words.**\n",
    "Let's move on by incorporating word order!"
   ]
  },
  {
   "cell_type": "markdown",
   "metadata": {
    "id": "g41yW4PL9jG0"
   },
   "source": [
    "# LSTM"
   ]
  },
  {
   "cell_type": "markdown",
   "metadata": {
    "id": "ODzXEH0MaGpa"
   },
   "source": [
    "It is time to get more serious. Even with pre-trained word embeddings and multiple layers, we still seem to do pretty badly at sentiment classification.\n",
    "The next step we can take is to introduce word order again, dropping our independence assumptions. In this way, we can get a representation of the sentence as an ordered set of tokens.\n",
    "\n",
    "We will get this representation using a **Long Short-Term Memory** (LSTM). As an exercise, we will code our own LSTM cell, so that we get comfortable with its inner workings.\n",
    "Once we have an LSTM cell, we can call it repeatedly, updating its hidden state one word at a time:\n",
    "\n",
    "```python\n",
    "rnn = MyLSTMCell(input_size, hidden_size)\n",
    "\n",
    "hx = torch.zeros(1, hidden_size)  # initial hidden state\n",
    "cx = torch.zeros(1, hidden_size)  # initial memory cell\n",
    "output = []                       # to save intermediate LSTM states\n",
    "\n",
    "# feed one word at a time\n",
    "for i in range(n_timesteps):\n",
    "  hx, cx = rnn(input[i], (hx, cx))\n",
    "  output.append(hx)\n",
    "```\n",
    "\n",
    "If you need some more help understanding LSTMs, you can check out these resources:\n",
    "- Blog post (highly recommended): http://colah.github.io/posts/2015-08-Understanding-LSTMs/\n",
    "- Paper covering LSTM formulas in detail: https://arxiv.org/abs/1503.04069\n"
   ]
  },
  {
   "cell_type": "markdown",
   "metadata": {
    "id": "v9f4b45BXKFC"
   },
   "source": [
    "#### Exercise: Finish the LSTM cell below.\n",
    "You will need to implement the LSTM formulas:\n",
    "\n",
    "$$\n",
    "\\begin{array}{ll}\n",
    "        i = \\sigma(W_{ii} x + b_{ii} + W_{hi} h + b_{hi}) \\\\\n",
    "        f = \\sigma(W_{if} x + b_{if} + W_{hf} h + b_{hf}) \\\\\n",
    "        g = \\tanh(W_{ig} x + b_{ig} + W_{hg} h + b_{hg}) \\\\\n",
    "        o = \\sigma(W_{io} x + b_{io} + W_{ho} h + b_{ho}) \\\\\n",
    "        c' = f * c + i * g \\\\\n",
    "        h' = o \\tanh(c') \\\\\n",
    "\\end{array}\n",
    " $$\n",
    "\n",
    "where $\\sigma$ is the sigmoid function.\n",
    "\n",
    "*Note that the LSTM formulas can differ slightly between different papers. We use the PyTorch LSTM formulation here.*"
   ]
  },
  {
   "cell_type": "code",
   "execution_count": null,
   "metadata": {
    "id": "zJ9m5kLMd7-v"
   },
   "outputs": [],
   "source": [
    "class MyLSTMCell(nn.Module):\n",
    "    \"\"\"Our own LSTM cell\"\"\"\n",
    "\n",
    "    def __init__(self, input_size, hidden_size, bias=True):\n",
    "        \"\"\"Creates the weights for this LSTM\"\"\"\n",
    "        super(MyLSTMCell, self).__init__()\n",
    "\n",
    "        self.input_size = input_size\n",
    "        self.hidden_size = hidden_size\n",
    "        self.bias = bias\n",
    "\n",
    "        self.xh = torch.nn.Linear(input_size, hidden_size * 4, bias=bias)\n",
    "        self.hh = torch.nn.Linear(hidden_size, hidden_size * 4, bias=bias)\n",
    "\n",
    "        self.reset_parameters()\n",
    "\n",
    "    def reset_parameters(self):\n",
    "        \"\"\"This is PyTorch's default initialization method\"\"\"\n",
    "        stdv = 1.0 / math.sqrt(self.hidden_size)\n",
    "        for weight in self.parameters():\n",
    "            weight.data.uniform_(-stdv, stdv)\n",
    "\n",
    "    def forward(self, input_, hx, mask=None):\n",
    "        \"\"\"\n",
    "        input is (batch, input_size)\n",
    "        hx is ((batch, hidden_size), (batch, hidden_size))\n",
    "        \"\"\"\n",
    "        prev_h, prev_c = hx\n",
    "\n",
    "        gates = self.xh(input_) + self.hh(prev_h)\n",
    "        input_gate, forget_gate, cell_gate, output_gate = gates.chunk(4, 1)\n",
    "\n",
    "        i = torch.sigmoid(input_gate)\n",
    "        f = torch.sigmoid(forget_gate)\n",
    "        g = torch.tanh(cell_gate)\n",
    "        o = torch.sigmoid(output_gate)\n",
    "\n",
    "        c = torch.mul(f, prev_c) + torch.mul(i, g)\n",
    "        h = torch.mul(o, torch.tanh(c))\n",
    "\n",
    "        return h, c\n",
    "\n",
    "    def __repr__(self):\n",
    "        return \"{}({:d}, {:d})\".format(\n",
    "            self.__class__.__name__, self.input_size, self.hidden_size\n",
    "        )"
   ]
  },
  {
   "cell_type": "code",
   "execution_count": null,
   "metadata": {
    "id": "3iuYZm5poEn5"
   },
   "outputs": [],
   "source": [
    "class LSTMClassifier(nn.Module):\n",
    "    \"\"\"Encodes sentence with an LSTM and projects final hidden state\"\"\"\n",
    "\n",
    "    def __init__(self, vocab_size, embedding_dim, hidden_dim, output_dim, vocab):\n",
    "        super(LSTMClassifier, self).__init__()\n",
    "        self.vocab = vocab\n",
    "        self.hidden_dim = hidden_dim\n",
    "        self.embed = nn.Embedding(vocab_size, embedding_dim, padding_idx=1)\n",
    "        self.rnn = MyLSTMCell(embedding_dim, hidden_dim)\n",
    "\n",
    "        self.output_layer = nn.Sequential(\n",
    "            nn.Dropout(p=0.5), nn.Linear(hidden_dim, output_dim)  # explained later\n",
    "        )\n",
    "\n",
    "    def forward(self, x):\n",
    "        B = x.size(0)  # batch size (this is 1 for now, i.e. 1 single example)\n",
    "        T = x.size(1)  # timesteps (the number of words in the sentence)\n",
    "\n",
    "        input_ = self.embed(x)\n",
    "\n",
    "        # here we create initial hidden states containing zeros\n",
    "        # we use a trick here so that, if input is on the GPU, then so are hx and cx\n",
    "        hx = input_.new_zeros(B, self.rnn.hidden_size)\n",
    "        cx = input_.new_zeros(B, self.rnn.hidden_size)\n",
    "\n",
    "        # process input sentences one word/timestep at a time\n",
    "        # input is batch-major (i.e., batch size is the first dimension)\n",
    "        # so the first word(s) is (are) input_[:, 0]\n",
    "        outputs = []\n",
    "        for i in range(T):\n",
    "            hx, cx = self.rnn(input_[:, i], (hx, cx))\n",
    "            outputs.append(hx)\n",
    "\n",
    "        # if we have a single example, our final LSTM state is the last hx\n",
    "        if B == 1:\n",
    "            final = hx\n",
    "        else:\n",
    "            #\n",
    "            # This part is explained in next section, ignore this else-block for now.\n",
    "            #\n",
    "            # We processed sentences with different lengths, so some of the sentences\n",
    "            # had already finished and we have been adding padding inputs to hx.\n",
    "            # We select the final state based on the length of each sentence.\n",
    "\n",
    "            # two lines below not needed if using LSTM from pytorch\n",
    "            outputs = torch.stack(outputs, dim=0)  # [T, B, D]\n",
    "            outputs = outputs.transpose(0, 1).contiguous()  # [B, T, D]\n",
    "\n",
    "            # to be super-sure we're not accidentally indexing the wrong state\n",
    "            # we zero out positions that are invalid\n",
    "            pad_positions = (x == 1).unsqueeze(-1)\n",
    "\n",
    "            outputs = outputs.contiguous()\n",
    "            outputs = outputs.masked_fill_(pad_positions, 0.0)\n",
    "\n",
    "            mask = x != 1  # true for valid positions [B, T]\n",
    "            lengths = mask.sum(dim=1)  # [B, 1]\n",
    "\n",
    "            indexes = (lengths - 1) + torch.arange(\n",
    "                B, device=x.device, dtype=x.dtype\n",
    "            ) * T\n",
    "            final = outputs.view(-1, self.hidden_dim)[indexes]  # [B, D]\n",
    "\n",
    "        # we use the last hidden state to classify the sentence\n",
    "        logits = self.output_layer(final)\n",
    "        return logits"
   ]
  },
  {
   "cell_type": "code",
   "execution_count": null,
   "metadata": {
    "id": "LgZoSPD4fsf_"
   },
   "outputs": [],
   "source": [
    "def get_model():\n",
    "    lstm_model = LSTMClassifier(len(v.w2i), 300, 168, len(t2i), v)\n",
    "\n",
    "    # copy pre-trained word vectors into embeddings table\n",
    "    with torch.no_grad():\n",
    "        lstm_model.embed.weight.data.copy_(torch.from_numpy(vectors))\n",
    "        lstm_model.embed.weight.requires_grad = False\n",
    "\n",
    "    print(lstm_model)\n",
    "    print_parameters(lstm_model)\n",
    "    \n",
    "    lstm_model = lstm_model.to(device)\n",
    "    optimizer = optim.Adam(lstm_model.parameters(), lr=3e-4)\n",
    "\n",
    "    return lstm_model, optimizer\n",
    "\n",
    "# lstm_losses, lstm_accuracies = train_model(\n",
    "#    model_fn=get_model, num_iterations=NUM_STEPS_UNBATCHED, print_every=NUM_STEPS_UNBATCHED // 30, eval_every=NUM_STEPS_UNBATCHED // 30, hypothesis=\"lstm\"\n",
    "# )"
   ]
  },
  {
   "cell_type": "code",
   "execution_count": null,
   "metadata": {
    "id": "2BKVnyg0Hq5E"
   },
   "outputs": [],
   "source": [
    "# plot validation accuracy\n",
    "\n",
    "#plt.plot([i * 100 for i in lstm_accuracies])\n",
    "#plt.xlabel(\"Iteration\")\n",
    "#plt.ylabel(\"Accuracy\")\n",
    "#plt.title(\"Validation Accuracy of LSTM\")"
   ]
  },
  {
   "cell_type": "code",
   "execution_count": null,
   "metadata": {
    "id": "ZowTV0EBTb3z"
   },
   "outputs": [],
   "source": [
    "# plot training loss\n",
    "#plt.plot(lstm_losses)\n",
    "#plt.xlabel(\"Step\")\n",
    "#plt.ylabel(\"Loss\")\n",
    "#plt.title(\"Training Loss of LSTM\")"
   ]
  },
  {
   "cell_type": "markdown",
   "metadata": {
    "id": "YEw6XHQY_AAQ"
   },
   "source": [
    "# Mini-batching\n",
    "\n"
   ]
  },
  {
   "cell_type": "markdown",
   "metadata": {
    "id": "FPf96wGzBTQJ"
   },
   "source": [
    "**Why is the LSTM so slow?** Despite our best efforts, we still need to make a lot of matrix multiplications per example (linear in the length of the example) just to get a single classification, and we can only process the 2nd word once we have computed the hidden state for the 1st word (sequential computation).\n",
    "\n",
    "GPUs are more efficient if we do a few big matrix multiplications, rather than lots of small ones. If we could process multiple examples at the same time, then we could exploit that. That is, we could still process the input sequentially, but doing so for multiple sentences at the same time.\n",
    "\n",
    "Up to now our \"mini-batches\" consisted of a single example. This was for a reason: the sentences in our data sets have **different lengths**, and this makes it difficult to process them at the same time.\n",
    "\n",
    "Consider a batch of 2 sentences:\n",
    "\n",
    "```\n",
    "this movie is bad\n",
    "this movie is super cool !\n",
    "```\n",
    "\n",
    "Let's say the IDs for these sentences are:\n",
    "\n",
    "```\n",
    "2 3 4 5\n",
    "2 3 4 6 7 8\n",
    "```\n",
    "\n",
    "We cannot feed PyTorch an object with rows of variable length! We need to turn this into a matrix.\n",
    "\n",
    "The solution is to add **padding values** to our mini-batch:\n",
    "\n",
    "```\n",
    "2 3 4 5 1 1\n",
    "2 3 4 6 7 8\n",
    "```\n",
    "\n",
    "Whenever a sentence is shorter than the longest sentence in a mini-batch, we just use a padding value (here: 1) to fill the matrix.\n",
    "\n",
    "In our computation, we should **ignore** the padding positions (e.g. mask them out) so that paddings do not contribute to the loss.\n",
    "\n",
    "#### Mini-batch feed\n",
    "We will now implement a `get_minibatch` function which will replace `get_example` and returns a mini-batch of the requested size."
   ]
  },
  {
   "cell_type": "code",
   "execution_count": null,
   "metadata": {
    "id": "IoAE2JBiXJ3P"
   },
   "outputs": [],
   "source": [
    "def get_minibatch(data, batch_size=25, shuffle=True):\n",
    "    \"\"\"Return minibatches, optional shuffling\"\"\"\n",
    "\n",
    "    if shuffle:\n",
    "        random.shuffle(data)\n",
    "\n",
    "    batch = []\n",
    "\n",
    "    # yield minibatches\n",
    "    for example in data:\n",
    "        batch.append(example)\n",
    "\n",
    "        if len(batch) == batch_size:\n",
    "            yield batch\n",
    "            batch = []\n",
    "\n",
    "    # in case there is something left\n",
    "    if len(batch) > 0:\n",
    "        yield batch"
   ]
  },
  {
   "cell_type": "markdown",
   "metadata": {
    "id": "DwZM-XYkT8Zx"
   },
   "source": [
    "#### Padding function\n",
    "We will need a function that adds padding 1s to a sequence of IDs so that\n",
    "it becomes as long as the longest sequence in the minibatch."
   ]
  },
  {
   "cell_type": "code",
   "execution_count": null,
   "metadata": {
    "id": "sp0sK1ghw4Ft"
   },
   "outputs": [],
   "source": [
    "def pad(tokens, length, pad_value=1):\n",
    "    \"\"\"add padding 1s to a sequence to that it has the desired length\"\"\"\n",
    "    return tokens + [pad_value] * (length - len(tokens))\n",
    "\n",
    "\n",
    "# example\n",
    "tokens = [2, 3, 4]\n",
    "pad(tokens, 5)"
   ]
  },
  {
   "cell_type": "markdown",
   "metadata": {
    "id": "SL2iixMYUgfh"
   },
   "source": [
    "#### New `prepare` function\n",
    "\n",
    "We will also need a new function that turns a mini-batch into PyTorch tensors."
   ]
  },
  {
   "cell_type": "code",
   "execution_count": null,
   "metadata": {
    "id": "ZID0cqozWks8"
   },
   "outputs": [],
   "source": [
    "def prepare_minibatch(mb, vocab):\n",
    "    \"\"\"\n",
    "    Minibatch is a list of examples.\n",
    "    This function converts words to IDs and returns\n",
    "    torch tensors to be used as input/targets.\n",
    "    \"\"\"\n",
    "    batch_size = len(mb)\n",
    "    maxlen = max([len(ex.tokens) for ex in mb])\n",
    "\n",
    "    # vocab returns 0 if the word is not there\n",
    "    x = [pad([vocab.w2i.get(t, 0) for t in ex.tokens], maxlen) for ex in mb]\n",
    "\n",
    "    x = torch.LongTensor(x)\n",
    "    x = x.to(device)\n",
    "\n",
    "    y = [ex.label for ex in mb]\n",
    "    y = torch.LongTensor(y)\n",
    "    y = y.to(device)\n",
    "\n",
    "    return x, y"
   ]
  },
  {
   "cell_type": "markdown",
   "metadata": {
    "id": "xYBJEoSNUwI0"
   },
   "source": [
    "#### Evaluate (mini-batch version)\n",
    "\n",
    "We can now update our evaluation function to use mini-batches"
   ]
  },
  {
   "cell_type": "code",
   "execution_count": null,
   "metadata": {
    "id": "eiZZpEghzqou"
   },
   "outputs": [],
   "source": [
    "def evaluate(\n",
    "    model, data, batch_fn=get_minibatch, prep_fn=prepare_minibatch, batch_size=16\n",
    "):\n",
    "    \"\"\"Accuracy of a model on given data set (using mini-batches)\"\"\"\n",
    "    correct = 0\n",
    "    total = 0\n",
    "    model.eval()  # disable dropout\n",
    "\n",
    "    predictions = []\n",
    "    targets = []\n",
    "\n",
    "    for mb in batch_fn(data, batch_size=batch_size, shuffle=False):\n",
    "        x, targets_ = prep_fn(mb, model.vocab)\n",
    "        with torch.no_grad():\n",
    "            logits = model(x)\n",
    "\n",
    "        predictions_ = logits.argmax(dim=-1).view(-1)\n",
    "\n",
    "        # add the number of correct predictions to the total correct\n",
    "        correct += (predictions_ == targets_.view(-1)).sum().item()\n",
    "        total += targets_.size(0)\n",
    "\n",
    "        predictions.extend(predictions_.detach().cpu().numpy())\n",
    "        targets.extend(targets_.detach().cpu().numpy())\n",
    "\n",
    "    return (\n",
    "        correct,\n",
    "        total,\n",
    "        correct / float(total),\n",
    "        f1_score(targets, predictions, average=\"weighted\"),\n",
    "        classification_report(targets, predictions, output_dict=True),\n",
    "    )"
   ]
  },
  {
   "cell_type": "markdown",
   "metadata": {
    "id": "23wAZomozh_2"
   },
   "source": [
    "# LSTM (Mini-batched)"
   ]
  },
  {
   "cell_type": "markdown",
   "metadata": {
    "id": "B-gkPU7jzBe2"
   },
   "source": [
    "With this, let's run the LSTM again but now using mini-batches!"
   ]
  },
  {
   "cell_type": "code",
   "execution_count": null,
   "metadata": {
    "id": "226Xg9OPzFbA"
   },
   "outputs": [],
   "source": [
    "def get_model():\n",
    "    lstm_model = LSTMClassifier(len(v.w2i), 300, 168, len(t2i), v)\n",
    "\n",
    "    # copy pre-trained vectors into embeddings table\n",
    "    with torch.no_grad():\n",
    "        lstm_model.embed.weight.data.copy_(torch.from_numpy(vectors))\n",
    "        lstm_model.embed.weight.requires_grad = False\n",
    "    \n",
    "    print(lstm_model)\n",
    "    print_parameters(lstm_model)\n",
    "    \n",
    "    lstm_model = lstm_model.to(device)\n",
    "    optimizer = optim.Adam(lstm_model.parameters(), lr=2e-4)\n",
    "\n",
    "    return lstm_model, optimizer\n",
    "    \n",
    "\n",
    "lstm_losses, lstm_accuracies = train_model(\n",
    "    model_fn=get_model,\n",
    "    num_iterations=NUM_STEPS,\n",
    "    print_every=NUM_STEPS // 30,\n",
    "    eval_every=NUM_STEPS // 30,\n",
    "    batch_size=BATCH_SIZE,\n",
    "    batch_fn=get_minibatch,\n",
    "    prep_fn=prepare_minibatch,\n",
    "    eval_fn=evaluate,\n",
    "    hypothesis=\"lstm\",\n",
    ")"
   ]
  },
  {
   "cell_type": "code",
   "execution_count": null,
   "metadata": {
    "id": "ymj1rLDMvyhp"
   },
   "outputs": [],
   "source": [
    "# plot validation accuracy\n",
    "\n",
    "plt.plot([i * 100 for i in lstm_accuracies])\n",
    "plt.xlabel(\"Iteration\")\n",
    "plt.ylabel(\"Accuracy\")\n",
    "plt.title(\"Validation Accuracy of LSTM\")"
   ]
  },
  {
   "cell_type": "code",
   "execution_count": null,
   "metadata": {
    "id": "1je5S1RHVC5R"
   },
   "outputs": [],
   "source": [
    "# plot training loss\n",
    "plt.plot(lstm_losses)\n",
    "plt.xlabel(\"Step\")\n",
    "plt.ylabel(\"Loss\")\n",
    "plt.title(\"Training Loss of LSTM\")"
   ]
  },
  {
   "cell_type": "markdown",
   "metadata": {
    "id": "eep3X9go3rtj"
   },
   "source": [
    "Fine-tuning word embeddings"
   ]
  },
  {
   "cell_type": "code",
   "execution_count": null,
   "metadata": {},
   "outputs": [],
   "source": [
    "# fine_tuning_from_learened_model in the cell above\n",
    "\n",
    "PRE_TRAINED_MODEL = LAST_MODEL\n",
    "\n",
    "def get_model():\n",
    "    lstm_model = PRE_TRAINED_MODEL\n",
    "    with torch.no_grad():\n",
    "        lstm_model.embed.weight.requires_grad = True\n",
    "    \n",
    "    print(lstm_model)\n",
    "    print_parameters(lstm_model)\n",
    "    \n",
    "    lstm_model = lstm_model.to(device)\n",
    "    \n",
    "    optimizer = optim.Adam(lstm_model.parameters(), lr=2e-4)\n",
    "\n",
    "    return lstm_model, optimizer\n",
    "\n",
    "lstm_losses, lstm_accuracies = train_model(\n",
    "    model_fn=get_model,\n",
    "    num_iterations=NUM_STEPS,\n",
    "    print_every=NUM_STEPS // 30,\n",
    "    eval_every=NUM_STEPS // 30,\n",
    "    batch_size=BATCH_SIZE,\n",
    "    batch_fn=get_minibatch,\n",
    "    prep_fn=prepare_minibatch,\n",
    "    eval_fn=evaluate,\n",
    "    hypothesis=\"lstm_fine_tuned\",\n",
    ")"
   ]
  },
  {
   "cell_type": "code",
   "execution_count": null,
   "metadata": {},
   "outputs": [],
   "source": [
    "# plot validation accuracy\n",
    "\n",
    "plt.plot([i * 100 for i in lstm_accuracies])\n",
    "plt.xlabel(\"Iteration\")\n",
    "plt.ylabel(\"Accuracy\")\n",
    "plt.title(\"Validation Accuracy of LSTM\")"
   ]
  },
  {
   "cell_type": "code",
   "execution_count": null,
   "metadata": {},
   "outputs": [],
   "source": [
    "# plot training loss\n",
    "\n",
    "plt.plot(lstm_losses)\n",
    "plt.xlabel(\"Step\")\n",
    "plt.ylabel(\"Loss\")\n",
    "plt.title(\"Training Loss of LSTM\")"
   ]
  },
  {
   "cell_type": "code",
   "execution_count": null,
   "metadata": {
    "id": "HJ01PSst3yAr"
   },
   "outputs": [],
   "source": [
    "# fine_tuning_from_scratch\n",
    "\n",
    "def get_model():\n",
    "    lstm_model = LSTMClassifier(len(v.w2i), 300, 168, len(t2i), v)\n",
    "    \n",
    "    with torch.no_grad():\n",
    "        lstm_model.embed.weight.data.copy_(torch.from_numpy(vectors))\n",
    "        lstm_model.embed.weight.requires_grad = True\n",
    "    \n",
    "    print(lstm_model)\n",
    "    print_parameters(lstm_model)\n",
    "    \n",
    "    lstm_model = lstm_model.to(device)\n",
    "    \n",
    "    optimizer = optim.Adam(lstm_model.parameters(), lr=2e-4)\n",
    "\n",
    "    return lstm_model, optimizer\n",
    "\n",
    "lstm_losses, lstm_accuracies = train_model(\n",
    "    model_fn=get_model,\n",
    "    num_iterations=NUM_STEPS * 2,\n",
    "    print_every=NUM_STEPS // 30,\n",
    "    eval_every=NUM_STEPS // 30,\n",
    "    batch_size=BATCH_SIZE,\n",
    "    batch_fn=get_minibatch,\n",
    "    prep_fn=prepare_minibatch,\n",
    "    eval_fn=evaluate,\n",
    "    hypothesis=\"lstm_fine_tuned_from_scratch\",\n",
    ")"
   ]
  },
  {
   "cell_type": "code",
   "execution_count": null,
   "metadata": {
    "id": "lU6RiipU4Olf"
   },
   "outputs": [],
   "source": [
    "# plot validation accuracy\n",
    "\n",
    "plt.plot([i * 100 for i in lstm_accuracies])\n",
    "plt.xlabel(\"Iteration\")\n",
    "plt.ylabel(\"Accuracy\")\n",
    "plt.title(\"Validation Accuracy of LSTM\")"
   ]
  },
  {
   "cell_type": "code",
   "execution_count": null,
   "metadata": {
    "id": "CwjnCN1x4O7j"
   },
   "outputs": [],
   "source": [
    "# plot training loss\n",
    "\n",
    "plt.plot(lstm_losses)\n",
    "plt.xlabel(\"Step\")\n",
    "plt.ylabel(\"Loss\")\n",
    "plt.title(\"Training Loss of LSTM\")"
   ]
  },
  {
   "cell_type": "markdown",
   "metadata": {
    "id": "q7WjcxXntMi5"
   },
   "source": [
    "# Tree-LSTM"
   ]
  },
  {
   "cell_type": "markdown",
   "metadata": {
    "id": "jyj_UD6GtO5M"
   },
   "source": [
    "In the final part of this lab we will exploit the tree structure of the SST data.\n",
    "Until now we only used the surface tokens, but remember that our data examples include binary trees with a sentiment score at every node.\n",
    "\n",
    "In particular, we will implement **N-ary Tree-LSTMs** which are described in:\n",
    "\n",
    "> Kai Sheng Tai, Richard Socher, and Christopher D. Manning. [Improved Semantic Representations From Tree-Structured Long Short-Term Memory Networks](http://aclweb.org/anthology/P/P15/P15-1150.pdf) ACL 2015.\n",
    "\n",
    "Since our trees are binary (i.e., N=2), we can refer to these as *Binary Tree-LSTMs*. If you study equations (9) to (14) in the paper, you will find that they are not all too different from the original LSTM that you already have.\n",
    "\n",
    "You should read this paper carefully and make sure that you understand the approach. You will also find our LSTM baseline there.\n",
    "Note however that Tree-LSTMs were proposed around the same time by two other groups:\n",
    "\n",
    "> Phong Le and Willem Zuidema. [Compositional distributional semantics with long short term memory](http://anthology.aclweb.org/S/S15/S15-1002.pdf). *SEM 2015.\n",
    "\n",
    "> Xiaodan Zhu, Parinaz Sobihani,  and Hongyu Guo. [Long short-term memory over recursive structures](http://proceedings.mlr.press/v37/zhub15.pdf). ICML 2015.\n",
    "\n",
    "It is good scientific practice to cite all three papers in your report.\n",
    "\n",
    "\n"
   ]
  },
  {
   "cell_type": "markdown",
   "metadata": {
    "id": "1rDzvSos3JFp"
   },
   "source": [
    "## Computation\n",
    "\n",
    "Do you remember the `transitions_from_treestring` function all the way in the beginning of this lab? Every example contains a **transition sequence** produced by this function. Let's look at it again:\n",
    "\n"
   ]
  },
  {
   "cell_type": "code",
   "execution_count": null,
   "metadata": {
    "id": "5pg0Xumc3ZUS"
   },
   "outputs": [],
   "source": [
    "ex = next(examplereader(\"trees/dev.txt\"))\n",
    "print(TreePrettyPrinter(ex.tree))\n",
    "print(\"Transitions:\")\n",
    "print(ex.transitions)"
   ]
  },
  {
   "cell_type": "code",
   "execution_count": null,
   "metadata": {
    "id": "1y069gM4_v64"
   },
   "outputs": [],
   "source": [
    "# for comparison\n",
    "seq = ex.transitions\n",
    "s = \" \".join([\"S\" if t == 0 else \"R\" for t in seq])\n",
    "print(s)\n",
    "print(\" \".join(map(str, seq)))"
   ]
  },
  {
   "cell_type": "markdown",
   "metadata": {
    "id": "d-qOuKbDAiBn"
   },
   "source": [
    "## Coding the Tree-LSTM\n",
    "\n",
    "The code below contains a Binary Tree-LSTM cell.\n",
    "It is used in the TreeLSTM class below it, which in turn is used in the TreeLSTMClassifier.\n",
    "The job of the TreeLSTM class is to encode a complete sentence and return the root node.\n",
    "The job of the TreeLSTMCell is to return a new state when provided with two children (a reduce action). By repeatedly calling the TreeLSTMCell, the TreeLSTM will encode a sentence. This can be done for multiple sentences at the same time.\n",
    "\n",
    "\n",
    "#### Exercise\n",
    "Check the `forward` function and complete the Tree-LSTM formulas.\n",
    "You can see that we defined a large linear layer for you, that projects the *concatenation* of the left and right child into the input gate, left forget gate, right forget gate, candidate, and output gate."
   ]
  },
  {
   "cell_type": "code",
   "execution_count": null,
   "metadata": {
    "id": "J9b9mjMlN7Pb"
   },
   "outputs": [],
   "source": [
    "class TreeLSTMCell(nn.Module):\n",
    "    \"\"\"A Binary Tree LSTM cell\"\"\"\n",
    "\n",
    "    def __init__(self, input_size, hidden_size, bias=True):\n",
    "        \"\"\"Creates the weights for this LSTM\"\"\"\n",
    "        super(TreeLSTMCell, self).__init__()\n",
    "\n",
    "        self.input_size = input_size\n",
    "        self.hidden_size = hidden_size\n",
    "        self.bias = bias\n",
    "\n",
    "        self.reduce_layer = nn.Linear(2 * hidden_size, 5 * hidden_size)\n",
    "        self.dropout_layer = nn.Dropout(p=0.25)\n",
    "\n",
    "        self.reset_parameters()\n",
    "\n",
    "    def reset_parameters(self):\n",
    "        \"\"\"This is PyTorch's default initialization method\"\"\"\n",
    "        stdv = 1.0 / math.sqrt(self.hidden_size)\n",
    "        for weight in self.parameters():\n",
    "            weight.data.uniform_(-stdv, stdv)\n",
    "\n",
    "    def construct_children(self, prev_h_l, prev_h_r) -> torch.Tensor:\n",
    "        children = torch.cat([prev_h_l, prev_h_r], dim=1)\n",
    "        return children\n",
    "\n",
    "    def forward(self, hx_l, hx_r, mask=None):\n",
    "        \"\"\"\n",
    "        hx_l is ((batch, hidden_size), (batch, hidden_size))\n",
    "        hx_r is ((batch, hidden_size), (batch, hidden_size))\n",
    "        \"\"\"\n",
    "        prev_h_l, prev_c_l = hx_l  # left child\n",
    "        prev_h_r, prev_c_r = hx_r  # right child\n",
    "\n",
    "        B = prev_h_l.size(0)\n",
    "\n",
    "        # we concatenate the left and right children\n",
    "        # you can also project from them separately and then sum\n",
    "        children = self.construct_children(prev_h_l, prev_h_r)\n",
    "\n",
    "        # project the combined children into a 5D tensor for i,fl,fr,g,o\n",
    "        # this is done for speed, and you could also do it separately\n",
    "        proj = self.reduce_layer(children)  # shape: B x 5D\n",
    "\n",
    "        # each shape: B x D\n",
    "        i, f_l, f_r, g, o = torch.chunk(proj, 5, dim=-1)\n",
    "\n",
    "        i = torch.sigmoid(i)\n",
    "        f_l = torch.sigmoid(f_l)\n",
    "        f_r = torch.sigmoid(f_r)\n",
    "        g = torch.tanh(g)\n",
    "        o = torch.sigmoid(o)\n",
    "\n",
    "        c = torch.mul(i, g) + torch.mul(f_l, prev_c_l) + torch.mul(f_r, prev_c_r)\n",
    "        h = torch.mul(o, torch.tanh(c))\n",
    "\n",
    "        return h, c\n",
    "\n",
    "    def __repr__(self):\n",
    "        return \"{}({:d}, {:d})\".format(\n",
    "            self.__class__.__name__, self.input_size, self.hidden_size\n",
    "        )"
   ]
  },
  {
   "cell_type": "code",
   "execution_count": null,
   "metadata": {
    "id": "5PixvTd4AqsQ"
   },
   "outputs": [],
   "source": [
    "# Helper functions for batching and unbatching states\n",
    "# For speed we want to combine computations by batching, but\n",
    "# for processing logic we want to turn the output into lists again\n",
    "# to easily manipulate.\n",
    "\n",
    "\n",
    "def batch(states):\n",
    "    \"\"\"\n",
    "    Turns a list of states into a single tensor for fast processing.\n",
    "    This function also chunks (splits) each state into a (h, c) pair\"\"\"\n",
    "    return torch.cat(states, 0).chunk(2, 1)\n",
    "\n",
    "\n",
    "def unbatch(state):\n",
    "    \"\"\"\n",
    "    Turns a tensor back into a list of states.\n",
    "    First, (h, c) are merged into a single state.\n",
    "    Then the result is split into a list of sentences.\n",
    "    \"\"\"\n",
    "    return torch.split(torch.cat(state, 1), 1, 0)"
   ]
  },
  {
   "cell_type": "markdown",
   "metadata": {
    "id": "CynltDasaLPt"
   },
   "source": [
    "Take some time to understand the class below, having read the explanation above."
   ]
  },
  {
   "cell_type": "code",
   "execution_count": null,
   "metadata": {
    "id": "rQOqMXG4gX5G"
   },
   "outputs": [],
   "source": [
    "class TreeLSTM(nn.Module):\n",
    "    \"\"\"Encodes a sentence using a TreeLSTMCell\"\"\"\n",
    "\n",
    "    def __init__(self, input_size, hidden_size, bias=True, childsum=False):\n",
    "        \"\"\"Creates the weights for this LSTM\"\"\"\n",
    "        super(TreeLSTM, self).__init__()\n",
    "\n",
    "        self.input_size = input_size\n",
    "        self.hidden_size = hidden_size\n",
    "        self.bias = bias\n",
    "        if childsum:\n",
    "            self.reduce = ChildSumTreeLSTMCell(input_size, hidden_size)\n",
    "        else:\n",
    "            self.reduce = TreeLSTMCell(input_size, hidden_size)\n",
    "\n",
    "        # project word to initial c\n",
    "        self.proj_x = nn.Linear(input_size, hidden_size)\n",
    "        self.proj_x_gate = nn.Linear(input_size, hidden_size)\n",
    "\n",
    "        self.buffers_dropout = nn.Dropout(p=0.5)\n",
    "\n",
    "    def forward(self, x, transitions):\n",
    "        \"\"\"\n",
    "        WARNING: assuming x is reversed!\n",
    "        :param x: word embeddings [B, T, E]\n",
    "        :param transitions: [2T-1, B]\n",
    "        :return: root states\n",
    "        \"\"\"\n",
    "\n",
    "        B = x.size(0)  # batch size\n",
    "        T = x.size(1)  # time\n",
    "\n",
    "        # compute an initial c and h for each word\n",
    "        # Note: this corresponds to input x in the Tai et al. Tree LSTM paper.\n",
    "        # We do not handle input x in the TreeLSTMCell itself.\n",
    "        buffers_c = self.proj_x(x)\n",
    "        buffers_h = buffers_c.tanh()\n",
    "        buffers_h_gate = self.proj_x_gate(x).sigmoid()\n",
    "        buffers_h = buffers_h_gate * buffers_h\n",
    "\n",
    "        # concatenate h and c for each word\n",
    "        buffers = torch.cat([buffers_h, buffers_c], dim=-1)\n",
    "\n",
    "        D = buffers.size(-1) // 2\n",
    "\n",
    "        # we turn buffers into a list of stacks (1 stack for each sentence)\n",
    "        # first we split buffers so that it is a list of sentences (length B)\n",
    "        # then we split each sentence to be a list of word vectors\n",
    "        buffers = buffers.split(1, dim=0)  # Bx[T, 2D]\n",
    "        buffers = [list(b.squeeze(0).split(1, dim=0)) for b in buffers]  # BxTx[2D]\n",
    "\n",
    "        # create B empty stacks\n",
    "        stacks = [[] for _ in buffers]\n",
    "\n",
    "        # t_batch holds 1 transition for each sentence\n",
    "        for t_batch in transitions:\n",
    "            child_l = []  # contains the left child for each sentence with reduce action\n",
    "            child_r = []  # contains the corresponding right child\n",
    "\n",
    "            # iterate over sentences in the batch\n",
    "            # each has a transition t, a buffer and a stack\n",
    "            for transition, buffer, stack in zip(t_batch, buffers, stacks):\n",
    "                if transition == SHIFT:\n",
    "                    stack.append(buffer.pop())\n",
    "                elif transition == REDUCE:\n",
    "                    assert (\n",
    "                        len(stack) >= 2\n",
    "                    ), \"Stack too small! Should not happen with valid transition sequences\"\n",
    "                    child_r.append(stack.pop())  # right child is on top\n",
    "                    child_l.append(stack.pop())\n",
    "\n",
    "            # if there are sentences with reduce transition, perform them batched\n",
    "            if child_l:\n",
    "                reduced = iter(unbatch(self.reduce(batch(child_l), batch(child_r))))\n",
    "                for transition, stack in zip(t_batch, stacks):\n",
    "                    if transition == REDUCE:\n",
    "                        stack.append(next(reduced))\n",
    "\n",
    "        final = [stack.pop().chunk(2, -1)[0] for stack in stacks]\n",
    "        final = torch.cat(final, dim=0)  # tensor [B, D]\n",
    "\n",
    "        return final"
   ]
  },
  {
   "cell_type": "markdown",
   "metadata": {
    "id": "s4EzbVzqaXkw"
   },
   "source": [
    "Just like the LSTM before, we will need an extra class that does the classifications."
   ]
  },
  {
   "cell_type": "code",
   "execution_count": null,
   "metadata": {
    "id": "nLxpYRvtQKge"
   },
   "outputs": [],
   "source": [
    "class TreeLSTMClassifier(nn.Module):\n",
    "    \"\"\"Encodes sentence with a TreeLSTM and projects final hidden state\"\"\"\n",
    "\n",
    "    def __init__(\n",
    "        self, vocab_size, embedding_dim, hidden_dim, output_dim, vocab, childsum=False\n",
    "    ):\n",
    "        super(TreeLSTMClassifier, self).__init__()\n",
    "        self.vocab = vocab\n",
    "        self.hidden_dim = hidden_dim\n",
    "        self.embed = nn.Embedding(vocab_size, embedding_dim, padding_idx=1)\n",
    "        self.treelstm = TreeLSTM(embedding_dim, hidden_dim, childsum=childsum)\n",
    "        self.output_layer = nn.Sequential(\n",
    "            nn.Dropout(p=0.5), nn.Linear(hidden_dim, output_dim, bias=True)\n",
    "        )\n",
    "\n",
    "    def forward(self, x):\n",
    "        # x is a pair here of words and transitions; we unpack it here.\n",
    "        # x is batch-major: [B, T], transitions is time major [2T-1, B]\n",
    "        x, transitions = x\n",
    "        emb = self.embed(x)\n",
    "\n",
    "        # we use the root/top state of the Tree LSTM to classify the sentence\n",
    "        root_states = self.treelstm(emb, transitions)\n",
    "\n",
    "        # we use the last hidden state to classify the sentence\n",
    "        logits = self.output_layer(root_states)\n",
    "        return logits"
   ]
  },
  {
   "cell_type": "markdown",
   "metadata": {
    "id": "gh9RbhGwaiLg"
   },
   "source": [
    "## Special `prepare` function for Tree-LSTM\n",
    "\n",
    "We need yet another `prepare` function. For our implementation, sentences need to be *reversed*. We will do that here."
   ]
  },
  {
   "cell_type": "code",
   "execution_count": null,
   "metadata": {
    "id": "DiqH-_2xdm9H"
   },
   "outputs": [],
   "source": [
    "def prepare_treelstm_minibatch(mb, vocab):\n",
    "    \"\"\"\n",
    "    Returns sentences reversed (last word first)\n",
    "    Returns transitions together with the sentences.\n",
    "    \"\"\"\n",
    "    batch_size = len(mb)\n",
    "    maxlen = max([len(ex.tokens) for ex in mb])\n",
    "\n",
    "    # vocab returns 0 if the word is not there\n",
    "    # NOTE: reversed sequence!\n",
    "    x = [pad([vocab.w2i.get(t, 0) for t in ex.tokens], maxlen)[::-1] for ex in mb]\n",
    "\n",
    "    x = torch.LongTensor(x)\n",
    "    x = x.to(device)\n",
    "\n",
    "    y = [ex.label for ex in mb]\n",
    "    y = torch.LongTensor(y)\n",
    "    y = y.to(device)\n",
    "\n",
    "    maxlen_t = max([len(ex.transitions) for ex in mb])\n",
    "    transitions = [pad(ex.transitions, maxlen_t, pad_value=2) for ex in mb]\n",
    "    transitions = np.array(transitions)\n",
    "    transitions = transitions.T  # time-major\n",
    "\n",
    "    return (x, transitions), y"
   ]
  },
  {
   "cell_type": "markdown",
   "metadata": {
    "id": "IMUsrlL9ayVe"
   },
   "source": [
    "## Training"
   ]
  },
  {
   "cell_type": "code",
   "execution_count": null,
   "metadata": {},
   "outputs": [],
   "source": [
    "if TEST_WORD_ORDER:\n",
    "    raise Exception(\"Word order test are not run for Tree LSTMs\")"
   ]
  },
  {
   "cell_type": "code",
   "execution_count": null,
   "metadata": {
    "id": "IpOYUdg2D3v0"
   },
   "outputs": [],
   "source": [
    "# Now let's train the Tree LSTM!\n",
    "\n",
    "def get_model():\n",
    "    tree_model = TreeLSTMClassifier(len(v.w2i), 300, 150, len(t2i), v)\n",
    "    \n",
    "    with torch.no_grad():\n",
    "        tree_model.embed.weight.data.copy_(torch.from_numpy(vectors))\n",
    "        tree_model.embed.weight.requires_grad = False\n",
    "    print(tree_model)\n",
    "    print_parameters(tree_model)\n",
    "    \n",
    "    tree_model = tree_model.to(device)\n",
    "    \n",
    "    optimizer = optim.Adam(tree_model.parameters(), lr=2e-4)\n",
    "\n",
    "    return tree_model, optimizer\n",
    "\n",
    "def do_train(model_fn, hypothesis):\n",
    "\n",
    "    return train_model(\n",
    "        model_fn=model_fn,\n",
    "        num_iterations=NUM_STEPS,\n",
    "        print_every=NUM_STEPS // 30,\n",
    "        eval_every=NUM_STEPS // 30,\n",
    "        prep_fn=prepare_treelstm_minibatch,\n",
    "        eval_fn=evaluate,\n",
    "        batch_fn=get_minibatch,\n",
    "        batch_size=BATCH_SIZE,\n",
    "        eval_batch_size=BATCH_SIZE,\n",
    "        hypothesis=hypothesis,\n",
    "    )\n",
    "\n",
    "\n",
    "results = do_train(get_model, \"tree_lstm\")"
   ]
  },
  {
   "cell_type": "code",
   "execution_count": null,
   "metadata": {
    "id": "DHcHHaLtguUg"
   },
   "outputs": [],
   "source": [
    "lstm_losses, lstm_accuracies = results\n",
    "\n",
    "# plot validation accuracy\n",
    "\n",
    "plt.plot([i * 100 for i in lstm_accuracies])\n",
    "plt.xlabel(\"Iteration\")\n",
    "plt.ylabel(\"Accuracy\")\n",
    "plt.title(\"Validation Accuracy of LSTM\")\n",
    "plt.show()\n",
    "\n",
    "# plot training loss\n",
    "\n",
    "plt.plot(lstm_losses)\n",
    "plt.xlabel(\"Step\")\n",
    "plt.ylabel(\"Loss\")\n",
    "plt.title(\"Training Loss of LSTM\")\n",
    "plt.show()"
   ]
  },
  {
   "cell_type": "code",
   "execution_count": null,
   "metadata": {},
   "outputs": [],
   "source": [
    "# tree LSTM with subtrees\n",
    "\n",
    "train_data = list(examplereader(\"trees/train.txt\", lower=LOWER, create_subtrees=True))\n",
    "results = do_train(get_model, \"tree_lstm_with_subtrees\")"
   ]
  },
  {
   "cell_type": "code",
   "execution_count": null,
   "metadata": {},
   "outputs": [],
   "source": [
    "lstm_losses, lstm_accuracies = results\n",
    "\n",
    "# plot validation accuracy\n",
    "\n",
    "plt.plot([i * 100 for i in lstm_accuracies])\n",
    "plt.xlabel(\"Iteration\")\n",
    "plt.ylabel(\"Accuracy\")\n",
    "plt.title(\"Validation Accuracy of LSTM\")\n",
    "plt.show()\n",
    "\n",
    "# plot training loss\n",
    "\n",
    "plt.plot(lstm_losses)\n",
    "plt.xlabel(\"Step\")\n",
    "plt.ylabel(\"Loss\")\n",
    "plt.title(\"Training Loss of LSTM\")\n",
    "plt.show()"
   ]
  },
  {
   "cell_type": "code",
   "execution_count": null,
   "metadata": {},
   "outputs": [],
   "source": [
    "train_data = list(examplereader(\"trees/train.txt\", lower=LOWER))"
   ]
  },
  {
   "cell_type": "code",
   "execution_count": null,
   "metadata": {},
   "outputs": [],
   "source": [
    "class ChildSumTreeLSTMCell(TreeLSTMCell):\n",
    "\n",
    "    def __init__(self, input_size, hidden_size, bias=True):\n",
    "        super(TreeLSTMCell, self).__init__()\n",
    "\n",
    "        self.input_size = input_size\n",
    "        self.hidden_size = hidden_size\n",
    "        self.bias = bias\n",
    "\n",
    "        self.reduce_layer = nn.Linear(hidden_size, 5 * hidden_size)\n",
    "        self.dropout_layer = nn.Dropout(p=0.25)\n",
    "\n",
    "        self.reset_parameters()\n",
    "\n",
    "    def construct_children(self, prev_h_l, prev_h_r) -> torch.Tensor:\n",
    "        children = prev_h_l + prev_h_r\n",
    "        return children"
   ]
  },
  {
   "cell_type": "code",
   "execution_count": null,
   "metadata": {},
   "outputs": [],
   "source": [
    "# ChildSumTreeLSTM\n",
    "def get_model():\n",
    "    tree_model = TreeLSTMClassifier(len(v.w2i), 300, 150, len(t2i), v, childsum=True)\n",
    "    \n",
    "    with torch.no_grad():\n",
    "        tree_model.embed.weight.data.copy_(torch.from_numpy(vectors))\n",
    "        tree_model.embed.weight.requires_grad = False\n",
    "        \n",
    "    print(tree_model)\n",
    "    print_parameters(tree_model)\n",
    "    \n",
    "    tree_model = tree_model.to(device)\n",
    "    \n",
    "    optimizer = optim.Adam(tree_model.parameters(), lr=2e-4)\n",
    "\n",
    "    return tree_model, optimizer\n",
    "\n",
    "results = do_train(get_model, \"childsum_tree_lstm\")"
   ]
  },
  {
   "cell_type": "code",
   "execution_count": null,
   "metadata": {},
   "outputs": [],
   "source": []
  }
 ],
 "metadata": {
  "accelerator": "GPU",
  "colab": {
   "provenance": []
  },
  "environment": {
   "kernel": "python3",
   "name": "common-gpu.m113",
   "type": "gcloud",
   "uri": "gcr.io/deeplearning-platform-release/base-gpu:m113"
  },
  "kernelspec": {
   "display_name": "Python 3",
   "language": "python",
   "name": "python3"
  },
  "language_info": {
   "codemirror_mode": {
    "name": "ipython",
    "version": 3
   },
   "file_extension": ".py",
   "mimetype": "text/x-python",
   "name": "python",
   "nbconvert_exporter": "python",
   "pygments_lexer": "ipython3",
   "version": "3.10.13"
  }
 },
 "nbformat": 4,
 "nbformat_minor": 4
}
